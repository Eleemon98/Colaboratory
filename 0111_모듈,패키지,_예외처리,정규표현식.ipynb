{
  "nbformat": 4,
  "nbformat_minor": 0,
  "metadata": {
    "colab": {
      "provenance": [],
      "authorship_tag": "ABX9TyMhZmIgiyEbeLbn2XYWNFiK",
      "include_colab_link": true
    },
    "kernelspec": {
      "name": "python3",
      "display_name": "Python 3"
    },
    "language_info": {
      "name": "python"
    }
  },
  "cells": [
    {
      "cell_type": "markdown",
      "metadata": {
        "id": "view-in-github",
        "colab_type": "text"
      },
      "source": [
        "<a href=\"https://colab.research.google.com/github/Eleemon98/Colaboratory/blob/main/0111_%EB%AA%A8%EB%93%88%2C%ED%8C%A8%ED%82%A4%EC%A7%80%2C_%EC%98%88%EC%99%B8%EC%B2%98%EB%A6%AC%2C%EC%A0%95%EA%B7%9C%ED%91%9C%ED%98%84%EC%8B%9D.ipynb\" target=\"_parent\"><img src=\"https://colab.research.google.com/assets/colab-badge.svg\" alt=\"Open In Colab\"/></a>"
      ]
    },
    {
      "cell_type": "markdown",
      "source": [
        "모듈 만들기"
      ],
      "metadata": {
        "id": "AoYkxjf5-BBX"
      }
    },
    {
      "cell_type": "code",
      "execution_count": null,
      "metadata": {
        "id": "220bdJ_i2tfB"
      },
      "outputs": [],
      "source": [
        "import slamdunk"
      ]
    },
    {
      "cell_type": "code",
      "source": [
        "slamdunk.buksan"
      ],
      "metadata": {
        "colab": {
          "base_uri": "https://localhost:8080/"
        },
        "id": "ROqlx6ViANm3",
        "outputId": "f31227df-f9b8-4618-9347-94042438a8f3"
      },
      "execution_count": null,
      "outputs": [
        {
          "output_type": "execute_result",
          "data": {
            "text/plain": [
              "['채치수', '정대만', '송태섭', '서태웅', '강백호']"
            ]
          },
          "metadata": {},
          "execution_count": 2
        }
      ]
    },
    {
      "cell_type": "code",
      "source": [
        "slamdunk.position('강백호')"
      ],
      "metadata": {
        "colab": {
          "base_uri": "https://localhost:8080/"
        },
        "id": "uI46cet-AnOW",
        "outputId": "ed30f257-1e2a-4fc3-b876-baeda1564b9a"
      },
      "execution_count": null,
      "outputs": [
        {
          "output_type": "stream",
          "name": "stdout",
          "text": [
            "강백호 은 파워 포워드(PF)입니다.\n"
          ]
        }
      ]
    },
    {
      "cell_type": "code",
      "source": [
        "slamdunk.position('서태웅')"
      ],
      "metadata": {
        "colab": {
          "base_uri": "https://localhost:8080/"
        },
        "id": "NLY2kVDtA2YN",
        "outputId": "12ed2767-a9c7-4ae9-b9ac-8c41f04c58ac"
      },
      "execution_count": null,
      "outputs": [
        {
          "output_type": "stream",
          "name": "stdout",
          "text": [
            "서태웅 은 스몰 포워드(SF)입니다.\n"
          ]
        }
      ]
    },
    {
      "cell_type": "code",
      "source": [
        "slamdunk.position('송태섭')"
      ],
      "metadata": {
        "colab": {
          "base_uri": "https://localhost:8080/"
        },
        "id": "y2f9ooUYA-7V",
        "outputId": "71ef794b-9804-4004-99f2-d2dc9e151a97"
      },
      "execution_count": null,
      "outputs": [
        {
          "output_type": "stream",
          "name": "stdout",
          "text": [
            "송태섭 은 포인트 가드(PG)입니다.\n"
          ]
        }
      ]
    },
    {
      "cell_type": "code",
      "source": [
        "slamdunk.position('김수겸')"
      ],
      "metadata": {
        "colab": {
          "base_uri": "https://localhost:8080/"
        },
        "id": "BkZ4MpIkBE5V",
        "outputId": "1366dbec-f5ae-4901-e8e5-a47c38011488"
      },
      "execution_count": null,
      "outputs": [
        {
          "output_type": "stream",
          "name": "stdout",
          "text": [
            "알수 없는 선수입니다.\n"
          ]
        }
      ]
    },
    {
      "cell_type": "code",
      "source": [
        "from slamdunk import position"
      ],
      "metadata": {
        "id": "Oz68g71JBI4l"
      },
      "execution_count": null,
      "outputs": []
    },
    {
      "cell_type": "code",
      "source": [
        "position('채치수')"
      ],
      "metadata": {
        "colab": {
          "base_uri": "https://localhost:8080/"
        },
        "id": "kOVb3MW7B4oy",
        "outputId": "d40364ea-db8d-4bd6-955e-7b319b6c1fa1"
      },
      "execution_count": null,
      "outputs": [
        {
          "output_type": "stream",
          "name": "stdout",
          "text": [
            "채치수 은 센터(C)입니다.\n"
          ]
        }
      ]
    },
    {
      "cell_type": "code",
      "source": [
        "import Calculator"
      ],
      "metadata": {
        "id": "ud5H61nWLE9-"
      },
      "execution_count": null,
      "outputs": []
    },
    {
      "cell_type": "code",
      "source": [
        "cal = Calculator.Cal()"
      ],
      "metadata": {
        "id": "4kjG66IOLXS-"
      },
      "execution_count": null,
      "outputs": []
    },
    {
      "cell_type": "code",
      "source": [
        "cal.minus(5,6)"
      ],
      "metadata": {
        "colab": {
          "base_uri": "https://localhost:8080/"
        },
        "id": "QWVkIt4iL2h9",
        "outputId": "af0cafa8-43af-4e86-bd7a-833c052f0386"
      },
      "execution_count": null,
      "outputs": [
        {
          "output_type": "execute_result",
          "data": {
            "text/plain": [
              "-1"
            ]
          },
          "metadata": {},
          "execution_count": 14
        }
      ]
    },
    {
      "cell_type": "code",
      "source": [
        "cal.multiply(4,8)"
      ],
      "metadata": {
        "colab": {
          "base_uri": "https://localhost:8080/"
        },
        "id": "QiadxMrhL7D1",
        "outputId": "72aaf550-79aa-4f97-891f-d07c68a9c508"
      },
      "execution_count": null,
      "outputs": [
        {
          "output_type": "execute_result",
          "data": {
            "text/plain": [
              "32"
            ]
          },
          "metadata": {},
          "execution_count": 15
        }
      ]
    },
    {
      "cell_type": "code",
      "source": [
        "cal.divide(52,4)"
      ],
      "metadata": {
        "colab": {
          "base_uri": "https://localhost:8080/"
        },
        "id": "_HD8r738MENN",
        "outputId": "a37cb077-2a02-414c-d1e7-9143377253ba"
      },
      "execution_count": null,
      "outputs": [
        {
          "output_type": "execute_result",
          "data": {
            "text/plain": [
              "13.0"
            ]
          },
          "metadata": {},
          "execution_count": 16
        }
      ]
    },
    {
      "cell_type": "code",
      "source": [
        "from package import slamdunk"
      ],
      "metadata": {
        "id": "HPWEiJ04MJkd"
      },
      "execution_count": null,
      "outputs": []
    },
    {
      "cell_type": "code",
      "source": [
        "from package.A import Calculator"
      ],
      "metadata": {
        "id": "vOIYcBgNOmb-"
      },
      "execution_count": null,
      "outputs": []
    },
    {
      "cell_type": "code",
      "source": [
        "from package.A.Calculator import Cal"
      ],
      "metadata": {
        "id": "ldGGAabgPB99"
      },
      "execution_count": null,
      "outputs": []
    },
    {
      "cell_type": "code",
      "source": [
        "from package import *"
      ],
      "metadata": {
        "id": "zXwsaKeuPaPl"
      },
      "execution_count": null,
      "outputs": []
    },
    {
      "cell_type": "code",
      "source": [
        "slamdunk.buksan"
      ],
      "metadata": {
        "colab": {
          "base_uri": "https://localhost:8080/"
        },
        "id": "_gVaJR_RXEk9",
        "outputId": "a3efaf7a-0ac7-46b8-bb58-5f57f4695430"
      },
      "execution_count": null,
      "outputs": [
        {
          "output_type": "execute_result",
          "data": {
            "text/plain": [
              "['채치수', '정대만', '송태섭', '서태웅', '강백호']"
            ]
          },
          "metadata": {},
          "execution_count": 21
        }
      ]
    },
    {
      "cell_type": "markdown",
      "source": [
        "예외처리"
      ],
      "metadata": {
        "id": "qNPSOjGQbo7u"
      }
    },
    {
      "cell_type": "code",
      "source": [
        "for i in range(8)\n",
        "  print(i)"
      ],
      "metadata": {
        "colab": {
          "base_uri": "https://localhost:8080/",
          "height": 147
        },
        "id": "reNkjy2uXU5k",
        "outputId": "c07fb45d-46cf-4676-cf0e-81e00b552827"
      },
      "execution_count": null,
      "outputs": [
        {
          "output_type": "error",
          "ename": "SyntaxError",
          "evalue": "expected ':' (<ipython-input-22-1a02ac2eec51>, line 1)",
          "traceback": [
            "\u001b[0;36m  File \u001b[0;32m\"<ipython-input-22-1a02ac2eec51>\"\u001b[0;36m, line \u001b[0;32m1\u001b[0m\n\u001b[0;31m    for i in range(8)\u001b[0m\n\u001b[0m                     ^\u001b[0m\n\u001b[0;31mSyntaxError\u001b[0m\u001b[0;31m:\u001b[0m expected ':'\n"
          ]
        }
      ]
    },
    {
      "cell_type": "code",
      "source": [
        "try:\n",
        "  5/0\n",
        "except:\n",
        "  print('예외 발생')"
      ],
      "metadata": {
        "colab": {
          "base_uri": "https://localhost:8080/"
        },
        "id": "I6WStYIKbCNF",
        "outputId": "96ad18a1-a5cb-448f-b2ab-24add3f5cc91"
      },
      "execution_count": null,
      "outputs": [
        {
          "output_type": "stream",
          "name": "stdout",
          "text": [
            "예외 발생\n"
          ]
        }
      ]
    },
    {
      "cell_type": "code",
      "source": [
        "try:\n",
        "  a = input('숫자를 입력하시오')\n",
        "  r = 5 / int(a)\n",
        "  print(int(r))\n",
        "except:\n",
        "  print('예외 발생')\n",
        "  r = 5/1\n",
        "  print(int(r))"
      ],
      "metadata": {
        "colab": {
          "base_uri": "https://localhost:8080/"
        },
        "id": "tHFMhnFZfvBy",
        "outputId": "769f0029-ff00-4fc4-8c20-5c0996660f53"
      },
      "execution_count": null,
      "outputs": [
        {
          "output_type": "stream",
          "name": "stdout",
          "text": [
            "숫자를 입력하시오0\n",
            "예외 발생\n",
            "5\n"
          ]
        }
      ]
    },
    {
      "cell_type": "code",
      "source": [
        "try:\n",
        "  a = input('숫자를 입력하시오')\n",
        "  r = 5 / int(a)\n",
        "  print(int(r))\n",
        "except ZeroDivisionError:\n",
        "  print('예외 발생')\n",
        "  r = 5/1\n",
        "  print(int(r))"
      ],
      "metadata": {
        "colab": {
          "base_uri": "https://localhost:8080/",
          "height": 276
        },
        "id": "Eds6dbihf8gM",
        "outputId": "2f2a8625-1f29-416f-b9de-1601cc7247d6"
      },
      "execution_count": null,
      "outputs": [
        {
          "name": "stdout",
          "output_type": "stream",
          "text": [
            "숫자를 입력하시오df\n"
          ]
        },
        {
          "output_type": "error",
          "ename": "ValueError",
          "evalue": "invalid literal for int() with base 10: 'df'",
          "traceback": [
            "\u001b[0;31m---------------------------------------------------------------------------\u001b[0m",
            "\u001b[0;31mValueError\u001b[0m                                Traceback (most recent call last)",
            "\u001b[0;32m<ipython-input-30-474fcd1b659e>\u001b[0m in \u001b[0;36m<cell line: 1>\u001b[0;34m()\u001b[0m\n\u001b[1;32m      1\u001b[0m \u001b[0;32mtry\u001b[0m\u001b[0;34m:\u001b[0m\u001b[0;34m\u001b[0m\u001b[0;34m\u001b[0m\u001b[0m\n\u001b[1;32m      2\u001b[0m   \u001b[0ma\u001b[0m \u001b[0;34m=\u001b[0m \u001b[0minput\u001b[0m\u001b[0;34m(\u001b[0m\u001b[0;34m'숫자를 입력하시오'\u001b[0m\u001b[0;34m)\u001b[0m\u001b[0;34m\u001b[0m\u001b[0;34m\u001b[0m\u001b[0m\n\u001b[0;32m----> 3\u001b[0;31m   \u001b[0mr\u001b[0m \u001b[0;34m=\u001b[0m \u001b[0;36m5\u001b[0m \u001b[0;34m/\u001b[0m \u001b[0mint\u001b[0m\u001b[0;34m(\u001b[0m\u001b[0ma\u001b[0m\u001b[0;34m)\u001b[0m\u001b[0;34m\u001b[0m\u001b[0;34m\u001b[0m\u001b[0m\n\u001b[0m\u001b[1;32m      4\u001b[0m   \u001b[0mprint\u001b[0m\u001b[0;34m(\u001b[0m\u001b[0mint\u001b[0m\u001b[0;34m(\u001b[0m\u001b[0mr\u001b[0m\u001b[0;34m)\u001b[0m\u001b[0;34m)\u001b[0m\u001b[0;34m\u001b[0m\u001b[0;34m\u001b[0m\u001b[0m\n\u001b[1;32m      5\u001b[0m \u001b[0;32mexcept\u001b[0m \u001b[0mZeroDivisionError\u001b[0m\u001b[0;34m:\u001b[0m\u001b[0;34m\u001b[0m\u001b[0;34m\u001b[0m\u001b[0m\n",
            "\u001b[0;31mValueError\u001b[0m: invalid literal for int() with base 10: 'df'"
          ]
        }
      ]
    },
    {
      "cell_type": "code",
      "source": [
        "try:\n",
        "  a = input('숫자를 입력하시오')\n",
        "  r = 5 / int(a)\n",
        "  print(int(r))\n",
        "except ZeroDivisionError as e:\n",
        "  print(f'{e} 예외 발생')\n",
        "  r = 5/1\n",
        "  print(int(r))"
      ],
      "metadata": {
        "colab": {
          "base_uri": "https://localhost:8080/"
        },
        "id": "RU1461oviuMO",
        "outputId": "b3870cbe-1869-4d8f-e4c7-7d1fb7918f3c"
      },
      "execution_count": null,
      "outputs": [
        {
          "output_type": "stream",
          "name": "stdout",
          "text": [
            "숫자를 입력하시오0\n",
            "division by zero 예외 발생\n",
            "5\n"
          ]
        }
      ]
    },
    {
      "cell_type": "code",
      "source": [
        "try:\n",
        "  a = input(\"숫자를 입력하시오 :\")\n",
        "  k = [1]\n",
        "  k.append(a)\n",
        "  r = 5 / int(a)\n",
        "  print(r)\n",
        "  print(k[int(a)])\n",
        "except ZeroDivisionError as e:\n",
        "  print(f'{e} 예외발생')\n",
        "except ValueError as v:\n",
        "  print(f'{v} 예외발생')"
      ],
      "metadata": {
        "colab": {
          "base_uri": "https://localhost:8080/",
          "height": 294
        },
        "id": "U2YSD3wTjcS0",
        "outputId": "e6e4e129-5f7d-42f2-8c39-0d08330c8b28"
      },
      "execution_count": null,
      "outputs": [
        {
          "output_type": "stream",
          "name": "stdout",
          "text": [
            "숫자를 입력하시오 :3\n",
            "1.6666666666666667\n"
          ]
        },
        {
          "output_type": "error",
          "ename": "IndexError",
          "evalue": "list index out of range",
          "traceback": [
            "\u001b[0;31m---------------------------------------------------------------------------\u001b[0m",
            "\u001b[0;31mIndexError\u001b[0m                                Traceback (most recent call last)",
            "\u001b[0;32m<ipython-input-40-9eafea3a96d5>\u001b[0m in \u001b[0;36m<cell line: 1>\u001b[0;34m()\u001b[0m\n\u001b[1;32m      5\u001b[0m   \u001b[0mr\u001b[0m \u001b[0;34m=\u001b[0m \u001b[0;36m5\u001b[0m \u001b[0;34m/\u001b[0m \u001b[0mint\u001b[0m\u001b[0;34m(\u001b[0m\u001b[0ma\u001b[0m\u001b[0;34m)\u001b[0m\u001b[0;34m\u001b[0m\u001b[0;34m\u001b[0m\u001b[0m\n\u001b[1;32m      6\u001b[0m   \u001b[0mprint\u001b[0m\u001b[0;34m(\u001b[0m\u001b[0mr\u001b[0m\u001b[0;34m)\u001b[0m\u001b[0;34m\u001b[0m\u001b[0;34m\u001b[0m\u001b[0m\n\u001b[0;32m----> 7\u001b[0;31m   \u001b[0mprint\u001b[0m\u001b[0;34m(\u001b[0m\u001b[0mk\u001b[0m\u001b[0;34m[\u001b[0m\u001b[0mint\u001b[0m\u001b[0;34m(\u001b[0m\u001b[0ma\u001b[0m\u001b[0;34m)\u001b[0m\u001b[0;34m]\u001b[0m\u001b[0;34m)\u001b[0m\u001b[0;34m\u001b[0m\u001b[0;34m\u001b[0m\u001b[0m\n\u001b[0m\u001b[1;32m      8\u001b[0m \u001b[0;32mexcept\u001b[0m \u001b[0mZeroDivisionError\u001b[0m \u001b[0;32mas\u001b[0m \u001b[0me\u001b[0m\u001b[0;34m:\u001b[0m\u001b[0;34m\u001b[0m\u001b[0;34m\u001b[0m\u001b[0m\n\u001b[1;32m      9\u001b[0m   \u001b[0mprint\u001b[0m\u001b[0;34m(\u001b[0m\u001b[0;34mf'{e} 예외발생'\u001b[0m\u001b[0;34m)\u001b[0m\u001b[0;34m\u001b[0m\u001b[0;34m\u001b[0m\u001b[0m\n",
            "\u001b[0;31mIndexError\u001b[0m: list index out of range"
          ]
        }
      ]
    },
    {
      "cell_type": "code",
      "source": [
        "try:\n",
        "  a = input(\"숫자를 입력하시오 :\")\n",
        "  k = [1]\n",
        "  k.append(a)\n",
        "  r = 5 / int(a)\n",
        "  print(r)\n",
        "except ZeroDivisionError as e:\n",
        "  print(f'{e} 예외발생')\n",
        "except ValueError as v:\n",
        "  print(f'{v} 예외발생')\n",
        "except IndexError as i:\n",
        "  print(f'{i} 예외발생')\n",
        "else:\n",
        "    print(k[int(a)])"
      ],
      "metadata": {
        "colab": {
          "base_uri": "https://localhost:8080/",
          "height": 258
        },
        "id": "oDtKT32rkUZY",
        "outputId": "86b45058-ee76-439f-87b8-e78dfae313a8"
      },
      "execution_count": null,
      "outputs": [
        {
          "output_type": "stream",
          "name": "stdout",
          "text": [
            "숫자를 입력하시오 :3\n",
            "1.6666666666666667\n"
          ]
        },
        {
          "output_type": "error",
          "ename": "IndexError",
          "evalue": "list index out of range",
          "traceback": [
            "\u001b[0;31m---------------------------------------------------------------------------\u001b[0m",
            "\u001b[0;31mIndexError\u001b[0m                                Traceback (most recent call last)",
            "\u001b[0;32m<ipython-input-45-0f91a836205c>\u001b[0m in \u001b[0;36m<cell line: 1>\u001b[0;34m()\u001b[0m\n\u001b[1;32m     12\u001b[0m   \u001b[0mprint\u001b[0m\u001b[0;34m(\u001b[0m\u001b[0;34mf'{i} 예외발생'\u001b[0m\u001b[0;34m)\u001b[0m\u001b[0;34m\u001b[0m\u001b[0;34m\u001b[0m\u001b[0m\n\u001b[1;32m     13\u001b[0m \u001b[0;32melse\u001b[0m\u001b[0;34m:\u001b[0m\u001b[0;34m\u001b[0m\u001b[0;34m\u001b[0m\u001b[0m\n\u001b[0;32m---> 14\u001b[0;31m     \u001b[0mprint\u001b[0m\u001b[0;34m(\u001b[0m\u001b[0mk\u001b[0m\u001b[0;34m[\u001b[0m\u001b[0mint\u001b[0m\u001b[0;34m(\u001b[0m\u001b[0ma\u001b[0m\u001b[0;34m)\u001b[0m\u001b[0;34m]\u001b[0m\u001b[0;34m)\u001b[0m\u001b[0;34m\u001b[0m\u001b[0;34m\u001b[0m\u001b[0m\n\u001b[0m",
            "\u001b[0;31mIndexError\u001b[0m: list index out of range"
          ]
        }
      ]
    },
    {
      "cell_type": "code",
      "source": [
        "# f = open('test.txt','w')\n",
        "# f.close()\n",
        "try:\n",
        "\tf = open('test.txt','r')\n",
        "\tprint('파일 읽기')\n",
        "\tt = f.read()\n",
        "\t# t += 1\n",
        "except:\n",
        "\tprint('예외발생')\n",
        "finally:\n",
        "\tf.close()\n",
        "\tprint('파일 닫기')"
      ],
      "metadata": {
        "colab": {
          "base_uri": "https://localhost:8080/"
        },
        "id": "CuG3iwxImY79",
        "outputId": "e4513d78-745e-4b24-da9e-eef244e1bc23"
      },
      "execution_count": null,
      "outputs": [
        {
          "output_type": "stream",
          "name": "stdout",
          "text": [
            "파일 읽기\n",
            "파일 닫기\n"
          ]
        }
      ]
    },
    {
      "cell_type": "markdown",
      "source": [
        "입력값에 5를 더하는 코드를 작성하고 입력값이 숫자가 아닌경우 발생하는 ValueError를 예외처리하고, 입력값이 숫자인 경우 제곱을 출력하고, 예외발생 여부와 상관없이 실행되는 출력문을 작성하시오."
      ],
      "metadata": {
        "id": "ouamtc8XoqQs"
      }
    },
    {
      "cell_type": "code",
      "source": [
        "try:\n",
        "  a = input(\"숫자를 입력하시오 :\")\n",
        "  r = int(a) + 5\n",
        "  print(r)\n",
        "except ValueError as v:\n",
        "  print(f'{v} 예외처리')\n",
        "else:\n",
        "  i = r ** 2\n",
        "  print(i)\n",
        "finally:\n",
        "  print(\"계산이 완료되었습니다.\")"
      ],
      "metadata": {
        "colab": {
          "base_uri": "https://localhost:8080/"
        },
        "id": "Eq0whDbnn7qF",
        "outputId": "9941567f-4acb-4dd7-9c4d-44da78c7e768"
      },
      "execution_count": null,
      "outputs": [
        {
          "output_type": "stream",
          "name": "stdout",
          "text": [
            "숫자를 입력하시오 :2\n",
            "7\n",
            "49\n",
            "계산이 완료되었습니다.\n"
          ]
        }
      ]
    },
    {
      "cell_type": "code",
      "source": [
        "try:\n",
        "  10/0\n",
        "except:\n",
        "  pass\n",
        "print('pass 성공')"
      ],
      "metadata": {
        "colab": {
          "base_uri": "https://localhost:8080/"
        },
        "id": "VzeziY9_pHdw",
        "outputId": "894bf2b4-7417-43ad-84f8-39e7db45e40d"
      },
      "execution_count": null,
      "outputs": [
        {
          "output_type": "stream",
          "name": "stdout",
          "text": [
            "pass 성공\n"
          ]
        }
      ]
    },
    {
      "cell_type": "code",
      "source": [
        "class Car:\n",
        "\tdef move(self):\n",
        "\t\traise NotImplementedError\n",
        "\n",
        "# car = Car()\n",
        "# car.move()\n",
        "\n",
        "class Taxi(Car):\n",
        "\tdef move(slef):\n",
        "\t\tprint('fast move')\n",
        "\n",
        "taxi = Taxi()\n",
        "taxi.move()"
      ],
      "metadata": {
        "colab": {
          "base_uri": "https://localhost:8080/"
        },
        "id": "siFqLSni-Ghq",
        "outputId": "ed605fda-6b1d-4a55-c0df-4f4b580a265a"
      },
      "execution_count": null,
      "outputs": [
        {
          "output_type": "stream",
          "name": "stdout",
          "text": [
            "fast move\n"
          ]
        }
      ]
    },
    {
      "cell_type": "code",
      "source": [
        "Exception.__subclasses__()"
      ],
      "metadata": {
        "colab": {
          "base_uri": "https://localhost:8080/"
        },
        "id": "m-jdZbLp__l7",
        "outputId": "17d162aa-008a-4e03-f8be-101479d0d9ed"
      },
      "execution_count": null,
      "outputs": [
        {
          "output_type": "execute_result",
          "data": {
            "text/plain": [
              "[TypeError,\n",
              " StopAsyncIteration,\n",
              " StopIteration,\n",
              " ImportError,\n",
              " OSError,\n",
              " EOFError,\n",
              " RuntimeError,\n",
              " NameError,\n",
              " AttributeError,\n",
              " SyntaxError,\n",
              " LookupError,\n",
              " ValueError,\n",
              " AssertionError,\n",
              " ArithmeticError,\n",
              " SystemError,\n",
              " ReferenceError,\n",
              " MemoryError,\n",
              " BufferError,\n",
              " Warning,\n",
              " warnings._OptionError,\n",
              " re.error,\n",
              " sre_parse.Verbose,\n",
              " locale.Error,\n",
              " runpy._Error,\n",
              " subprocess.SubprocessError,\n",
              " copy.Error,\n",
              " tokenize.TokenError,\n",
              " tokenize.StopTokenizing,\n",
              " zlib.error,\n",
              " _lzma.LZMAError,\n",
              " shutil.RegistryError,\n",
              " shutil._GiveupOnFastCopy,\n",
              " inspect.ClassFoundException,\n",
              " inspect.EndOfBlock,\n",
              " traitlets.traitlets.TraitError,\n",
              " socket._GiveupOnSendfile,\n",
              " struct.error,\n",
              " _pickle.PickleError,\n",
              " pickle._Stop,\n",
              " _queue.Empty,\n",
              " queue.Full,\n",
              " argparse.ArgumentError,\n",
              " argparse.ArgumentTypeError,\n",
              " traitlets.config.loader.ConfigError,\n",
              " traitlets.config.configurable.ConfigurableError,\n",
              " traitlets.config.application.ApplicationError,\n",
              " pydoc.ErrorDuringImport,\n",
              " bdb.BdbQuit,\n",
              " pdb.Restart,\n",
              " pexpect.exceptions.ExceptionPexpect,\n",
              " termios.error,\n",
              " ptyprocess.util.PtyProcessError,\n",
              " IPython.utils.process.FindCmdError,\n",
              " IPython.utils.path.HomeDirError,\n",
              " IPython.core.profiledir.ProfileDirError,\n",
              " IPython.core.error.IPythonCoreError,\n",
              " IPython.core.error.InputRejected,\n",
              " getopt.GetoptError,\n",
              " binascii.Incomplete,\n",
              " pygments.util.OptionError,\n",
              " pygments.filters.ErrorToken,\n",
              " IPython.core.prefilter.PrefilterError,\n",
              " IPython.core.alias.AliasError,\n",
              " sqlite3.Error,\n",
              " sqlite3.Warning,\n",
              " concurrent.futures._base.Error,\n",
              " asyncio.exceptions.TimeoutError,\n",
              " asyncio.exceptions.InvalidStateError,\n",
              " asyncio.exceptions.LimitOverrunError,\n",
              " asyncio.queues.QueueEmpty,\n",
              " asyncio.queues.QueueFull,\n",
              " IPython.core.interactiveshell.SpaceInInput,\n",
              " xml.dom.DOMException,\n",
              " prompt_toolkit.validation.ValidationError,\n",
              " prompt_toolkit.buffer.EditReadOnlyBuffer,\n",
              " prompt_toolkit.buffer._Retry,\n",
              " prompt_toolkit.layout.layout.InvalidLayoutError,\n",
              " prompt_toolkit.renderer.HeightIsUnknownError,\n",
              " email.errors.MessageError,\n",
              " uu.Error,\n",
              " http.client.HTTPException,\n",
              " IPython.core.magics.code.InteractivelyDefined,\n",
              " IPython.terminal.embed.KillEmbedded,\n",
              " ctypes.ArgumentError,\n",
              " zmq.error.ZMQBaseError,\n",
              " jupyter_client.localinterfaces.NoIPAddresses,\n",
              " configparser.Error,\n",
              " jupyter_client.channels.InvalidPortNumber,\n",
              " jupyter_client.multikernelmanager.DuplicateKernelError,\n",
              " _curses.error,\n",
              " tornado.concurrent.ReturnValueIgnoredError,\n",
              " tornado.gen.KeyReuseError,\n",
              " tornado.gen.UnknownKeyError,\n",
              " tornado.gen.LeakedCallbackError,\n",
              " tornado.gen.BadYieldError,\n",
              " tornado.gen.ReturnValueIgnoredError,\n",
              " tornado.gen.Return,\n",
              " tornado.queues.QueueEmpty,\n",
              " tornado.queues.QueueFull,\n",
              " distutils.errors.DistutilsError,\n",
              " distutils.errors.CCompilerError,\n",
              " zipfile.BadZipFile,\n",
              " zipfile.LargeZipFile,\n",
              " _csv.Error,\n",
              " setuptools.extern.packaging._tokenizer.ParserSyntaxError,\n",
              " google.colab.errors.Error,\n",
              " google.colab.errors.WidgetException,\n",
              " google.colab.output._js_builder.JsException,\n",
              " numpy.linalg.LinAlgError,\n",
              " numpy.lib._iotools.ConverterError,\n",
              " numpy.ma.core.MAError,\n",
              " google.colab._shell_customizations.FormattedTracebackError,\n",
              " psutil.Error,\n",
              " psutil._pslinux._Ipv6UnsupportedError,\n",
              " pyparsing.exceptions.ParseBaseException,\n",
              " pyparsing.exceptions.RecursiveGrammarException,\n",
              " httplib2.error.HttpLib2Error,\n",
              " xml.parsers.expat.ExpatError,\n",
              " PIL.Image.DecompressionBombError,\n",
              " cffi.FFIError,\n",
              " cffi.CDefError,\n",
              " cffi.VerificationError,\n",
              " cffi.VerificationMissing,\n",
              " cffi.PkgConfigError,\n",
              " kiwisolver.exceptions.BadRequiredStrength,\n",
              " kiwisolver.exceptions.DuplicateConstraint,\n",
              " kiwisolver.exceptions.DuplicateEditVariable,\n",
              " kiwisolver.exceptions.UnknownConstraint,\n",
              " kiwisolver.exceptions.UnknownEditVariable,\n",
              " kiwisolver.exceptions.UnsatisfiableConstraint,\n",
              " matplotlib.backend_bases.NonGuiException,\n",
              " matplotlib.streamplot.InvalidIndexError,\n",
              " matplotlib.streamplot.TerminateTrajectory,\n",
              " portpicker.NoFreePortFoundError,\n",
              " _pydev_bundle._pydev_saved_modules.DebuggerInitializationError,\n",
              " xmlrpc.client.Error,\n",
              " pkg_resources.extern.packaging._tokenizer.ParserSyntaxError,\n",
              " pkg_resources.ResolutionError,\n",
              " _pydevd_bundle.pydevd_runpy._Error,\n",
              " _pydevd_bundle.pydevd_resolver.UnableToResolveVariableException,\n",
              " _pydev_bundle.pydev_monkey.InvalidTypeInArgsException,\n",
              " pyarrow.lib.ArrowException,\n",
              " google.resumable_media.common.InvalidResponse,\n",
              " google.resumable_media.common.DataCorruption,\n",
              " urllib3.exceptions.HTTPError,\n",
              " http.cookies.CookieError,\n",
              " google.protobuf.message.Error,\n",
              " google.protobuf.descriptor.Error,\n",
              " google.protobuf.descriptor_database.Error,\n",
              " grpc._cython.cygrpc.AioRpcStatus,\n",
              " grpc._cython.cygrpc.BaseError,\n",
              " grpc._cython.cygrpc._WatchConnectivityFailed,\n",
              " grpc._cython.cygrpc._RequestCallError,\n",
              " grpc.FutureTimeoutError,\n",
              " grpc.FutureCancelledError,\n",
              " grpc.RpcError,\n",
              " grpc.experimental.UsageError,\n",
              " google.api_core.exceptions.GoogleAPIError,\n",
              " google.api_core.iam.InvalidOperationException,\n",
              " google.auth.exceptions.GoogleAuthError,\n",
              " ffi.error,\n",
              " cryptography.exceptions.UnsupportedAlgorithm,\n",
              " cryptography.exceptions.AlreadyFinalized,\n",
              " cryptography.exceptions.AlreadyUpdated,\n",
              " cryptography.exceptions.NotYetFinalized,\n",
              " cryptography.exceptions.InvalidTag,\n",
              " cryptography.exceptions.InvalidSignature,\n",
              " cryptography.exceptions.InternalError,\n",
              " cryptography.exceptions.InvalidKey,\n",
              " cryptography.utils.InterfaceNotImplemented,\n",
              " cryptography.x509.general_name.UnsupportedGeneralNameType,\n",
              " cryptography.x509.extensions.DuplicateExtension,\n",
              " cryptography.x509.extensions.ExtensionNotFound,\n",
              " cryptography.x509.base.AttributeNotFound,\n",
              " cryptography.x509.base.InvalidVersion,\n",
              " pytz.exceptions.Error,\n",
              " pandas.errors.NumbaUtilError,\n",
              " pandas.errors.InvalidIndexError,\n",
              " pandas.errors.DataError,\n",
              " pandas.errors.SpecificationError,\n",
              " pandas.errors.IndexingError,\n",
              " pandas.errors.PossibleDataLossError,\n",
              " pandas.errors.ClosedFileError,\n",
              " pandas.core.dtypes.cast.LossySetitemError,\n",
              " pyarrow.vendored.docscrape.ParseError,\n",
              " pandas.core.arrays.datetimelike.InvalidComparison,\n",
              " tarfile.TarError,\n",
              " pandas.core.interchange.utils.NoBufferPresent,\n",
              " google.protobuf.json_format.Error,\n",
              " google.api_core.future.polling._OperationNotComplete,\n",
              " google.cloud.bigquery.exceptions.BigQueryError,\n",
              " shapely.errors.ShapelyError,\n",
              " google.cloud.bigquery.dbapi.exceptions.Warning,\n",
              " google.cloud.bigquery.dbapi.exceptions.Error,\n",
              " google.cloud.bigquery.magics.line_arg_parser.exceptions.ParseError]"
            ]
          },
          "metadata": {},
          "execution_count": 57
        }
      ]
    },
    {
      "cell_type": "code",
      "source": [
        "class BigNumber(Exception):\n",
        "  msg = \"5보다 큰 수가 입력되었습니다.\"\n",
        "  def __init__(self):\n",
        "    super().__init__(self.msg)\n",
        "  def __str__(self):\n",
        "    return self.msg"
      ],
      "metadata": {
        "id": "a0jmFrMpAbH7"
      },
      "execution_count": null,
      "outputs": []
    },
    {
      "cell_type": "code",
      "source": [
        "def complex_number(num):\n",
        "  if num > 5:\n",
        "    raise BigNumber\n",
        "  else:\n",
        "    print(num ** 3)"
      ],
      "metadata": {
        "id": "n89XE8BtCjtF"
      },
      "execution_count": null,
      "outputs": []
    },
    {
      "cell_type": "code",
      "source": [
        "complex_number(2)"
      ],
      "metadata": {
        "colab": {
          "base_uri": "https://localhost:8080/"
        },
        "id": "I3nnqwI3DHSS",
        "outputId": "7102ea58-2655-4f0a-8f5e-592f35f94f2e"
      },
      "execution_count": null,
      "outputs": [
        {
          "output_type": "stream",
          "name": "stdout",
          "text": [
            "8\n"
          ]
        }
      ]
    },
    {
      "cell_type": "code",
      "source": [
        "complex_number(5)"
      ],
      "metadata": {
        "colab": {
          "base_uri": "https://localhost:8080/"
        },
        "id": "_GMIhJUdDST6",
        "outputId": "acc6983f-df66-4336-c435-e92e2e283d7d"
      },
      "execution_count": null,
      "outputs": [
        {
          "output_type": "stream",
          "name": "stdout",
          "text": [
            "125\n"
          ]
        }
      ]
    },
    {
      "cell_type": "code",
      "source": [
        "complex_number(13)"
      ],
      "metadata": {
        "colab": {
          "base_uri": "https://localhost:8080/",
          "height": 313
        },
        "id": "XzSw7ftRDVWC",
        "outputId": "56aae810-a47d-4916-d1cd-8dce49381511"
      },
      "execution_count": null,
      "outputs": [
        {
          "output_type": "error",
          "ename": "BigNumber",
          "evalue": "5보다 큰 수가 입력되었습니다.",
          "traceback": [
            "\u001b[0;31m---------------------------------------------------------------------------\u001b[0m",
            "\u001b[0;31mBigNumber\u001b[0m                                 Traceback (most recent call last)",
            "\u001b[0;32m<ipython-input-62-99215aa6ffd3>\u001b[0m in \u001b[0;36m<cell line: 1>\u001b[0;34m()\u001b[0m\n\u001b[0;32m----> 1\u001b[0;31m \u001b[0mcomplex_number\u001b[0m\u001b[0;34m(\u001b[0m\u001b[0;36m13\u001b[0m\u001b[0;34m)\u001b[0m\u001b[0;34m\u001b[0m\u001b[0;34m\u001b[0m\u001b[0m\n\u001b[0m",
            "\u001b[0;32m<ipython-input-59-805ef6046df7>\u001b[0m in \u001b[0;36mcomplex_number\u001b[0;34m(num)\u001b[0m\n\u001b[1;32m      1\u001b[0m \u001b[0;32mdef\u001b[0m \u001b[0mcomplex_number\u001b[0m\u001b[0;34m(\u001b[0m\u001b[0mnum\u001b[0m\u001b[0;34m)\u001b[0m\u001b[0;34m:\u001b[0m\u001b[0;34m\u001b[0m\u001b[0;34m\u001b[0m\u001b[0m\n\u001b[1;32m      2\u001b[0m   \u001b[0;32mif\u001b[0m \u001b[0mnum\u001b[0m \u001b[0;34m>\u001b[0m \u001b[0;36m5\u001b[0m\u001b[0;34m:\u001b[0m\u001b[0;34m\u001b[0m\u001b[0;34m\u001b[0m\u001b[0m\n\u001b[0;32m----> 3\u001b[0;31m     \u001b[0;32mraise\u001b[0m \u001b[0mBigNumber\u001b[0m\u001b[0;34m\u001b[0m\u001b[0;34m\u001b[0m\u001b[0m\n\u001b[0m\u001b[1;32m      4\u001b[0m   \u001b[0;32melse\u001b[0m\u001b[0;34m:\u001b[0m\u001b[0;34m\u001b[0m\u001b[0;34m\u001b[0m\u001b[0m\n\u001b[1;32m      5\u001b[0m     \u001b[0mprint\u001b[0m\u001b[0;34m(\u001b[0m\u001b[0mnum\u001b[0m \u001b[0;34m**\u001b[0m \u001b[0;36m3\u001b[0m\u001b[0;34m)\u001b[0m\u001b[0;34m\u001b[0m\u001b[0;34m\u001b[0m\u001b[0m\n",
            "\u001b[0;31mBigNumber\u001b[0m: 5보다 큰 수가 입력되었습니다."
          ]
        }
      ]
    },
    {
      "cell_type": "markdown",
      "source": [
        "1. 비밀번호의 길이는 6~10개로 모두 숫자로 이루어짐\n",
        "2. 입력값이 숫자가 아닐 경우\n",
        "   * ValueError로 예외처리\n",
        "3. 비밀번호는 두 번 입력해야 함\n",
        "4. 해당 입력의 문자의 길이가 다른 경우\n",
        "   * IndexError로 예외처리\n",
        "5. 비밀번호 길이가 6 미만일 경우\n",
        "   * \"TooShort\" 예외 발생\n",
        "6. 비밀번호 길이가 10 초과일 경우\n",
        "   * \"TooLong\" 예외 발생"
      ],
      "metadata": {
        "id": "QD_JE1YCECBt"
      }
    },
    {
      "cell_type": "code",
      "source": [
        "class TooShort(Exception):\n",
        "  sh = \"비밀번호가 6자리가 안 됩니다.\"\n",
        "  def __init__(self):\n",
        "    super().__init__(self.sh)\n",
        "  def __str__(self):\n",
        "    return self.sh\n",
        "\n",
        "class TooLong(Exception):\n",
        "  lo = \"비밀번호가 10자리가 넘습니다.\"\n",
        "  def __init__(self):\n",
        "    super().__init__(self.lo)\n",
        "  def __str__(self):\n",
        "    return self.lo"
      ],
      "metadata": {
        "id": "C4ZvYZK1DbCq"
      },
      "execution_count": null,
      "outputs": []
    },
    {
      "cell_type": "code",
      "source": [
        "def pw():\n",
        "  try:\n",
        "    first_pw = input('숫자를 입력하시오.')\n",
        "    int(first_pw)\n",
        "    second_pw = input('숫자를 입력하시오.')\n",
        "    int(second_pw)\n",
        "    if len(first_pw) != len(second_pw):\n",
        "      raise IndexError(\"비밀번호의 길이가 서로 다릅니다.\")\n",
        "    elif len(first_pw) < 6:\n",
        "      raise TooShort\n",
        "    elif len(first_pw) > 10:\n",
        "      raise TooLong\n",
        "    else:\n",
        "      print(\"비밀번호가 생성되었습니다.\")\n",
        "\n",
        "  except ValueError:\n",
        "    print('비밀번호가 숫자가 아닙니다.')"
      ],
      "metadata": {
        "id": "4AM9uMBLJyms"
      },
      "execution_count": null,
      "outputs": []
    },
    {
      "cell_type": "code",
      "source": [
        "pw()"
      ],
      "metadata": {
        "colab": {
          "base_uri": "https://localhost:8080/"
        },
        "id": "V94wrvT0LL8M",
        "outputId": "2f9dbc5d-d18e-4025-c285-04d4b04dbe06"
      },
      "execution_count": null,
      "outputs": [
        {
          "output_type": "stream",
          "name": "stdout",
          "text": [
            "숫자를 입력하시오.123456\n",
            "숫자를 입력하시오.213456\n",
            "비밀번호가 생성되었습니다.\n"
          ]
        }
      ]
    },
    {
      "cell_type": "markdown",
      "source": [
        "정규표현식"
      ],
      "metadata": {
        "id": "IhnNATAdhNXc"
      }
    },
    {
      "cell_type": "code",
      "source": [
        "import re\n",
        "p = re.compile('\\d+')   # \\d : 모든 숫자, + : 하나이상\n",
        "\n",
        "print(p.match('12345'))  # match : 첫번째로 정규표현식 패턴과 일치하는 글자 찾기\n",
        "print(p.match('a123'))\n",
        "print(p.match('aadd'))\n",
        "print(p.match('1aa1'))"
      ],
      "metadata": {
        "colab": {
          "base_uri": "https://localhost:8080/"
        },
        "id": "LPNFTQQsLzbC",
        "outputId": "c1eb3ad4-45e0-4e2a-9015-077c3e90e1dc"
      },
      "execution_count": null,
      "outputs": [
        {
          "output_type": "stream",
          "name": "stdout",
          "text": [
            "<re.Match object; span=(0, 5), match='12345'>\n",
            "None\n",
            "None\n",
            "<re.Match object; span=(0, 1), match='1'>\n"
          ]
        }
      ]
    },
    {
      "cell_type": "code",
      "source": [
        "import re\n",
        "p = re.compile('\\d+')  # \\d : 모든 숫자, + : 하나이상\n",
        "\n",
        "print(p.search('12345')) # 객체 반환\n",
        "print(p.search('a123')) # 객체 반환\n",
        "print(p.search('aaadd')) # None\n",
        "print(p.search('1aa1')) # 객체 반환"
      ],
      "metadata": {
        "colab": {
          "base_uri": "https://localhost:8080/"
        },
        "id": "QxzEW7XifYiM",
        "outputId": "ef775289-ed89-4f60-dcba-3238cb4c74d9"
      },
      "execution_count": null,
      "outputs": [
        {
          "output_type": "stream",
          "name": "stdout",
          "text": [
            "<re.Match object; span=(0, 5), match='12345'>\n",
            "<re.Match object; span=(1, 4), match='123'>\n",
            "None\n",
            "<re.Match object; span=(0, 1), match='1'>\n"
          ]
        }
      ]
    },
    {
      "cell_type": "code",
      "source": [
        "import re\n",
        "p = re.compile('\\d+')\n",
        "\n",
        "print(p.findall('12345')) # List 반환\n",
        "print(p.findall('a123')) # List 반환\n",
        "print(p.findall('aaadd')) # 빈 List 반환\n",
        "print(p.findall('1aa1')) # List 반환"
      ],
      "metadata": {
        "colab": {
          "base_uri": "https://localhost:8080/"
        },
        "id": "m2NM8izNf0ZM",
        "outputId": "409b6c90-8da8-432b-f0df-cef90a704cec"
      },
      "execution_count": null,
      "outputs": [
        {
          "output_type": "stream",
          "name": "stdout",
          "text": [
            "['12345']\n",
            "['123']\n",
            "[]\n",
            "['1', '1']\n"
          ]
        }
      ]
    },
    {
      "cell_type": "code",
      "source": [
        "import re\n",
        "p = re.compile('\\d+')\n",
        "\n",
        "result = p.finditer('aa11b22cc456')\n",
        "print(result)"
      ],
      "metadata": {
        "colab": {
          "base_uri": "https://localhost:8080/"
        },
        "id": "6e-x-s6dgMUs",
        "outputId": "ef67bacc-a408-40f5-e11f-e5d07714ed76"
      },
      "execution_count": null,
      "outputs": [
        {
          "output_type": "stream",
          "name": "stdout",
          "text": [
            "<callable_iterator object at 0x794180950d00>\n"
          ]
        }
      ]
    },
    {
      "cell_type": "code",
      "source": [
        "for i in result:\n",
        "  print(i)"
      ],
      "metadata": {
        "colab": {
          "base_uri": "https://localhost:8080/"
        },
        "id": "J8ECCOxBgaFB",
        "outputId": "2e453dc8-1d7e-43c7-865e-a71e27123f4c"
      },
      "execution_count": null,
      "outputs": [
        {
          "output_type": "stream",
          "name": "stdout",
          "text": [
            "<re.Match object; span=(2, 4), match='11'>\n",
            "<re.Match object; span=(5, 7), match='22'>\n",
            "<re.Match object; span=(9, 12), match='456'>\n"
          ]
        }
      ]
    },
    {
      "cell_type": "code",
      "source": [
        "import re\n",
        "\n",
        "p = re.compile('a.b')\n",
        "d = re.compile('a[.]b')"
      ],
      "metadata": {
        "id": "mmBzGKvOgdnJ"
      },
      "execution_count": null,
      "outputs": []
    },
    {
      "cell_type": "code",
      "source": [
        "print(p.match('acb')) # match\n",
        "print(p.match('ab')) # None\n",
        "print(d.match('a.b')) # match\n",
        "print(d.match('abc')) # None"
      ],
      "metadata": {
        "colab": {
          "base_uri": "https://localhost:8080/"
        },
        "id": "ny7ruaeghJ4y",
        "outputId": "3f5105c9-52e5-41be-eefe-af7b88494f8b"
      },
      "execution_count": null,
      "outputs": [
        {
          "output_type": "stream",
          "name": "stdout",
          "text": [
            "<re.Match object; span=(0, 3), match='acb'>\n",
            "None\n",
            "<re.Match object; span=(0, 3), match='a.b'>\n",
            "None\n"
          ]
        }
      ]
    },
    {
      "cell_type": "code",
      "source": [
        "import re\n",
        "\n",
        "p = re.compile('a*b')"
      ],
      "metadata": {
        "id": "Li_SuIdihU15"
      },
      "execution_count": null,
      "outputs": []
    },
    {
      "cell_type": "code",
      "source": [
        "p.match('b') # match\n",
        "p.match('aaaaab') # match\n",
        "p.match('abc') # match"
      ],
      "metadata": {
        "colab": {
          "base_uri": "https://localhost:8080/"
        },
        "id": "8yHFYB0niO6S",
        "outputId": "e9728cac-2809-4061-982a-f4e36e070799"
      },
      "execution_count": null,
      "outputs": [
        {
          "output_type": "execute_result",
          "data": {
            "text/plain": [
              "<re.Match object; span=(0, 2), match='ab'>"
            ]
          },
          "metadata": {},
          "execution_count": 133
        }
      ]
    },
    {
      "cell_type": "code",
      "source": [
        "import re\n",
        "\n",
        "p = re.compile('a+b')"
      ],
      "metadata": {
        "id": "rpyPvLadiVdC"
      },
      "execution_count": null,
      "outputs": []
    },
    {
      "cell_type": "code",
      "source": [
        "p.match('b') # None\n",
        "p.match('aaaaab') # match\n",
        "p.match('abc') # match"
      ],
      "metadata": {
        "colab": {
          "base_uri": "https://localhost:8080/"
        },
        "id": "4WBeQ_48iior",
        "outputId": "15b9ad20-9adb-4ba7-8adf-8f47ceb288f2"
      },
      "execution_count": null,
      "outputs": [
        {
          "output_type": "execute_result",
          "data": {
            "text/plain": [
              "<re.Match object; span=(0, 2), match='ab'>"
            ]
          },
          "metadata": {},
          "execution_count": 136
        }
      ]
    },
    {
      "cell_type": "code",
      "source": [
        "import re\n",
        "\n",
        "p = re.compile('a{2}b')"
      ],
      "metadata": {
        "id": "RpfWoEU1ijei"
      },
      "execution_count": null,
      "outputs": []
    },
    {
      "cell_type": "code",
      "source": [
        "p.match('aab') # match\n",
        "p.match('ab') # None\n",
        "p.match('aaab') # None"
      ],
      "metadata": {
        "id": "fi0wyVDgi8D_"
      },
      "execution_count": null,
      "outputs": []
    },
    {
      "cell_type": "code",
      "source": [
        "import re\n",
        "\n",
        "p = re.compile('a{0,2}b')"
      ],
      "metadata": {
        "id": "qf94HSfSi83g"
      },
      "execution_count": null,
      "outputs": []
    },
    {
      "cell_type": "code",
      "source": [
        "p.match('b') # match\n",
        "p.match('ab') # match\n",
        "p.match('aaab') # None"
      ],
      "metadata": {
        "id": "-1YZZOBwjABH"
      },
      "execution_count": null,
      "outputs": []
    },
    {
      "cell_type": "code",
      "source": [
        "import re\n",
        "\n",
        "p = re.compile('a?b')\n",
        "q = re.compile('a{0,1}b')"
      ],
      "metadata": {
        "id": "9kpvExapjBMB"
      },
      "execution_count": null,
      "outputs": []
    },
    {
      "cell_type": "code",
      "source": [
        "p.match('b') # match\n",
        "p.match('aab') # None\n",
        "q.match('ab') # match\n",
        "q.match('b') # match"
      ],
      "metadata": {
        "colab": {
          "base_uri": "https://localhost:8080/"
        },
        "id": "1bV6WHjejT6J",
        "outputId": "8a58d576-fb09-44b1-8aab-883ec6e5d148"
      },
      "execution_count": null,
      "outputs": [
        {
          "output_type": "execute_result",
          "data": {
            "text/plain": [
              "<re.Match object; span=(0, 1), match='b'>"
            ]
          },
          "metadata": {},
          "execution_count": 142
        }
      ]
    },
    {
      "cell_type": "code",
      "source": [
        "import re\n",
        "\n",
        "p = re.compile('a|bc|def')"
      ],
      "metadata": {
        "id": "k8yrHBrMjUyR"
      },
      "execution_count": null,
      "outputs": []
    },
    {
      "cell_type": "code",
      "source": [
        "p.match('a') # match\n",
        "p.match('bc') # match\n",
        "p.match('ab') # match\n",
        "p.match('abc') # match"
      ],
      "metadata": {
        "colab": {
          "base_uri": "https://localhost:8080/"
        },
        "id": "7AHKf-k6kHuV",
        "outputId": "bc764e45-2e52-4f35-d54f-89e4f2241d8d"
      },
      "execution_count": null,
      "outputs": [
        {
          "output_type": "execute_result",
          "data": {
            "text/plain": [
              "<re.Match object; span=(0, 1), match='a'>"
            ]
          },
          "metadata": {},
          "execution_count": 145
        }
      ]
    },
    {
      "cell_type": "code",
      "source": [
        "import re\n",
        "\n",
        "p = re.compile('^a')\n",
        "\n",
        "c = re.compile('[^abc]')"
      ],
      "metadata": {
        "id": "254YBls8kIcr"
      },
      "execution_count": null,
      "outputs": []
    },
    {
      "cell_type": "code",
      "source": [
        "p.match('aaaa') # match\n",
        "p.match('a') # match\n",
        "c.match('a') # None\n",
        "c.match('ab') # None\n",
        "c.match('def') # match"
      ],
      "metadata": {
        "colab": {
          "base_uri": "https://localhost:8080/"
        },
        "id": "giY6Kal9kYiQ",
        "outputId": "982189ee-c649-4128-8de5-c544303bfa3c"
      },
      "execution_count": null,
      "outputs": [
        {
          "output_type": "execute_result",
          "data": {
            "text/plain": [
              "<re.Match object; span=(0, 1), match='d'>"
            ]
          },
          "metadata": {},
          "execution_count": 147
        }
      ]
    },
    {
      "cell_type": "code",
      "source": [
        "import re\n",
        "\n",
        "p = re.compile('a$')"
      ],
      "metadata": {
        "id": "ogIdwX2rkaFZ"
      },
      "execution_count": null,
      "outputs": []
    },
    {
      "cell_type": "code",
      "source": [
        "print(p.search('a')) # match\n",
        "print(p.search('aa')) # match\n",
        "print(p.search('aac')) # None"
      ],
      "metadata": {
        "colab": {
          "base_uri": "https://localhost:8080/"
        },
        "id": "lZ-q19VRko68",
        "outputId": "09f17bb4-6c43-4204-a6ae-fd6f87019565"
      },
      "execution_count": null,
      "outputs": [
        {
          "output_type": "stream",
          "name": "stdout",
          "text": [
            "<re.Match object; span=(0, 1), match='a'>\n",
            "<re.Match object; span=(1, 2), match='a'>\n",
            "None\n"
          ]
        }
      ]
    },
    {
      "cell_type": "code",
      "source": [
        "import re\n",
        "\n",
        "regex = '\\+\\d{2}-\\d{2,3}-\\d{3,4}-\\d{4}'\n",
        "p = re.compile(regex)\n",
        "\n",
        "p.match('+82-02-345-7895')"
      ],
      "metadata": {
        "colab": {
          "base_uri": "https://localhost:8080/"
        },
        "id": "vLC02Id_kqnT",
        "outputId": "3adcf41a-b697-4c67-af32-51bc5c64a91e"
      },
      "execution_count": null,
      "outputs": [
        {
          "output_type": "execute_result",
          "data": {
            "text/plain": [
              "<re.Match object; span=(0, 15), match='+82-02-345-7895'>"
            ]
          },
          "metadata": {},
          "execution_count": 150
        }
      ]
    },
    {
      "cell_type": "code",
      "source": [
        "grregex = '(\\+\\d{2})-(\\d{2,3})-(\\d{3,4})-(\\d{4})'\n",
        "p = re.compile(grregex)\n",
        "\n",
        "result = p.match('+82-02-345-7895')\n",
        "print(result.group())\n",
        "print(result.group(0))\n",
        "print(result.group(1))\n",
        "print(result.group(2))\n",
        "print(result.group(3))\n",
        "print(result.group(4))"
      ],
      "metadata": {
        "colab": {
          "base_uri": "https://localhost:8080/"
        },
        "id": "r5-W4dZTlrtu",
        "outputId": "41701e32-0ffa-428c-e431-b669c5105d66"
      },
      "execution_count": null,
      "outputs": [
        {
          "output_type": "stream",
          "name": "stdout",
          "text": [
            "+82-02-345-7895\n",
            "+82-02-345-7895\n",
            "+82\n",
            "02\n",
            "345\n",
            "7895\n"
          ]
        }
      ]
    },
    {
      "cell_type": "code",
      "source": [
        "import re\n",
        "\n",
        "grregex = '(\\+\\d{2})-(\\d{2,3})-(\\d{3,4})-(\\d{4})'\n",
        "p = re.compile(grregex)\n",
        "\n",
        "result = p.match('+82-02-345-7895')\n",
        "print(result.group())\n",
        "print(result.group(0))\n",
        "print(result.group(1))\n",
        "print(result.group(2))"
      ],
      "metadata": {
        "colab": {
          "base_uri": "https://localhost:8080/"
        },
        "id": "0oelielllwKH",
        "outputId": "703438b7-8def-44e5-e246-941abb5b434c"
      },
      "execution_count": null,
      "outputs": [
        {
          "output_type": "stream",
          "name": "stdout",
          "text": [
            "+82-02-345-7895\n",
            "+82-02-345-7895\n",
            "+82\n",
            "02\n"
          ]
        }
      ]
    },
    {
      "cell_type": "code",
      "source": [
        "ngr = '(?P<na>\\+\\d{2})-(?P<lo>\\d{2,3})-(?P<zi>\\d{3,4})-(?P<un>\\d{4})'\n",
        "p = re.compile(ngr)\n",
        "\n",
        "result = p.match('+82-02-345-7895')\n",
        "print(result.groupdict())\n",
        "print(result.group())\n",
        "print(result.group('na'))\n",
        "print(result.group('lo'))\n",
        "print(result.group('zi'))\n",
        "print(result.group('un'))"
      ],
      "metadata": {
        "colab": {
          "base_uri": "https://localhost:8080/"
        },
        "id": "XanGoZNEm1my",
        "outputId": "bf53dda2-fa4e-4b2a-c8d1-5f76a6360031"
      },
      "execution_count": null,
      "outputs": [
        {
          "output_type": "stream",
          "name": "stdout",
          "text": [
            "{'na': '+82', 'lo': '02', 'zi': '345', 'un': '7895'}\n",
            "+82-02-345-7895\n",
            "+82\n",
            "02\n",
            "345\n",
            "7895\n"
          ]
        }
      ]
    },
    {
      "cell_type": "code",
      "source": [
        "import re\n",
        "\n",
        "text = 'one two three four five five 5'\n",
        "p = re.compile('five|5')\n",
        "change = '5'\n",
        "result = p.sub(change, text)\n",
        "\n",
        "print(text)\n",
        "print(result)"
      ],
      "metadata": {
        "colab": {
          "base_uri": "https://localhost:8080/"
        },
        "id": "hL_2Mcwsm2zg",
        "outputId": "44e6a23b-6d1a-4717-86db-8aa852bbec47"
      },
      "execution_count": null,
      "outputs": [
        {
          "output_type": "stream",
          "name": "stdout",
          "text": [
            "one two three four five five 5\n",
            "one two three four 5 5 5\n"
          ]
        }
      ]
    },
    {
      "cell_type": "code",
      "source": [
        "import re\n",
        "\n",
        "text = 'one two three four five five 5'\n",
        "p = re.compile('five|5')\n",
        "change = '5'\n",
        "result = p.sub(change, text,1)\n",
        "\n",
        "print(text)\n",
        "print(result)"
      ],
      "metadata": {
        "colab": {
          "base_uri": "https://localhost:8080/"
        },
        "id": "hw82W9jRnK7g",
        "outputId": "57d68ff0-c29f-4697-eb2f-70999079c183"
      },
      "execution_count": null,
      "outputs": [
        {
          "output_type": "stream",
          "name": "stdout",
          "text": [
            "one two three four five five 5\n",
            "one two three four 5 five 5\n"
          ]
        }
      ]
    },
    {
      "cell_type": "code",
      "source": [
        "import re\n",
        "\n",
        "text = '950101-1111234'\n",
        "p = re.compile('(\\d{6})-(\\d{7})')\n",
        "change = '\\g<1>-*******'\n",
        "result = p.sub(change, text)\n",
        "\n",
        "print(text)\n",
        "print(result)"
      ],
      "metadata": {
        "colab": {
          "base_uri": "https://localhost:8080/"
        },
        "id": "5MApa7Hxnkfp",
        "outputId": "3fdc7135-5ab3-405e-f2f4-274e8ca6765e"
      },
      "execution_count": null,
      "outputs": [
        {
          "output_type": "stream",
          "name": "stdout",
          "text": [
            "950101-1111234\n",
            "950101-*******\n"
          ]
        }
      ]
    },
    {
      "cell_type": "code",
      "source": [
        "import re\n",
        "\n",
        "text = '950101-2111234'\n",
        "p = re.compile('(\\d{6})-(1\\d{6}|2\\d{6})')\n",
        "change = '\\g<1>-*******'\n",
        "result = p.sub(change, text)\n",
        "\n",
        "print(text)\n",
        "print(result)"
      ],
      "metadata": {
        "colab": {
          "base_uri": "https://localhost:8080/"
        },
        "id": "lciCFQ5Enoq6",
        "outputId": "29aeabaf-2f99-4ff1-d310-b0f3993a74f2"
      },
      "execution_count": null,
      "outputs": [
        {
          "output_type": "stream",
          "name": "stdout",
          "text": [
            "950101-2111234\n",
            "950101-*******\n"
          ]
        }
      ]
    },
    {
      "cell_type": "code",
      "source": [
        "import re\n",
        "\n",
        "def validate_email(email):\n",
        "    pattern = re.compile('^\\w+@\\w+[.](com$|net$)')\n",
        "    if pattern.match(email):\n",
        "        return True\n",
        "    else:\n",
        "        return False\n",
        "\n",
        "# 테스트\n",
        "print(validate_email('abc123@gmail.com')) # True\n",
        "print(validate_email('123abc@naver.net')) # True\n",
        "print(validate_email('abc#naver.com')) # False\n",
        "print(validate_email('abc123@naver.co.kr')) # False"
      ],
      "metadata": {
        "colab": {
          "base_uri": "https://localhost:8080/"
        },
        "id": "3c3mu6fgpCbT",
        "outputId": "d0ba4256-071a-44f6-f973-6f11dfe7f801"
      },
      "execution_count": null,
      "outputs": [
        {
          "output_type": "stream",
          "name": "stdout",
          "text": [
            "True\n",
            "True\n",
            "False\n",
            "False\n"
          ]
        }
      ]
    },
    {
      "cell_type": "code",
      "source": [],
      "metadata": {
        "id": "hPMt8-0Pqpcr"
      },
      "execution_count": null,
      "outputs": []
    }
  ]
}