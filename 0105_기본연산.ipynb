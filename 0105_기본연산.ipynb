{
  "nbformat": 4,
  "nbformat_minor": 0,
  "metadata": {
    "colab": {
      "provenance": [],
      "authorship_tag": "ABX9TyNCznnmNbX3VVvhPtaMzPtz",
      "include_colab_link": true
    },
    "kernelspec": {
      "name": "python3",
      "display_name": "Python 3"
    },
    "language_info": {
      "name": "python"
    }
  },
  "cells": [
    {
      "cell_type": "markdown",
      "metadata": {
        "id": "view-in-github",
        "colab_type": "text"
      },
      "source": [
        "<a href=\"https://colab.research.google.com/github/Eleemon98/Colaboratory/blob/main/0105_%EA%B8%B0%EB%B3%B8%EC%97%B0%EC%82%B0.ipynb\" target=\"_parent\"><img src=\"https://colab.research.google.com/assets/colab-badge.svg\" alt=\"Open In Colab\"/></a>"
      ]
    },
    {
      "cell_type": "markdown",
      "source": [
        "## 변수의 사용법"
      ],
      "metadata": {
        "id": "JUa7O2XkI6xW"
      }
    },
    {
      "cell_type": "code",
      "execution_count": null,
      "metadata": {
        "id": "dgPJKprdBOQ1"
      },
      "outputs": [],
      "source": [
        "a = 123"
      ]
    },
    {
      "cell_type": "code",
      "source": [
        "b = [1,2,3]"
      ],
      "metadata": {
        "id": "wJnefXWMUK7o"
      },
      "execution_count": null,
      "outputs": []
    },
    {
      "cell_type": "code",
      "source": [
        "num_list=['1',\"2\",3,'''4''',\"5\"]"
      ],
      "metadata": {
        "id": "uUSSLWZqUN42"
      },
      "execution_count": null,
      "outputs": []
    },
    {
      "cell_type": "code",
      "source": [
        "num_list"
      ],
      "metadata": {
        "colab": {
          "base_uri": "https://localhost:8080/"
        },
        "id": "of4rXCIZUZGm",
        "outputId": "905f7c14-5215-4c44-b495-94fc3291227d"
      },
      "execution_count": null,
      "outputs": [
        {
          "output_type": "execute_result",
          "data": {
            "text/plain": [
              "['1', '2', 3, '4', '5']"
            ]
          },
          "metadata": {},
          "execution_count": 4
        }
      ]
    },
    {
      "cell_type": "code",
      "source": [
        "num_tuple=([1,2],)"
      ],
      "metadata": {
        "id": "NICPfNqGUbOG"
      },
      "execution_count": null,
      "outputs": []
    },
    {
      "cell_type": "code",
      "source": [
        "num_tuple"
      ],
      "metadata": {
        "colab": {
          "base_uri": "https://localhost:8080/"
        },
        "id": "Zne0HYZNUeoW",
        "outputId": "a99c2481-0b9d-4380-a12b-e6d19a3f1a16"
      },
      "execution_count": null,
      "outputs": [
        {
          "output_type": "execute_result",
          "data": {
            "text/plain": [
              "([1, 2],)"
            ]
          },
          "metadata": {},
          "execution_count": 7
        }
      ]
    },
    {
      "cell_type": "code",
      "source": [
        "h, p = \"hello\", \"python\""
      ],
      "metadata": {
        "id": "rnj4373JUkD2"
      },
      "execution_count": null,
      "outputs": []
    },
    {
      "cell_type": "code",
      "source": [
        "h, c = [\"hi\", \"colab\"]"
      ],
      "metadata": {
        "id": "k446rDb4aM1L"
      },
      "execution_count": null,
      "outputs": []
    },
    {
      "cell_type": "code",
      "source": [
        "h"
      ],
      "metadata": {
        "colab": {
          "base_uri": "https://localhost:8080/",
          "height": 35
        },
        "id": "LD0_7wjEaRQu",
        "outputId": "3c5b2fca-c8e4-49e4-8464-8ccf4e9e7e5c"
      },
      "execution_count": null,
      "outputs": [
        {
          "output_type": "execute_result",
          "data": {
            "text/plain": [
              "'hi'"
            ],
            "application/vnd.google.colaboratory.intrinsic+json": {
              "type": "string"
            }
          },
          "metadata": {},
          "execution_count": 10
        }
      ]
    },
    {
      "cell_type": "code",
      "source": [
        "c"
      ],
      "metadata": {
        "colab": {
          "base_uri": "https://localhost:8080/",
          "height": 35
        },
        "id": "n3U9Il33aSM3",
        "outputId": "e9a37822-0b9e-4d45-dd8a-7ec25f29a2d8"
      },
      "execution_count": null,
      "outputs": [
        {
          "output_type": "execute_result",
          "data": {
            "text/plain": [
              "'colab'"
            ],
            "application/vnd.google.colaboratory.intrinsic+json": {
              "type": "string"
            }
          },
          "metadata": {},
          "execution_count": 11
        }
      ]
    },
    {
      "cell_type": "code",
      "source": [
        "pi = 3.141592\n",
        "cir_area = 3*3*pi\n",
        "print(cir_area)"
      ],
      "metadata": {
        "colab": {
          "base_uri": "https://localhost:8080/"
        },
        "id": "mYUvrFNCaSsX",
        "outputId": "4c9f3077-b71e-4eda-a5d4-f29c46e01bef"
      },
      "execution_count": null,
      "outputs": [
        {
          "output_type": "stream",
          "name": "stdout",
          "text": [
            "28.274328\n"
          ]
        }
      ]
    },
    {
      "cell_type": "code",
      "source": [
        "circumference = 3*2*pi\n",
        "print(circumference)"
      ],
      "metadata": {
        "colab": {
          "base_uri": "https://localhost:8080/"
        },
        "id": "LK1BvRNzcclH",
        "outputId": "c4509b86-7da3-4fb7-b26b-2867a3a8c090"
      },
      "execution_count": null,
      "outputs": [
        {
          "output_type": "stream",
          "name": "stdout",
          "text": [
            "18.849552000000003\n"
          ]
        }
      ]
    },
    {
      "cell_type": "code",
      "source": [
        "for i in range(5):\n",
        "  pi = 3.141592\n",
        "  i = i + 1\n",
        "  circumference = i * 2 * pi\n",
        "  print('radius : ', i, 'circumference : ', circumference)"
      ],
      "metadata": {
        "colab": {
          "base_uri": "https://localhost:8080/"
        },
        "id": "vjJGdghCcpKP",
        "outputId": "a2706abc-7b43-4872-fa38-5110f5db57b9"
      },
      "execution_count": null,
      "outputs": [
        {
          "output_type": "stream",
          "name": "stdout",
          "text": [
            "radius :  1 circumference :  6.283184\n",
            "radius :  2 circumference :  12.566368\n",
            "radius :  3 circumference :  18.849552000000003\n",
            "radius :  4 circumference :  25.132736\n",
            "radius :  5 circumference :  31.41592\n"
          ]
        }
      ]
    },
    {
      "cell_type": "markdown",
      "source": [
        "#변수 이름 짓기"
      ],
      "metadata": {
        "id": "60yKw1bm8aFN"
      }
    },
    {
      "cell_type": "code",
      "source": [
        "fruits = 'apple'  # 이것만 맞는 것"
      ],
      "metadata": {
        "id": "rLC5LhDnc6bY"
      },
      "execution_count": null,
      "outputs": []
    },
    {
      "cell_type": "code",
      "source": [
        "Fruits = '사과'  # 대문자는 다른 데 쓰인다."
      ],
      "metadata": {
        "id": "L3kODyqC86cn"
      },
      "execution_count": null,
      "outputs": []
    },
    {
      "cell_type": "code",
      "source": [
        "과일 = \"Apple\"  # 한글은 왠만해선 안 쓰기로 되어 있다."
      ],
      "metadata": {
        "id": "Vf_cC74p8_dT"
      },
      "execution_count": null,
      "outputs": []
    },
    {
      "cell_type": "code",
      "source": [
        "print(fruits, Fruits, 과일)"
      ],
      "metadata": {
        "colab": {
          "base_uri": "https://localhost:8080/"
        },
        "id": "ElRRSeZ99I-L",
        "outputId": "86ea8aa5-b0f5-4907-eac2-d7b5919b968d"
      },
      "execution_count": null,
      "outputs": [
        {
          "output_type": "stream",
          "name": "stdout",
          "text": [
            "apple 사과 Apple\n"
          ]
        }
      ]
    },
    {
      "cell_type": "code",
      "source": [
        "starbuck_coffe_00 = 4.5  #tall\n",
        "starbuck_coffe_01 = 5.0  #Grade\n",
        "starbuck_coffe_02 = 5.5  #Venti\n",
        "starbuck_latte = 4.8\n",
        "starbuck_choco = 5.0"
      ],
      "metadata": {
        "id": "gOkJpc279NGO"
      },
      "execution_count": null,
      "outputs": []
    },
    {
      "cell_type": "markdown",
      "source": [
        "#자료형마다 갖고 있는 함수"
      ],
      "metadata": {
        "id": "QlTQpAwk9SlD"
      }
    },
    {
      "cell_type": "code",
      "source": [
        "son={'이름': '손흥민', '나이': 30, '직업': '축구선수', '소속팀': '토트넘', '활동팀':['함부르크', '레버쿠젠', '토트넘']}\n",
        "son.items()  #닥셔너리가 갖고 있는 함수"
      ],
      "metadata": {
        "colab": {
          "base_uri": "https://localhost:8080/"
        },
        "id": "pCrKyykG9RWT",
        "outputId": "83d406ef-d1ef-4ad1-8e1b-942fb5bc3dff"
      },
      "execution_count": null,
      "outputs": [
        {
          "output_type": "execute_result",
          "data": {
            "text/plain": [
              "dict_items([('이름', '손흥민'), ('나이', 30), ('직업', '축구선수'), ('소속팀', '토트넘'), ('활동팀', ['함부르크', '레버쿠젠', '토트넘'])])"
            ]
          },
          "metadata": {},
          "execution_count": 6
        }
      ]
    },
    {
      "cell_type": "code",
      "source": [
        "li = [1,2,3]\n",
        "li.append(4)\n",
        "li            # 리스트가 갖고 있는 함수"
      ],
      "metadata": {
        "colab": {
          "base_uri": "https://localhost:8080/"
        },
        "id": "rEa1lQIJ-veV",
        "outputId": "7c30fad3-494e-4d2e-bd6d-b418615a2ab0"
      },
      "execution_count": null,
      "outputs": [
        {
          "output_type": "execute_result",
          "data": {
            "text/plain": [
              "[1, 2, 3, 4]"
            ]
          },
          "metadata": {},
          "execution_count": 9
        }
      ]
    },
    {
      "cell_type": "code",
      "source": [
        "txt = \"Hello\"\n",
        "txt.replace(\"H\", 'h')  #문자열이 갖고 있는 함수"
      ],
      "metadata": {
        "colab": {
          "base_uri": "https://localhost:8080/",
          "height": 35
        },
        "id": "cwlngXiG-1s4",
        "outputId": "9e1c2510-a04d-4b19-afc1-0516ddbdf77f"
      },
      "execution_count": null,
      "outputs": [
        {
          "output_type": "execute_result",
          "data": {
            "text/plain": [
              "'hello'"
            ],
            "application/vnd.google.colaboratory.intrinsic+json": {
              "type": "string"
            }
          },
          "metadata": {},
          "execution_count": 10
        }
      ]
    },
    {
      "cell_type": "markdown",
      "source": [
        "#산술 연산자"
      ],
      "metadata": {
        "id": "LxbKPKbx_FJN"
      }
    },
    {
      "cell_type": "code",
      "source": [
        "print(32+64)\n",
        "print(54-27)\n",
        "print(14*13)\n",
        "print(45/5)\n",
        "print(45%4)\n",
        "print(8**3)\n",
        "print(78//9)"
      ],
      "metadata": {
        "colab": {
          "base_uri": "https://localhost:8080/"
        },
        "id": "SVvbRDyB-_cw",
        "outputId": "cb1b298b-52f2-4a04-e674-1fa01c91d1a2"
      },
      "execution_count": null,
      "outputs": [
        {
          "output_type": "stream",
          "name": "stdout",
          "text": [
            "96\n",
            "27\n",
            "182\n",
            "9.0\n",
            "1\n",
            "512\n",
            "8\n"
          ]
        }
      ]
    },
    {
      "cell_type": "markdown",
      "source": [
        "#대입 연산자"
      ],
      "metadata": {
        "id": "_pvAkjKs_NBT"
      }
    },
    {
      "cell_type": "code",
      "source": [
        "a = 30\n",
        "a = a + 5\n",
        "a"
      ],
      "metadata": {
        "colab": {
          "base_uri": "https://localhost:8080/"
        },
        "id": "jAXPSey9_MTK",
        "outputId": "b4580f09-74cf-4134-c1a4-ac2a9308d33d"
      },
      "execution_count": null,
      "outputs": [
        {
          "output_type": "execute_result",
          "data": {
            "text/plain": [
              "35"
            ]
          },
          "metadata": {},
          "execution_count": 12
        }
      ]
    },
    {
      "cell_type": "code",
      "source": [
        "a = 30\n",
        "a += 5 # a = a + 5\n",
        "a"
      ],
      "metadata": {
        "colab": {
          "base_uri": "https://localhost:8080/"
        },
        "id": "mJmM_vaN_TUU",
        "outputId": "a3f7aa48-fcd5-4c45-89d2-b423438b9241"
      },
      "execution_count": null,
      "outputs": [
        {
          "output_type": "execute_result",
          "data": {
            "text/plain": [
              "35"
            ]
          },
          "metadata": {},
          "execution_count": 14
        }
      ]
    },
    {
      "cell_type": "code",
      "source": [
        "a -= 3\n",
        "a"
      ],
      "metadata": {
        "colab": {
          "base_uri": "https://localhost:8080/"
        },
        "id": "EJbVaz56_VNE",
        "outputId": "69dbbdc3-2013-4a15-e37d-135f43725afc"
      },
      "execution_count": null,
      "outputs": [
        {
          "output_type": "execute_result",
          "data": {
            "text/plain": [
              "32"
            ]
          },
          "metadata": {},
          "execution_count": 15
        }
      ]
    },
    {
      "cell_type": "code",
      "source": [
        "a *= 4\n",
        "a"
      ],
      "metadata": {
        "colab": {
          "base_uri": "https://localhost:8080/"
        },
        "id": "u2CWBVdF_ank",
        "outputId": "c769fe59-106a-421a-db44-9654c390ecfe"
      },
      "execution_count": null,
      "outputs": [
        {
          "output_type": "execute_result",
          "data": {
            "text/plain": [
              "128"
            ]
          },
          "metadata": {},
          "execution_count": 16
        }
      ]
    },
    {
      "cell_type": "code",
      "source": [
        "a /=6\n",
        "a"
      ],
      "metadata": {
        "colab": {
          "base_uri": "https://localhost:8080/"
        },
        "id": "zZamTLrR_cDc",
        "outputId": "7bbc0467-b4f6-4ded-bb40-a81c9ceaa062"
      },
      "execution_count": null,
      "outputs": [
        {
          "output_type": "execute_result",
          "data": {
            "text/plain": [
              "21.333333333333332"
            ]
          },
          "metadata": {},
          "execution_count": 17
        }
      ]
    },
    {
      "cell_type": "code",
      "source": [
        "a %= 7\n",
        "a"
      ],
      "metadata": {
        "colab": {
          "base_uri": "https://localhost:8080/"
        },
        "id": "F-eS7FA9_dd8",
        "outputId": "888b985a-f870-422f-9d2d-f770807c6c96"
      },
      "execution_count": null,
      "outputs": [
        {
          "output_type": "execute_result",
          "data": {
            "text/plain": [
              "0.33333333333333215"
            ]
          },
          "metadata": {},
          "execution_count": 18
        }
      ]
    },
    {
      "cell_type": "code",
      "source": [
        "a **= 12\n",
        "a"
      ],
      "metadata": {
        "colab": {
          "base_uri": "https://localhost:8080/"
        },
        "id": "zvpj8u_w_fB1",
        "outputId": "0f2129dc-22ed-4f6b-981c-c0ccf8a3e82b"
      },
      "execution_count": null,
      "outputs": [
        {
          "output_type": "execute_result",
          "data": {
            "text/plain": [
              "1.8816764231588405e-06"
            ]
          },
          "metadata": {},
          "execution_count": 19
        }
      ]
    },
    {
      "cell_type": "code",
      "source": [
        "a //= 3\n",
        "a"
      ],
      "metadata": {
        "colab": {
          "base_uri": "https://localhost:8080/"
        },
        "id": "vSWo5NK__gYN",
        "outputId": "afa2d8c4-a4f7-4b6b-d5f5-780b591959a6"
      },
      "execution_count": null,
      "outputs": [
        {
          "output_type": "execute_result",
          "data": {
            "text/plain": [
              "0.0"
            ]
          },
          "metadata": {},
          "execution_count": 20
        }
      ]
    },
    {
      "cell_type": "markdown",
      "source": [
        "#비교 연산자"
      ],
      "metadata": {
        "id": "CE6tSbu0_hy3"
      }
    },
    {
      "cell_type": "code",
      "source": [
        "a = 8\n",
        "print(a == 2)\n",
        "print(a != 2)\n",
        "print(a > 2)\n",
        "print(a < 2)\n",
        "print(a >= 2)\n",
        "print(a <= 2)\n",
        "b=9\n",
        "print(a == b)"
      ],
      "metadata": {
        "colab": {
          "base_uri": "https://localhost:8080/"
        },
        "id": "VVtN056-_hA1",
        "outputId": "4b4560cf-5e53-455b-8c3c-21f88507b592"
      },
      "execution_count": null,
      "outputs": [
        {
          "output_type": "stream",
          "name": "stdout",
          "text": [
            "False\n",
            "True\n",
            "True\n",
            "False\n",
            "True\n",
            "False\n",
            "False\n"
          ]
        }
      ]
    },
    {
      "cell_type": "markdown",
      "source": [
        "#논리 연산자"
      ],
      "metadata": {
        "id": "ky6H-eCbArJF"
      }
    },
    {
      "cell_type": "code",
      "source": [
        "a, b = 5, 10\n",
        "a_t = (a*2) == b\n",
        "a_f = a == b\n",
        "b_t = (b/2)==a\n",
        "b_f = b<a\n",
        "print(a_t and b_t)\n",
        "print(a_t and b_f)\n",
        "print(a_t or b_f)\n",
        "print(a_t or b_t)\n",
        "print(a_f or b_f)\n",
        "print(not(a_t))\n",
        "print(not(a_f))"
      ],
      "metadata": {
        "colab": {
          "base_uri": "https://localhost:8080/"
        },
        "id": "mZCrAPvuAqOb",
        "outputId": "c2b3fc75-c8ca-4fc9-b03c-def142ee51b0"
      },
      "execution_count": null,
      "outputs": [
        {
          "output_type": "stream",
          "name": "stdout",
          "text": [
            "True\n",
            "False\n",
            "True\n",
            "True\n",
            "False\n",
            "False\n",
            "True\n"
          ]
        }
      ]
    },
    {
      "cell_type": "markdown",
      "source": [
        "#식별 연산자"
      ],
      "metadata": {
        "id": "EUnV3lPVAvld"
      }
    },
    {
      "cell_type": "code",
      "source": [
        "a, b = 10, 10.0\n",
        "c = 10\n",
        "print(id(a), ':', id(b), ':', id(c))\n",
        "print(a == b)\n",
        "print(a is b)\n",
        "print(a is c)\n",
        "print(a is not b)\n",
        "print(a is not c)"
      ],
      "metadata": {
        "colab": {
          "base_uri": "https://localhost:8080/"
        },
        "id": "c_5XhlVPAu27",
        "outputId": "d8c30b80-706b-4149-d353-b0915933bc59"
      },
      "execution_count": null,
      "outputs": [
        {
          "output_type": "stream",
          "name": "stdout",
          "text": [
            "132717746668048 : 132717454062768 : 132717746668048\n",
            "True\n",
            "False\n",
            "True\n",
            "True\n",
            "False\n"
          ]
        }
      ]
    },
    {
      "cell_type": "markdown",
      "source": [
        "#멤버 연산자"
      ],
      "metadata": {
        "id": "vZyCMq0uA1uc"
      }
    },
    {
      "cell_type": "code",
      "source": [
        "p = \"hello python, you can do it\"\n",
        "print(\"hello\" in p)\n",
        "print(\"python\" in p)\n",
        "print(\"JAVA\" in p)\n",
        "print(p in \"hello\")\n",
        "print(\"bye\" not in p)"
      ],
      "metadata": {
        "colab": {
          "base_uri": "https://localhost:8080/"
        },
        "id": "cc5POwGUA0fL",
        "outputId": "9259f491-7de5-4721-9709-ca0e0b480f5b"
      },
      "execution_count": null,
      "outputs": [
        {
          "output_type": "stream",
          "name": "stdout",
          "text": [
            "True\n",
            "True\n",
            "False\n",
            "False\n",
            "True\n"
          ]
        }
      ]
    },
    {
      "cell_type": "markdown",
      "source": [
        "#비트 연산자"
      ],
      "metadata": {
        "id": "vQkxGY3LA5qO"
      }
    },
    {
      "cell_type": "code",
      "source": [
        "a = True\n",
        "b = False\n",
        "print(a&b)\n",
        "print(a&a)\n",
        "print(a|b)\n",
        "print(a^b)\n",
        "print(~b)\n",
        "print(bool(~a))\n",
        "print(~a)"
      ],
      "metadata": {
        "colab": {
          "base_uri": "https://localhost:8080/"
        },
        "id": "t6oI0c5IA7xZ",
        "outputId": "0672e9e7-cfce-4d3b-cf8d-b814aca15050"
      },
      "execution_count": null,
      "outputs": [
        {
          "output_type": "stream",
          "name": "stdout",
          "text": [
            "False\n",
            "True\n",
            "True\n",
            "True\n",
            "-1\n",
            "True\n",
            "-2\n"
          ]
        }
      ]
    },
    {
      "cell_type": "markdown",
      "source": [
        "#인덱싱"
      ],
      "metadata": {
        "id": "1gIyP-KUBBf-"
      }
    },
    {
      "cell_type": "code",
      "source": [
        "sentence = 'hello python, I can do it'\n",
        "words_l = ['hello', 'python', 'I', 'can', 'do', 'it']\n",
        "word_t = ('hello', 'python', 'I', 'can', 'do', 'it')\n",
        "print(sentence[0])\n",
        "print(sentence[-5])\n",
        "print('첫번째:', sentence[0], '6번째:', sentence[5], '마지막:', sentence[-1])\n",
        "words_l[1][1]"
      ],
      "metadata": {
        "colab": {
          "base_uri": "https://localhost:8080/",
          "height": 90
        },
        "id": "N720gCJ0A_5k",
        "outputId": "70e43a51-745f-4ce3-cd53-c59415480f9b"
      },
      "execution_count": null,
      "outputs": [
        {
          "output_type": "stream",
          "name": "stdout",
          "text": [
            "h\n",
            "d\n",
            "첫번째: h 6번째:   마지막: t\n"
          ]
        },
        {
          "output_type": "execute_result",
          "data": {
            "text/plain": [
              "'y'"
            ],
            "application/vnd.google.colaboratory.intrinsic+json": {
              "type": "string"
            }
          },
          "metadata": {},
          "execution_count": 28
        }
      ]
    },
    {
      "cell_type": "markdown",
      "source": [
        "#슬라이싱"
      ],
      "metadata": {
        "id": "9E124kGaBFn1"
      }
    },
    {
      "cell_type": "code",
      "source": [
        "print(sentence[0:5])\n",
        "print(sentence[0: :2])\n",
        "print(sentence[:5])\n",
        "print(sentence[-2:])\n",
        "print(sentence[:12:2])\n",
        "len(sentence)"
      ],
      "metadata": {
        "colab": {
          "base_uri": "https://localhost:8080/"
        },
        "id": "kw8lWhLmBEvk",
        "outputId": "82851152-8fab-42e0-b2cb-a8151f694fe9"
      },
      "execution_count": null,
      "outputs": [
        {
          "output_type": "stream",
          "name": "stdout",
          "text": [
            "hello\n",
            "hlopto,Icnd t\n",
            "hello\n",
            "it\n",
            "hlopto\n"
          ]
        },
        {
          "output_type": "execute_result",
          "data": {
            "text/plain": [
              "25"
            ]
          },
          "metadata": {},
          "execution_count": 29
        }
      ]
    },
    {
      "cell_type": "markdown",
      "source": [
        "#여기에서 words_l의 두번째를 인덱싱하고 그 인덱싱한 것에서 두번째부터 5번째까지(포함)을 슬라이싱하기"
      ],
      "metadata": {
        "id": "9AT0MYwWBJiN"
      }
    },
    {
      "cell_type": "code",
      "source": [
        "words_l = ['hello', 'python', 'I', 'can', 'do', 'it']\n",
        "words_l[1][1:6]"
      ],
      "metadata": {
        "colab": {
          "base_uri": "https://localhost:8080/",
          "height": 35
        },
        "id": "_MHYvGKIBIt0",
        "outputId": "95fb359b-c809-45d6-e2f9-bba8b6ca4170"
      },
      "execution_count": null,
      "outputs": [
        {
          "output_type": "execute_result",
          "data": {
            "text/plain": [
              "'ython'"
            ],
            "application/vnd.google.colaboratory.intrinsic+json": {
              "type": "string"
            }
          },
          "metadata": {},
          "execution_count": 30
        }
      ]
    },
    {
      "cell_type": "markdown",
      "source": [
        "#조건문"
      ],
      "metadata": {
        "id": "gez9aS5GMDrq"
      }
    },
    {
      "cell_type": "markdown",
      "source": [
        "# Quiz. \"Python\"에 세 번째 글자가 h이면 No를 출력하고 아니면 Yes를 출력하시오."
      ],
      "metadata": {
        "id": "G0OZfnJOUZKO"
      }
    },
    {
      "cell_type": "code",
      "source": [
        "p = \"Python\"\n",
        "\n",
        "if \"h\" == p[2]:\n",
        "  print(\"No\")\n",
        "else:\n",
        "  print(\"Yes\")"
      ],
      "metadata": {
        "id": "wx6audT4UdRv",
        "colab": {
          "base_uri": "https://localhost:8080/"
        },
        "outputId": "b5bbf17b-521b-4a86-eb49-a99e639fe38a"
      },
      "execution_count": null,
      "outputs": [
        {
          "output_type": "stream",
          "name": "stdout",
          "text": [
            "Yes\n"
          ]
        }
      ]
    },
    {
      "cell_type": "markdown",
      "source": [
        "# Quiz. ['사과', '포도', '딸기', '바나나'] 내가 입력한 과일이 리스트 안에 있으면 \"맛있게 드세요~\"라고 출력하고, 없으면 \"과일이 없습니다~ ㅜㅜ\"라고 출력하시오"
      ],
      "metadata": {
        "id": "ZL2eGS0pLqh4"
      }
    },
    {
      "cell_type": "code",
      "source": [
        "a = ['사과', '포도', '딸기', '바나나']\n",
        "b = input()\n",
        "if b in a:\n",
        "    print(\"맛있게 드세요~!\")\n",
        "else:\n",
        "    print(\"과일이 없습니다~! ㅜㅜ\")"
      ],
      "metadata": {
        "colab": {
          "base_uri": "https://localhost:8080/"
        },
        "id": "xxY94yDlBuZs",
        "outputId": "5f607563-365a-474c-f68a-b5f6b694e6ec"
      },
      "execution_count": null,
      "outputs": [
        {
          "output_type": "stream",
          "name": "stdout",
          "text": [
            "딸기\n",
            "맛있게 드세요~!\n"
          ]
        }
      ]
    },
    {
      "cell_type": "markdown",
      "source": [
        "짝수 찾기"
      ],
      "metadata": {
        "id": "99ZumZfsOKvw"
      }
    },
    {
      "cell_type": "code",
      "source": [
        "num = input()\n",
        "num = int(num)\n",
        "if num % 2 == 0:\n",
        "  print(\"짝수\")\n",
        "else:\n",
        "  print(\"홀수\")"
      ],
      "metadata": {
        "colab": {
          "base_uri": "https://localhost:8080/"
        },
        "id": "7M1tomaJOMSY",
        "outputId": "6356008b-7dce-48c4-fe64-35b6d4e4fd2e"
      },
      "execution_count": null,
      "outputs": [
        {
          "output_type": "stream",
          "name": "stdout",
          "text": [
            "15\n",
            "홀수\n"
          ]
        }
      ]
    },
    {
      "cell_type": "markdown",
      "source": [
        "# 짝수 중에 10보다 큰수는 \"큰수입니다.\" 10보다 작으면 \"작은수입니다.\" 홀수면 전부 \"짝수가 아닙니다.\"라고 출력하십시오."
      ],
      "metadata": {
        "id": "xFgITO_iO4Zh"
      }
    },
    {
      "cell_type": "code",
      "source": [
        "num = input()\n",
        "num = int(num)\n",
        "if (num % 2) == 0:\n",
        "  if num > 10:\n",
        "    print(\"큰수입니다.\")\n",
        "  else:\n",
        "    print(\"작은수입니다.\")\n",
        "else:\n",
        "  print(\"짝수가 아닙니다.\")"
      ],
      "metadata": {
        "colab": {
          "base_uri": "https://localhost:8080/"
        },
        "id": "UqgskkN3O5E4",
        "outputId": "d1f8030e-3d58-4ae3-9b95-3cd08cf2452b"
      },
      "execution_count": null,
      "outputs": [
        {
          "output_type": "stream",
          "name": "stdout",
          "text": [
            "50\n",
            "큰수입니다.\n"
          ]
        }
      ]
    },
    {
      "cell_type": "markdown",
      "source": [
        "다음 요구사항에 맞는 중첩 if문을 작성하시오.\n",
        "- age가 10 미만이면 ‘kid’ 출력\n",
        "- age가 10이상 20 미만이면 ‘student’ 출력\n",
        "- age가 20이상이면 ‘adult’ 출력"
      ],
      "metadata": {
        "id": "UlI_u_0YYyOT"
      }
    },
    {
      "cell_type": "code",
      "source": [
        "age = input()\n",
        "age = int(age)\n",
        "if age >= 20:\n",
        "    print(\"adult\")\n",
        "else:\n",
        "  if age < 10:\n",
        "    print(\"kid\")\n",
        "  else :\n",
        "    print(\"student\")"
      ],
      "metadata": {
        "colab": {
          "base_uri": "https://localhost:8080/"
        },
        "id": "rUYQa8u0PuHZ",
        "outputId": "a4e549e5-389b-464a-c45d-e64be5a88a23"
      },
      "execution_count": null,
      "outputs": [
        {
          "output_type": "stream",
          "name": "stdout",
          "text": [
            "18\n",
            "student\n"
          ]
        }
      ]
    },
    {
      "cell_type": "code",
      "source": [
        "import random\n",
        "age = random.randint(0,30)\n",
        "print(age)\n",
        "\n",
        "if age < 20:\n",
        "    if age < 10:\n",
        "        print(\"kid\")\n",
        "    else:\n",
        "        print(\"student\")\n",
        "else:\n",
        "    print(\"adult\")"
      ],
      "metadata": {
        "colab": {
          "base_uri": "https://localhost:8080/"
        },
        "id": "M-x-Nu5SS_3H",
        "outputId": "004d0ebd-10e1-46ee-8fe7-828d501d56aa"
      },
      "execution_count": null,
      "outputs": [
        {
          "output_type": "stream",
          "name": "stdout",
          "text": [
            "29\n",
            "adult\n"
          ]
        }
      ]
    },
    {
      "cell_type": "markdown",
      "source": [
        "elif문"
      ],
      "metadata": {
        "id": "QM5NMR5VYMcU"
      }
    },
    {
      "cell_type": "markdown",
      "source": [
        "다음 요구사항에 맞는 elif문을 작성하시오.\n",
        "- age가 10 미만이면 ‘kid’ 출력\n",
        "- age가 10이상 20 미만이면 ‘student’ 출력\n",
        "- age가 20이상이면 ‘adult’ 출력"
      ],
      "metadata": {
        "id": "uRadcNygY3M4"
      }
    },
    {
      "cell_type": "code",
      "source": [
        "import random\n",
        "age = random.randint(0,30)\n",
        "print(age)\n",
        "\n",
        "if age < 10:\n",
        "  print(\"kid\")\n",
        "elif age <20:\n",
        "  print(\"student\")\n",
        "else:\n",
        "  print(\"adult\")"
      ],
      "metadata": {
        "colab": {
          "base_uri": "https://localhost:8080/"
        },
        "id": "tPez3DyUV_Su",
        "outputId": "19991c42-d471-4c3d-f1b4-9f33cb16e51c"
      },
      "execution_count": null,
      "outputs": [
        {
          "output_type": "stream",
          "name": "stdout",
          "text": [
            "22\n",
            "adult\n"
          ]
        }
      ]
    },
    {
      "cell_type": "markdown",
      "source": [
        "다음 조건에 맞는 elif문을 작성하시오.\n",
        "- leg가 0이면 “뱀이다~!”를 출력\n",
        "- leg가 2이면 “사람이네~!” 출력\n",
        "- leg가 4이면 “말인가봐~!” 출력\n",
        "- leg가 8이면 “문어구만~!” 출력"
      ],
      "metadata": {
        "id": "isn7_fznY7fZ"
      }
    },
    {
      "cell_type": "code",
      "source": [
        "import random\n",
        "leg = random.choice([0,2,4,8])\n",
        "print(leg)\n",
        "\n",
        "if leg == 8:\n",
        "  print(\"문어구만~!\")\n",
        "elif leg == 4:\n",
        "  print(\"말인가봐~!\")\n",
        "elif leg == 2:\n",
        "  print(\"사람이네~!\")\n",
        "else :\n",
        "  print(\"뱀이다~!\")"
      ],
      "metadata": {
        "colab": {
          "base_uri": "https://localhost:8080/"
        },
        "id": "8ra067uFYZfb",
        "outputId": "df50f4ad-a403-41fd-9853-09227b1e6bba"
      },
      "execution_count": null,
      "outputs": [
        {
          "output_type": "stream",
          "name": "stdout",
          "text": [
            "8\n",
            "문어구만~!\n"
          ]
        }
      ]
    },
    {
      "cell_type": "markdown",
      "source": [
        "반복문 for문"
      ],
      "metadata": {
        "id": "55fF6s4_elX5"
      }
    },
    {
      "cell_type": "code",
      "source": [
        "li = [0,1,2,3,4,5,6,7,8,9]\n",
        "\n",
        "for i in li:\n",
        "  print(f'이름_0{i}')"
      ],
      "metadata": {
        "colab": {
          "base_uri": "https://localhost:8080/"
        },
        "id": "PZ5TFQTaZaA7",
        "outputId": "77929332-2f22-4d6b-ae33-b9e4e0912c0f"
      },
      "execution_count": null,
      "outputs": [
        {
          "output_type": "stream",
          "name": "stdout",
          "text": [
            "이름_00\n",
            "이름_01\n",
            "이름_02\n",
            "이름_03\n",
            "이름_04\n",
            "이름_05\n",
            "이름_06\n",
            "이름_07\n",
            "이름_08\n",
            "이름_09\n"
          ]
        }
      ]
    },
    {
      "cell_type": "code",
      "source": [
        "\"*\" * 2"
      ],
      "metadata": {
        "colab": {
          "base_uri": "https://localhost:8080/",
          "height": 35
        },
        "id": "9bAyvWR8e5ZG",
        "outputId": "03261ffc-6028-425b-cc57-a8eb1a678de7"
      },
      "execution_count": null,
      "outputs": [
        {
          "output_type": "execute_result",
          "data": {
            "text/plain": [
              "'**'"
            ],
            "application/vnd.google.colaboratory.intrinsic+json": {
              "type": "string"
            }
          },
          "metadata": {},
          "execution_count": 53
        }
      ]
    },
    {
      "cell_type": "code",
      "source": [
        "star = [1,2,3,4,5]\n",
        "\n",
        "for st in star:\n",
        "  print(\"*\"*st)"
      ],
      "metadata": {
        "colab": {
          "base_uri": "https://localhost:8080/"
        },
        "id": "94ho6rprgj5k",
        "outputId": "54dfb555-7671-4317-931d-ccb7b5c9cfff"
      },
      "execution_count": null,
      "outputs": [
        {
          "output_type": "stream",
          "name": "stdout",
          "text": [
            "*\n",
            "**\n",
            "***\n",
            "****\n",
            "*****\n"
          ]
        }
      ]
    },
    {
      "cell_type": "code",
      "source": [
        "for i in range(1,6):\n",
        "  print(\"*\"*i)"
      ],
      "metadata": {
        "colab": {
          "base_uri": "https://localhost:8080/"
        },
        "id": "nuZk_2sTfJsn",
        "outputId": "35012bcb-6966-4b80-c6a1-f6479f411472"
      },
      "execution_count": null,
      "outputs": [
        {
          "output_type": "stream",
          "name": "stdout",
          "text": [
            "*\n",
            "**\n",
            "***\n",
            "****\n",
            "*****\n"
          ]
        }
      ]
    },
    {
      "cell_type": "code",
      "source": [
        "for i in range(1,10,2):\n",
        "  print(\"*\"*i)"
      ],
      "metadata": {
        "colab": {
          "base_uri": "https://localhost:8080/"
        },
        "id": "86-wZo1rfhwQ",
        "outputId": "c250185f-039f-47e1-f629-e6ff98279db5"
      },
      "execution_count": null,
      "outputs": [
        {
          "output_type": "stream",
          "name": "stdout",
          "text": [
            "*\n",
            "***\n",
            "*****\n",
            "*******\n",
            "*********\n"
          ]
        }
      ]
    },
    {
      "cell_type": "code",
      "source": [
        "for i in range(10,0,-1):\n",
        "  print(\"*\"*i)"
      ],
      "metadata": {
        "colab": {
          "base_uri": "https://localhost:8080/"
        },
        "id": "T2BR8rszhQZ5",
        "outputId": "c25c7143-a9f6-4657-cafc-1e4aa2a98be3"
      },
      "execution_count": null,
      "outputs": [
        {
          "output_type": "stream",
          "name": "stdout",
          "text": [
            "**********\n",
            "*********\n",
            "********\n",
            "*******\n",
            "******\n",
            "*****\n",
            "****\n",
            "***\n",
            "**\n",
            "*\n"
          ]
        }
      ]
    },
    {
      "cell_type": "markdown",
      "source": [
        "중첩 for문"
      ],
      "metadata": {
        "id": "L1mDoCsJiEYT"
      }
    },
    {
      "cell_type": "code",
      "source": [
        "#중첩 반복문을 사용해서 구구단을 만들어봅시다.\n",
        "\n",
        "for i in range(2, 10):\n",
        "  print(f\"구구단 {i}단\")\n",
        "  for j in range(1, 10):\n",
        "    print(f'{i}*{j}', i*j)\n",
        "  print('-----------')"
      ],
      "metadata": {
        "colab": {
          "base_uri": "https://localhost:8080/"
        },
        "id": "Z7bYR6vwhX6p",
        "outputId": "afb9f84a-7397-48b6-aef9-74773c11532b"
      },
      "execution_count": null,
      "outputs": [
        {
          "output_type": "stream",
          "name": "stdout",
          "text": [
            "구구단 2단\n",
            "2*1 2\n",
            "2*2 4\n",
            "2*3 6\n",
            "2*4 8\n",
            "2*5 10\n",
            "2*6 12\n",
            "2*7 14\n",
            "2*8 16\n",
            "2*9 18\n",
            "-----------\n",
            "구구단 3단\n",
            "3*1 3\n",
            "3*2 6\n",
            "3*3 9\n",
            "3*4 12\n",
            "3*5 15\n",
            "3*6 18\n",
            "3*7 21\n",
            "3*8 24\n",
            "3*9 27\n",
            "-----------\n",
            "구구단 4단\n",
            "4*1 4\n",
            "4*2 8\n",
            "4*3 12\n",
            "4*4 16\n",
            "4*5 20\n",
            "4*6 24\n",
            "4*7 28\n",
            "4*8 32\n",
            "4*9 36\n",
            "-----------\n",
            "구구단 5단\n",
            "5*1 5\n",
            "5*2 10\n",
            "5*3 15\n",
            "5*4 20\n",
            "5*5 25\n",
            "5*6 30\n",
            "5*7 35\n",
            "5*8 40\n",
            "5*9 45\n",
            "-----------\n",
            "구구단 6단\n",
            "6*1 6\n",
            "6*2 12\n",
            "6*3 18\n",
            "6*4 24\n",
            "6*5 30\n",
            "6*6 36\n",
            "6*7 42\n",
            "6*8 48\n",
            "6*9 54\n",
            "-----------\n",
            "구구단 7단\n",
            "7*1 7\n",
            "7*2 14\n",
            "7*3 21\n",
            "7*4 28\n",
            "7*5 35\n",
            "7*6 42\n",
            "7*7 49\n",
            "7*8 56\n",
            "7*9 63\n",
            "-----------\n",
            "구구단 8단\n",
            "8*1 8\n",
            "8*2 16\n",
            "8*3 24\n",
            "8*4 32\n",
            "8*5 40\n",
            "8*6 48\n",
            "8*7 56\n",
            "8*8 64\n",
            "8*9 72\n",
            "-----------\n",
            "구구단 9단\n",
            "9*1 9\n",
            "9*2 18\n",
            "9*3 27\n",
            "9*4 36\n",
            "9*5 45\n",
            "9*6 54\n",
            "9*7 63\n",
            "9*8 72\n",
            "9*9 81\n",
            "-----------\n"
          ]
        }
      ]
    },
    {
      "cell_type": "markdown",
      "source": [
        "포멧팅 방법"
      ],
      "metadata": {
        "id": "M94Fd5e1o7dV"
      }
    },
    {
      "cell_type": "code",
      "source": [
        "a = 10\n",
        "print(f'{a} 출력')"
      ],
      "metadata": {
        "colab": {
          "base_uri": "https://localhost:8080/"
        },
        "id": "dA54D8jNlBwZ",
        "outputId": "dd0d3139-d7c2-4c74-fc3a-c9c3906cc517"
      },
      "execution_count": null,
      "outputs": [
        {
          "output_type": "stream",
          "name": "stdout",
          "text": [
            "10 출력\n"
          ]
        }
      ]
    },
    {
      "cell_type": "code",
      "source": [
        "print(a, '출'+' '+'력')"
      ],
      "metadata": {
        "colab": {
          "base_uri": "https://localhost:8080/"
        },
        "id": "C7ov1pMroJAC",
        "outputId": "24b4b28c-8afc-4df7-ac3f-d97b79a7755f"
      },
      "execution_count": null,
      "outputs": [
        {
          "output_type": "stream",
          "name": "stdout",
          "text": [
            "10 출 력\n"
          ]
        }
      ]
    },
    {
      "cell_type": "code",
      "source": [
        "li = [3,2,5,1,5,7,5,7,5]\n",
        "\n",
        "len(li)"
      ],
      "metadata": {
        "colab": {
          "base_uri": "https://localhost:8080/"
        },
        "id": "jPD0PpgKpDTK",
        "outputId": "2136224d-c1cd-4dae-afbb-32a0a08aa555"
      },
      "execution_count": null,
      "outputs": [
        {
          "output_type": "execute_result",
          "data": {
            "text/plain": [
              "9"
            ]
          },
          "metadata": {},
          "execution_count": 70
        }
      ]
    },
    {
      "cell_type": "code",
      "source": [
        "for i in range(len(li)):\n",
        "  print(i)"
      ],
      "metadata": {
        "colab": {
          "base_uri": "https://localhost:8080/"
        },
        "id": "8D1iJmizpj5Q",
        "outputId": "da8f347c-db08-4324-f4e9-9c82f0bbeb18"
      },
      "execution_count": null,
      "outputs": [
        {
          "output_type": "stream",
          "name": "stdout",
          "text": [
            "0\n",
            "1\n",
            "2\n",
            "3\n",
            "4\n",
            "5\n",
            "6\n",
            "7\n",
            "8\n"
          ]
        }
      ]
    },
    {
      "cell_type": "markdown",
      "source": [
        "# $$모르는 것  apt = [[101, 102], [201, 202], [301, 302]]를\n",
        "101호\n",
        "102호\n",
        "201호\n",
        "202호\n",
        "301호\n",
        "302호 로 나오게끔 해보시오."
      ],
      "metadata": {
        "id": "zNHY0Vt_pyv-"
      }
    },
    {
      "cell_type": "code",
      "source": [
        "apt = [[101, 102], [201, 202], [301, 302]]\n",
        "\n",
        "for i in apt:\n",
        "  for j in i:\n",
        "    print(j,\"호\")"
      ],
      "metadata": {
        "colab": {
          "base_uri": "https://localhost:8080/"
        },
        "id": "kxIfAgMGpmz4",
        "outputId": "92606a57-2652-4982-cd72-7520777748c7"
      },
      "execution_count": null,
      "outputs": [
        {
          "output_type": "stream",
          "name": "stdout",
          "text": [
            "101 호\n",
            "102 호\n",
            "201 호\n",
            "202 호\n",
            "301 호\n",
            "302 호\n"
          ]
        }
      ]
    },
    {
      "cell_type": "code",
      "source": [],
      "metadata": {
        "id": "RhA-YkamqWTa"
      },
      "execution_count": null,
      "outputs": []
    }
  ]
}