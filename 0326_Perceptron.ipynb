{
  "nbformat": 4,
  "nbformat_minor": 0,
  "metadata": {
    "colab": {
      "provenance": [],
      "authorship_tag": "ABX9TyO8q0x89gl2+wl+FTdj0srM",
      "include_colab_link": true
    },
    "kernelspec": {
      "name": "python3",
      "display_name": "Python 3"
    },
    "language_info": {
      "name": "python"
    }
  },
  "cells": [
    {
      "cell_type": "markdown",
      "metadata": {
        "id": "view-in-github",
        "colab_type": "text"
      },
      "source": [
        "<a href=\"https://colab.research.google.com/github/Eleemon98/Colaboratory/blob/main/0326_Perceptron.ipynb\" target=\"_parent\"><img src=\"https://colab.research.google.com/assets/colab-badge.svg\" alt=\"Open In Colab\"/></a>"
      ]
    },
    {
      "cell_type": "markdown",
      "source": [
        "AND 게이트"
      ],
      "metadata": {
        "id": "W7irzgmexzsn"
      }
    },
    {
      "cell_type": "code",
      "execution_count": 16,
      "metadata": {
        "id": "GEStwbiqbnbg"
      },
      "outputs": [],
      "source": [
        "def AND(a, b):\n",
        "  x1, x2 = (a, b)\n",
        "  w1, w2 = (-1, -0.5)\n",
        "  bias = 4\n",
        "  y = (w1 * x1) + (w2 * x2) + bias\n",
        "  if y >= 3:\n",
        "    return 0\n",
        "  else:\n",
        "    return 1"
      ]
    },
    {
      "cell_type": "markdown",
      "source": [
        "지금부터 학습 시작!\n",
        "입력값은 0 또는 1"
      ],
      "metadata": {
        "id": "pIVfRNIyzJ6X"
      }
    },
    {
      "cell_type": "code",
      "source": [
        "print('0,0 :', AND(0,0)) # 0\n",
        "print('0,1 :', AND(0,1)) # 0\n",
        "print('1,0 :', AND(1,0)) # 0\n",
        "print('1,1 :', AND(1,1)) # 1"
      ],
      "metadata": {
        "colab": {
          "base_uri": "https://localhost:8080/"
        },
        "id": "dqeEoZS8zHEz",
        "outputId": "d65fbb93-7e1b-4189-c1cf-42e0d12afea9"
      },
      "execution_count": 17,
      "outputs": [
        {
          "output_type": "stream",
          "name": "stdout",
          "text": [
            "0,0 : 0\n",
            "0,1 : 0\n",
            "1,0 : 0\n",
            "1,1 : 1\n"
          ]
        }
      ]
    },
    {
      "cell_type": "markdown",
      "source": [
        "OR 게이트"
      ],
      "metadata": {
        "id": "l9OkE15p2NpI"
      }
    },
    {
      "cell_type": "code",
      "source": [
        "def OR(a, b):\n",
        "  x1, x2 = (a, b)\n",
        "  w1, w2 = (1.5, 1.5)\n",
        "  bias = -1\n",
        "  y = (w1 * x1) + (w2 * x2) + bias\n",
        "  if y <= 0:\n",
        "    return 0\n",
        "  else:\n",
        "    return 1"
      ],
      "metadata": {
        "id": "7Bw08-Ukz6Ag"
      },
      "execution_count": 26,
      "outputs": []
    },
    {
      "cell_type": "code",
      "source": [
        "print('0,0 :', OR(0,0)) # 0\n",
        "print('0,1 :', OR(0,1)) # 1\n",
        "print('1,0 :', OR(1,0)) # 1\n",
        "print('1,1 :', OR(1,1)) # 1"
      ],
      "metadata": {
        "colab": {
          "base_uri": "https://localhost:8080/"
        },
        "id": "Agpro8nS2iTv",
        "outputId": "301d1ba0-846f-4f9d-e9e5-55e41981c7cf"
      },
      "execution_count": 27,
      "outputs": [
        {
          "output_type": "stream",
          "name": "stdout",
          "text": [
            "0,0 : 0\n",
            "0,1 : 1\n",
            "1,0 : 1\n",
            "1,1 : 1\n"
          ]
        }
      ]
    },
    {
      "cell_type": "markdown",
      "source": [
        "NAND 게이트"
      ],
      "metadata": {
        "id": "CJHVsBSl3jjH"
      }
    },
    {
      "cell_type": "code",
      "source": [
        "def NAND(a, b):\n",
        "  x1, x2 = (a, b)\n",
        "  w1, w2 = (-0.7, -0.7)\n",
        "  bias = 1\n",
        "  y = (w1 * x1) + (w2 * x2) + bias\n",
        "  if y <= 0:\n",
        "    return 0\n",
        "  else:\n",
        "    return 1"
      ],
      "metadata": {
        "id": "_8MkLCmB2y0r"
      },
      "execution_count": 35,
      "outputs": []
    },
    {
      "cell_type": "code",
      "source": [
        "print('0,0 :', NAND(0,0)) # 1\n",
        "print('0,1 :', NAND(0,1)) # 1\n",
        "print('1,0 :', NAND(1,0)) # 1\n",
        "print('1,1 :', NAND(1,1)) # 0"
      ],
      "metadata": {
        "colab": {
          "base_uri": "https://localhost:8080/"
        },
        "id": "T0JM1A5b354o",
        "outputId": "90b0a5ec-0b8a-4b5d-ba87-773babfd9f0a"
      },
      "execution_count": 36,
      "outputs": [
        {
          "output_type": "stream",
          "name": "stdout",
          "text": [
            "0,0 : 1\n",
            "0,1 : 1\n",
            "1,0 : 1\n",
            "1,1 : 0\n"
          ]
        }
      ]
    },
    {
      "cell_type": "markdown",
      "source": [
        "XOR 게이트(다층 Perceptron)"
      ],
      "metadata": {
        "id": "_uiZdoPx4ygY"
      }
    },
    {
      "cell_type": "code",
      "source": [
        "def XOR(a, b):\n",
        "  x1 = NAND(a, b)\n",
        "  x2 = OR(a, b)\n",
        "  y = AND(x1, x2)\n",
        "  return y"
      ],
      "metadata": {
        "id": "ZNTDiLLf4Bp_"
      },
      "execution_count": 37,
      "outputs": []
    },
    {
      "cell_type": "code",
      "source": [
        "print('0,0 :', XOR(0,0)) # 0\n",
        "print('0,1 :', XOR(0,1)) # 1\n",
        "print('1,0 :', XOR(1,0)) # 1\n",
        "print('1,1 :', XOR(1,1)) # 0"
      ],
      "metadata": {
        "colab": {
          "base_uri": "https://localhost:8080/"
        },
        "id": "AINzpodxUZcN",
        "outputId": "cc81d4ad-a554-4d4c-a55b-55b1d01fecac"
      },
      "execution_count": 38,
      "outputs": [
        {
          "output_type": "stream",
          "name": "stdout",
          "text": [
            "0,0 : 0\n",
            "0,1 : 1\n",
            "1,0 : 1\n",
            "1,1 : 0\n"
          ]
        }
      ]
    },
    {
      "cell_type": "markdown",
      "source": [
        "Sigmoid 함수 만들기"
      ],
      "metadata": {
        "id": "MpNVhmPLqEaa"
      }
    },
    {
      "cell_type": "code",
      "source": [
        "import numpy as np\n",
        "import matplotlib.pyplot as plt\n",
        "\n",
        "x = np.linspace(-10, 10, 100) # -10~10 사이를 100등분하는 것\n",
        "y = 1/(1 + np.exp(-x)) # exp는 자연상수를 얘기함\n",
        "\n",
        "plt.plot(x, y, 'or')\n",
        "plt.show()"
      ],
      "metadata": {
        "colab": {
          "base_uri": "https://localhost:8080/",
          "height": 430
        },
        "id": "4igAXsexUe38",
        "outputId": "9f2843e2-d665-43e2-be74-2f9f504da69c"
      },
      "execution_count": 49,
      "outputs": [
        {
          "output_type": "display_data",
          "data": {
            "text/plain": [
              "<Figure size 640x480 with 1 Axes>"
            ],
            "image/png": "[encoded data removed]"
          },
          "metadata": {}
        }
      ]
    },
    {
      "cell_type": "code",
      "source": [
        "y[50]"
      ],
      "metadata": {
        "colab": {
          "base_uri": "https://localhost:8080/"
        },
        "id": "eBpiHDMUrlyS",
        "outputId": "905bc08d-fc60-4738-fd86-e0a9f691fb3e"
      },
      "execution_count": 54,
      "outputs": [
        {
          "output_type": "execute_result",
          "data": {
            "text/plain": [
              "0.5252310760920885"
            ]
          },
          "metadata": {},
          "execution_count": 54
        }
      ]
    },
    {
      "cell_type": "markdown",
      "source": [
        "TanH 함수 만들기"
      ],
      "metadata": {
        "id": "4dW1U8dnuNCM"
      }
    },
    {
      "cell_type": "code",
      "source": [
        "x = np.linspace(-10, 10, 100)\n",
        "y = np.tanh(x)\n",
        "\n",
        "plt.plot(x, y, 'or')\n",
        "plt.show()"
      ],
      "metadata": {
        "colab": {
          "base_uri": "https://localhost:8080/",
          "height": 430
        },
        "id": "Bkh_LABtrmT4",
        "outputId": "73bbc770-28c8-49bc-b05b-3c88ad59869f"
      },
      "execution_count": 55,
      "outputs": [
        {
          "output_type": "display_data",
          "data": {
            "text/plain": [
              "<Figure size 640x480 with 1 Axes>"
            ],
            "image/png": "[encoded data removed]"
          },
          "metadata": {}
        }
      ]
    },
    {
      "cell_type": "markdown",
      "source": [
        "ReLu 함수 만들기"
      ],
      "metadata": {
        "id": "2XaRJgYgu-wL"
      }
    },
    {
      "cell_type": "code",
      "source": [
        "def ReLu(x):\n",
        "  arr = []\n",
        "  for a in x:\n",
        "    if a > 0 :\n",
        "      arr.append(a)\n",
        "    else:\n",
        "      arr.append(0)\n",
        "  return np.array(arr)\n",
        "\n",
        "x = np.linspace(-10, 10, 100)\n",
        "y = ReLu(x)\n",
        "\n",
        "plt.plot(x, y, 'or')\n",
        "plt.show()"
      ],
      "metadata": {
        "colab": {
          "base_uri": "https://localhost:8080/",
          "height": 430
        },
        "id": "KD5r_xe-ugnR",
        "outputId": "29637b59-98b3-46b2-9c49-8a09b7d1ca54"
      },
      "execution_count": 59,
      "outputs": [
        {
          "output_type": "display_data",
          "data": {
            "text/plain": [
              "<Figure size 640x480 with 1 Axes>"
            ],
            "image/png": "[encoded data removed]"
          },
          "metadata": {}
        }
      ]
    },
    {
      "cell_type": "markdown",
      "source": [
        "Leaky ReLu 함수 만들기"
      ],
      "metadata": {
        "id": "lLTZOaUlyZQi"
      }
    },
    {
      "cell_type": "code",
      "source": [
        "def Leaky(x):\n",
        "  arr = []\n",
        "  for a in x:\n",
        "    if a > 0 :\n",
        "      arr.append(a)\n",
        "    else:\n",
        "      arr.append(a * 0.1)\n",
        "  return np.array(arr)\n",
        "\n",
        "x = np.linspace(-10, 10, 100)\n",
        "y = Leaky(x)\n",
        "\n",
        "plt.plot(x, y, 'or')\n",
        "plt.show()"
      ],
      "metadata": {
        "colab": {
          "base_uri": "https://localhost:8080/",
          "height": 430
        },
        "id": "EeheeXElwIZR",
        "outputId": "9033978e-b341-438d-8264-31eb68c2858b"
      },
      "execution_count": 76,
      "outputs": [
        {
          "output_type": "display_data",
          "data": {
            "text/plain": [
              "<Figure size 640x480 with 1 Axes>"
            ],
            "image/png": "[encoded data removed]"
          },
          "metadata": {}
        }
      ]
    },
    {
      "cell_type": "markdown",
      "source": [
        "softmax 함수 만들기\n",
        "##### y는 각각의 확률을 얘기하는 것이라서 y를 다 더하면 1이 나온다\n",
        "##### 클래스에 대한 확률값을 알고 싶을 때 사용"
      ],
      "metadata": {
        "id": "0n1zUsxI0PHb"
      }
    },
    {
      "cell_type": "code",
      "source": [
        "x = np.linspace(3, 7, 3)\n",
        "y = np.exp(x) / np.sum(np.exp(x))\n",
        "\n",
        "np.where(y.max() == y)"
      ],
      "metadata": {
        "colab": {
          "base_uri": "https://localhost:8080/"
        },
        "id": "Ysja-sbHyzTh",
        "outputId": "3a675ccf-0f80-4e1c-b262-daf9004b8719"
      },
      "execution_count": 82,
      "outputs": [
        {
          "output_type": "execute_result",
          "data": {
            "text/plain": [
              "(array([2]),)"
            ]
          },
          "metadata": {},
          "execution_count": 82
        }
      ]
    },
    {
      "cell_type": "code",
      "source": [
        "sum(y)"
      ],
      "metadata": {
        "colab": {
          "base_uri": "https://localhost:8080/"
        },
        "id": "iplZferB0kvl",
        "outputId": "45c46f9f-7b93-4621-c100-9dcad704d3d0"
      },
      "execution_count": 80,
      "outputs": [
        {
          "output_type": "execute_result",
          "data": {
            "text/plain": [
              "1.0"
            ]
          },
          "metadata": {},
          "execution_count": 80
        }
      ]
    },
    {
      "cell_type": "code",
      "source": [],
      "metadata": {
        "id": "HZvyqvEi0rGT"
      },
      "execution_count": null,
      "outputs": []
    }
  ]
}