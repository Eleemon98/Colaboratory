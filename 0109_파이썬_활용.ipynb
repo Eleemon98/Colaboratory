{
  "nbformat": 4,
  "nbformat_minor": 0,
  "metadata": {
    "colab": {
      "provenance": [],
      "authorship_tag": "ABX9TyOA2vvhtZ2I4N7JrLggMjp5",
      "include_colab_link": true
    },
    "kernelspec": {
      "name": "python3",
      "display_name": "Python 3"
    },
    "language_info": {
      "name": "python"
    }
  },
  "cells": [
    {
      "cell_type": "markdown",
      "metadata": {
        "id": "view-in-github",
        "colab_type": "text"
      },
      "source": [
        "<a href=\"https://colab.research.google.com/github/Eleemon98/Colaboratory/blob/main/0109_%ED%8C%8C%EC%9D%B4%EC%8D%AC_%ED%99%9C%EC%9A%A9.ipynb\" target=\"_parent\"><img src=\"https://colab.research.google.com/assets/colab-badge.svg\" alt=\"Open In Colab\"/></a>"
      ]
    },
    {
      "cell_type": "markdown",
      "source": [
        "조건부 표현식"
      ],
      "metadata": {
        "id": "X8deBrpyqNnH"
      }
    },
    {
      "cell_type": "code",
      "execution_count": null,
      "metadata": {
        "colab": {
          "base_uri": "https://localhost:8080/"
        },
        "id": "KBlY20npkHeq",
        "outputId": "6aa57341-c06d-45ff-bf4e-a05ca4b4684f"
      },
      "outputs": [
        {
          "output_type": "stream",
          "name": "stdout",
          "text": [
            "FAIL\n"
          ]
        }
      ],
      "source": [
        "score = 40\n",
        "if score >= 60:\n",
        "  print('PASS')\n",
        "else:\n",
        "  print(\"FAIL\")"
      ]
    },
    {
      "cell_type": "code",
      "source": [
        "score = 40\n",
        "result = 'PASS' if score >= 60 else 'FAIL'"
      ],
      "metadata": {
        "id": "V_hBlaVcqmHj"
      },
      "execution_count": null,
      "outputs": []
    },
    {
      "cell_type": "code",
      "source": [
        "result"
      ],
      "metadata": {
        "colab": {
          "base_uri": "https://localhost:8080/",
          "height": 35
        },
        "id": "GLEcqNaNq6B_",
        "outputId": "da2cac12-896c-45bd-b08a-2a40f515a5c8"
      },
      "execution_count": null,
      "outputs": [
        {
          "output_type": "execute_result",
          "data": {
            "text/plain": [
              "'FAIL'"
            ],
            "application/vnd.google.colaboratory.intrinsic+json": {
              "type": "string"
            }
          },
          "metadata": {},
          "execution_count": 3
        }
      ]
    },
    {
      "cell_type": "code",
      "source": [
        "score = 70\n",
        "result = 'PASS' if score >= 60 else 'FAIL'"
      ],
      "metadata": {
        "id": "52FCJUkRq7F-"
      },
      "execution_count": null,
      "outputs": []
    },
    {
      "cell_type": "code",
      "source": [
        "result"
      ],
      "metadata": {
        "colab": {
          "base_uri": "https://localhost:8080/",
          "height": 35
        },
        "id": "Hp9Tlcavq_8G",
        "outputId": "ebd04762-5675-4118-e2f2-a3dc27bc32f0"
      },
      "execution_count": null,
      "outputs": [
        {
          "output_type": "execute_result",
          "data": {
            "text/plain": [
              "'PASS'"
            ],
            "application/vnd.google.colaboratory.intrinsic+json": {
              "type": "string"
            }
          },
          "metadata": {},
          "execution_count": 6
        }
      ]
    },
    {
      "cell_type": "markdown",
      "source": [
        "리스트 컴프리헨션"
      ],
      "metadata": {
        "id": "W7VhFLftsDsP"
      }
    },
    {
      "cell_type": "code",
      "source": [
        "numbers = [1,2,3,4,5,6,7,8,9,10]\n",
        "squared_numbers = []\n",
        "for number in numbers:\n",
        "  squared_numbers.append(number ** 2)"
      ],
      "metadata": {
        "id": "ZPzFNzxKrJU2"
      },
      "execution_count": null,
      "outputs": []
    },
    {
      "cell_type": "code",
      "source": [
        "squared_numbers"
      ],
      "metadata": {
        "colab": {
          "base_uri": "https://localhost:8080/"
        },
        "id": "TTgBE3T-sSnG",
        "outputId": "938e7b73-8eec-4a89-dc54-35c3de6da771"
      },
      "execution_count": null,
      "outputs": [
        {
          "output_type": "execute_result",
          "data": {
            "text/plain": [
              "[1, 4, 9, 16, 25, 36, 49, 64, 81, 100]"
            ]
          },
          "metadata": {},
          "execution_count": 8
        }
      ]
    },
    {
      "cell_type": "code",
      "source": [
        "[n**2 for n in range(1,11)]"
      ],
      "metadata": {
        "colab": {
          "base_uri": "https://localhost:8080/"
        },
        "id": "BKUM4hNFsUvV",
        "outputId": "c22294e2-ba1b-427c-9f89-418b9369990c"
      },
      "execution_count": null,
      "outputs": [
        {
          "output_type": "execute_result",
          "data": {
            "text/plain": [
              "[1, 4, 9, 16, 25, 36, 49, 64, 81, 100]"
            ]
          },
          "metadata": {},
          "execution_count": 9
        }
      ]
    },
    {
      "cell_type": "code",
      "source": [
        "sq_num = [n**2 for n in range(1,11)]"
      ],
      "metadata": {
        "id": "uLl6w781sbJl"
      },
      "execution_count": null,
      "outputs": []
    },
    {
      "cell_type": "code",
      "source": [
        "sq_num"
      ],
      "metadata": {
        "colab": {
          "base_uri": "https://localhost:8080/"
        },
        "id": "g4S8DaRNsgjm",
        "outputId": "3940f10c-0f20-4a4f-f169-4c64d0979cb9"
      },
      "execution_count": null,
      "outputs": [
        {
          "output_type": "execute_result",
          "data": {
            "text/plain": [
              "[1, 4, 9, 16, 25, 36, 49, 64, 81, 100]"
            ]
          },
          "metadata": {},
          "execution_count": 11
        }
      ]
    },
    {
      "cell_type": "markdown",
      "source": [
        "리스트 컴프리헨션에서 조건부표현식 사용"
      ],
      "metadata": {
        "id": "SV62fbYLs4JN"
      }
    },
    {
      "cell_type": "code",
      "source": [
        "even_sq = [n**2 for n in range(1,11) if n%2 == 0]"
      ],
      "metadata": {
        "id": "7W1ucdKOsiK-"
      },
      "execution_count": null,
      "outputs": []
    },
    {
      "cell_type": "code",
      "source": [
        "even_sq"
      ],
      "metadata": {
        "colab": {
          "base_uri": "https://localhost:8080/"
        },
        "id": "kotch0hMtFvO",
        "outputId": "5c04dfd9-5179-4772-a8d2-85d68a8ababd"
      },
      "execution_count": null,
      "outputs": [
        {
          "output_type": "execute_result",
          "data": {
            "text/plain": [
              "[4, 16, 36, 64, 100]"
            ]
          },
          "metadata": {},
          "execution_count": 13
        }
      ]
    },
    {
      "cell_type": "code",
      "source": [
        "dic = {}\n",
        "for i in range(2,6):\n",
        "  dic[f'구구단 {i}단'] = [f'{i} X {j} = {i*j}' for j in range(1,10)]"
      ],
      "metadata": {
        "id": "LCvaQDhPtHL9"
      },
      "execution_count": null,
      "outputs": []
    },
    {
      "cell_type": "code",
      "source": [
        "dic"
      ],
      "metadata": {
        "colab": {
          "base_uri": "https://localhost:8080/"
        },
        "id": "_6KiEbM1t1pZ",
        "outputId": "5cb5c675-f061-4ac8-cd26-3697e40fa453"
      },
      "execution_count": null,
      "outputs": [
        {
          "output_type": "execute_result",
          "data": {
            "text/plain": [
              "{'구구단 2단': ['2 X 1 = 2',\n",
              "  '2 X 2 = 4',\n",
              "  '2 X 3 = 6',\n",
              "  '2 X 4 = 8',\n",
              "  '2 X 5 = 10',\n",
              "  '2 X 6 = 12',\n",
              "  '2 X 7 = 14',\n",
              "  '2 X 8 = 16',\n",
              "  '2 X 9 = 18'],\n",
              " '구구단 3단': ['3 X 1 = 3',\n",
              "  '3 X 2 = 6',\n",
              "  '3 X 3 = 9',\n",
              "  '3 X 4 = 12',\n",
              "  '3 X 5 = 15',\n",
              "  '3 X 6 = 18',\n",
              "  '3 X 7 = 21',\n",
              "  '3 X 8 = 24',\n",
              "  '3 X 9 = 27'],\n",
              " '구구단 4단': ['4 X 1 = 4',\n",
              "  '4 X 2 = 8',\n",
              "  '4 X 3 = 12',\n",
              "  '4 X 4 = 16',\n",
              "  '4 X 5 = 20',\n",
              "  '4 X 6 = 24',\n",
              "  '4 X 7 = 28',\n",
              "  '4 X 8 = 32',\n",
              "  '4 X 9 = 36'],\n",
              " '구구단 5단': ['5 X 1 = 5',\n",
              "  '5 X 2 = 10',\n",
              "  '5 X 3 = 15',\n",
              "  '5 X 4 = 20',\n",
              "  '5 X 5 = 25',\n",
              "  '5 X 6 = 30',\n",
              "  '5 X 7 = 35',\n",
              "  '5 X 8 = 40',\n",
              "  '5 X 9 = 45']}"
            ]
          },
          "metadata": {},
          "execution_count": 15
        }
      ]
    },
    {
      "cell_type": "code",
      "source": [
        "dic={}\n",
        "for i in range(2,10):\n",
        "  dic[f'구구단 {i}단'] = [f'{i}x{j}={i*j}' for j in range(1,10)]"
      ],
      "metadata": {
        "id": "5wn9mw_Mt22Y"
      },
      "execution_count": null,
      "outputs": []
    },
    {
      "cell_type": "code",
      "source": [
        "dic"
      ],
      "metadata": {
        "colab": {
          "base_uri": "https://localhost:8080/"
        },
        "id": "XbvQkVo1uTXV",
        "outputId": "fe5c337d-31e2-43f3-d9b1-e591d675c47d"
      },
      "execution_count": null,
      "outputs": [
        {
          "output_type": "execute_result",
          "data": {
            "text/plain": [
              "{'구구단 2단': ['2x1=2',\n",
              "  '2x2=4',\n",
              "  '2x3=6',\n",
              "  '2x4=8',\n",
              "  '2x5=10',\n",
              "  '2x6=12',\n",
              "  '2x7=14',\n",
              "  '2x8=16',\n",
              "  '2x9=18'],\n",
              " '구구단 3단': ['3x1=3',\n",
              "  '3x2=6',\n",
              "  '3x3=9',\n",
              "  '3x4=12',\n",
              "  '3x5=15',\n",
              "  '3x6=18',\n",
              "  '3x7=21',\n",
              "  '3x8=24',\n",
              "  '3x9=27'],\n",
              " '구구단 4단': ['4x1=4',\n",
              "  '4x2=8',\n",
              "  '4x3=12',\n",
              "  '4x4=16',\n",
              "  '4x5=20',\n",
              "  '4x6=24',\n",
              "  '4x7=28',\n",
              "  '4x8=32',\n",
              "  '4x9=36'],\n",
              " '구구단 5단': ['5x1=5',\n",
              "  '5x2=10',\n",
              "  '5x3=15',\n",
              "  '5x4=20',\n",
              "  '5x5=25',\n",
              "  '5x6=30',\n",
              "  '5x7=35',\n",
              "  '5x8=40',\n",
              "  '5x9=45'],\n",
              " '구구단 6단': ['6x1=6',\n",
              "  '6x2=12',\n",
              "  '6x3=18',\n",
              "  '6x4=24',\n",
              "  '6x5=30',\n",
              "  '6x6=36',\n",
              "  '6x7=42',\n",
              "  '6x8=48',\n",
              "  '6x9=54'],\n",
              " '구구단 7단': ['7x1=7',\n",
              "  '7x2=14',\n",
              "  '7x3=21',\n",
              "  '7x4=28',\n",
              "  '7x5=35',\n",
              "  '7x6=42',\n",
              "  '7x7=49',\n",
              "  '7x8=56',\n",
              "  '7x9=63'],\n",
              " '구구단 8단': ['8x1=8',\n",
              "  '8x2=16',\n",
              "  '8x3=24',\n",
              "  '8x4=32',\n",
              "  '8x5=40',\n",
              "  '8x6=48',\n",
              "  '8x7=56',\n",
              "  '8x8=64',\n",
              "  '8x9=72'],\n",
              " '구구단 9단': ['9x1=9',\n",
              "  '9x2=18',\n",
              "  '9x3=27',\n",
              "  '9x4=36',\n",
              "  '9x5=45',\n",
              "  '9x6=54',\n",
              "  '9x7=63',\n",
              "  '9x8=72',\n",
              "  '9x9=81']}"
            ]
          },
          "metadata": {},
          "execution_count": 24
        }
      ]
    },
    {
      "cell_type": "markdown",
      "source": [
        "1~30까지 정수들 중에 4의 배수인 데이터만 제곱해주는 리스트 컴프리헨션"
      ],
      "metadata": {
        "id": "OjywsiUjwitd"
      }
    },
    {
      "cell_type": "code",
      "source": [
        "fx = [i**2 for i in range(1,31) if i % 4 == 0]"
      ],
      "metadata": {
        "id": "05zBvMvouXyU"
      },
      "execution_count": null,
      "outputs": []
    },
    {
      "cell_type": "code",
      "source": [
        "fx"
      ],
      "metadata": {
        "colab": {
          "base_uri": "https://localhost:8080/"
        },
        "id": "XNMxOUq6xfxa",
        "outputId": "19f6c388-c21c-4889-c547-c2bc9e39ebbe"
      },
      "execution_count": null,
      "outputs": [
        {
          "output_type": "execute_result",
          "data": {
            "text/plain": [
              "[16, 64, 144, 256, 400, 576, 784]"
            ]
          },
          "metadata": {},
          "execution_count": 27
        }
      ]
    },
    {
      "cell_type": "code",
      "source": [
        "four = [i**2 for i in range(4,31,4)]"
      ],
      "metadata": {
        "id": "FRMGXXMOxj3x"
      },
      "execution_count": null,
      "outputs": []
    },
    {
      "cell_type": "code",
      "source": [
        "four"
      ],
      "metadata": {
        "colab": {
          "base_uri": "https://localhost:8080/"
        },
        "id": "NeSRw-GExv4D",
        "outputId": "c8e0f70b-aa99-4ea5-8eae-0877833f22a8"
      },
      "execution_count": null,
      "outputs": [
        {
          "output_type": "execute_result",
          "data": {
            "text/plain": [
              "[16, 64, 144, 256, 400, 576, 784]"
            ]
          },
          "metadata": {},
          "execution_count": 29
        }
      ]
    },
    {
      "cell_type": "code",
      "source": [
        "five = [i ** 2 for i in range(5,31,5)]"
      ],
      "metadata": {
        "id": "yrroSG1I0G6z"
      },
      "execution_count": null,
      "outputs": []
    },
    {
      "cell_type": "code",
      "source": [
        "five"
      ],
      "metadata": {
        "colab": {
          "base_uri": "https://localhost:8080/"
        },
        "id": "iWtqhMru0Rz2",
        "outputId": "7ab9591f-79e5-4706-e8e4-0ac4e54c0f88"
      },
      "execution_count": null,
      "outputs": [
        {
          "output_type": "execute_result",
          "data": {
            "text/plain": [
              "[25, 100, 225, 400, 625, 900]"
            ]
          },
          "metadata": {},
          "execution_count": 31
        }
      ]
    },
    {
      "cell_type": "markdown",
      "source": [
        "람다 표현식"
      ],
      "metadata": {
        "id": "Qf9DW17WyI-k"
      }
    },
    {
      "cell_type": "code",
      "source": [
        "# 3개 다 같은 함수\n",
        "def plus_ten(x):\n",
        "  result = x + 10\n",
        "  return result\n",
        "\n",
        "def plus_ten(x):\n",
        "  x += 10\n",
        "  return x\n",
        "\n",
        "def plus_ten(x):\n",
        "  return x + 10"
      ],
      "metadata": {
        "id": "wLrdUHIexwnD"
      },
      "execution_count": null,
      "outputs": []
    },
    {
      "cell_type": "code",
      "source": [
        "lambda x : x+10"
      ],
      "metadata": {
        "colab": {
          "base_uri": "https://localhost:8080/"
        },
        "id": "kYSMapw_3Xly",
        "outputId": "a19100d8-aa33-4dc5-f72a-929c93b075a7"
      },
      "execution_count": null,
      "outputs": [
        {
          "output_type": "execute_result",
          "data": {
            "text/plain": [
              "<function __main__.<lambda>(x)>"
            ]
          },
          "metadata": {},
          "execution_count": 32
        }
      ]
    },
    {
      "cell_type": "code",
      "source": [
        "plus_ten(10)"
      ],
      "metadata": {
        "colab": {
          "base_uri": "https://localhost:8080/"
        },
        "id": "okwRLwEF3iNW",
        "outputId": "350b07a0-476e-4834-c8f8-5a71b96a4643"
      },
      "execution_count": null,
      "outputs": [
        {
          "output_type": "execute_result",
          "data": {
            "text/plain": [
              "20"
            ]
          },
          "metadata": {},
          "execution_count": 34
        }
      ]
    },
    {
      "cell_type": "code",
      "source": [
        "lambda_function = lambda x : x+10"
      ],
      "metadata": {
        "id": "EVw4u6zb3qlS"
      },
      "execution_count": null,
      "outputs": []
    },
    {
      "cell_type": "code",
      "source": [
        "lambda_function(10)"
      ],
      "metadata": {
        "colab": {
          "base_uri": "https://localhost:8080/"
        },
        "id": "p8BaZ3cc3zdi",
        "outputId": "f11dbb6a-d269-4796-90fd-c8b93398d303"
      },
      "execution_count": null,
      "outputs": [
        {
          "output_type": "execute_result",
          "data": {
            "text/plain": [
              "20"
            ]
          },
          "metadata": {},
          "execution_count": 36
        }
      ]
    },
    {
      "cell_type": "code",
      "source": [
        "(lambda x : x+10)(10)"
      ],
      "metadata": {
        "colab": {
          "base_uri": "https://localhost:8080/"
        },
        "id": "4WaP5J4T32Uh",
        "outputId": "9aafe232-2dd8-4ef5-be53-a27e4660199e"
      },
      "execution_count": null,
      "outputs": [
        {
          "output_type": "execute_result",
          "data": {
            "text/plain": [
              "20"
            ]
          },
          "metadata": {},
          "execution_count": 37
        }
      ]
    },
    {
      "cell_type": "code",
      "source": [
        "def double_plus(x):\n",
        "  y = 10\n",
        "  return x + y"
      ],
      "metadata": {
        "id": "ucyGnah_4CmA"
      },
      "execution_count": null,
      "outputs": []
    },
    {
      "cell_type": "code",
      "source": [
        "double_plus(20)"
      ],
      "metadata": {
        "colab": {
          "base_uri": "https://localhost:8080/"
        },
        "id": "ihM9_k0k4oN9",
        "outputId": "75efdd43-3416-47c7-f2de-53b9ed2927c8"
      },
      "execution_count": null,
      "outputs": [
        {
          "output_type": "execute_result",
          "data": {
            "text/plain": [
              "30"
            ]
          },
          "metadata": {},
          "execution_count": 39
        }
      ]
    },
    {
      "cell_type": "code",
      "source": [
        "lambda x : y=10 ; x+y"
      ],
      "metadata": {
        "colab": {
          "base_uri": "https://localhost:8080/",
          "height": 147
        },
        "id": "OZK6cpdp4rZQ",
        "outputId": "01a7c429-3466-4694-ced7-1e54d4f4abdc"
      },
      "execution_count": null,
      "outputs": [
        {
          "output_type": "error",
          "ename": "SyntaxError",
          "evalue": "cannot assign to lambda (<ipython-input-40-337a5c1a048f>, line 1)",
          "traceback": [
            "\u001b[0;36m  File \u001b[0;32m\"<ipython-input-40-337a5c1a048f>\"\u001b[0;36m, line \u001b[0;32m1\u001b[0m\n\u001b[0;31m    lambda x : y=10 ; x+y\u001b[0m\n\u001b[0m    ^\u001b[0m\n\u001b[0;31mSyntaxError\u001b[0m\u001b[0;31m:\u001b[0m cannot assign to lambda\n"
          ]
        }
      ]
    },
    {
      "cell_type": "code",
      "source": [
        "def double(x):\n",
        "\treturn x**2\n",
        "print(list(map(double,[1]))) # map 객체\n",
        "#print(map(double,1))   # error\n",
        "\n",
        "one = list(map(double,[1]))\n",
        "four = list(map(double,[1,2,3,4]))\n",
        "print(one, four)"
      ],
      "metadata": {
        "colab": {
          "base_uri": "https://localhost:8080/"
        },
        "id": "AuQeCFJ74xWB",
        "outputId": "29deac8c-f6df-4039-8a56-ce745f9c3ec5"
      },
      "execution_count": null,
      "outputs": [
        {
          "output_type": "stream",
          "name": "stdout",
          "text": [
            "[1]\n",
            "[1] [1, 4, 9, 16]\n"
          ]
        }
      ]
    },
    {
      "cell_type": "markdown",
      "source": [
        "리스트에 요소가 문자이면 숫자로 변환하고 숫자면 문자로 변환해라"
      ],
      "metadata": {
        "id": "Udm7ZVIP7lZY"
      }
    },
    {
      "cell_type": "code",
      "source": [
        "def int_to_str(x):\n",
        "  if type(x) == type(1):\n",
        "    result = str(x)\n",
        "  else:\n",
        "    result = int(x)\n",
        "  return result"
      ],
      "metadata": {
        "id": "yocEU3dO59Yy"
      },
      "execution_count": null,
      "outputs": []
    },
    {
      "cell_type": "code",
      "source": [
        "int_to_str(1)"
      ],
      "metadata": {
        "colab": {
          "base_uri": "https://localhost:8080/",
          "height": 35
        },
        "id": "YUBGGYjv8JGP",
        "outputId": "19c4e6e9-df4e-4f38-a2aa-b479618b6ed8"
      },
      "execution_count": null,
      "outputs": [
        {
          "output_type": "execute_result",
          "data": {
            "text/plain": [
              "'1'"
            ],
            "application/vnd.google.colaboratory.intrinsic+json": {
              "type": "string"
            }
          },
          "metadata": {},
          "execution_count": 44
        }
      ]
    },
    {
      "cell_type": "code",
      "source": [
        "int_to_str('1')"
      ],
      "metadata": {
        "colab": {
          "base_uri": "https://localhost:8080/"
        },
        "id": "NUBpS45w8M2G",
        "outputId": "5fd66a8d-bc16-4403-d9e0-1135e22a2604"
      },
      "execution_count": null,
      "outputs": [
        {
          "output_type": "execute_result",
          "data": {
            "text/plain": [
              "1"
            ]
          },
          "metadata": {},
          "execution_count": 45
        }
      ]
    },
    {
      "cell_type": "code",
      "source": [
        "x=1\n",
        "result = str(x) if type(x) == type(1) else int(x)"
      ],
      "metadata": {
        "id": "1zEctAXx8P4F"
      },
      "execution_count": null,
      "outputs": []
    },
    {
      "cell_type": "code",
      "source": [
        "result"
      ],
      "metadata": {
        "colab": {
          "base_uri": "https://localhost:8080/",
          "height": 35
        },
        "id": "mBUA5uiD8jCH",
        "outputId": "15384887-8a74-45a8-8c97-7d4d06a855fd"
      },
      "execution_count": null,
      "outputs": [
        {
          "output_type": "execute_result",
          "data": {
            "text/plain": [
              "'1'"
            ],
            "application/vnd.google.colaboratory.intrinsic+json": {
              "type": "string"
            }
          },
          "metadata": {},
          "execution_count": 48
        }
      ]
    },
    {
      "cell_type": "code",
      "source": [
        "ld = lambda x : str(x) if type(x) == type(1) else int(x)"
      ],
      "metadata": {
        "id": "ufto6TSt8rBG"
      },
      "execution_count": null,
      "outputs": []
    },
    {
      "cell_type": "code",
      "source": [
        "ld('5')"
      ],
      "metadata": {
        "colab": {
          "base_uri": "https://localhost:8080/"
        },
        "id": "zR1wm-D79HK1",
        "outputId": "0b5afc68-b4d9-4705-cad0-360aae1a19fc"
      },
      "execution_count": null,
      "outputs": [
        {
          "output_type": "execute_result",
          "data": {
            "text/plain": [
              "5"
            ]
          },
          "metadata": {},
          "execution_count": 57
        }
      ]
    },
    {
      "cell_type": "code",
      "source": [
        "li = ['1',2,'3',4,5,6,'7','8']"
      ],
      "metadata": {
        "id": "pGjb_ne19P2N"
      },
      "execution_count": null,
      "outputs": []
    },
    {
      "cell_type": "code",
      "source": [
        "list(map(ld, li))"
      ],
      "metadata": {
        "colab": {
          "base_uri": "https://localhost:8080/"
        },
        "id": "02kBLeyT-giI",
        "outputId": "5fe061a4-2e72-438b-af61-251840faa4c3"
      },
      "execution_count": null,
      "outputs": [
        {
          "output_type": "execute_result",
          "data": {
            "text/plain": [
              "[1, '2', 3, '4', '5', '6', 7, 8]"
            ]
          },
          "metadata": {},
          "execution_count": 60
        }
      ]
    },
    {
      "cell_type": "markdown",
      "source": [
        "lambda 표현식"
      ],
      "metadata": {
        "id": "b-Z4v2c02zGh"
      }
    },
    {
      "cell_type": "code",
      "source": [
        "l1 = [1,2,3,4,5]\n",
        "map(lambda x : x + 10, l1)"
      ],
      "metadata": {
        "colab": {
          "base_uri": "https://localhost:8080/"
        },
        "id": "RGpf7lwp2NU3",
        "outputId": "357bbe7a-fcf8-452c-fae8-f02614b2fd46"
      },
      "execution_count": null,
      "outputs": [
        {
          "output_type": "execute_result",
          "data": {
            "text/plain": [
              "<map at 0x7c67ed80ca90>"
            ]
          },
          "metadata": {},
          "execution_count": 2
        }
      ]
    },
    {
      "cell_type": "code",
      "source": [
        "list(map(lambda x : x + 10, l1))"
      ],
      "metadata": {
        "colab": {
          "base_uri": "https://localhost:8080/"
        },
        "id": "5DJY4-p62V7T",
        "outputId": "591d0f3e-161d-4e1f-b5d6-95c49a0cac17"
      },
      "execution_count": null,
      "outputs": [
        {
          "output_type": "execute_result",
          "data": {
            "text/plain": [
              "[11, 12, 13, 14, 15]"
            ]
          },
          "metadata": {},
          "execution_count": 3
        }
      ]
    },
    {
      "cell_type": "code",
      "source": [
        "map(lambda x : x ** 2, l1)"
      ],
      "metadata": {
        "colab": {
          "base_uri": "https://localhost:8080/"
        },
        "id": "XVei8Pcj2c-b",
        "outputId": "55e56985-f15e-4990-8df4-a2e62645b927"
      },
      "execution_count": null,
      "outputs": [
        {
          "output_type": "execute_result",
          "data": {
            "text/plain": [
              "<map at 0x7c67ed80f8e0>"
            ]
          },
          "metadata": {},
          "execution_count": 4
        }
      ]
    },
    {
      "cell_type": "code",
      "source": [
        "list(map(lambda x : x ** 2, l1))"
      ],
      "metadata": {
        "colab": {
          "base_uri": "https://localhost:8080/"
        },
        "id": "bsGBtyuL2h-O",
        "outputId": "81a10896-06f4-4fb4-b4eb-521b1c8fb705"
      },
      "execution_count": null,
      "outputs": [
        {
          "output_type": "execute_result",
          "data": {
            "text/plain": [
              "[1, 4, 9, 16, 25]"
            ]
          },
          "metadata": {},
          "execution_count": 5
        }
      ]
    },
    {
      "cell_type": "code",
      "source": [
        "map(lambda x : x % 2, l1)"
      ],
      "metadata": {
        "colab": {
          "base_uri": "https://localhost:8080/"
        },
        "id": "K_WJUluA2l3d",
        "outputId": "f2b340f8-acc5-42f9-95f8-f98a7fd896e0"
      },
      "execution_count": null,
      "outputs": [
        {
          "output_type": "execute_result",
          "data": {
            "text/plain": [
              "<map at 0x7c67bb663c70>"
            ]
          },
          "metadata": {},
          "execution_count": 6
        }
      ]
    },
    {
      "cell_type": "code",
      "source": [
        "list(map(lambda x : x % 2, l1))"
      ],
      "metadata": {
        "colab": {
          "base_uri": "https://localhost:8080/"
        },
        "id": "tCPDaAMu2r1z",
        "outputId": "39bb2b28-a36a-47e6-ad4d-ac80aef9c44d"
      },
      "execution_count": null,
      "outputs": [
        {
          "output_type": "execute_result",
          "data": {
            "text/plain": [
              "[1, 0, 1, 0, 1]"
            ]
          },
          "metadata": {},
          "execution_count": 7
        }
      ]
    },
    {
      "cell_type": "markdown",
      "source": [
        "lambda 조건부표현식"
      ],
      "metadata": {
        "id": "MVPLzb053IAU"
      }
    },
    {
      "cell_type": "code",
      "source": [
        "# 홀수면 문자로 변환\n",
        "# 짝수면 +1\n",
        "\n",
        "map(lambda x : x+1 if x % 2 == 0 else str(x), l1)"
      ],
      "metadata": {
        "colab": {
          "base_uri": "https://localhost:8080/"
        },
        "id": "aoQwx0Vf3KXI",
        "outputId": "5c3ecba9-5bdd-45f8-fd18-f8562d61c39a"
      },
      "execution_count": null,
      "outputs": [
        {
          "output_type": "execute_result",
          "data": {
            "text/plain": [
              "<map at 0x7c67bb662a10>"
            ]
          },
          "metadata": {},
          "execution_count": 8
        }
      ]
    },
    {
      "cell_type": "code",
      "source": [
        "l2 = list(map(lambda x : x+1 if x % 2 == 0 else str(x), l1))"
      ],
      "metadata": {
        "id": "2syzgfKx3v1C"
      },
      "execution_count": null,
      "outputs": []
    },
    {
      "cell_type": "markdown",
      "source": [
        "## c_zodiac 리스트에서 r로 시작하는 문자만 출력"
      ],
      "metadata": {
        "id": "suvY9mcC_b9x"
      }
    },
    {
      "cell_type": "code",
      "source": [
        "c_zodiac = ['rat','ox','tiger','rabbit','dragon','snake',\n",
        "            'horse','lamb','monkey','rooster','dog','pig']"
      ],
      "metadata": {
        "id": "BCW3rDnp-pym"
      },
      "execution_count": null,
      "outputs": []
    },
    {
      "cell_type": "code",
      "source": [
        "list(filter(lambda x : x[0][0] == 'r', c_zodiac))"
      ],
      "metadata": {
        "id": "0KB7kMik_Z71",
        "colab": {
          "base_uri": "https://localhost:8080/"
        },
        "outputId": "14b8797c-44b0-4408-a988-1b840dbac76f"
      },
      "execution_count": null,
      "outputs": [
        {
          "output_type": "execute_result",
          "data": {
            "text/plain": [
              "['rat', 'rabbit', 'rooster']"
            ]
          },
          "metadata": {},
          "execution_count": 33
        }
      ]
    },
    {
      "cell_type": "code",
      "source": [
        "filter(lambda x : x[0]=='r', c_zodiac)"
      ],
      "metadata": {
        "colab": {
          "base_uri": "https://localhost:8080/"
        },
        "id": "atXdATAT7HKC",
        "outputId": "efa397df-c562-4478-d763-0b8654f263c9"
      },
      "execution_count": null,
      "outputs": [
        {
          "output_type": "execute_result",
          "data": {
            "text/plain": [
              "<filter at 0x7c67bb50b5b0>"
            ]
          },
          "metadata": {},
          "execution_count": 24
        }
      ]
    },
    {
      "cell_type": "code",
      "source": [
        "list(filter(lambda x : x[0]=='r', c_zodiac))"
      ],
      "metadata": {
        "colab": {
          "base_uri": "https://localhost:8080/"
        },
        "id": "JMMk-jGO7Mq6",
        "outputId": "148f5efa-6a4d-4692-a7bb-ff6fd5b5db38"
      },
      "execution_count": null,
      "outputs": [
        {
          "output_type": "execute_result",
          "data": {
            "text/plain": [
              "['rat', 'rabbit', 'rooster']"
            ]
          },
          "metadata": {},
          "execution_count": 25
        }
      ]
    },
    {
      "cell_type": "code",
      "source": [
        "list(filter(lambda x : x[-1] == 'r', c_zodiac))"
      ],
      "metadata": {
        "colab": {
          "base_uri": "https://localhost:8080/"
        },
        "id": "m3-PYRrf79PO",
        "outputId": "90ddd7e6-f099-49bc-9dc8-a6dddc3b3d87"
      },
      "execution_count": null,
      "outputs": [
        {
          "output_type": "execute_result",
          "data": {
            "text/plain": [
              "['tiger', 'rooster']"
            ]
          },
          "metadata": {},
          "execution_count": 26
        }
      ]
    },
    {
      "cell_type": "code",
      "source": [
        "list(filter(lambda x : 'e' in x, c_zodiac))"
      ],
      "metadata": {
        "colab": {
          "base_uri": "https://localhost:8080/"
        },
        "id": "MwKiD7jJ8gxH",
        "outputId": "9055507e-209a-4cbf-bc9e-3373666938f1"
      },
      "execution_count": null,
      "outputs": [
        {
          "output_type": "execute_result",
          "data": {
            "text/plain": [
              "['tiger', 'snake', 'horse', 'monkey', 'rooster']"
            ]
          },
          "metadata": {},
          "execution_count": 32
        }
      ]
    },
    {
      "cell_type": "code",
      "source": [
        "list(filter(lambda x : type(x) == int, l2))"
      ],
      "metadata": {
        "colab": {
          "base_uri": "https://localhost:8080/"
        },
        "id": "WZe7_1n94uqr",
        "outputId": "dafffb83-6460-49cf-bdf3-0d4707b0971a"
      },
      "execution_count": null,
      "outputs": [
        {
          "output_type": "execute_result",
          "data": {
            "text/plain": [
              "[3, 5]"
            ]
          },
          "metadata": {},
          "execution_count": 34
        }
      ]
    },
    {
      "cell_type": "code",
      "source": [
        "from functools import reduce\n",
        "a = [1,2,3,4,5,6,7,8,9,10]\n",
        "reduce(lambda x,y : x + y, a)"
      ],
      "metadata": {
        "colab": {
          "base_uri": "https://localhost:8080/"
        },
        "id": "wKqqxid549xZ",
        "outputId": "7ac55fe4-9059-4f13-8587-7ee008fae9be"
      },
      "execution_count": null,
      "outputs": [
        {
          "output_type": "execute_result",
          "data": {
            "text/plain": [
              "55"
            ]
          },
          "metadata": {},
          "execution_count": 35
        }
      ]
    },
    {
      "cell_type": "code",
      "source": [],
      "metadata": {
        "id": "F3mJdZ9YC2H8"
      },
      "execution_count": null,
      "outputs": []
    }
  ]
}