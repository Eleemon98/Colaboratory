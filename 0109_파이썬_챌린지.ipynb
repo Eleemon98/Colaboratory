{
  "nbformat": 4,
  "nbformat_minor": 0,
  "metadata": {
    "colab": {
      "provenance": [],
      "authorship_tag": "ABX9TyP6z1FL3CFf+aE0e6FEv2yZ",
      "include_colab_link": true
    },
    "kernelspec": {
      "name": "python3",
      "display_name": "Python 3"
    },
    "language_info": {
      "name": "python"
    }
  },
  "cells": [
    {
      "cell_type": "markdown",
      "metadata": {
        "id": "view-in-github",
        "colab_type": "text"
      },
      "source": [
        "<a href=\"https://colab.research.google.com/github/Eleemon98/Colaboratory/blob/main/0109_%ED%8C%8C%EC%9D%B4%EC%8D%AC_%EC%B1%8C%EB%A6%B0%EC%A7%80.ipynb\" target=\"_parent\"><img src=\"https://colab.research.google.com/assets/colab-badge.svg\" alt=\"Open In Colab\"/></a>"
      ]
    },
    {
      "cell_type": "markdown",
      "source": [
        "문자열"
      ],
      "metadata": {
        "id": "hzOpJTGEGzXU"
      }
    },
    {
      "cell_type": "code",
      "execution_count": null,
      "metadata": {
        "colab": {
          "base_uri": "https://localhost:8080/"
        },
        "id": "n4j64Kd5DIGJ",
        "outputId": "6706c3dc-7766-46ab-bc26-33fbf4f358ae"
      },
      "outputs": [
        {
          "output_type": "stream",
          "name": "stdout",
          "text": [
            "PythonProg\n",
            "PythonProg\n"
          ]
        }
      ],
      "source": [
        "s = \"PythonProgramming\"\n",
        "\n",
        "print(s[0:10])\n",
        "print(s[:-7])"
      ]
    },
    {
      "cell_type": "code",
      "source": [
        "s = \"PythonProgramming\"\n",
        "t=''\n",
        "for i in s:\n",
        "  t += i\n",
        "  if i == 'g':\n",
        "    break"
      ],
      "metadata": {
        "id": "Jr2K2IYgHFTU"
      },
      "execution_count": null,
      "outputs": []
    },
    {
      "cell_type": "code",
      "source": [
        "t"
      ],
      "metadata": {
        "colab": {
          "base_uri": "https://localhost:8080/",
          "height": 35
        },
        "id": "F2rTGxLnIWt7",
        "outputId": "86d3331a-d130-4331-e6bf-b7a3685ce0b6"
      },
      "execution_count": null,
      "outputs": [
        {
          "output_type": "execute_result",
          "data": {
            "text/plain": [
              "'PythonProg'"
            ],
            "application/vnd.google.colaboratory.intrinsic+json": {
              "type": "string"
            }
          },
          "metadata": {},
          "execution_count": 20
        }
      ]
    },
    {
      "cell_type": "code",
      "source": [
        "print(s[s.index('P'):s.index('g')+1])"
      ],
      "metadata": {
        "colab": {
          "base_uri": "https://localhost:8080/"
        },
        "id": "77j14Sx-IXjD",
        "outputId": "4db0551a-4a90-4aff-9d29-14a33f3bffd5"
      },
      "execution_count": null,
      "outputs": [
        {
          "output_type": "stream",
          "name": "stdout",
          "text": [
            "PythonProg\n"
          ]
        }
      ]
    },
    {
      "cell_type": "code",
      "source": [
        "t=\"DataScience\"\n",
        "\n",
        "print(t[-1]+t[0])"
      ],
      "metadata": {
        "colab": {
          "base_uri": "https://localhost:8080/"
        },
        "id": "tI_Ci7gjI-Ll",
        "outputId": "04c56deb-f68a-459e-a386-3fe0bf05ef93"
      },
      "execution_count": null,
      "outputs": [
        {
          "output_type": "stream",
          "name": "stdout",
          "text": [
            "eD\n"
          ]
        }
      ]
    },
    {
      "cell_type": "code",
      "source": [
        "c=\"HelloWorld\"\n",
        "print(c[::2])"
      ],
      "metadata": {
        "colab": {
          "base_uri": "https://localhost:8080/"
        },
        "id": "kwkiuWb4K2UZ",
        "outputId": "66a50288-d4ea-4243-e663-a56519895fbb"
      },
      "execution_count": null,
      "outputs": [
        {
          "output_type": "stream",
          "name": "stdout",
          "text": [
            "Hlool\n"
          ]
        }
      ]
    },
    {
      "cell_type": "code",
      "source": [
        "d=\"ProgrammingLanguage\"\n",
        "\n",
        "print(d[2:8])"
      ],
      "metadata": {
        "colab": {
          "base_uri": "https://localhost:8080/"
        },
        "id": "sDYRuMkHLa1k",
        "outputId": "dd7568ff-7757-42dc-fa08-885b5ae5f293"
      },
      "execution_count": null,
      "outputs": [
        {
          "output_type": "stream",
          "name": "stdout",
          "text": [
            "ogramm\n"
          ]
        }
      ]
    },
    {
      "cell_type": "code",
      "source": [
        "a=\"ArtificialIntelligence\"\n",
        "print(a[:10])"
      ],
      "metadata": {
        "colab": {
          "base_uri": "https://localhost:8080/"
        },
        "id": "avL87sDVMTX7",
        "outputId": "92e21e1a-54e1-4f5d-8542-b1987c3d7dbe"
      },
      "execution_count": null,
      "outputs": [
        {
          "output_type": "stream",
          "name": "stdout",
          "text": [
            "Artificial\n"
          ]
        }
      ]
    },
    {
      "cell_type": "code",
      "source": [
        "b=\"MachineLearning\"\n",
        "print(b[-1:-9:-1])"
      ],
      "metadata": {
        "colab": {
          "base_uri": "https://localhost:8080/"
        },
        "id": "_lOgCdBnMjHw",
        "outputId": "cbea36f4-0ad0-44fa-d8ba-08e241fb2396"
      },
      "execution_count": null,
      "outputs": [
        {
          "output_type": "stream",
          "name": "stdout",
          "text": [
            "gninraeL\n"
          ]
        }
      ]
    },
    {
      "cell_type": "code",
      "source": [
        "e = \"CloudComputing\"\n",
        "print(e[4::-1]+' '+e[:4:-1])"
      ],
      "metadata": {
        "colab": {
          "base_uri": "https://localhost:8080/"
        },
        "id": "cEdY5JDQNVJH",
        "outputId": "9fe6a335-53b1-4527-a71e-7b697bac600e"
      },
      "execution_count": null,
      "outputs": [
        {
          "output_type": "stream",
          "name": "stdout",
          "text": [
            "duolC gnitupmoC\n"
          ]
        }
      ]
    },
    {
      "cell_type": "code",
      "source": [
        "f = \"InformationTechnology\"\n",
        "print(f[:-11:-1])"
      ],
      "metadata": {
        "colab": {
          "base_uri": "https://localhost:8080/"
        },
        "id": "o1K87y73OL8b",
        "outputId": "72ef90bf-d30b-476b-9920-31e34c5f9222"
      },
      "execution_count": null,
      "outputs": [
        {
          "output_type": "stream",
          "name": "stdout",
          "text": [
            "ygolonhceT\n"
          ]
        }
      ]
    },
    {
      "cell_type": "code",
      "source": [
        "g = \"Python is fun\"\n",
        "g.replace(\"fun\",\"powerful\")"
      ],
      "metadata": {
        "colab": {
          "base_uri": "https://localhost:8080/",
          "height": 35
        },
        "id": "b14UJoTmO6Yw",
        "outputId": "0cadfcd8-574a-489e-a027-ba8a9e3486c9"
      },
      "execution_count": null,
      "outputs": [
        {
          "output_type": "execute_result",
          "data": {
            "text/plain": [
              "'Python is powerful'"
            ],
            "application/vnd.google.colaboratory.intrinsic+json": {
              "type": "string"
            }
          },
          "metadata": {},
          "execution_count": 41
        }
      ]
    },
    {
      "cell_type": "code",
      "source": [
        "h = \"Learning Python is useful\"\n",
        "h.replace(\"useful\",\"easy\")"
      ],
      "metadata": {
        "colab": {
          "base_uri": "https://localhost:8080/",
          "height": 35
        },
        "id": "_hbmyLBAQS5W",
        "outputId": "3272f188-2952-4e71-cd0f-b8ae1cff83bd"
      },
      "execution_count": null,
      "outputs": [
        {
          "output_type": "execute_result",
          "data": {
            "text/plain": [
              "'Learning Python is easy'"
            ],
            "application/vnd.google.colaboratory.intrinsic+json": {
              "type": "string"
            }
          },
          "metadata": {},
          "execution_count": 44
        }
      ]
    },
    {
      "cell_type": "code",
      "source": [
        "i = \"Banana, Apple, Orange\"\n",
        "i.replace(\",\",\";\")"
      ],
      "metadata": {
        "colab": {
          "base_uri": "https://localhost:8080/",
          "height": 35
        },
        "id": "SkFIVr6PQc49",
        "outputId": "c1569a42-9961-4b33-d47f-d7275c52dc13"
      },
      "execution_count": null,
      "outputs": [
        {
          "output_type": "execute_result",
          "data": {
            "text/plain": [
              "'Banana; Apple; Orange'"
            ],
            "application/vnd.google.colaboratory.intrinsic+json": {
              "type": "string"
            }
          },
          "metadata": {},
          "execution_count": 45
        }
      ]
    },
    {
      "cell_type": "code",
      "source": [
        "j = \"Sun Mon Tue Wed Thu Fri Sat\"\n",
        "j.replace(\" \", \"-\")"
      ],
      "metadata": {
        "colab": {
          "base_uri": "https://localhost:8080/",
          "height": 35
        },
        "id": "eKIRxvE-RVFu",
        "outputId": "832579fe-b0c8-4c28-a567-236ce0797fd4"
      },
      "execution_count": null,
      "outputs": [
        {
          "output_type": "execute_result",
          "data": {
            "text/plain": [
              "'Sun-Mon-Tue-Wed-Thu-Fri-Sat'"
            ],
            "application/vnd.google.colaboratory.intrinsic+json": {
              "type": "string"
            }
          },
          "metadata": {},
          "execution_count": 46
        }
      ]
    },
    {
      "cell_type": "code",
      "source": [
        "k1 = \"Web\"\n",
        "k2 = \"Development\"\n",
        "print(k1+k2)"
      ],
      "metadata": {
        "colab": {
          "base_uri": "https://localhost:8080/"
        },
        "id": "RJSxUTjyRhc2",
        "outputId": "c09a3b5a-1dcf-4821-ca5a-a12594d4e76e"
      },
      "execution_count": null,
      "outputs": [
        {
          "output_type": "stream",
          "name": "stdout",
          "text": [
            "WebDevelopment\n"
          ]
        }
      ]
    },
    {
      "cell_type": "code",
      "source": [
        "l1 = \"Deep\"\n",
        "l2 = \"Learning\"\n",
        "print(l1+l2)"
      ],
      "metadata": {
        "colab": {
          "base_uri": "https://localhost:8080/"
        },
        "id": "NtQ9AMFDRy_y",
        "outputId": "70ced196-9573-4878-dd00-e3e4657ecc07"
      },
      "execution_count": null,
      "outputs": [
        {
          "output_type": "stream",
          "name": "stdout",
          "text": [
            "DeepLearning\n"
          ]
        }
      ]
    },
    {
      "cell_type": "code",
      "source": [
        "m = \"Hi!\"\n",
        "print(m*5)"
      ],
      "metadata": {
        "colab": {
          "base_uri": "https://localhost:8080/"
        },
        "id": "9POvRz0GR4Ss",
        "outputId": "e5d2a911-766f-481d-936c-4cb630bd7bca"
      },
      "execution_count": null,
      "outputs": [
        {
          "output_type": "stream",
          "name": "stdout",
          "text": [
            "Hi!Hi!Hi!Hi!Hi!\n"
          ]
        }
      ]
    },
    {
      "cell_type": "code",
      "source": [
        "n = \"A\"\n",
        "print((n+\"-\")*9+n)\n",
        "'-'.join(n*10)"
      ],
      "metadata": {
        "colab": {
          "base_uri": "https://localhost:8080/",
          "height": 54
        },
        "id": "r3Lg-q3MR9Va",
        "outputId": "3a93d16d-f03e-42a5-a7f4-9e1f6ea1dbf7"
      },
      "execution_count": null,
      "outputs": [
        {
          "output_type": "stream",
          "name": "stdout",
          "text": [
            "A-A-A-A-A-A-A-A-A-A\n"
          ]
        },
        {
          "output_type": "execute_result",
          "data": {
            "text/plain": [
              "'A-A-A-A-A-A-A-A-A-A'"
            ],
            "application/vnd.google.colaboratory.intrinsic+json": {
              "type": "string"
            }
          },
          "metadata": {},
          "execution_count": 65
        }
      ]
    },
    {
      "cell_type": "code",
      "source": [
        "n=\"AA\"\n",
        "'-'.join(n) #문자열에 사잇값을 넣는 함수"
      ],
      "metadata": {
        "colab": {
          "base_uri": "https://localhost:8080/",
          "height": 35
        },
        "id": "od3Zu_ziVfXe",
        "outputId": "b6c3630d-8191-45e0-b418-1b8841114183"
      },
      "execution_count": null,
      "outputs": [
        {
          "output_type": "execute_result",
          "data": {
            "text/plain": [
              "'A-A'"
            ],
            "application/vnd.google.colaboratory.intrinsic+json": {
              "type": "string"
            }
          },
          "metadata": {},
          "execution_count": 63
        }
      ]
    },
    {
      "cell_type": "code",
      "source": [
        "k=['1','2','3','4','5']\n",
        "''.join(k)"
      ],
      "metadata": {
        "colab": {
          "base_uri": "https://localhost:8080/",
          "height": 35
        },
        "id": "6pd3hwhOWAod",
        "outputId": "79e684d5-3041-421f-babd-2d0c4eacc19a"
      },
      "execution_count": null,
      "outputs": [
        {
          "output_type": "execute_result",
          "data": {
            "text/plain": [
              "'12345'"
            ],
            "application/vnd.google.colaboratory.intrinsic+json": {
              "type": "string"
            }
          },
          "metadata": {},
          "execution_count": 64
        }
      ]
    },
    {
      "cell_type": "code",
      "source": [
        "o = \"   Hello, Python!  \"\n",
        "o.strip( )  #앞이나 뒤에 있는 특수문자나 공백을 날리는 함수"
      ],
      "metadata": {
        "colab": {
          "base_uri": "https://localhost:8080/",
          "height": 35
        },
        "id": "PzGujYeUSG0m",
        "outputId": "e9468bb2-b789-4487-812d-64318710027d"
      },
      "execution_count": null,
      "outputs": [
        {
          "output_type": "execute_result",
          "data": {
            "text/plain": [
              "'Hello, Python!'"
            ],
            "application/vnd.google.colaboratory.intrinsic+json": {
              "type": "string"
            }
          },
          "metadata": {},
          "execution_count": 54
        }
      ]
    },
    {
      "cell_type": "code",
      "source": [
        "p = \"---Python---\"\n",
        "p.strip(\"-\")"
      ],
      "metadata": {
        "colab": {
          "base_uri": "https://localhost:8080/",
          "height": 35
        },
        "id": "DcteIxyhSem3",
        "outputId": "1784f3ad-7b65-43ab-b452-5b97047586d1"
      },
      "execution_count": null,
      "outputs": [
        {
          "output_type": "execute_result",
          "data": {
            "text/plain": [
              "'Python'"
            ],
            "application/vnd.google.colaboratory.intrinsic+json": {
              "type": "string"
            }
          },
          "metadata": {},
          "execution_count": 56
        }
      ]
    },
    {
      "cell_type": "code",
      "source": [
        "name = \"Alice\"\n",
        "age = 30\n",
        "city = \"New York\"\n",
        "print(f\"Hello, my name is {name}. I am {age} years old and I live in {city}.\")"
      ],
      "metadata": {
        "colab": {
          "base_uri": "https://localhost:8080/"
        },
        "id": "okpWjccgS2L_",
        "outputId": "00821bdc-9f8b-43b8-d320-86179e967911"
      },
      "execution_count": null,
      "outputs": [
        {
          "output_type": "stream",
          "name": "stdout",
          "text": [
            "Hello, my name is Alice. I am 30 years old and I live in New York.\n"
          ]
        }
      ]
    },
    {
      "cell_type": "code",
      "source": [
        "fruits = [\"apple\", \"banana\", \"cherry\"]\n",
        "print(f\"I like to eat {', '.join(fruits[:-1])}, and {fruits[-1]}.\")"
      ],
      "metadata": {
        "colab": {
          "base_uri": "https://localhost:8080/"
        },
        "id": "lmR3IpOhWh7h",
        "outputId": "38302ccb-b556-4077-b889-90c012f2d3c2"
      },
      "execution_count": null,
      "outputs": [
        {
          "output_type": "stream",
          "name": "stdout",
          "text": [
            "I like to eat apple, banana, and cherry.\n"
          ]
        }
      ]
    },
    {
      "cell_type": "code",
      "source": [
        "product = {\"name\": \"chair\", \"price\": 40}\n",
        "print(f\"The price of this {product['name']} is {product['price']} dollars.\")"
      ],
      "metadata": {
        "colab": {
          "base_uri": "https://localhost:8080/"
        },
        "id": "79Gz0Pc4WnS0",
        "outputId": "6529c2c7-31b2-4e88-86a5-b92947743216"
      },
      "execution_count": null,
      "outputs": [
        {
          "output_type": "stream",
          "name": "stdout",
          "text": [
            "The price of this chair is 40 dollars.\n"
          ]
        }
      ]
    },
    {
      "cell_type": "markdown",
      "source": [
        "리스트"
      ],
      "metadata": {
        "id": "uz4R2wGHjpU5"
      }
    },
    {
      "cell_type": "code",
      "source": [
        "movie_rank = [\"닥터 스트레인지\", \"스플릿\", \"럭키\"]\n",
        "movie_rank.append(\"배트맨\")\n",
        "print(movie_rank)"
      ],
      "metadata": {
        "colab": {
          "base_uri": "https://localhost:8080/"
        },
        "id": "boYxEVnBYQhO",
        "outputId": "d6a161f2-5502-4a42-dafa-c40f5090aa3a"
      },
      "execution_count": null,
      "outputs": [
        {
          "output_type": "stream",
          "name": "stdout",
          "text": [
            "['닥터 스트레인지', '스플릿', '럭키', '배트맨']\n"
          ]
        }
      ]
    },
    {
      "cell_type": "markdown",
      "source": [
        "아래 것 복습해보기 리스트 사이에 값 넣는 것"
      ],
      "metadata": {
        "id": "liYEjnaqpigD"
      }
    },
    {
      "cell_type": "code",
      "source": [
        "movie_rank = ['닥터 스트레인지', '스플릿', '럭키', '배트맨']\n",
        "\n",
        "movie_rank.insert(1,'슈퍼맨')\n",
        "print(movie_rank)"
      ],
      "metadata": {
        "colab": {
          "base_uri": "https://localhost:8080/"
        },
        "id": "I0wJMIULj4I-",
        "outputId": "bde2dfef-94de-40ce-fd62-7de73be32896"
      },
      "execution_count": null,
      "outputs": [
        {
          "output_type": "stream",
          "name": "stdout",
          "text": [
            "['닥터 스트레인지', '슈퍼맨', '스플릿', '럭키', '배트맨']\n"
          ]
        }
      ]
    },
    {
      "cell_type": "code",
      "source": [
        "movie_rank = ['닥터 스트레인지', '스플릿', '럭키', '배트맨']\n",
        "\n",
        "movie_rank.insert(1, '슈퍼맨')\n",
        "print(movie_rank)"
      ],
      "metadata": {
        "colab": {
          "base_uri": "https://localhost:8080/"
        },
        "id": "Qgwac4metGbS",
        "outputId": "e132becc-d171-4c4a-a084-f8a08f3f89f0"
      },
      "execution_count": null,
      "outputs": [
        {
          "output_type": "stream",
          "name": "stdout",
          "text": [
            "['닥터 스트레인지', '슈퍼맨', '스플릿', '럭키', '배트맨']\n"
          ]
        }
      ]
    },
    {
      "cell_type": "code",
      "source": [
        "movie_rank = ['닥터 스트레인지', '스플릿', '럭키', '배트맨']\n",
        "result = [movie_rank[0]]+['슈퍼맨']+movie_rank[1:]\n",
        "result"
      ],
      "metadata": {
        "colab": {
          "base_uri": "https://localhost:8080/"
        },
        "id": "PoRk105nqKvm",
        "outputId": "17f49f64-202f-46e0-f6c9-e9260e927b29"
      },
      "execution_count": null,
      "outputs": [
        {
          "output_type": "execute_result",
          "data": {
            "text/plain": [
              "['닥터 스트레인지', '슈퍼맨', '스플릿', '럭키', '배트맨']"
            ]
          },
          "metadata": {},
          "execution_count": 95
        }
      ]
    },
    {
      "cell_type": "code",
      "source": [
        "movie_rank = ['닥터 스트레인지', '스플릿', '럭키', '배트맨']\n",
        "result = [movie_rank[0]]+['슈퍼맨']+movie_rank[1:]\n",
        "result"
      ],
      "metadata": {
        "colab": {
          "base_uri": "https://localhost:8080/"
        },
        "id": "Uz0DptzitW_B",
        "outputId": "2ab259af-f096-4f27-bd5b-220f5aad0efa"
      },
      "execution_count": null,
      "outputs": [
        {
          "output_type": "execute_result",
          "data": {
            "text/plain": [
              "['닥터 스트레인지', '슈퍼맨', '스플릿', '럭키', '배트맨']"
            ]
          },
          "metadata": {},
          "execution_count": 2
        }
      ]
    },
    {
      "cell_type": "code",
      "source": [
        "movie_rank = ['닥터 스트레인지', '슈퍼맨', '스플릿', '럭키', '배트맨']\n",
        "del movie_rank[3]\n",
        "print(movie_rank)"
      ],
      "metadata": {
        "colab": {
          "base_uri": "https://localhost:8080/"
        },
        "id": "ILvkJg0vmKtX",
        "outputId": "bb78bc7b-dad0-4a2f-ef56-76b939113272"
      },
      "execution_count": null,
      "outputs": [
        {
          "output_type": "stream",
          "name": "stdout",
          "text": [
            "['닥터 스트레인지', '슈퍼맨', '스플릿', '배트맨']\n"
          ]
        }
      ]
    },
    {
      "cell_type": "code",
      "source": [
        "movie_rank = ['닥터 스트레인지', '슈퍼맨', '스플릿', '럭키', '배트맨']\n",
        "result = movie_rank[:3]+[movie_rank[4]]\n",
        "result"
      ],
      "metadata": {
        "colab": {
          "base_uri": "https://localhost:8080/"
        },
        "id": "4FAZFNTnrc_d",
        "outputId": "17a7eb3e-0b94-4109-c99f-4f5945b218a6"
      },
      "execution_count": null,
      "outputs": [
        {
          "output_type": "execute_result",
          "data": {
            "text/plain": [
              "['닥터 스트레인지', '슈퍼맨', '스플릿', '배트맨']"
            ]
          },
          "metadata": {},
          "execution_count": 97
        }
      ]
    },
    {
      "cell_type": "code",
      "source": [
        "movie_rank = ['닥터 스트레인지', '슈퍼맨', '스플릿', '럭키', '배트맨']\n",
        "movie_rank.remove('럭키')\n",
        "print(movie_rank)"
      ],
      "metadata": {
        "colab": {
          "base_uri": "https://localhost:8080/"
        },
        "id": "bZkzLDpkr2la",
        "outputId": "9c3f7ba9-0b1a-4862-88cb-ca4b1fde664a"
      },
      "execution_count": null,
      "outputs": [
        {
          "output_type": "stream",
          "name": "stdout",
          "text": [
            "['닥터 스트레인지', '슈퍼맨', '스플릿', '배트맨']\n"
          ]
        }
      ]
    },
    {
      "cell_type": "code",
      "source": [
        "movie_rank = ['닥터 스트레인지', '슈퍼맨', '스플릿', '배트맨']\n",
        "del movie_rank[2:]\n",
        "print(movie_rank)"
      ],
      "metadata": {
        "colab": {
          "base_uri": "https://localhost:8080/"
        },
        "id": "XtpDJ_cMm2s-",
        "outputId": "99bd21ea-e643-49e0-a916-c903cce4d6df"
      },
      "execution_count": null,
      "outputs": [
        {
          "output_type": "stream",
          "name": "stdout",
          "text": [
            "['닥터 스트레인지', '슈퍼맨']\n"
          ]
        }
      ]
    },
    {
      "cell_type": "code",
      "source": [
        "lang1 = [\"C\", \"C++\", \"JAVA\"]\n",
        "lang2 = [\"Python\", \"Go\", \"C#\"]\n",
        "print(lang1+lang2)"
      ],
      "metadata": {
        "colab": {
          "base_uri": "https://localhost:8080/"
        },
        "id": "24CQL8-jnhBu",
        "outputId": "114e38af-ec33-4b69-b3db-5d11c4d35c3c"
      },
      "execution_count": null,
      "outputs": [
        {
          "output_type": "stream",
          "name": "stdout",
          "text": [
            "['C', 'C++', 'JAVA', 'Python', 'Go', 'C#']\n"
          ]
        }
      ]
    },
    {
      "cell_type": "code",
      "source": [
        "nums = [1, 2, 3, 4, 5, 6, 7]\n",
        "print(max(nums))\n",
        "print(min(nums))"
      ],
      "metadata": {
        "colab": {
          "base_uri": "https://localhost:8080/"
        },
        "id": "kPyAZXRqpIZU",
        "outputId": "c9ce09c6-db74-44d9-b4a8-ed2b4f89bdb9"
      },
      "execution_count": null,
      "outputs": [
        {
          "output_type": "stream",
          "name": "stdout",
          "text": [
            "7\n",
            "1\n"
          ]
        }
      ]
    },
    {
      "cell_type": "markdown",
      "source": [
        "아래 2개 연습하기"
      ],
      "metadata": {
        "id": "6CKhXkQ-wJ0C"
      }
    },
    {
      "cell_type": "code",
      "source": [
        "nums = [1, 2, 3, 4, 5, 6, 7]\n",
        "t = nums[0]\n",
        "\n",
        "for k in range(len(nums)):\n",
        "  if t < nums[k]:\n",
        "    t = nums[k]\n",
        "t"
      ],
      "metadata": {
        "colab": {
          "base_uri": "https://localhost:8080/"
        },
        "id": "E1d84pC9uN0r",
        "outputId": "0560c024-dd63-41c6-811c-51a2225b2db6"
      },
      "execution_count": null,
      "outputs": [
        {
          "output_type": "execute_result",
          "data": {
            "text/plain": [
              "7"
            ]
          },
          "metadata": {},
          "execution_count": 112
        }
      ]
    },
    {
      "cell_type": "code",
      "source": [
        "nums = [1, 2, 3, 4, 5, 6, 7]\n",
        "t = nums[0]\n",
        "\n",
        "for k in range(len(nums)):\n",
        "  if t < nums[k]:\n",
        "    t = nums[k]\n",
        "t"
      ],
      "metadata": {
        "colab": {
          "base_uri": "https://localhost:8080/"
        },
        "id": "5e1AozxotmPa",
        "outputId": "6101ec5f-4280-44f9-cc78-17170a44e246"
      },
      "execution_count": null,
      "outputs": [
        {
          "output_type": "execute_result",
          "data": {
            "text/plain": [
              "7"
            ]
          },
          "metadata": {},
          "execution_count": 3
        }
      ]
    },
    {
      "cell_type": "code",
      "source": [
        "nums = [1, 2, 3, 4, 5, 6, 7]\n",
        "t = nums[0]\n",
        "\n",
        "for k in range(len(nums)):\n",
        "  if t > nums[k]:\n",
        "    t = nums[k]\n",
        "t"
      ],
      "metadata": {
        "colab": {
          "base_uri": "https://localhost:8080/"
        },
        "id": "ZwVlKGAguGyl",
        "outputId": "e2f46d0c-73a9-4edf-b013-d7da8f037b04"
      },
      "execution_count": null,
      "outputs": [
        {
          "output_type": "execute_result",
          "data": {
            "text/plain": [
              "1"
            ]
          },
          "metadata": {},
          "execution_count": 4
        }
      ]
    },
    {
      "cell_type": "code",
      "source": [
        "k= [5,3,2,1,4,6,7]\n",
        "print(sorted(k))\n",
        "k[-1]"
      ],
      "metadata": {
        "colab": {
          "base_uri": "https://localhost:8080/"
        },
        "id": "Fryd_12MwNGr",
        "outputId": "1a956527-4508-4c12-a417-10dd8056ccd1"
      },
      "execution_count": null,
      "outputs": [
        {
          "output_type": "stream",
          "name": "stdout",
          "text": [
            "[1, 2, 3, 4, 5, 6, 7]\n"
          ]
        },
        {
          "output_type": "execute_result",
          "data": {
            "text/plain": [
              "7"
            ]
          },
          "metadata": {},
          "execution_count": 114
        }
      ]
    },
    {
      "cell_type": "code",
      "source": [
        "k= [5,3,2,1,4,6,7]\n",
        "print(sorted(k))\n",
        "k[-1]"
      ],
      "metadata": {
        "colab": {
          "base_uri": "https://localhost:8080/"
        },
        "id": "c-W9XDDwuX3Q",
        "outputId": "aa6e5aee-d894-4c89-d118-e4e66458f9a4"
      },
      "execution_count": null,
      "outputs": [
        {
          "output_type": "stream",
          "name": "stdout",
          "text": [
            "[1, 2, 3, 4, 5, 6, 7]\n"
          ]
        },
        {
          "output_type": "execute_result",
          "data": {
            "text/plain": [
              "7"
            ]
          },
          "metadata": {},
          "execution_count": 5
        }
      ]
    },
    {
      "cell_type": "code",
      "source": [
        "nums = [1, 2, 3, 4, 5]\n",
        "print(sum(nums))"
      ],
      "metadata": {
        "colab": {
          "base_uri": "https://localhost:8080/"
        },
        "id": "iqQIIzOvs3rj",
        "outputId": "66cf4b8a-ba72-473d-feed-61db99ab9d47"
      },
      "execution_count": null,
      "outputs": [
        {
          "output_type": "stream",
          "name": "stdout",
          "text": [
            "15\n"
          ]
        }
      ]
    },
    {
      "cell_type": "markdown",
      "source": [
        "연습하기"
      ],
      "metadata": {
        "id": "ZtEW6CMMyFxN"
      }
    },
    {
      "cell_type": "code",
      "source": [
        "nums = [1, 2, 3, 4, 5]\n",
        "\n",
        "total = 0\n",
        "for i in nums:\n",
        "  total += i\n",
        "\n",
        "print(total)"
      ],
      "metadata": {
        "colab": {
          "base_uri": "https://localhost:8080/"
        },
        "id": "bDJTu8KwxLqi",
        "outputId": "57ef4b4c-79bb-45c4-d629-2ba3eb134ffa"
      },
      "execution_count": null,
      "outputs": [
        {
          "output_type": "stream",
          "name": "stdout",
          "text": [
            "15\n"
          ]
        }
      ]
    },
    {
      "cell_type": "code",
      "source": [
        "nums = [1, 2, 3, 4, 5]\n",
        "total = 0\n",
        "\n",
        "for i in nums:\n",
        "  total += i\n",
        "\n",
        "print(total)"
      ],
      "metadata": {
        "colab": {
          "base_uri": "https://localhost:8080/"
        },
        "id": "YPzABXbUugog",
        "outputId": "dd78c210-7b5e-4017-df52-eed114024378"
      },
      "execution_count": null,
      "outputs": [
        {
          "output_type": "stream",
          "name": "stdout",
          "text": [
            "15\n"
          ]
        }
      ]
    },
    {
      "cell_type": "code",
      "source": [
        "cook = [\"피자\", \"김밥\", \"만두\", \"양념치킨\", \"족발\", \"피자\", \"김치만두\", \"쫄면\", \"소시지\", \"라면\", \"팥빙수\", \"김치전\"]\n",
        "print(len(cook))"
      ],
      "metadata": {
        "colab": {
          "base_uri": "https://localhost:8080/"
        },
        "id": "ZmG6X9xQt6ip",
        "outputId": "53241074-f1a6-4acc-edea-3d38415ada18"
      },
      "execution_count": null,
      "outputs": [
        {
          "output_type": "stream",
          "name": "stdout",
          "text": [
            "12\n"
          ]
        }
      ]
    },
    {
      "cell_type": "markdown",
      "source": [
        "연습하기"
      ],
      "metadata": {
        "id": "gK0l_aAcyHqp"
      }
    },
    {
      "cell_type": "code",
      "source": [
        "cook = [\"피자\", \"김밥\", \"만두\", \"양념치킨\", \"족발\", \"피자\", \"김치만두\", \"쫄면\", \"소시지\", \"라면\", \"팥빙수\", \"김치전\"]\n",
        "cnt = 0\n",
        "for i in cook:\n",
        "  cnt+=1\n",
        "print(cnt)"
      ],
      "metadata": {
        "colab": {
          "base_uri": "https://localhost:8080/"
        },
        "id": "yhh3BXEjxzpy",
        "outputId": "96032f1c-5148-4962-e780-8d0265f86a5b"
      },
      "execution_count": null,
      "outputs": [
        {
          "output_type": "stream",
          "name": "stdout",
          "text": [
            "12\n"
          ]
        }
      ]
    },
    {
      "cell_type": "code",
      "source": [
        "cook = [\"피자\", \"김밥\", \"만두\", \"양념치킨\", \"족발\", \"피자\", \"김치만두\", \"쫄면\", \"소시지\", \"라면\", \"팥빙수\", \"김치전\"]\n",
        "cnt = 0\n",
        "\n",
        "for i in cook:\n",
        "  cnt += 1\n",
        "print(cnt)"
      ],
      "metadata": {
        "colab": {
          "base_uri": "https://localhost:8080/"
        },
        "id": "UC9J1TTWu2cy",
        "outputId": "957273d2-e860-48f6-fcaf-536217545092"
      },
      "execution_count": null,
      "outputs": [
        {
          "output_type": "stream",
          "name": "stdout",
          "text": [
            "12\n"
          ]
        }
      ]
    },
    {
      "cell_type": "code",
      "source": [
        "nums = [1, 2, 3, 4, 5]\n",
        "print(sum(nums)//len(nums))"
      ],
      "metadata": {
        "colab": {
          "base_uri": "https://localhost:8080/"
        },
        "id": "PyR2nASYt-iA",
        "outputId": "395e514d-31b6-4f70-f02b-f589f8d6fe01"
      },
      "execution_count": null,
      "outputs": [
        {
          "output_type": "stream",
          "name": "stdout",
          "text": [
            "3\n"
          ]
        }
      ]
    },
    {
      "cell_type": "code",
      "source": [
        "nums = [1, 2, 3, 4, 5]\n",
        "\n",
        "total = 0\n",
        "cnt = 0\n",
        "for i in nums:\n",
        "  total += i\n",
        "  cnt+= 1\n",
        "\n",
        "print(total/cnt)"
      ],
      "metadata": {
        "colab": {
          "base_uri": "https://localhost:8080/"
        },
        "id": "e22mwzaey39A",
        "outputId": "f0378c36-cb25-4a1c-d18a-edc38a7db513"
      },
      "execution_count": null,
      "outputs": [
        {
          "output_type": "stream",
          "name": "stdout",
          "text": [
            "3.0\n"
          ]
        }
      ]
    },
    {
      "cell_type": "markdown",
      "source": [
        "튜플"
      ],
      "metadata": {
        "id": "JFU7m63szoca"
      }
    },
    {
      "cell_type": "code",
      "source": [
        "tuple([1])\n",
        "(1,)"
      ],
      "metadata": {
        "colab": {
          "base_uri": "https://localhost:8080/"
        },
        "id": "xhsp6dnXzTpR",
        "outputId": "5ff7f5d4-586f-497d-9f52-f011ec040dfe"
      },
      "execution_count": null,
      "outputs": [
        {
          "output_type": "execute_result",
          "data": {
            "text/plain": [
              "(1,)"
            ]
          },
          "metadata": {},
          "execution_count": 125
        }
      ]
    },
    {
      "cell_type": "code",
      "source": [
        "t = (1, 2, 3)\n",
        "t[0] = 'a'"
      ],
      "metadata": {
        "id": "5EhmCJr4zYth"
      },
      "execution_count": null,
      "outputs": []
    },
    {
      "cell_type": "code",
      "source": [
        "t = 1, 2, 3, 4  #,(콤마)로 인해 튜플로 인식"
      ],
      "metadata": {
        "id": "WflMzBekztHf"
      },
      "execution_count": null,
      "outputs": []
    },
    {
      "cell_type": "code",
      "source": [
        "type(t)"
      ],
      "metadata": {
        "colab": {
          "base_uri": "https://localhost:8080/"
        },
        "id": "NXmDaHiv0EtX",
        "outputId": "5309e22f-262e-405a-bfe7-734592084f9f"
      },
      "execution_count": null,
      "outputs": [
        {
          "output_type": "execute_result",
          "data": {
            "text/plain": [
              "tuple"
            ]
          },
          "metadata": {},
          "execution_count": 128
        }
      ]
    },
    {
      "cell_type": "code",
      "source": [
        "t = ('a', 'b', 'c')\n",
        "t=list(t)\n",
        "t[0] = 'A'\n",
        "t= tuple(t)"
      ],
      "metadata": {
        "id": "1Ug5xr8Z0IB3"
      },
      "execution_count": null,
      "outputs": []
    },
    {
      "cell_type": "code",
      "source": [
        "t"
      ],
      "metadata": {
        "colab": {
          "base_uri": "https://localhost:8080/"
        },
        "id": "2Mr-jpL30XKu",
        "outputId": "20f043cf-602a-46fe-d5f7-686b9639ca34"
      },
      "execution_count": null,
      "outputs": [
        {
          "output_type": "execute_result",
          "data": {
            "text/plain": [
              "('A', 'b', 'c')"
            ]
          },
          "metadata": {},
          "execution_count": 131
        }
      ]
    },
    {
      "cell_type": "code",
      "source": [
        "interest = ('삼성전자', 'LG전자', 'SK Hynix')\n",
        "list(interest)\n",
        "print(interest)"
      ],
      "metadata": {
        "colab": {
          "base_uri": "https://localhost:8080/"
        },
        "id": "nCDNatXb0dju",
        "outputId": "79be2f9c-c4c5-4a39-da86-ee2247d3b737"
      },
      "execution_count": null,
      "outputs": [
        {
          "output_type": "stream",
          "name": "stdout",
          "text": [
            "('삼성전자', 'LG전자', 'SK Hynix')\n"
          ]
        }
      ]
    },
    {
      "cell_type": "code",
      "source": [
        "temp = ('apple', 'banana', 'cake')\n",
        "a, b, c = temp\n",
        "print(a, b, c)"
      ],
      "metadata": {
        "colab": {
          "base_uri": "https://localhost:8080/"
        },
        "id": "RkEryjGn0lZ2",
        "outputId": "e4eb5fd7-5102-4a3d-c919-bca80c5042da"
      },
      "execution_count": null,
      "outputs": [
        {
          "output_type": "stream",
          "name": "stdout",
          "text": [
            "apple banana cake\n"
          ]
        }
      ]
    },
    {
      "cell_type": "code",
      "source": [
        "tuple(range(2,99,2))"
      ],
      "metadata": {
        "colab": {
          "base_uri": "https://localhost:8080/"
        },
        "id": "t0RPeyyG0x3I",
        "outputId": "d8c32f9a-ebda-49d5-f749-cc18ad70bdf4"
      },
      "execution_count": null,
      "outputs": [
        {
          "output_type": "execute_result",
          "data": {
            "text/plain": [
              "(2,\n",
              " 4,\n",
              " 6,\n",
              " 8,\n",
              " 10,\n",
              " 12,\n",
              " 14,\n",
              " 16,\n",
              " 18,\n",
              " 20,\n",
              " 22,\n",
              " 24,\n",
              " 26,\n",
              " 28,\n",
              " 30,\n",
              " 32,\n",
              " 34,\n",
              " 36,\n",
              " 38,\n",
              " 40,\n",
              " 42,\n",
              " 44,\n",
              " 46,\n",
              " 48,\n",
              " 50,\n",
              " 52,\n",
              " 54,\n",
              " 56,\n",
              " 58,\n",
              " 60,\n",
              " 62,\n",
              " 64,\n",
              " 66,\n",
              " 68,\n",
              " 70,\n",
              " 72,\n",
              " 74,\n",
              " 76,\n",
              " 78,\n",
              " 80,\n",
              " 82,\n",
              " 84,\n",
              " 86,\n",
              " 88,\n",
              " 90,\n",
              " 92,\n",
              " 94,\n",
              " 96,\n",
              " 98)"
            ]
          },
          "metadata": {},
          "execution_count": 138
        }
      ]
    },
    {
      "cell_type": "markdown",
      "source": [
        "딕셔너리"
      ],
      "metadata": {
        "id": "d6NCgLKC1fQo"
      }
    },
    {
      "cell_type": "code",
      "source": [
        "ice = {'이름':['메로나','폴라포','빵빠레'],'가격':[1000, 1200, 1800]}\n",
        "ice"
      ],
      "metadata": {
        "colab": {
          "base_uri": "https://localhost:8080/"
        },
        "id": "sbGgulDr1CH-",
        "outputId": "083d6627-bf19-43e8-b44d-7db5d108f7a2"
      },
      "execution_count": null,
      "outputs": [
        {
          "output_type": "execute_result",
          "data": {
            "text/plain": [
              "{'이름': ['메로나', '폴라포', '빵빠레'], '가격': [1000, 1200, 1800]}"
            ]
          },
          "metadata": {},
          "execution_count": 155
        }
      ]
    },
    {
      "cell_type": "code",
      "source": [
        "ice['이름'] = ice['이름']+['죠스바', '월드콘', '슈퍼콘']\n",
        "ice['가격'] = ice['가격']+[1200, 1500, 2000]\n",
        "\n",
        "ice"
      ],
      "metadata": {
        "colab": {
          "base_uri": "https://localhost:8080/"
        },
        "id": "CNMHdFmd4sUf",
        "outputId": "81a62b86-93c7-4eec-f0a4-cf970f5e0f09"
      },
      "execution_count": null,
      "outputs": [
        {
          "output_type": "execute_result",
          "data": {
            "text/plain": [
              "{'이름': ['메로나', '폴라포', '빵빠레', '죠스바', '월드콘', '슈퍼콘'],\n",
              " '가격': [1000, 1200, 1800, 1200, 1500, 2000]}"
            ]
          },
          "metadata": {},
          "execution_count": 156
        }
      ]
    },
    {
      "cell_type": "code",
      "source": [
        "ice['이름'][0]\n",
        "ice['가격'][0]"
      ],
      "metadata": {
        "colab": {
          "base_uri": "https://localhost:8080/"
        },
        "id": "NU8yvj1z5dVH",
        "outputId": "ecb8e1f6-3012-469f-8aeb-3e0f06245df3"
      },
      "execution_count": null,
      "outputs": [
        {
          "output_type": "execute_result",
          "data": {
            "text/plain": [
              "1000"
            ]
          },
          "metadata": {},
          "execution_count": 143
        }
      ]
    },
    {
      "cell_type": "code",
      "source": [
        "cream = {}\n",
        "for k, v in zip(ice['이름'],ice['가격']):\n",
        "  cream[k] = v\n",
        "cream"
      ],
      "metadata": {
        "colab": {
          "base_uri": "https://localhost:8080/"
        },
        "id": "36El1E6Q5q4N",
        "outputId": "c687f9fe-9855-405e-971c-c20370c2e988"
      },
      "execution_count": null,
      "outputs": [
        {
          "output_type": "execute_result",
          "data": {
            "text/plain": [
              "{'메로나': 1000, '폴라포': 1200, '빵빠레': 1800, '죠스바': 1200, '월드콘': 1500, '슈퍼콘': 2000}"
            ]
          },
          "metadata": {},
          "execution_count": 144
        }
      ]
    },
    {
      "cell_type": "code",
      "source": [
        "cream['메로나']"
      ],
      "metadata": {
        "colab": {
          "base_uri": "https://localhost:8080/"
        },
        "id": "437G2HhF6Oxc",
        "outputId": "585d49eb-45d0-4db3-97c5-d9bdec27ab70"
      },
      "execution_count": null,
      "outputs": [
        {
          "output_type": "execute_result",
          "data": {
            "text/plain": [
              "1000"
            ]
          },
          "metadata": {},
          "execution_count": 145
        }
      ]
    },
    {
      "cell_type": "code",
      "source": [
        "cream['메로나']=1300\n",
        "cream"
      ],
      "metadata": {
        "colab": {
          "base_uri": "https://localhost:8080/"
        },
        "id": "5z12stUR6bJh",
        "outputId": "16a54a95-2412-4302-e600-969a96f8d468"
      },
      "execution_count": null,
      "outputs": [
        {
          "output_type": "execute_result",
          "data": {
            "text/plain": [
              "{'메로나': 1300, '폴라포': 1200, '빵빠레': 1800, '죠스바': 1200, '월드콘': 1500, '슈퍼콘': 2000}"
            ]
          },
          "metadata": {},
          "execution_count": 146
        }
      ]
    },
    {
      "cell_type": "markdown",
      "source": [
        "이전 딕셔너리에 아이스크림 가격정보 추가하는 방법"
      ],
      "metadata": {
        "id": "B10Q08WO7dIH"
      }
    },
    {
      "cell_type": "code",
      "source": [
        "for i in range(len(name)):\n",
        "  ice[name[i]] = price[i]"
      ],
      "metadata": {
        "id": "jLkY0vKw6maV"
      },
      "execution_count": null,
      "outputs": []
    },
    {
      "cell_type": "code",
      "source": [
        "ice['가격'][0]=1300\n",
        "ice"
      ],
      "metadata": {
        "colab": {
          "base_uri": "https://localhost:8080/"
        },
        "id": "nHWwXtCf7j6d",
        "outputId": "900ffaae-c307-4519-eec6-00f68eb021b0"
      },
      "execution_count": null,
      "outputs": [
        {
          "output_type": "execute_result",
          "data": {
            "text/plain": [
              "{'이름': ['메로나', '폴라포', '빵빠레', '죠스바', '월드콘', '슈퍼콘'],\n",
              " '가격': [1300, 1200, 1800, 1200, 1500, 2000]}"
            ]
          },
          "metadata": {},
          "execution_count": 147
        }
      ]
    },
    {
      "cell_type": "code",
      "source": [
        "del cream['메로나']\n",
        "cream"
      ],
      "metadata": {
        "colab": {
          "base_uri": "https://localhost:8080/"
        },
        "id": "AoCTJ3GW8FSz",
        "outputId": "24cc8007-5855-40b8-e4f3-8c74d1d9cf04"
      },
      "execution_count": null,
      "outputs": [
        {
          "output_type": "execute_result",
          "data": {
            "text/plain": [
              "{'폴라포': 1200, '빵빠레': 1800, '죠스바': 1200, '월드콘': 1500, '슈퍼콘': 2000}"
            ]
          },
          "metadata": {},
          "execution_count": 151
        }
      ]
    },
    {
      "cell_type": "code",
      "source": [
        "ice['이름'] = ice['이름'][1:]\n",
        "ice['가격'] = ice['가격'][1:]\n",
        "ice"
      ],
      "metadata": {
        "colab": {
          "base_uri": "https://localhost:8080/"
        },
        "id": "nkIryGoB98SN",
        "outputId": "fbd9e7a4-4647-41ae-a298-064283318b36"
      },
      "execution_count": null,
      "outputs": [
        {
          "output_type": "execute_result",
          "data": {
            "text/plain": [
              "{'이름': ['폴라포', '빵빠레', '죠스바', '월드콘', '슈퍼콘'],\n",
              " '가격': [1200, 1800, 1200, 1500, 2000]}"
            ]
          },
          "metadata": {},
          "execution_count": 157
        }
      ]
    },
    {
      "cell_type": "code",
      "source": [
        "new_name=ice['이름'][1:]\n",
        "new_price=ice['가격'][1:]\n",
        "\n",
        "ice = {'이름':new_name, '가격': new_price}\n",
        "ice"
      ],
      "metadata": {
        "colab": {
          "base_uri": "https://localhost:8080/"
        },
        "id": "jxM45xCL8kkw",
        "outputId": "0a188bce-74f3-47c3-8240-c9c1b6aa9461"
      },
      "execution_count": null,
      "outputs": [
        {
          "output_type": "execute_result",
          "data": {
            "text/plain": [
              "{'이름': ['폴라포', '빵빠레', '죠스바', '월드콘', '슈퍼콘'],\n",
              " '가격': [1200, 1800, 1200, 1500, 2000]}"
            ]
          },
          "metadata": {},
          "execution_count": 152
        }
      ]
    },
    {
      "cell_type": "code",
      "source": [
        "icecream = {'폴라포': 1200, '빵빠레': 1800, '월드콘': 1500, '메로나': 1000}\n",
        "icecream['누가바'] = 500\n",
        "icecream"
      ],
      "metadata": {
        "colab": {
          "base_uri": "https://localhost:8080/"
        },
        "id": "c_h-YPbs90SF",
        "outputId": "1c5fb3d1-bc80-49e0-a3d5-eaf5652ee910"
      },
      "execution_count": null,
      "outputs": [
        {
          "output_type": "execute_result",
          "data": {
            "text/plain": [
              "{'폴라포': 1200, '빵빠레': 1800, '월드콘': 1500, '메로나': 1000, '누가바': 500}"
            ]
          },
          "metadata": {},
          "execution_count": 158
        }
      ]
    },
    {
      "cell_type": "code",
      "source": [
        "icecream = {'메로나':[300,20],'죠스바':[400,3],'비비빅':[250,100]}"
      ],
      "metadata": {
        "id": "OKjHuTIg-di2"
      },
      "execution_count": null,
      "outputs": []
    },
    {
      "cell_type": "code",
      "source": [
        "print(icecream['메로나'][0],\"원\")"
      ],
      "metadata": {
        "colab": {
          "base_uri": "https://localhost:8080/"
        },
        "id": "3_5WIpLj-2qF",
        "outputId": "f4fcfddd-b954-4847-d471-c40f1f4b925f"
      },
      "execution_count": null,
      "outputs": [
        {
          "output_type": "stream",
          "name": "stdout",
          "text": [
            "300 원\n"
          ]
        }
      ]
    },
    {
      "cell_type": "code",
      "source": [
        "print(icecream['메로나'][1], \"개\")"
      ],
      "metadata": {
        "colab": {
          "base_uri": "https://localhost:8080/"
        },
        "id": "2LijND6--568",
        "outputId": "13b0457b-7bd8-4614-c35e-15366f855480"
      },
      "execution_count": null,
      "outputs": [
        {
          "output_type": "stream",
          "name": "stdout",
          "text": [
            "20 개\n"
          ]
        }
      ]
    },
    {
      "cell_type": "code",
      "source": [
        "icecream['월드콘'] = [500,7]\n",
        "icecream"
      ],
      "metadata": {
        "colab": {
          "base_uri": "https://localhost:8080/"
        },
        "id": "HkHbpig8_R0Q",
        "outputId": "da57a16f-c65c-4219-adb2-67d5c92b4c00"
      },
      "execution_count": null,
      "outputs": [
        {
          "output_type": "execute_result",
          "data": {
            "text/plain": [
              "{'메로나': [300, 20], '죠스바': [400, 3], '비비빅': [250, 100], '월드콘': [500, 7]}"
            ]
          },
          "metadata": {},
          "execution_count": 10
        }
      ]
    },
    {
      "cell_type": "code",
      "source": [
        "list(icecream.keys())"
      ],
      "metadata": {
        "colab": {
          "base_uri": "https://localhost:8080/"
        },
        "id": "Bwt1-E4e_u2M",
        "outputId": "2cdd9819-9fb3-462c-e704-8c1c67f32dc3"
      },
      "execution_count": null,
      "outputs": [
        {
          "output_type": "execute_result",
          "data": {
            "text/plain": [
              "['메로나', '죠스바', '비비빅', '월드콘']"
            ]
          },
          "metadata": {},
          "execution_count": 172
        }
      ]
    },
    {
      "cell_type": "code",
      "source": [
        "list(icecream.values())"
      ],
      "metadata": {
        "colab": {
          "base_uri": "https://localhost:8080/"
        },
        "id": "KsQhmRDyAxJ7",
        "outputId": "0202aeed-4b33-4ada-a4d5-98d292fe7157"
      },
      "execution_count": null,
      "outputs": [
        {
          "output_type": "execute_result",
          "data": {
            "text/plain": [
              "[[300, 20], [400, 3], [250, 100], [500, 7]]"
            ]
          },
          "metadata": {},
          "execution_count": 174
        }
      ]
    },
    {
      "cell_type": "code",
      "source": [
        "num = list(icecream.values())"
      ],
      "metadata": {
        "id": "5-e8luHFA-Xv"
      },
      "execution_count": null,
      "outputs": []
    },
    {
      "cell_type": "code",
      "source": [
        "first = num[0]\n",
        "first[0] * first[1]"
      ],
      "metadata": {
        "colab": {
          "base_uri": "https://localhost:8080/"
        },
        "id": "5lJdl82IBIvj",
        "outputId": "fc88f667-4afe-410c-9b57-ff866fbacf03"
      },
      "execution_count": null,
      "outputs": [
        {
          "output_type": "execute_result",
          "data": {
            "text/plain": [
              "6000"
            ]
          },
          "metadata": {},
          "execution_count": 177
        }
      ]
    },
    {
      "cell_type": "markdown",
      "source": [
        "연습하기"
      ],
      "metadata": {
        "id": "mnsS88_GCZPy"
      }
    },
    {
      "cell_type": "code",
      "source": [
        "num = list(icecream.values())\n",
        "total = 0\n",
        "for i in range(len(num)):\n",
        "  price = num[i]\n",
        "  pr = price[0] * price[1]\n",
        "  total += pr\n",
        "\n",
        "total"
      ],
      "metadata": {
        "colab": {
          "base_uri": "https://localhost:8080/"
        },
        "id": "DzaCRc-1Bzft",
        "outputId": "47fe6ca8-f2dd-4821-a814-6b5c62701940"
      },
      "execution_count": null,
      "outputs": [
        {
          "output_type": "execute_result",
          "data": {
            "text/plain": [
              "35700"
            ]
          },
          "metadata": {},
          "execution_count": 178
        }
      ]
    },
    {
      "cell_type": "code",
      "source": [
        "num = list(icecream.values())\n",
        "total = 0\n",
        "\n",
        "for i in range(len(num)):\n",
        "  price = num[i]\n",
        "  pr = price[0] * price[1]\n",
        "  total += pr\n",
        "\n",
        "total"
      ],
      "metadata": {
        "colab": {
          "base_uri": "https://localhost:8080/"
        },
        "id": "4WhEMGZ1vByP",
        "outputId": "1be64564-2d33-4522-c4bf-125f712bed6f"
      },
      "execution_count": null,
      "outputs": [
        {
          "output_type": "execute_result",
          "data": {
            "text/plain": [
              "35700"
            ]
          },
          "metadata": {},
          "execution_count": 11
        }
      ]
    },
    {
      "cell_type": "code",
      "source": [
        "icecream = {'탱크보이': 1200, '폴라포': 1200, '빵빠레': 1800, '월드콘': 1500, '메로나': 1000}\n",
        "new_product = {'팥빙수':2700, '아맛나':1000}\n",
        "icecream.update(new_product)\n",
        "icecream"
      ],
      "metadata": {
        "colab": {
          "base_uri": "https://localhost:8080/"
        },
        "id": "yk9zmrlDCWDh",
        "outputId": "54e3c90f-933d-4177-91ec-bae20abb3879"
      },
      "execution_count": null,
      "outputs": [
        {
          "output_type": "execute_result",
          "data": {
            "text/plain": [
              "{'탱크보이': 1200,\n",
              " '폴라포': 1200,\n",
              " '빵빠레': 1800,\n",
              " '월드콘': 1500,\n",
              " '메로나': 1000,\n",
              " '팥빙수': 2700,\n",
              " '아맛나': 1000}"
            ]
          },
          "metadata": {},
          "execution_count": 179
        }
      ]
    },
    {
      "cell_type": "code",
      "source": [
        "keys = (\"apple\", \"pear\", \"peach\")\n",
        "vals = (300, 250, 400)\n",
        "\n",
        "result = dict(zip(keys, vals))"
      ],
      "metadata": {
        "colab": {
          "base_uri": "https://localhost:8080/"
        },
        "id": "VpW7-CWGCzer",
        "outputId": "56fc8b34-9de3-4d18-cb20-54dbc2a50a6f"
      },
      "execution_count": null,
      "outputs": [
        {
          "output_type": "execute_result",
          "data": {
            "text/plain": [
              "{'apple': 300, 'pear': 250, 'peach': 400}"
            ]
          },
          "metadata": {},
          "execution_count": 182
        }
      ]
    },
    {
      "cell_type": "code",
      "source": [
        "for i, j in enumerate(keys):\n",
        "  print(i, j)"
      ],
      "metadata": {
        "colab": {
          "base_uri": "https://localhost:8080/"
        },
        "id": "ZbwiJUOSDGtE",
        "outputId": "78d5fe5a-3419-4241-9e77-be1cd12e3608"
      },
      "execution_count": null,
      "outputs": [
        {
          "output_type": "stream",
          "name": "stdout",
          "text": [
            "0 apple\n",
            "1 pear\n",
            "2 peach\n"
          ]
        }
      ]
    },
    {
      "cell_type": "code",
      "source": [
        "date = ['09/05', '09/06', '09/07', '09/08', '09/09']\n",
        "close_price = [10500, 10300, 10100, 10800, 11000]\n",
        "\n",
        "close_table = dict(zip(date, close_price))\n",
        "close_table"
      ],
      "metadata": {
        "colab": {
          "base_uri": "https://localhost:8080/"
        },
        "id": "aDuVGWPGDZjj",
        "outputId": "12d0c10d-cdeb-42ae-ee18-f034eb983061"
      },
      "execution_count": null,
      "outputs": [
        {
          "output_type": "execute_result",
          "data": {
            "text/plain": [
              "{'09/05': 10500,\n",
              " '09/06': 10300,\n",
              " '09/07': 10100,\n",
              " '09/08': 10800,\n",
              " '09/09': 11000}"
            ]
          },
          "metadata": {},
          "execution_count": 184
        }
      ]
    },
    {
      "cell_type": "markdown",
      "source": [
        "조건문과 함수(조건부 표현식)"
      ],
      "metadata": {
        "id": "jHTV3mOSD_ZJ"
      }
    },
    {
      "cell_type": "markdown",
      "source": [
        "문자열 출력 함수"
      ],
      "metadata": {
        "id": "SAYCGFVdMef2"
      }
    },
    {
      "cell_type": "code",
      "source": [
        "def repeat_string():\n",
        "  x = input()\n",
        "  return x * 2"
      ],
      "metadata": {
        "id": "_2aMUSsODy-4"
      },
      "execution_count": null,
      "outputs": []
    },
    {
      "cell_type": "code",
      "source": [
        "repeat_string()"
      ],
      "metadata": {
        "colab": {
          "base_uri": "https://localhost:8080/",
          "height": 54
        },
        "id": "FVnexgOhEfg_",
        "outputId": "605b7171-3bf3-4a6e-cb03-3dbaf508f91e"
      },
      "execution_count": null,
      "outputs": [
        {
          "name": "stdout",
          "output_type": "stream",
          "text": [
            "힘내자\n"
          ]
        },
        {
          "output_type": "execute_result",
          "data": {
            "text/plain": [
              "'힘내자힘내자'"
            ],
            "application/vnd.google.colaboratory.intrinsic+json": {
              "type": "string"
            }
          },
          "metadata": {},
          "execution_count": 186
        }
      ]
    },
    {
      "cell_type": "markdown",
      "source": [
        "숫자 입력 및 연산 함수"
      ],
      "metadata": {
        "id": "XhpbyTsiMgfw"
      }
    },
    {
      "cell_type": "code",
      "source": [
        "def add_ten(a):\n",
        "  a += 10\n",
        "  return a"
      ],
      "metadata": {
        "id": "TcRoqf7WEhfv"
      },
      "execution_count": null,
      "outputs": []
    },
    {
      "cell_type": "code",
      "source": [
        "add_ten(10)"
      ],
      "metadata": {
        "colab": {
          "base_uri": "https://localhost:8080/"
        },
        "id": "F1r0j69VEyP_",
        "outputId": "1bbdc344-8f8f-43b1-b9d8-5f6832755c6f"
      },
      "execution_count": null,
      "outputs": [
        {
          "output_type": "execute_result",
          "data": {
            "text/plain": [
              "20"
            ]
          },
          "metadata": {},
          "execution_count": 198
        }
      ]
    },
    {
      "cell_type": "markdown",
      "source": [
        "짝수/홀수 판별 함수"
      ],
      "metadata": {
        "id": "07VfitqvMiwm"
      }
    },
    {
      "cell_type": "code",
      "source": [
        "def even_or_odd(b):\n",
        "  if b%2 == 0:\n",
        "    print(\"짝수\")\n",
        "  else :\n",
        "    print(\"홀수\")"
      ],
      "metadata": {
        "id": "-qbl-6i4Ezw8"
      },
      "execution_count": null,
      "outputs": []
    },
    {
      "cell_type": "code",
      "source": [
        "even_or_odd(10)"
      ],
      "metadata": {
        "colab": {
          "base_uri": "https://localhost:8080/"
        },
        "id": "KC28mgw6Iu3B",
        "outputId": "1b725fc0-d70c-4392-d714-86421568f5b3"
      },
      "execution_count": null,
      "outputs": [
        {
          "output_type": "stream",
          "name": "stdout",
          "text": [
            "짝수\n"
          ]
        }
      ]
    },
    {
      "cell_type": "markdown",
      "source": [
        "입력 값에 20 더하기 함수"
      ],
      "metadata": {
        "id": "C9qMttI5Mn0H"
      }
    },
    {
      "cell_type": "code",
      "source": [
        "def add_twenty(c):\n",
        "  c += 20\n",
        "  if c > 255:\n",
        "    print(255)\n",
        "  else:\n",
        "    print(c)"
      ],
      "metadata": {
        "id": "cnxE53P_IzWI"
      },
      "execution_count": null,
      "outputs": []
    },
    {
      "cell_type": "code",
      "source": [
        "add_twenty(15)"
      ],
      "metadata": {
        "colab": {
          "base_uri": "https://localhost:8080/"
        },
        "id": "D0EFA3_0LOeG",
        "outputId": "35281cb3-e612-4a81-e2cb-916b2ac262e8"
      },
      "execution_count": null,
      "outputs": [
        {
          "output_type": "stream",
          "name": "stdout",
          "text": [
            "35\n"
          ]
        }
      ]
    },
    {
      "cell_type": "code",
      "source": [
        "def add_twenty(n):\n",
        "  if n + 20 > 255:\n",
        "    return 255\n",
        "  else:\n",
        "    return n + 20"
      ],
      "metadata": {
        "id": "Ueczl46fvbW9"
      },
      "execution_count": null,
      "outputs": []
    },
    {
      "cell_type": "code",
      "source": [
        "add_twenty(250)"
      ],
      "metadata": {
        "colab": {
          "base_uri": "https://localhost:8080/"
        },
        "id": "HY5-yJ9zvoV4",
        "outputId": "6bfff476-6b6a-44e8-9b9b-c88d53a08f05"
      },
      "execution_count": null,
      "outputs": [
        {
          "output_type": "execute_result",
          "data": {
            "text/plain": [
              "255"
            ]
          },
          "metadata": {},
          "execution_count": 13
        }
      ]
    },
    {
      "cell_type": "code",
      "source": [
        "def add_twenty(n):\n",
        "  return 255 if n + 20 > 255 else n + 20"
      ],
      "metadata": {
        "id": "Oit_qD_zvssA"
      },
      "execution_count": null,
      "outputs": []
    },
    {
      "cell_type": "code",
      "source": [
        "add_twenty(150)"
      ],
      "metadata": {
        "colab": {
          "base_uri": "https://localhost:8080/"
        },
        "id": "w1Q9bllsv2bu",
        "outputId": "f8249253-2061-4bba-cf3b-a8990f3505b4"
      },
      "execution_count": null,
      "outputs": [
        {
          "output_type": "execute_result",
          "data": {
            "text/plain": [
              "170"
            ]
          },
          "metadata": {},
          "execution_count": 15
        }
      ]
    },
    {
      "cell_type": "markdown",
      "source": [
        "입력 값에서 20 빼기 함수"
      ],
      "metadata": {
        "id": "VIEez91DMphG"
      }
    },
    {
      "cell_type": "code",
      "source": [
        "def subtract_twenty(d):\n",
        "  result = d - 20\n",
        "  if result < 0:\n",
        "    return 0\n",
        "  elif result > 255:\n",
        "    return 255\n",
        "  else:\n",
        "    return result"
      ],
      "metadata": {
        "id": "sWV0UF3jLRwl"
      },
      "execution_count": null,
      "outputs": []
    },
    {
      "cell_type": "code",
      "source": [
        "subtract_twenty(30)"
      ],
      "metadata": {
        "colab": {
          "base_uri": "https://localhost:8080/"
        },
        "id": "NozTPaM6Lvhe",
        "outputId": "8a7f79cd-5316-4068-b13c-02a0e09f9fb2"
      },
      "execution_count": null,
      "outputs": [
        {
          "output_type": "execute_result",
          "data": {
            "text/plain": [
              "10"
            ]
          },
          "metadata": {},
          "execution_count": 244
        }
      ]
    },
    {
      "cell_type": "code",
      "source": [
        "def subtract_twenty(n):\n",
        "  result = n - 20\n",
        "  if result < 0:\n",
        "    return 0\n",
        "  elif result > 255:\n",
        "    return 255\n",
        "  else:\n",
        "    return result"
      ],
      "metadata": {
        "id": "oHwHy-p2v97t"
      },
      "execution_count": null,
      "outputs": []
    },
    {
      "cell_type": "code",
      "source": [
        "subtract_twenty(300)"
      ],
      "metadata": {
        "colab": {
          "base_uri": "https://localhost:8080/"
        },
        "id": "ZkXQqKGGwQte",
        "outputId": "3077893f-a2a8-401b-de62-6f7be5b70f88"
      },
      "execution_count": null,
      "outputs": [
        {
          "output_type": "execute_result",
          "data": {
            "text/plain": [
              "255"
            ]
          },
          "metadata": {},
          "execution_count": 17
        }
      ]
    },
    {
      "cell_type": "markdown",
      "source": [
        "정각 판별 함수 ***\n",
        "\n",
        "\n"
      ],
      "metadata": {
        "id": "UWkYD6X0Mr0W"
      }
    },
    {
      "cell_type": "code",
      "source": [
        "def is_exact_hour(time_str):\n",
        "  if time_str.split(':')[1] == '00':\n",
        "    return \"정각입니다.\"\n",
        "  else:\n",
        "    return \"정각이 아닙니다.\""
      ],
      "metadata": {
        "id": "4yX-5YM5LyRn"
      },
      "execution_count": null,
      "outputs": []
    },
    {
      "cell_type": "code",
      "source": [
        "is_exact_hour('2:00')"
      ],
      "metadata": {
        "colab": {
          "base_uri": "https://localhost:8080/",
          "height": 35
        },
        "id": "kN_NHE6ZtEVM",
        "outputId": "abc55098-313e-41c9-d063-fb8033edda3a"
      },
      "execution_count": null,
      "outputs": [
        {
          "output_type": "execute_result",
          "data": {
            "text/plain": [
              "'정각입니다.'"
            ],
            "application/vnd.google.colaboratory.intrinsic+json": {
              "type": "string"
            }
          },
          "metadata": {},
          "execution_count": 5
        }
      ]
    },
    {
      "cell_type": "markdown",
      "source": [
        "과일 포함 여부 확인 함수"
      ],
      "metadata": {
        "id": "wogFqC9ANuLI"
      }
    },
    {
      "cell_type": "code",
      "source": [
        "fruit = [\"사과\", \"배\", \"체리\", \"수박\", \"파인애플\"]\n",
        "\n",
        "def is_in_fruit(f):\n",
        "  print(f in fruit)"
      ],
      "metadata": {
        "id": "d2TrKN3nNwDT"
      },
      "execution_count": null,
      "outputs": []
    },
    {
      "cell_type": "code",
      "source": [
        "is_in_fruit(\"포도\")"
      ],
      "metadata": {
        "colab": {
          "base_uri": "https://localhost:8080/"
        },
        "id": "AyH0Do5tO5CL",
        "outputId": "2b7ac0d4-1d0c-46b7-aee1-386f5b80bf76"
      },
      "execution_count": null,
      "outputs": [
        {
          "output_type": "stream",
          "name": "stdout",
          "text": [
            "False\n"
          ]
        }
      ]
    },
    {
      "cell_type": "code",
      "source": [
        "fruit = [\"사과\", \"포도\", \"홍시\"]\n",
        "\n",
        "def is_in_fruit(word):\n",
        "  if word in fruit:\n",
        "    return \"정답입니다.\"\n",
        "  else:\n",
        "    return \"오답입니다.\""
      ],
      "metadata": {
        "id": "OFdxNkEatRY7"
      },
      "execution_count": null,
      "outputs": []
    },
    {
      "cell_type": "code",
      "source": [
        "is_in_fruit('사과')"
      ],
      "metadata": {
        "colab": {
          "base_uri": "https://localhost:8080/",
          "height": 35
        },
        "id": "qxFOiXEnwBKg",
        "outputId": "393ab310-1cc5-448b-e2df-722b5627a52c"
      },
      "execution_count": null,
      "outputs": [
        {
          "output_type": "execute_result",
          "data": {
            "text/plain": [
              "'정답입니다.'"
            ],
            "application/vnd.google.colaboratory.intrinsic+json": {
              "type": "string"
            }
          },
          "metadata": {},
          "execution_count": 13
        }
      ]
    },
    {
      "cell_type": "markdown",
      "source": [
        "투자 경고 종목 확인 함수"
      ],
      "metadata": {
        "id": "dyFLLrL1PtKX"
      }
    },
    {
      "cell_type": "code",
      "source": [
        "event = [\"주식\", \"연금\", \"적금\"]\n",
        "\n",
        "def is_warn_stock(g):\n",
        "  if g in event:\n",
        "    print(\"투자 권고 종목입니다.\")\n",
        "  else:\n",
        "    print(\"투자 경고 종목입니다.\")"
      ],
      "metadata": {
        "id": "hIHIVWk-O7uC"
      },
      "execution_count": null,
      "outputs": []
    },
    {
      "cell_type": "code",
      "source": [
        "is_warn_stock(\"ETF\")"
      ],
      "metadata": {
        "colab": {
          "base_uri": "https://localhost:8080/"
        },
        "id": "WnW0UuahQuVB",
        "outputId": "072e0340-463b-4850-a60a-876bc468efad"
      },
      "execution_count": null,
      "outputs": [
        {
          "output_type": "stream",
          "name": "stdout",
          "text": [
            "투자 경고 종목입니다.\n"
          ]
        }
      ]
    },
    {
      "cell_type": "code",
      "source": [
        "warn_investment_list = [\"Microsoft\", \"Google\", \"Naver\", \"Kakao\", \"SAMSUNG\", \"LG\"]\n",
        "\n",
        "def is_warn_stock(stock):\n",
        "  return \"투자 경고 종목입니다.\" if stock in warn_investment_list else \"투자 경고 종목이 아닙니다.\""
      ],
      "metadata": {
        "id": "LNLf6uWIwaNz"
      },
      "execution_count": null,
      "outputs": []
    },
    {
      "cell_type": "code",
      "source": [
        "is_warn_stock('Google')"
      ],
      "metadata": {
        "colab": {
          "base_uri": "https://localhost:8080/",
          "height": 35
        },
        "id": "gOZb_wj5w4uX",
        "outputId": "2360fbec-e932-4a88-9434-78e5278ed02d"
      },
      "execution_count": null,
      "outputs": [
        {
          "output_type": "execute_result",
          "data": {
            "text/plain": [
              "'투자 경고 종목입니다.'"
            ],
            "application/vnd.google.colaboratory.intrinsic+json": {
              "type": "string"
            }
          },
          "metadata": {},
          "execution_count": 17
        }
      ]
    },
    {
      "cell_type": "markdown",
      "source": [
        "딕셔너리 값 확인 함수"
      ],
      "metadata": {
        "id": "-tYLLvJGQ1a2"
      }
    },
    {
      "cell_type": "code",
      "source": [
        "icecream = {'탱크보이': 1200, '폴라포': 1200, '빵빠레': 1800, '월드콘': 1500, '메로나': 1000, '팥빙수': 2700, '아맛나': 1000}\n",
        "\n",
        "def is_in_values(h):\n",
        "  print(h in icecream.values())"
      ],
      "metadata": {
        "id": "kqnFSqX1QxON"
      },
      "execution_count": null,
      "outputs": []
    },
    {
      "cell_type": "code",
      "source": [
        "is_in_values(1200)"
      ],
      "metadata": {
        "colab": {
          "base_uri": "https://localhost:8080/"
        },
        "id": "tGzyqc8eSB2l",
        "outputId": "d341f2d5-e514-43ba-a8f6-215e4c9a5535"
      },
      "execution_count": null,
      "outputs": [
        {
          "output_type": "stream",
          "name": "stdout",
          "text": [
            "True\n"
          ]
        }
      ]
    },
    {
      "cell_type": "code",
      "source": [
        "fruit_dict = {\"봄\": \"딸기\", \"여름\": \"토마토\", \"가을\": \"사과\"}\n",
        "\n",
        "def is_in_values(value):\n",
        "  if value in fruit_dict:\n",
        "    return \"정답입니다.\"\n",
        "  else:\n",
        "    return \"오답입니다.\""
      ],
      "metadata": {
        "id": "arqJRSaDxU7s"
      },
      "execution_count": null,
      "outputs": []
    },
    {
      "cell_type": "code",
      "source": [
        "is_in_values(\"봄\")"
      ],
      "metadata": {
        "colab": {
          "base_uri": "https://localhost:8080/",
          "height": 35
        },
        "id": "YkN9_afwxjkQ",
        "outputId": "b09d3c6c-ea3f-4e24-ee17-dd7ca4fcf50f"
      },
      "execution_count": null,
      "outputs": [
        {
          "output_type": "execute_result",
          "data": {
            "text/plain": [
              "'정답입니다.'"
            ],
            "application/vnd.google.colaboratory.intrinsic+json": {
              "type": "string"
            }
          },
          "metadata": {},
          "execution_count": 28
        }
      ]
    },
    {
      "cell_type": "markdown",
      "source": [
        "for문 문제"
      ],
      "metadata": {
        "id": "hnCNj5-0Tusj"
      }
    },
    {
      "cell_type": "markdown",
      "source": [
        "주어진 리스트 내의 모든 소수(Prime Number)를 찾아 출력하라. 예를 들어, 리스트가 [10, 15, 23, 42, 53, 64]일 때, 소수는 23과 53이다. ***"
      ],
      "metadata": {
        "id": "zjevXr65T7rE"
      }
    },
    {
      "cell_type": "code",
      "source": [
        "numbers = [10, 15, 23, 42, 53, 64]\n",
        "\n",
        "for i in numbers:\n",
        "    if i > 1:\n",
        "      for j in range(2, i):\n",
        "        if (i % j) == 0:\n",
        "          break\n",
        "      else:\n",
        "        print(i)\n"
      ],
      "metadata": {
        "colab": {
          "base_uri": "https://localhost:8080/"
        },
        "id": "k7_r3eqYSE1k",
        "outputId": "50c900e5-dc68-47f3-f812-ef79f67894be"
      },
      "execution_count": null,
      "outputs": [
        {
          "output_type": "stream",
          "name": "stdout",
          "text": [
            "23\n",
            "53\n"
          ]
        }
      ]
    },
    {
      "cell_type": "markdown",
      "source": [
        "문자열 리스트 [\"apple\", \"banana\", \"cherry\"]에서 각 문자열의 모든 문자를 대문자로 변환하여 역순으로 출력하라."
      ],
      "metadata": {
        "id": "aSVjpzcgekCL"
      }
    },
    {
      "cell_type": "code",
      "source": [
        "fruits = [\"apple\", \"banana\", \"cherry\"]\n",
        "\n",
        "for fruit in fruits:\n",
        "  print(fruit.upper()[::-1])"
      ],
      "metadata": {
        "id": "Ck5hFuXdWoci",
        "colab": {
          "base_uri": "https://localhost:8080/"
        },
        "outputId": "0f38c21b-cbb4-4101-c052-0e318598e2aa"
      },
      "execution_count": null,
      "outputs": [
        {
          "output_type": "stream",
          "name": "stdout",
          "text": [
            "ELPPA\n",
            "ANANAB\n",
            "YRREHC\n"
          ]
        }
      ]
    },
    {
      "cell_type": "markdown",
      "source": [
        "이중 for문 문제"
      ],
      "metadata": {
        "id": "NgYcPuuKemCJ"
      }
    },
    {
      "cell_type": "markdown",
      "source": [
        "1부터 5까지의 숫자를 이용해 5x5 격자의 숫자 패턴을 출력하라. 각 줄의 숫자는 이전 줄보다 하나씩 증가한다."
      ],
      "metadata": {
        "id": "eoD9nra9enwz"
      }
    },
    {
      "cell_type": "code",
      "source": [
        "for i in range(1,6):\n",
        "  print(i, i+1)"
      ],
      "metadata": {
        "id": "YqRUUtUWepYx",
        "colab": {
          "base_uri": "https://localhost:8080/"
        },
        "outputId": "eb6911ca-6184-4b0a-8cbb-062731298401"
      },
      "execution_count": null,
      "outputs": [
        {
          "output_type": "stream",
          "name": "stdout",
          "text": [
            "1 2\n",
            "2 3\n",
            "3 4\n",
            "4 5\n",
            "5 6\n"
          ]
        }
      ]
    },
    {
      "cell_type": "markdown",
      "source": [
        "1부터 5까지의 숫자를 이용하여 다음과 같은 계단식 패턴을 출력하라."
      ],
      "metadata": {
        "id": "vQpPGMrfepul"
      }
    },
    {
      "cell_type": "code",
      "source": [
        "for i in range(1,6):\n",
        "  for j in range(i):\n",
        "    print(i, end = ' ')\n",
        "  print()"
      ],
      "metadata": {
        "id": "K88jP5cnerHZ",
        "colab": {
          "base_uri": "https://localhost:8080/"
        },
        "outputId": "aba0a25f-a93e-46b9-bd64-2b7d6f168ef7"
      },
      "execution_count": null,
      "outputs": [
        {
          "output_type": "stream",
          "name": "stdout",
          "text": [
            "1 \n",
            "2 2 \n",
            "3 3 3 \n",
            "4 4 4 4 \n",
            "5 5 5 5 5 \n"
          ]
        }
      ]
    },
    {
      "cell_type": "markdown",
      "source": [
        "while문 문제"
      ],
      "metadata": {
        "id": "4KT2WWdEesSm"
      }
    },
    {
      "cell_type": "markdown",
      "source": [
        "숫자 1000부터 시작하여, 17로 나누어떨어지는 첫 번째 숫자를 출력하라."
      ],
      "metadata": {
        "id": "1TM-7_NMetoH"
      }
    },
    {
      "cell_type": "code",
      "source": [
        "num = 1000\n",
        "\n",
        "while True:\n",
        "  if num % 17 == 0:\n",
        "    print(num)\n",
        "    break\n",
        "  num -= 1"
      ],
      "metadata": {
        "id": "PFUCWLIZev92",
        "colab": {
          "base_uri": "https://localhost:8080/"
        },
        "outputId": "d1b79202-f28c-45fb-f7ad-5760be75232f"
      },
      "execution_count": null,
      "outputs": [
        {
          "output_type": "stream",
          "name": "stdout",
          "text": [
            "986\n"
          ]
        }
      ]
    },
    {
      "cell_type": "markdown",
      "source": [
        "피보나치 수열의 첫 10개 항을 출력하라."
      ],
      "metadata": {
        "id": "S0-g3DfDewQS"
      }
    },
    {
      "cell_type": "code",
      "source": [
        "from logging import basicConfig\n",
        "a, b = 0, 1\n",
        "count = 0\n",
        "\n",
        "while count < 10:\n",
        "  print(a, end=' ')\n",
        "  a, b = b, a + b\n",
        "  count += 1"
      ],
      "metadata": {
        "id": "rrFv3A7FexXK",
        "colab": {
          "base_uri": "https://localhost:8080/"
        },
        "outputId": "90f500ac-19aa-4521-989f-6da03dc3e97f"
      },
      "execution_count": null,
      "outputs": [
        {
          "output_type": "stream",
          "name": "stdout",
          "text": [
            "0 1 1 2 3 5 8 13 21 34 "
          ]
        }
      ]
    },
    {
      "cell_type": "markdown",
      "source": [
        "continue를 사용하는 while문 문제"
      ],
      "metadata": {
        "id": "MGlefUx7exsP"
      }
    },
    {
      "cell_type": "markdown",
      "source": [
        "1부터 10까지의 숫자 중 홀수만 출력하라. 단, continue를 사용하라."
      ],
      "metadata": {
        "id": "2wVqpqeDe1Yp"
      }
    },
    {
      "cell_type": "code",
      "source": [
        "num = 1\n",
        "\n",
        "while num <= 10:\n",
        "  if num % 2 == 0:\n",
        "    num += 1\n",
        "    continue\n",
        "  print(num)\n",
        "  num += 1"
      ],
      "metadata": {
        "id": "AxiHSOiwe2pP",
        "colab": {
          "base_uri": "https://localhost:8080/"
        },
        "outputId": "72685b92-3033-4593-93d3-10d7810a2fd1"
      },
      "execution_count": null,
      "outputs": [
        {
          "output_type": "stream",
          "name": "stdout",
          "text": [
            "1\n",
            "3\n",
            "5\n",
            "7\n",
            "9\n"
          ]
        }
      ]
    },
    {
      "cell_type": "markdown",
      "source": [
        "-10부터 10까지의 숫자 중 음수가 아닌 숫자만 출력하라. 단, continue를 사용하라."
      ],
      "metadata": {
        "id": "qIcnVStfe26G"
      }
    },
    {
      "cell_type": "code",
      "source": [
        "num = -10\n",
        "\n",
        "while num <= 10:\n",
        "  if num < 0:\n",
        "    num += 1\n",
        "    continue\n",
        "  print(num)\n",
        "  num += 1"
      ],
      "metadata": {
        "id": "SVi0J4Kde4lv",
        "colab": {
          "base_uri": "https://localhost:8080/"
        },
        "outputId": "c5853c90-eda8-4c75-b9e6-d9b5e8f5881c"
      },
      "execution_count": null,
      "outputs": [
        {
          "output_type": "stream",
          "name": "stdout",
          "text": [
            "0\n",
            "1\n",
            "2\n",
            "3\n",
            "4\n",
            "5\n",
            "6\n",
            "7\n",
            "8\n",
            "9\n",
            "10\n"
          ]
        }
      ]
    },
    {
      "cell_type": "markdown",
      "source": [
        "리스트 컴프리핸션"
      ],
      "metadata": {
        "id": "gcn8Y8t9e5L4"
      }
    },
    {
      "cell_type": "markdown",
      "source": [
        "0부터 9까지의 숫자를 출력하라."
      ],
      "metadata": {
        "id": "aKDTg5vue6bG"
      }
    },
    {
      "cell_type": "code",
      "source": [
        "li = [i for i in range(0,10)]\n",
        "li"
      ],
      "metadata": {
        "id": "20hrW6The8KO",
        "colab": {
          "base_uri": "https://localhost:8080/"
        },
        "outputId": "3a7d2381-20dc-4fb1-edc9-c53c3521175c"
      },
      "execution_count": null,
      "outputs": [
        {
          "output_type": "execute_result",
          "data": {
            "text/plain": [
              "[0, 1, 2, 3, 4, 5, 6, 7, 8, 9]"
            ]
          },
          "metadata": {},
          "execution_count": 49
        }
      ]
    },
    {
      "cell_type": "markdown",
      "source": [
        "주어진 리스트의 모든 요소를 두 배하여 출력하라."
      ],
      "metadata": {
        "id": "YKQ260ghe8fd"
      }
    },
    {
      "cell_type": "code",
      "source": [
        "numbers = [1, 2, 3, 4, 5]\n",
        "num = [j * 2 for j in numbers]\n",
        "num"
      ],
      "metadata": {
        "id": "hyzyHRnre_pt",
        "colab": {
          "base_uri": "https://localhost:8080/"
        },
        "outputId": "f7318948-6577-4619-c531-3d2956dec5f8"
      },
      "execution_count": null,
      "outputs": [
        {
          "output_type": "execute_result",
          "data": {
            "text/plain": [
              "[2, 4, 6, 8, 10]"
            ]
          },
          "metadata": {},
          "execution_count": 50
        }
      ]
    },
    {
      "cell_type": "markdown",
      "source": [
        "1부터 20까지의 숫자 중, 3의 배수만 출력하라."
      ],
      "metadata": {
        "id": "az1MgB2zfAZF"
      }
    },
    {
      "cell_type": "code",
      "source": [
        "three = [k for k in range(1,20) if k % 3 == 0]\n",
        "three"
      ],
      "metadata": {
        "id": "VCjTHbPofBdV",
        "colab": {
          "base_uri": "https://localhost:8080/"
        },
        "outputId": "b33162b8-4611-4e38-9dcf-a13480a74144"
      },
      "execution_count": null,
      "outputs": [
        {
          "output_type": "execute_result",
          "data": {
            "text/plain": [
              "[3, 6, 9, 12, 15, 18]"
            ]
          },
          "metadata": {},
          "execution_count": 52
        }
      ]
    },
    {
      "cell_type": "markdown",
      "source": [
        "주어진 문자열 리스트에서 길이가 5 이상인 문자열만 출력하라."
      ],
      "metadata": {
        "id": "LcRuyxZ7fCIB"
      }
    },
    {
      "cell_type": "code",
      "source": [
        "words = [\"hello\", \"world\", \"python\", \"is\", \"awesome\"]\n",
        "word  = [a for a in words if len(a)>=5]\n",
        "word"
      ],
      "metadata": {
        "id": "DRJgbd-FfDkv",
        "colab": {
          "base_uri": "https://localhost:8080/"
        },
        "outputId": "24b4ae54-a473-47d0-e4cd-642a49fbf2c9"
      },
      "execution_count": null,
      "outputs": [
        {
          "output_type": "execute_result",
          "data": {
            "text/plain": [
              "['hello', 'world', 'python', 'awesome']"
            ]
          },
          "metadata": {},
          "execution_count": 2
        }
      ]
    },
    {
      "cell_type": "markdown",
      "source": [
        "0부터 100까지 짝수만 리스트에 담고 출력하라."
      ],
      "metadata": {
        "id": "CCAWad7FfERF"
      }
    },
    {
      "cell_type": "code",
      "source": [
        "li = []\n",
        "number = [li(num) for num in range(0,101) if num % 2 == 0]\n",
        "li"
      ],
      "metadata": {
        "id": "GGAH7FVNfFlH",
        "colab": {
          "base_uri": "https://localhost:8080/",
          "height": 313
        },
        "outputId": "c5e18399-f7e3-4432-f4d1-b1ed2a29935e"
      },
      "execution_count": null,
      "outputs": [
        {
          "output_type": "error",
          "ename": "TypeError",
          "evalue": "'list' object is not callable",
          "traceback": [
            "\u001b[0;31m---------------------------------------------------------------------------\u001b[0m",
            "\u001b[0;31mTypeError\u001b[0m                                 Traceback (most recent call last)",
            "\u001b[0;32m<ipython-input-4-406d40c2c3d4>\u001b[0m in \u001b[0;36m<cell line: 2>\u001b[0;34m()\u001b[0m\n\u001b[1;32m      1\u001b[0m \u001b[0mli\u001b[0m \u001b[0;34m=\u001b[0m \u001b[0;34m[\u001b[0m\u001b[0;34m]\u001b[0m\u001b[0;34m\u001b[0m\u001b[0;34m\u001b[0m\u001b[0m\n\u001b[0;32m----> 2\u001b[0;31m \u001b[0mnumber\u001b[0m \u001b[0;34m=\u001b[0m \u001b[0;34m[\u001b[0m\u001b[0mli\u001b[0m\u001b[0;34m(\u001b[0m\u001b[0mnum\u001b[0m\u001b[0;34m)\u001b[0m \u001b[0;32mfor\u001b[0m \u001b[0mnum\u001b[0m \u001b[0;32min\u001b[0m \u001b[0mrange\u001b[0m\u001b[0;34m(\u001b[0m\u001b[0;36m0\u001b[0m\u001b[0;34m,\u001b[0m\u001b[0;36m101\u001b[0m\u001b[0;34m)\u001b[0m \u001b[0;32mif\u001b[0m \u001b[0mnum\u001b[0m \u001b[0;34m%\u001b[0m \u001b[0;36m2\u001b[0m \u001b[0;34m==\u001b[0m \u001b[0;36m0\u001b[0m\u001b[0;34m]\u001b[0m\u001b[0;34m\u001b[0m\u001b[0;34m\u001b[0m\u001b[0m\n\u001b[0m\u001b[1;32m      3\u001b[0m \u001b[0mli\u001b[0m\u001b[0;34m\u001b[0m\u001b[0;34m\u001b[0m\u001b[0m\n",
            "\u001b[0;32m<ipython-input-4-406d40c2c3d4>\u001b[0m in \u001b[0;36m<listcomp>\u001b[0;34m(.0)\u001b[0m\n\u001b[1;32m      1\u001b[0m \u001b[0mli\u001b[0m \u001b[0;34m=\u001b[0m \u001b[0;34m[\u001b[0m\u001b[0;34m]\u001b[0m\u001b[0;34m\u001b[0m\u001b[0;34m\u001b[0m\u001b[0m\n\u001b[0;32m----> 2\u001b[0;31m \u001b[0mnumber\u001b[0m \u001b[0;34m=\u001b[0m \u001b[0;34m[\u001b[0m\u001b[0mli\u001b[0m\u001b[0;34m(\u001b[0m\u001b[0mnum\u001b[0m\u001b[0;34m)\u001b[0m \u001b[0;32mfor\u001b[0m \u001b[0mnum\u001b[0m \u001b[0;32min\u001b[0m \u001b[0mrange\u001b[0m\u001b[0;34m(\u001b[0m\u001b[0;36m0\u001b[0m\u001b[0;34m,\u001b[0m\u001b[0;36m101\u001b[0m\u001b[0;34m)\u001b[0m \u001b[0;32mif\u001b[0m \u001b[0mnum\u001b[0m \u001b[0;34m%\u001b[0m \u001b[0;36m2\u001b[0m \u001b[0;34m==\u001b[0m \u001b[0;36m0\u001b[0m\u001b[0;34m]\u001b[0m\u001b[0;34m\u001b[0m\u001b[0;34m\u001b[0m\u001b[0m\n\u001b[0m\u001b[1;32m      3\u001b[0m \u001b[0mli\u001b[0m\u001b[0;34m\u001b[0m\u001b[0;34m\u001b[0m\u001b[0m\n",
            "\u001b[0;31mTypeError\u001b[0m: 'list' object is not callable"
          ]
        }
      ]
    },
    {
      "cell_type": "code",
      "source": [],
      "metadata": {
        "id": "UwKLLvd5tqba"
      },
      "execution_count": null,
      "outputs": []
    }
  ]
}