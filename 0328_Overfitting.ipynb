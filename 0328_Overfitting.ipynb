{
  "nbformat": 4,
  "nbformat_minor": 0,
  "metadata": {
    "colab": {
      "provenance": [],
      "gpuType": "T4",
      "authorship_tag": "ABX9TyPHb5BSP+YLQJWgJ+p/BxJ5",
      "include_colab_link": true
    },
    "kernelspec": {
      "name": "python3",
      "display_name": "Python 3"
    },
    "language_info": {
      "name": "python"
    },
    "accelerator": "GPU"
  },
  "cells": [
    {
      "cell_type": "markdown",
      "metadata": {
        "id": "view-in-github",
        "colab_type": "text"
      },
      "source": [
        "<a href=\"https://colab.research.google.com/github/Eleemon98/Colaboratory/blob/main/0328_Overfitting.ipynb\" target=\"_parent\"><img src=\"https://colab.research.google.com/assets/colab-badge.svg\" alt=\"Open In Colab\"/></a>"
      ]
    },
    {
      "cell_type": "markdown",
      "source": [
        "패션 MNIST 데이셋을 활용한 분류 모델 만들기"
      ],
      "metadata": {
        "id": "P_4KYxz7tgZw"
      }
    },
    {
      "cell_type": "code",
      "execution_count": 1,
      "metadata": {
        "id": "f1JzS98OcOUh"
      },
      "outputs": [],
      "source": [
        "import tensorflow as tf\n",
        "import numpy as np\n",
        "import matplotlib.pyplot as plt"
      ]
    },
    {
      "cell_type": "code",
      "source": [
        "# 데이터셋 가져오기\n",
        "data = tf.keras.datasets.fashion_mnist\n",
        "\n",
        "(X_train, y_train), (X_test, y_test) = data.load_data()"
      ],
      "metadata": {
        "colab": {
          "base_uri": "https://localhost:8080/"
        },
        "id": "4hw0442_uFzY",
        "outputId": "6b8c9de8-6895-41ab-db66-838c840e95fe"
      },
      "execution_count": 2,
      "outputs": [
        {
          "output_type": "stream",
          "name": "stdout",
          "text": [
            "Downloading data from https://storage.googleapis.com/tensorflow/tf-keras-datasets/train-labels-idx1-ubyte.gz\n",
            "29515/29515 [==============================] - 0s 0us/step\n",
            "Downloading data from https://storage.googleapis.com/tensorflow/tf-keras-datasets/train-images-idx3-ubyte.gz\n",
            "26421880/26421880 [==============================] - 0s 0us/step\n",
            "Downloading data from https://storage.googleapis.com/tensorflow/tf-keras-datasets/t10k-labels-idx1-ubyte.gz\n",
            "5148/5148 [==============================] - 0s 0us/step\n",
            "Downloading data from https://storage.googleapis.com/tensorflow/tf-keras-datasets/t10k-images-idx3-ubyte.gz\n",
            "4422102/4422102 [==============================] - 0s 0us/step\n"
          ]
        }
      ]
    },
    {
      "cell_type": "code",
      "source": [
        "print(X_train.shape, X_test.shape)\n",
        "print(y_train.shape, y_test.shape)"
      ],
      "metadata": {
        "colab": {
          "base_uri": "https://localhost:8080/"
        },
        "id": "sTyeCV2lucsa",
        "outputId": "013a8374-ea03-47c7-e2f8-892701416265"
      },
      "execution_count": 4,
      "outputs": [
        {
          "output_type": "stream",
          "name": "stdout",
          "text": [
            "(60000, 28, 28) (10000, 28, 28)\n",
            "(60000,) (10000,)\n"
          ]
        }
      ]
    },
    {
      "cell_type": "code",
      "source": [
        "X_train.ndim"
      ],
      "metadata": {
        "colab": {
          "base_uri": "https://localhost:8080/"
        },
        "id": "Ntr5b8oGu7yv",
        "outputId": "cf10cb62-756e-4a89-e34e-b00e5abef9e3"
      },
      "execution_count": 5,
      "outputs": [
        {
          "output_type": "execute_result",
          "data": {
            "text/plain": [
              "3"
            ]
          },
          "metadata": {},
          "execution_count": 5
        }
      ]
    },
    {
      "cell_type": "code",
      "source": [
        "np.unique(y_test)"
      ],
      "metadata": {
        "colab": {
          "base_uri": "https://localhost:8080/"
        },
        "id": "pVJfga3UxLnw",
        "outputId": "c023be78-9877-45ee-e122-52669e0b1905"
      },
      "execution_count": 6,
      "outputs": [
        {
          "output_type": "execute_result",
          "data": {
            "text/plain": [
              "array([0, 1, 2, 3, 4, 5, 6, 7, 8, 9], dtype=uint8)"
            ]
          },
          "metadata": {},
          "execution_count": 6
        }
      ]
    },
    {
      "cell_type": "code",
      "source": [
        "class_names = ['T-shirt/top','Trouser', 'Pullover', 'Dress','Coat','Sandal', 'Shirt',\n",
        "               'Sneaker','Bag', 'Ankle boot']"
      ],
      "metadata": {
        "id": "_jPf00YdxOTe"
      },
      "execution_count": 3,
      "outputs": []
    },
    {
      "cell_type": "code",
      "source": [
        "plt.figure()\n",
        "plt.imshow(X_train[46587], cmap='gray')\n",
        "plt.grid(False)\n",
        "plt.show()"
      ],
      "metadata": {
        "colab": {
          "base_uri": "https://localhost:8080/",
          "height": 430
        },
        "id": "6aYrZDXzxieQ",
        "outputId": "2ac68041-8d68-4a0b-9307-6a502ba69c09"
      },
      "execution_count": 13,
      "outputs": [
        {
          "output_type": "display_data",
          "data": {
            "text/plain": [
              "<Figure size 640x480 with 1 Axes>"
            ],
            "image/png": "[encoded data removed]"
          },
          "metadata": {}
        }
      ]
    },
    {
      "cell_type": "code",
      "source": [
        "label = y_train[46587]\n",
        "print(class_names[label])"
      ],
      "metadata": {
        "colab": {
          "base_uri": "https://localhost:8080/"
        },
        "id": "y7hgjd_RyXZv",
        "outputId": "ef346726-47f2-496a-df3b-14e4958298dc"
      },
      "execution_count": 12,
      "outputs": [
        {
          "output_type": "stream",
          "name": "stdout",
          "text": [
            "Ankle boot\n"
          ]
        }
      ]
    },
    {
      "cell_type": "code",
      "source": [
        "X_train[0]"
      ],
      "metadata": {
        "colab": {
          "base_uri": "https://localhost:8080/",
          "height": 67
        },
        "id": "Cll2AllRyrNu",
        "outputId": "c19158da-a4dd-4810-c1a1-2386bc27fdfc"
      },
      "execution_count": 14,
      "outputs": [
        {
          "output_type": "execute_result",
          "data": {
            "text/plain": [
              "array([[  0,   0,   0,   0,   0,   0,   0,   0,   0,   0,   0,   0,   0,\n",
              "          0,   0,   0,   0,   0,   0,   0,   0,   0,   0,   0,   0,   0,\n",
              "          0,   0],\n",
              "       [  0,   0,   0,   0,   0,   0,   0,   0,   0,   0,   0,   0,   0,\n",
              "          0,   0,   0,   0,   0,   0,   0,   0,   0,   0,   0,   0,   0,\n",
              "          0,   0],\n",
              "       [  0,   0,   0,   0,   0,   0,   0,   0,   0,   0,   0,   0,   0,\n",
              "          0,   0,   0,   0,   0,   0,   0,   0,   0,   0,   0,   0,   0,\n",
              "          0,   0],\n",
              "       [  0,   0,   0,   0,   0,   0,   0,   0,   0,   0,   0,   0,   1,\n",
              "          0,   0,  13,  73,   0,   0,   1,   4,   0,   0,   0,   0,   1,\n",
              "          1,   0],\n",
              "       [  0,   0,   0,   0,   0,   0,   0,   0,   0,   0,   0,   0,   3,\n",
              "          0,  36, 136, 127,  62,  54,   0,   0,   0,   1,   3,   4,   0,\n",
              "          0,   3],\n",
              "       [  0,   0,   0,   0,   0,   0,   0,   0,   0,   0,   0,   0,   6,\n",
              "          0, 102, 204, 176, 134, 144, 123,  23,   0,   0,   0,   0,  12,\n",
              "         10,   0],\n",
              "       [  0,   0,   0,   0,   0,   0,   0,   0,   0,   0,   0,   0,   0,\n",
              "          0, 155, 236, 207, 178, 107, 156, 161, 109,  64,  23,  77, 130,\n",
              "         72,  15],\n",
              "       [  0,   0,   0,   0,   0,   0,   0,   0,   0,   0,   0,   1,   0,\n",
              "         69, 207, 223, 218, 216, 216, 163, 127, 121, 122, 146, 141,  88,\n",
              "        172,  66],\n",
              "       [  0,   0,   0,   0,   0,   0,   0,   0,   0,   1,   1,   1,   0,\n",
              "        200, 232, 232, 233, 229, 223, 223, 215, 213, 164, 127, 123, 196,\n",
              "        229,   0],\n",
              "       [  0,   0,   0,   0,   0,   0,   0,   0,   0,   0,   0,   0,   0,\n",
              "        183, 225, 216, 223, 228, 235, 227, 224, 222, 224, 221, 223, 245,\n",
              "        173,   0],\n",
              "       [  0,   0,   0,   0,   0,   0,   0,   0,   0,   0,   0,   0,   0,\n",
              "        193, 228, 218, 213, 198, 180, 212, 210, 211, 213, 223, 220, 243,\n",
              "        202,   0],\n",
              "       [  0,   0,   0,   0,   0,   0,   0,   0,   0,   1,   3,   0,  12,\n",
              "        219, 220, 212, 218, 192, 169, 227, 208, 218, 224, 212, 226, 197,\n",
              "        209,  52],\n",
              "       [  0,   0,   0,   0,   0,   0,   0,   0,   0,   0,   6,   0,  99,\n",
              "        244, 222, 220, 218, 203, 198, 221, 215, 213, 222, 220, 245, 119,\n",
              "        167,  56],\n",
              "       [  0,   0,   0,   0,   0,   0,   0,   0,   0,   4,   0,   0,  55,\n",
              "        236, 228, 230, 228, 240, 232, 213, 218, 223, 234, 217, 217, 209,\n",
              "         92,   0],\n",
              "       [  0,   0,   1,   4,   6,   7,   2,   0,   0,   0,   0,   0, 237,\n",
              "        226, 217, 223, 222, 219, 222, 221, 216, 223, 229, 215, 218, 255,\n",
              "         77,   0],\n",
              "       [  0,   3,   0,   0,   0,   0,   0,   0,   0,  62, 145, 204, 228,\n",
              "        207, 213, 221, 218, 208, 211, 218, 224, 223, 219, 215, 224, 244,\n",
              "        159,   0],\n",
              "       [  0,   0,   0,   0,  18,  44,  82, 107, 189, 228, 220, 222, 217,\n",
              "        226, 200, 205, 211, 230, 224, 234, 176, 188, 250, 248, 233, 238,\n",
              "        215,   0],\n",
              "       [  0,  57, 187, 208, 224, 221, 224, 208, 204, 214, 208, 209, 200,\n",
              "        159, 245, 193, 206, 223, 255, 255, 221, 234, 221, 211, 220, 232,\n",
              "        246,   0],\n",
              "       [  3, 202, 228, 224, 221, 211, 211, 214, 205, 205, 205, 220, 240,\n",
              "         80, 150, 255, 229, 221, 188, 154, 191, 210, 204, 209, 222, 228,\n",
              "        225,   0],\n",
              "       [ 98, 233, 198, 210, 222, 229, 229, 234, 249, 220, 194, 215, 217,\n",
              "        241,  65,  73, 106, 117, 168, 219, 221, 215, 217, 223, 223, 224,\n",
              "        229,  29],\n",
              "       [ 75, 204, 212, 204, 193, 205, 211, 225, 216, 185, 197, 206, 198,\n",
              "        213, 240, 195, 227, 245, 239, 223, 218, 212, 209, 222, 220, 221,\n",
              "        230,  67],\n",
              "       [ 48, 203, 183, 194, 213, 197, 185, 190, 194, 192, 202, 214, 219,\n",
              "        221, 220, 236, 225, 216, 199, 206, 186, 181, 177, 172, 181, 205,\n",
              "        206, 115],\n",
              "       [  0, 122, 219, 193, 179, 171, 183, 196, 204, 210, 213, 207, 211,\n",
              "        210, 200, 196, 194, 191, 195, 191, 198, 192, 176, 156, 167, 177,\n",
              "        210,  92],\n",
              "       [  0,   0,  74, 189, 212, 191, 175, 172, 175, 181, 185, 188, 189,\n",
              "        188, 193, 198, 204, 209, 210, 210, 211, 188, 188, 194, 192, 216,\n",
              "        170,   0],\n",
              "       [  2,   0,   0,   0,  66, 200, 222, 237, 239, 242, 246, 243, 244,\n",
              "        221, 220, 193, 191, 179, 182, 182, 181, 176, 166, 168,  99,  58,\n",
              "          0,   0],\n",
              "       [  0,   0,   0,   0,   0,   0,   0,  40,  61,  44,  72,  41,  35,\n",
              "          0,   0,   0,   0,   0,   0,   0,   0,   0,   0,   0,   0,   0,\n",
              "          0,   0],\n",
              "       [  0,   0,   0,   0,   0,   0,   0,   0,   0,   0,   0,   0,   0,\n",
              "          0,   0,   0,   0,   0,   0,   0,   0,   0,   0,   0,   0,   0,\n",
              "          0,   0],\n",
              "       [  0,   0,   0,   0,   0,   0,   0,   0,   0,   0,   0,   0,   0,\n",
              "          0,   0,   0,   0,   0,   0,   0,   0,   0,   0,   0,   0,   0,\n",
              "          0,   0]], dtype=uint8)"
            ],
            "text/html": [
              "<style>\n",
              "      .ndarray_repr .ndarray_raw_data {\n",
              "        display: none;\n",
              "      }\n",
              "      .ndarray_repr.show_array .ndarray_raw_data {\n",
              "        display: block;\n",
              "      }\n",
              "      .ndarray_repr.show_array .ndarray_image_preview {\n",
              "        display: none;\n",
              "      }\n",
              "      </style>\n",
              "      <div id=\"id-2489f711-398b-4998-9fc2-f285a7b3d7e6\" class=\"ndarray_repr\"><pre>ndarray (28, 28) <button style=\"padding: 0 2px;\">show data</button></pre><img src=\"data:image/png;base64,iVBORw0KGgoAAAANSUhEUgAAABwAAAAcCAAAAABXZoBIAAACBUlEQVR4nLXSz0tUURQH8O+597373rx545g6NmNJY6TlJgozEsKFZGCrkDBoVdGmdf9BiwJ3bVr1PwhBUbQfJQcKjWZRTsjo0KDpDPV+eN+997WK0Z2bvtsPfM+Bc4D/HwJycwBZAEAE6zAyfe5RFMQfFYiRAj+CXM/c2HK82VetVMM34RGUmCxz9v7yYnW9dnWyskyHR6azi72Jwep3ScVk9c7LLhKQrpRBSiI2n76puZFT3doUwH4pcmw/zpjrU2zw3dFt4XEWdvbKhpinzTBYt5bDH4qlLYO8cbKBWHOudDHluFtiLrLD0kmM2//6q9VFS+JLLDxv9GzMPV9v3XuzYgHEGSUGCngbRCLd4W6CxPCLHTDwVMkDA0y/qEa/lFFBoF2EEME8CAD6hsZK8+djlmSatuiXXsWfNh27NU6Yelro1bytPElRbaGaO1FGPfc7zPg9HvHlIaVD8AjID9y/+bgZ/6iP9ks7J/QZevh8w/cd2PlGs8CKt92R7MQEk0yA7GtWq9ETN3zRs7fpR7FaWi/3yXaipW1IjFnbaSM70N7dsRzbzbHd8aCx7+wmKskUO5esz0sPmvXYF67gBzoNfxptxb5stxM10iLg1pOTO23NhcUptW1hE6gFYYprC8QMMPNsMM+4pamVbps/HGkSsg+1Cv4d+0Jh//Sm3DjGix4rfwFoJNh2/0cDFgAAAABJRU5ErkJggg==\" class=\"ndarray_image_preview\" /><pre class=\"ndarray_raw_data\">array([[  0,   0,   0,   0,   0,   0,   0,   0,   0,   0,   0,   0,   0,\n",
              "          0,   0,   0,   0,   0,   0,   0,   0,   0,   0,   0,   0,   0,\n",
              "          0,   0],\n",
              "       [  0,   0,   0,   0,   0,   0,   0,   0,   0,   0,   0,   0,   0,\n",
              "          0,   0,   0,   0,   0,   0,   0,   0,   0,   0,   0,   0,   0,\n",
              "          0,   0],\n",
              "       [  0,   0,   0,   0,   0,   0,   0,   0,   0,   0,   0,   0,   0,\n",
              "          0,   0,   0,   0,   0,   0,   0,   0,   0,   0,   0,   0,   0,\n",
              "          0,   0],\n",
              "       [  0,   0,   0,   0,   0,   0,   0,   0,   0,   0,   0,   0,   1,\n",
              "          0,   0,  13,  73,   0,   0,   1,   4,   0,   0,   0,   0,   1,\n",
              "          1,   0],\n",
              "       [  0,   0,   0,   0,   0,   0,   0,   0,   0,   0,   0,   0,   3,\n",
              "          0,  36, 136, 127,  62,  54,   0,   0,   0,   1,   3,   4,   0,\n",
              "          0,   3],\n",
              "       [  0,   0,   0,   0,   0,   0,   0,   0,   0,   0,   0,   0,   6,\n",
              "          0, 102, 204, 176, 134, 144, 123,  23,   0,   0,   0,   0,  12,\n",
              "         10,   0],\n",
              "       [  0,   0,   0,   0,   0,   0,   0,   0,   0,   0,   0,   0,   0,\n",
              "          0, 155, 236, 207, 178, 107, 156, 161, 109,  64,  23,  77, 130,\n",
              "         72,  15],\n",
              "       [  0,   0,   0,   0,   0,   0,   0,   0,   0,   0,   0,   1,   0,\n",
              "         69, 207, 223, 218, 216, 216, 163, 127, 121, 122, 146, 141,  88,\n",
              "        172,  66],\n",
              "       [  0,   0,   0,   0,   0,   0,   0,   0,   0,   1,   1,   1,   0,\n",
              "        200, 232, 232, 233, 229, 223, 223, 215, 213, 164, 127, 123, 196,\n",
              "        229,   0],\n",
              "       [  0,   0,   0,   0,   0,   0,   0,   0,   0,   0,   0,   0,   0,\n",
              "        183, 225, 216, 223, 228, 235, 227, 224, 222, 224, 221, 223, 245,\n",
              "        173,   0],\n",
              "       [  0,   0,   0,   0,   0,   0,   0,   0,   0,   0,   0,   0,   0,\n",
              "        193, 228, 218, 213, 198, 180, 212, 210, 211, 213, 223, 220, 243,\n",
              "        202,   0],\n",
              "       [  0,   0,   0,   0,   0,   0,   0,   0,   0,   1,   3,   0,  12,\n",
              "        219, 220, 212, 218, 192, 169, 227, 208, 218, 224, 212, 226, 197,\n",
              "        209,  52],\n",
              "       [  0,   0,   0,   0,   0,   0,   0,   0,   0,   0,   6,   0,  99,\n",
              "        244, 222, 220, 218, 203, 198, 221, 215, 213, 222, 220, 245, 119,\n",
              "        167,  56],\n",
              "       [  0,   0,   0,   0,   0,   0,   0,   0,   0,   4,   0,   0,  55,\n",
              "        236, 228, 230, 228, 240, 232, 213, 218, 223, 234, 217, 217, 209,\n",
              "         92,   0],\n",
              "       [  0,   0,   1,   4,   6,   7,   2,   0,   0,   0,   0,   0, 237,\n",
              "        226, 217, 223, 222, 219, 222, 221, 216, 223, 229, 215, 218, 255,\n",
              "         77,   0],\n",
              "       [  0,   3,   0,   0,   0,   0,   0,   0,   0,  62, 145, 204, 228,\n",
              "        207, 213, 221, 218, 208, 211, 218, 224, 223, 219, 215, 224, 244,\n",
              "        159,   0],\n",
              "       [  0,   0,   0,   0,  18,  44,  82, 107, 189, 228, 220, 222, 217,\n",
              "        226, 200, 205, 211, 230, 224, 234, 176, 188, 250, 248, 233, 238,\n",
              "        215,   0],\n",
              "       [  0,  57, 187, 208, 224, 221, 224, 208, 204, 214, 208, 209, 200,\n",
              "        159, 245, 193, 206, 223, 255, 255, 221, 234, 221, 211, 220, 232,\n",
              "        246,   0],\n",
              "       [  3, 202, 228, 224, 221, 211, 211, 214, 205, 205, 205, 220, 240,\n",
              "         80, 150, 255, 229, 221, 188, 154, 191, 210, 204, 209, 222, 228,\n",
              "        225,   0],\n",
              "       [ 98, 233, 198, 210, 222, 229, 229, 234, 249, 220, 194, 215, 217,\n",
              "        241,  65,  73, 106, 117, 168, 219, 221, 215, 217, 223, 223, 224,\n",
              "        229,  29],\n",
              "       [ 75, 204, 212, 204, 193, 205, 211, 225, 216, 185, 197, 206, 198,\n",
              "        213, 240, 195, 227, 245, 239, 223, 218, 212, 209, 222, 220, 221,\n",
              "        230,  67],\n",
              "       [ 48, 203, 183, 194, 213, 197, 185, 190, 194, 192, 202, 214, 219,\n",
              "        221, 220, 236, 225, 216, 199, 206, 186, 181, 177, 172, 181, 205,\n",
              "        206, 115],\n",
              "       [  0, 122, 219, 193, 179, 171, 183, 196, 204, 210, 213, 207, 211,\n",
              "        210, 200, 196, 194, 191, 195, 191, 198, 192, 176, 156, 167, 177,\n",
              "        210,  92],\n",
              "       [  0,   0,  74, 189, 212, 191, 175, 172, 175, 181, 185, 188, 189,\n",
              "        188, 193, 198, 204, 209, 210, 210, 211, 188, 188, 194, 192, 216,\n",
              "        170,   0],\n",
              "       [  2,   0,   0,   0,  66, 200, 222, 237, 239, 242, 246, 243, 244,\n",
              "        221, 220, 193, 191, 179, 182, 182, 181, 176, 166, 168,  99,  58,\n",
              "          0,   0],\n",
              "       [  0,   0,   0,   0,   0,   0,   0,  40,  61,  44,  72,  41,  35,\n",
              "          0,   0,   0,   0,   0,   0,   0,   0,   0,   0,   0,   0,   0,\n",
              "          0,   0],\n",
              "       [  0,   0,   0,   0,   0,   0,   0,   0,   0,   0,   0,   0,   0,\n",
              "          0,   0,   0,   0,   0,   0,   0,   0,   0,   0,   0,   0,   0,\n",
              "          0,   0],\n",
              "       [  0,   0,   0,   0,   0,   0,   0,   0,   0,   0,   0,   0,   0,\n",
              "          0,   0,   0,   0,   0,   0,   0,   0,   0,   0,   0,   0,   0,\n",
              "          0,   0]], dtype=uint8)</pre></div><script>\n",
              "      (() => {\n",
              "      const titles = ['show data', 'hide data'];\n",
              "      let index = 0\n",
              "      document.querySelector('#id-2489f711-398b-4998-9fc2-f285a7b3d7e6 button').onclick = (e) => {\n",
              "        document.querySelector('#id-2489f711-398b-4998-9fc2-f285a7b3d7e6').classList.toggle('show_array');\n",
              "        index = (++index) % 2;\n",
              "        document.querySelector('#id-2489f711-398b-4998-9fc2-f285a7b3d7e6 button').textContent = titles[index];\n",
              "        e.preventDefault();\n",
              "        e.stopPropagation();\n",
              "      }\n",
              "      })();\n",
              "    </script>"
            ]
          },
          "metadata": {},
          "execution_count": 14
        }
      ]
    },
    {
      "cell_type": "code",
      "source": [
        "# 데이터 스케일링\n",
        "# 소수데이터로 만들어주기 위해서 MinMax 스케일링을 진행함\n",
        "X_train = X_train/255\n",
        "X_test = X_test/255"
      ],
      "metadata": {
        "id": "aKZRWMWf3ZgV"
      },
      "execution_count": 15,
      "outputs": []
    },
    {
      "cell_type": "code",
      "source": [
        "X_train[0].max()"
      ],
      "metadata": {
        "colab": {
          "base_uri": "https://localhost:8080/"
        },
        "id": "wm28zfDc56iV",
        "outputId": "23c7b99d-f094-4d2d-cdbf-f0bb5a3c4da5"
      },
      "execution_count": 16,
      "outputs": [
        {
          "output_type": "execute_result",
          "data": {
            "text/plain": [
              "1.0"
            ]
          },
          "metadata": {},
          "execution_count": 16
        }
      ]
    },
    {
      "cell_type": "code",
      "source": [
        "class_names"
      ],
      "metadata": {
        "colab": {
          "base_uri": "https://localhost:8080/"
        },
        "id": "oK4gE4Ix6FFM",
        "outputId": "7e25be49-252a-4b04-fe3c-74b7709fbe6d"
      },
      "execution_count": 17,
      "outputs": [
        {
          "output_type": "execute_result",
          "data": {
            "text/plain": [
              "['T-shirt/top',\n",
              " 'Trouser',\n",
              " 'Pullover',\n",
              " 'Dress',\n",
              " 'Coat',\n",
              " 'Sandal',\n",
              " 'Shirt',\n",
              " 'Sneaker',\n",
              " 'Bag',\n",
              " 'Ankle boot']"
            ]
          },
          "metadata": {},
          "execution_count": 17
        }
      ]
    },
    {
      "cell_type": "code",
      "source": [
        "plt.figure(figsize=(10,10))\n",
        "c = 0\n",
        "\n",
        "for i in range(100,125):\n",
        "  c += 1\n",
        "  plt.subplot(5,5,c)\n",
        "  plt.xticks([])\n",
        "  plt.yticks([])\n",
        "  plt.grid(False)\n",
        "  plt.imshow(X_train[i], cmap='gray')\n",
        "  plt.xlabel(class_names[y_train[i]])\n",
        "\n",
        "plt.show()"
      ],
      "metadata": {
        "colab": {
          "base_uri": "https://localhost:8080/",
          "height": 826
        },
        "id": "oFErP4Qu6VWb",
        "outputId": "a010fa14-d43b-4fe0-8ade-7d9ee6f086d3"
      },
      "execution_count": 19,
      "outputs": [
        {
          "output_type": "display_data",
          "data": {
            "text/plain": [
              "<Figure size 1000x1000 with 25 Axes>"
            ],
            "image/png": "[encoded data removed]"
          },
          "metadata": {}
        }
      ]
    },
    {
      "cell_type": "code",
      "source": [
        "y_train"
      ],
      "metadata": {
        "colab": {
          "base_uri": "https://localhost:8080/"
        },
        "id": "IRg_lJxc7L3E",
        "outputId": "378db4aa-cb4e-457d-9e64-2c23267f7042"
      },
      "execution_count": 20,
      "outputs": [
        {
          "output_type": "execute_result",
          "data": {
            "text/plain": [
              "array([9, 0, 0, ..., 3, 0, 5], dtype=uint8)"
            ]
          },
          "metadata": {},
          "execution_count": 20
        }
      ]
    },
    {
      "cell_type": "code",
      "source": [
        "# 딥러닝 모델 만들기\n",
        "model = tf.keras.Sequential()\n",
        "# 입력층 만들기\n",
        "model.add(tf.keras.layers.Flatten(input_shape=(28,28)))\n",
        "# 은닉층 만들기\n",
        "model.add(tf.keras.layers.Dense(128, activation='relu'))\n",
        "model.add(tf.keras.layers.Dense(64, activation='relu'))\n",
        "model.add(tf.keras.layers.Dense(32, activation='relu'))\n",
        "model.add(tf.keras.layers.Dense(16, activation='relu'))\n",
        "model.add(tf.keras.layers.Dense(4, activation='relu'))\n",
        "# 출력층 만들기\n",
        "model.add(tf.keras.layers.Dense(10, activation='softmax'))"
      ],
      "metadata": {
        "id": "7oH-N31U8gm0"
      },
      "execution_count": 21,
      "outputs": []
    },
    {
      "cell_type": "code",
      "source": [
        "# 모델 컴파일\n",
        "# 0이 많은 데이터일 때 쓰는 'SparseCategoricalCrossentropy'이 있음(이미지 같은 것)\n",
        "model.compile(optimizer='adam',\n",
        "              loss='SparseCategoricalCrossentropy',\n",
        "              metrics=['accuracy'])"
      ],
      "metadata": {
        "id": "VN_nCDa4-9dL"
      },
      "execution_count": 22,
      "outputs": []
    },
    {
      "cell_type": "code",
      "source": [
        "# 모델 학습\n",
        "model.fit(X_train, y_train, epochs=30)"
      ],
      "metadata": {
        "colab": {
          "base_uri": "https://localhost:8080/"
        },
        "id": "OYqFw9Po_5Lr",
        "outputId": "b69ffc14-d584-4bbc-a571-2ce657a76faf"
      },
      "execution_count": 23,
      "outputs": [
        {
          "output_type": "stream",
          "name": "stdout",
          "text": [
            "Epoch 1/30\n",
            "1875/1875 [==============================] - 13s 6ms/step - loss: 0.7553 - accuracy: 0.7512\n",
            "Epoch 2/30\n",
            "1875/1875 [==============================] - 8s 4ms/step - loss: 0.4170 - accuracy: 0.8515\n",
            "Epoch 3/30\n",
            "1875/1875 [==============================] - 9s 5ms/step - loss: 0.3629 - accuracy: 0.8695\n",
            "Epoch 4/30\n",
            "1875/1875 [==============================] - 9s 5ms/step - loss: 0.3369 - accuracy: 0.8770\n",
            "Epoch 5/30\n",
            "1875/1875 [==============================] - 8s 4ms/step - loss: 0.3162 - accuracy: 0.8846\n",
            "Epoch 6/30\n",
            "1875/1875 [==============================] - 9s 5ms/step - loss: 0.3004 - accuracy: 0.8885\n",
            "Epoch 7/30\n",
            "1875/1875 [==============================] - 9s 5ms/step - loss: 0.2880 - accuracy: 0.8935\n",
            "Epoch 8/30\n",
            "1875/1875 [==============================] - 8s 4ms/step - loss: 0.2764 - accuracy: 0.8978\n",
            "Epoch 9/30\n",
            "1875/1875 [==============================] - 10s 5ms/step - loss: 0.2639 - accuracy: 0.9008\n",
            "Epoch 10/30\n",
            "1875/1875 [==============================] - 9s 5ms/step - loss: 0.2584 - accuracy: 0.9043\n",
            "Epoch 11/30\n",
            "1875/1875 [==============================] - 9s 5ms/step - loss: 0.2494 - accuracy: 0.9079\n",
            "Epoch 12/30\n",
            "1875/1875 [==============================] - 8s 4ms/step - loss: 0.2429 - accuracy: 0.9087\n",
            "Epoch 13/30\n",
            "1875/1875 [==============================] - 9s 5ms/step - loss: 0.2339 - accuracy: 0.9114\n",
            "Epoch 14/30\n",
            "1875/1875 [==============================] - 9s 5ms/step - loss: 0.2293 - accuracy: 0.9136\n",
            "Epoch 15/30\n",
            "1875/1875 [==============================] - 8s 4ms/step - loss: 0.2225 - accuracy: 0.9165\n",
            "Epoch 16/30\n",
            "1875/1875 [==============================] - 9s 5ms/step - loss: 0.2172 - accuracy: 0.9193\n",
            "Epoch 17/30\n",
            "1875/1875 [==============================] - 9s 5ms/step - loss: 0.2121 - accuracy: 0.9207\n",
            "Epoch 18/30\n",
            "1875/1875 [==============================] - 8s 4ms/step - loss: 0.2069 - accuracy: 0.9220\n",
            "Epoch 19/30\n",
            "1875/1875 [==============================] - 9s 5ms/step - loss: 0.2038 - accuracy: 0.9240\n",
            "Epoch 20/30\n",
            "1875/1875 [==============================] - 11s 6ms/step - loss: 0.1960 - accuracy: 0.9248\n",
            "Epoch 21/30\n",
            "1875/1875 [==============================] - 8s 4ms/step - loss: 0.1944 - accuracy: 0.9261\n",
            "Epoch 22/30\n",
            "1875/1875 [==============================] - 9s 5ms/step - loss: 0.1911 - accuracy: 0.9281\n",
            "Epoch 23/30\n",
            "1875/1875 [==============================] - 9s 5ms/step - loss: 0.1872 - accuracy: 0.9293\n",
            "Epoch 24/30\n",
            "1875/1875 [==============================] - 8s 4ms/step - loss: 0.1827 - accuracy: 0.9301\n",
            "Epoch 25/30\n",
            "1875/1875 [==============================] - 9s 5ms/step - loss: 0.1796 - accuracy: 0.9321\n",
            "Epoch 26/30\n",
            "1875/1875 [==============================] - 9s 5ms/step - loss: 0.1758 - accuracy: 0.9338\n",
            "Epoch 27/30\n",
            "1875/1875 [==============================] - 8s 4ms/step - loss: 0.1732 - accuracy: 0.9349\n",
            "Epoch 28/30\n",
            "1875/1875 [==============================] - 9s 5ms/step - loss: 0.1680 - accuracy: 0.9361\n",
            "Epoch 29/30\n",
            "1875/1875 [==============================] - 9s 5ms/step - loss: 0.1656 - accuracy: 0.9385\n",
            "Epoch 30/30\n",
            "1875/1875 [==============================] - 9s 5ms/step - loss: 0.1641 - accuracy: 0.9366\n"
          ]
        },
        {
          "output_type": "execute_result",
          "data": {
            "text/plain": [
              "<keras.src.callbacks.History at 0x78fb5f509540>"
            ]
          },
          "metadata": {},
          "execution_count": 23
        }
      ]
    },
    {
      "cell_type": "markdown",
      "source": [
        "train 데이터에 대해서는 높은데 test 데이터에 대해서는 낮게 나왔기 때문에 과적합을 의심할 수 있음"
      ],
      "metadata": {
        "id": "oouhQnoVEuUp"
      }
    },
    {
      "cell_type": "code",
      "source": [
        "model.evaluate(X_test, y_test, verbose=2)"
      ],
      "metadata": {
        "colab": {
          "base_uri": "https://localhost:8080/"
        },
        "id": "JBVeM4ZZAEky",
        "outputId": "a958afa4-f4f5-418f-90c7-4991ca661caf"
      },
      "execution_count": 24,
      "outputs": [
        {
          "output_type": "stream",
          "name": "stdout",
          "text": [
            "313/313 - 1s - loss: 0.4226 - accuracy: 0.8865 - 1s/epoch - 3ms/step\n"
          ]
        },
        {
          "output_type": "execute_result",
          "data": {
            "text/plain": [
              "[0.42255669832229614, 0.8865000009536743]"
            ]
          },
          "metadata": {},
          "execution_count": 24
        }
      ]
    },
    {
      "cell_type": "code",
      "source": [
        "class_names = ['T-shirt/top', 'Trouser', 'Pullover', 'Dress', 'Coat',\n",
        "               'Sandal', 'Shirt', 'Sneaker', 'Bag', 'Ankle boot']\n",
        "\n",
        "def plot_image(i, predictions_array, true_label, img):\n",
        "  true_label, img = true_label[i], img[i]\n",
        "  plt.grid(False)\n",
        "  plt.xticks([])\n",
        "  plt.yticks([])\n",
        "\n",
        "  plt.imshow(img, cmap=plt.cm.binary)\n",
        "\n",
        "  predicted_label = np.argmax(predictions_array)\n",
        "  if predicted_label == true_label:\n",
        "    color = 'blue'\n",
        "  else:\n",
        "    color = 'red'\n",
        "\n",
        "  plt.xlabel(\"{} {:2.0f}% ({})\".format(class_names[predicted_label],\n",
        "                                100*np.max(predictions_array),\n",
        "                                class_names[true_label]),\n",
        "                                color=color)\n",
        "\n",
        "def plot_value_array(i, predictions_array, true_label):\n",
        "  true_label = true_label[i]\n",
        "  plt.grid(False)\n",
        "  plt.xticks(range(10))\n",
        "  plt.yticks([])\n",
        "  thisplot = plt.bar(range(10), predictions_array, color=\"#777777\")\n",
        "  plt.ylim([0, 1])\n",
        "  predicted_label = np.argmax(predictions_array)\n",
        "\n",
        "  thisplot[predicted_label].set_color('red')\n",
        "  thisplot[true_label].set_color('blue')"
      ],
      "metadata": {
        "id": "Ob9pkr_YD06W"
      },
      "execution_count": 25,
      "outputs": []
    },
    {
      "cell_type": "code",
      "source": [
        "pro_model = tf.keras.Sequential([model,\n",
        "                                 tf.keras.layers.Softmax()])\n",
        "predictions = pro_model.predict(X_test)"
      ],
      "metadata": {
        "colab": {
          "base_uri": "https://localhost:8080/"
        },
        "id": "jeZ4r8zAGCih",
        "outputId": "e41c0e1d-8731-47d5-c1e5-b4d560e5f59c"
      },
      "execution_count": 28,
      "outputs": [
        {
          "output_type": "stream",
          "name": "stdout",
          "text": [
            "313/313 [==============================] - 1s 3ms/step\n"
          ]
        }
      ]
    },
    {
      "cell_type": "code",
      "source": [
        "def show_img(i):\n",
        "  plt.figure(figsize=(6,3))\n",
        "  plt.subplot(1,2,1)\n",
        "  plot_image(i, predictions[i], y_test, X_test)\n",
        "  plt.subplot(1,2,2)\n",
        "  plot_value_array(i, predictions[i], y_test)\n",
        "  plt.show()"
      ],
      "metadata": {
        "id": "NuSF-oJTFDgI"
      },
      "execution_count": 30,
      "outputs": []
    },
    {
      "cell_type": "code",
      "source": [
        "show_img(12)"
      ],
      "metadata": {
        "colab": {
          "base_uri": "https://localhost:8080/",
          "height": 291
        },
        "id": "C-5ILIb4Gfo4",
        "outputId": "1c8fa399-6f18-4c5d-e177-aa35edd2113e"
      },
      "execution_count": 44,
      "outputs": [
        {
          "output_type": "display_data",
          "data": {
            "text/plain": [
              "<Figure size 600x300 with 2 Axes>"
            ],
            "image/png": "[encoded data removed]"
          },
          "metadata": {}
        }
      ]
    },
    {
      "cell_type": "code",
      "source": [
        "# 몇 개의 이미지의 예측을 출력해 보죠. 올바르게 예측된 레이블은 파란색이고 잘못 예측된 레이블은\n",
        "# 빨강색입니다. 숫자는 예측 레이블의 신뢰도 퍼센트(100점 만점)입니다.\n",
        "# 신뢰도 점수가 높을 때도 잘못 예측할 수 있습니다.\n",
        "num_rows = 5\n",
        "num_cols = 3\n",
        "num_images = num_rows*num_cols\n",
        "plt.figure(figsize=(2*2*num_cols, 2*num_rows))\n",
        "for i in range(num_images):\n",
        "  plt.subplot(num_rows, 2*num_cols, 2*i+1)\n",
        "  plot_image(i, predictions[i], y_test, X_test)\n",
        "  plt.subplot(num_rows, 2*num_cols, 2*i+2)\n",
        "  plot_value_array(i, predictions[i], y_test)\n",
        "plt.tight_layout()\n",
        "plt.show()"
      ],
      "metadata": {
        "colab": {
          "base_uri": "https://localhost:8080/",
          "height": 718
        },
        "id": "UNLNto5sG65Q",
        "outputId": "2f1324ad-24de-43c7-93ee-681f4456a81e"
      },
      "execution_count": 45,
      "outputs": [
        {
          "output_type": "display_data",
          "data": {
            "text/plain": [
              "<Figure size 1200x1000 with 30 Axes>"
            ],
            "image/png": "[encoded data removed]"
          },
          "metadata": {}
        }
      ]
    },
    {
      "cell_type": "code",
      "source": [
        "model.summary()"
      ],
      "metadata": {
        "colab": {
          "base_uri": "https://localhost:8080/"
        },
        "id": "ChFIwiO3Iewp",
        "outputId": "d3ce7ae0-2e1a-4bcd-9684-32c380242c21"
      },
      "execution_count": 46,
      "outputs": [
        {
          "output_type": "stream",
          "name": "stdout",
          "text": [
            "Model: \"sequential\"\n",
            "_________________________________________________________________\n",
            " Layer (type)                Output Shape              Param #   \n",
            "=================================================================\n",
            " flatten (Flatten)           (None, 784)               0         \n",
            "                                                                 \n",
            " dense (Dense)               (None, 128)               100480    \n",
            "                                                                 \n",
            " dense_1 (Dense)             (None, 64)                8256      \n",
            "                                                                 \n",
            " dense_2 (Dense)             (None, 32)                2080      \n",
            "                                                                 \n",
            " dense_3 (Dense)             (None, 16)                528       \n",
            "                                                                 \n",
            " dense_4 (Dense)             (None, 4)                 68        \n",
            "                                                                 \n",
            " dense_5 (Dense)             (None, 10)                50        \n",
            "                                                                 \n",
            "=================================================================\n",
            "Total params: 111462 (435.40 KB)\n",
            "Trainable params: 111462 (435.40 KB)\n",
            "Non-trainable params: 0 (0.00 Byte)\n",
            "_________________________________________________________________\n"
          ]
        }
      ]
    },
    {
      "cell_type": "code",
      "source": [
        "# 딥러닝 모델 만들기\n",
        "model = tf.keras.Sequential()\n",
        "# 입력층 만들기\n",
        "model.add(tf.keras.layers.Flatten(input_shape=(28,28)))\n",
        "# 은닉층 만들기\n",
        "model.add(tf.keras.layers.Dense(200, activation='relu'))\n",
        "model.add(tf.keras.layers.Dense(150, activation='relu'))\n",
        "model.add(tf.keras.layers.Dense(100, activation='relu'))\n",
        "model.add(tf.keras.layers.Dense(50, activation='relu'))\n",
        "# 출력층 만들기\n",
        "model.add(tf.keras.layers.Dense(10, activation='softmax'))"
      ],
      "metadata": {
        "id": "VEig5jtFJPlX"
      },
      "execution_count": 47,
      "outputs": []
    },
    {
      "cell_type": "code",
      "source": [
        "# 모델 컴파일\n",
        "# 0이 많은 데이터일 때 쓰는 'SparseCategoricalCrossentropy'이 있음(이미지 같은 것)\n",
        "model.compile(optimizer='adam',\n",
        "              loss='SparseCategoricalCrossentropy',\n",
        "              metrics=['accuracy'])"
      ],
      "metadata": {
        "id": "_WMxu5WmKUa_"
      },
      "execution_count": 48,
      "outputs": []
    },
    {
      "cell_type": "code",
      "source": [
        "# validation_data는 학습을 한 번 할 때마다 검증시키는 것(머신러닝에서도 사용가능)\n",
        "# validation_data로 검증하는 것을 k 폴드 교차 검증이라고 함\n",
        "history = model.fit(X_train, y_train, epochs=100,\n",
        "                    validation_data = (X_test, y_test))"
      ],
      "metadata": {
        "colab": {
          "base_uri": "https://localhost:8080/"
        },
        "id": "yWGdlMzdKw6i",
        "outputId": "e8314b99-355b-4965-f82c-224b1f893041"
      },
      "execution_count": 49,
      "outputs": [
        {
          "output_type": "stream",
          "name": "stdout",
          "text": [
            "Epoch 1/100\n",
            "1875/1875 [==============================] - 13s 6ms/step - loss: 0.4989 - accuracy: 0.8211 - val_loss: 0.4642 - val_accuracy: 0.8309\n",
            "Epoch 2/100\n",
            "1875/1875 [==============================] - 11s 6ms/step - loss: 0.3706 - accuracy: 0.8630 - val_loss: 0.3707 - val_accuracy: 0.8688\n",
            "Epoch 3/100\n",
            "1875/1875 [==============================] - 11s 6ms/step - loss: 0.3382 - accuracy: 0.8754 - val_loss: 0.3868 - val_accuracy: 0.8615\n",
            "Epoch 4/100\n",
            "1875/1875 [==============================] - 11s 6ms/step - loss: 0.3125 - accuracy: 0.8842 - val_loss: 0.3869 - val_accuracy: 0.8626\n",
            "Epoch 5/100\n",
            "1875/1875 [==============================] - 11s 6ms/step - loss: 0.2952 - accuracy: 0.8890 - val_loss: 0.3418 - val_accuracy: 0.8806\n",
            "Epoch 6/100\n",
            "1875/1875 [==============================] - 12s 6ms/step - loss: 0.2817 - accuracy: 0.8948 - val_loss: 0.3388 - val_accuracy: 0.8804\n",
            "Epoch 7/100\n",
            "1875/1875 [==============================] - 11s 6ms/step - loss: 0.2684 - accuracy: 0.9003 - val_loss: 0.3243 - val_accuracy: 0.8820\n",
            "Epoch 8/100\n",
            "1875/1875 [==============================] - 11s 6ms/step - loss: 0.2580 - accuracy: 0.9039 - val_loss: 0.3371 - val_accuracy: 0.8789\n",
            "Epoch 9/100\n",
            "1875/1875 [==============================] - 13s 7ms/step - loss: 0.2488 - accuracy: 0.9066 - val_loss: 0.3539 - val_accuracy: 0.8786\n",
            "Epoch 10/100\n",
            "1875/1875 [==============================] - 11s 6ms/step - loss: 0.2404 - accuracy: 0.9083 - val_loss: 0.3295 - val_accuracy: 0.8866\n",
            "Epoch 11/100\n",
            "1875/1875 [==============================] - 10s 5ms/step - loss: 0.2335 - accuracy: 0.9125 - val_loss: 0.3246 - val_accuracy: 0.8877\n",
            "Epoch 12/100\n",
            "1875/1875 [==============================] - 11s 6ms/step - loss: 0.2274 - accuracy: 0.9143 - val_loss: 0.3233 - val_accuracy: 0.8905\n",
            "Epoch 13/100\n",
            "1875/1875 [==============================] - 11s 6ms/step - loss: 0.2182 - accuracy: 0.9173 - val_loss: 0.3571 - val_accuracy: 0.8822\n",
            "Epoch 14/100\n",
            "1875/1875 [==============================] - 12s 6ms/step - loss: 0.2147 - accuracy: 0.9183 - val_loss: 0.3484 - val_accuracy: 0.8790\n",
            "Epoch 15/100\n",
            "1875/1875 [==============================] - 12s 7ms/step - loss: 0.2052 - accuracy: 0.9221 - val_loss: 0.3353 - val_accuracy: 0.8896\n",
            "Epoch 16/100\n",
            "1875/1875 [==============================] - 13s 7ms/step - loss: 0.2008 - accuracy: 0.9230 - val_loss: 0.3384 - val_accuracy: 0.8916\n",
            "Epoch 17/100\n",
            "1875/1875 [==============================] - 12s 6ms/step - loss: 0.1940 - accuracy: 0.9267 - val_loss: 0.3650 - val_accuracy: 0.8844\n",
            "Epoch 18/100\n",
            "1875/1875 [==============================] - 22s 12ms/step - loss: 0.1922 - accuracy: 0.9266 - val_loss: 0.3644 - val_accuracy: 0.8868\n",
            "Epoch 19/100\n",
            "1875/1875 [==============================] - 24s 13ms/step - loss: 0.1849 - accuracy: 0.9302 - val_loss: 0.3510 - val_accuracy: 0.8920\n",
            "Epoch 20/100\n",
            "1875/1875 [==============================] - 24s 13ms/step - loss: 0.1785 - accuracy: 0.9310 - val_loss: 0.3756 - val_accuracy: 0.8919\n",
            "Epoch 21/100\n",
            "1875/1875 [==============================] - 23s 12ms/step - loss: 0.1754 - accuracy: 0.9329 - val_loss: 0.3856 - val_accuracy: 0.8868\n",
            "Epoch 22/100\n",
            "1875/1875 [==============================] - 15s 8ms/step - loss: 0.1730 - accuracy: 0.9343 - val_loss: 0.3502 - val_accuracy: 0.8936\n",
            "Epoch 23/100\n",
            "1875/1875 [==============================] - 12s 6ms/step - loss: 0.1666 - accuracy: 0.9355 - val_loss: 0.4098 - val_accuracy: 0.8894\n",
            "Epoch 24/100\n",
            "1875/1875 [==============================] - 11s 6ms/step - loss: 0.1677 - accuracy: 0.9361 - val_loss: 0.3845 - val_accuracy: 0.8951\n",
            "Epoch 25/100\n",
            "1875/1875 [==============================] - 12s 6ms/step - loss: 0.1594 - accuracy: 0.9383 - val_loss: 0.3940 - val_accuracy: 0.8906\n",
            "Epoch 26/100\n",
            "1875/1875 [==============================] - 12s 6ms/step - loss: 0.1573 - accuracy: 0.9389 - val_loss: 0.3909 - val_accuracy: 0.8894\n",
            "Epoch 27/100\n",
            "1875/1875 [==============================] - 13s 7ms/step - loss: 0.1522 - accuracy: 0.9416 - val_loss: 0.4039 - val_accuracy: 0.8881\n",
            "Epoch 28/100\n",
            "1875/1875 [==============================] - 12s 6ms/step - loss: 0.1511 - accuracy: 0.9416 - val_loss: 0.4094 - val_accuracy: 0.8922\n",
            "Epoch 29/100\n",
            "1875/1875 [==============================] - 12s 7ms/step - loss: 0.1462 - accuracy: 0.9439 - val_loss: 0.4077 - val_accuracy: 0.8957\n",
            "Epoch 30/100\n",
            "1875/1875 [==============================] - 11s 6ms/step - loss: 0.1499 - accuracy: 0.9433 - val_loss: 0.4003 - val_accuracy: 0.8967\n",
            "Epoch 31/100\n",
            "1875/1875 [==============================] - 11s 6ms/step - loss: 0.1419 - accuracy: 0.9458 - val_loss: 0.4232 - val_accuracy: 0.8970\n",
            "Epoch 32/100\n",
            "1875/1875 [==============================] - 12s 6ms/step - loss: 0.1365 - accuracy: 0.9477 - val_loss: 0.4253 - val_accuracy: 0.8950\n",
            "Epoch 33/100\n",
            "1875/1875 [==============================] - 14s 8ms/step - loss: 0.1371 - accuracy: 0.9474 - val_loss: 0.4478 - val_accuracy: 0.8909\n",
            "Epoch 34/100\n",
            "1875/1875 [==============================] - 15s 8ms/step - loss: 0.1320 - accuracy: 0.9491 - val_loss: 0.4132 - val_accuracy: 0.8925\n",
            "Epoch 35/100\n",
            "1875/1875 [==============================] - 14s 8ms/step - loss: 0.1344 - accuracy: 0.9483 - val_loss: 0.4657 - val_accuracy: 0.8866\n",
            "Epoch 36/100\n",
            "1875/1875 [==============================] - 14s 8ms/step - loss: 0.1276 - accuracy: 0.9504 - val_loss: 0.4862 - val_accuracy: 0.8898\n",
            "Epoch 37/100\n",
            "1875/1875 [==============================] - 14s 7ms/step - loss: 0.1304 - accuracy: 0.9497 - val_loss: 0.4414 - val_accuracy: 0.8878\n",
            "Epoch 38/100\n",
            "1875/1875 [==============================] - 13s 7ms/step - loss: 0.1251 - accuracy: 0.9523 - val_loss: 0.4695 - val_accuracy: 0.8949\n",
            "Epoch 39/100\n",
            "1875/1875 [==============================] - 13s 7ms/step - loss: 0.1220 - accuracy: 0.9526 - val_loss: 0.4992 - val_accuracy: 0.8864\n",
            "Epoch 40/100\n",
            "1875/1875 [==============================] - 13s 7ms/step - loss: 0.1215 - accuracy: 0.9535 - val_loss: 0.5007 - val_accuracy: 0.8940\n",
            "Epoch 41/100\n",
            "1875/1875 [==============================] - 14s 7ms/step - loss: 0.1206 - accuracy: 0.9546 - val_loss: 0.4959 - val_accuracy: 0.8921\n",
            "Epoch 42/100\n",
            "1875/1875 [==============================] - 13s 7ms/step - loss: 0.1177 - accuracy: 0.9543 - val_loss: 0.5021 - val_accuracy: 0.8913\n",
            "Epoch 43/100\n",
            "1875/1875 [==============================] - 13s 7ms/step - loss: 0.1179 - accuracy: 0.9550 - val_loss: 0.4674 - val_accuracy: 0.8919\n",
            "Epoch 44/100\n",
            "1875/1875 [==============================] - 13s 7ms/step - loss: 0.1149 - accuracy: 0.9563 - val_loss: 0.4981 - val_accuracy: 0.8942\n",
            "Epoch 45/100\n",
            "1875/1875 [==============================] - 13s 7ms/step - loss: 0.1128 - accuracy: 0.9565 - val_loss: 0.5559 - val_accuracy: 0.8893\n",
            "Epoch 46/100\n",
            "1875/1875 [==============================] - 13s 7ms/step - loss: 0.1157 - accuracy: 0.9572 - val_loss: 0.5453 - val_accuracy: 0.8917\n",
            "Epoch 47/100\n",
            "1875/1875 [==============================] - 13s 7ms/step - loss: 0.1097 - accuracy: 0.9575 - val_loss: 0.5036 - val_accuracy: 0.8953\n",
            "Epoch 48/100\n",
            "1875/1875 [==============================] - 13s 7ms/step - loss: 0.1063 - accuracy: 0.9594 - val_loss: 0.5177 - val_accuracy: 0.8886\n",
            "Epoch 49/100\n",
            "1875/1875 [==============================] - 12s 7ms/step - loss: 0.1037 - accuracy: 0.9600 - val_loss: 0.5609 - val_accuracy: 0.8930\n",
            "Epoch 50/100\n",
            "1875/1875 [==============================] - 13s 7ms/step - loss: 0.1050 - accuracy: 0.9596 - val_loss: 0.5080 - val_accuracy: 0.8906\n",
            "Epoch 51/100\n",
            "1875/1875 [==============================] - 13s 7ms/step - loss: 0.1032 - accuracy: 0.9601 - val_loss: 0.5507 - val_accuracy: 0.8936\n",
            "Epoch 52/100\n",
            "1875/1875 [==============================] - 13s 7ms/step - loss: 0.1009 - accuracy: 0.9617 - val_loss: 0.5484 - val_accuracy: 0.8949\n",
            "Epoch 53/100\n",
            "1875/1875 [==============================] - 13s 7ms/step - loss: 0.0996 - accuracy: 0.9619 - val_loss: 0.5460 - val_accuracy: 0.8932\n",
            "Epoch 54/100\n",
            "1875/1875 [==============================] - 13s 7ms/step - loss: 0.0988 - accuracy: 0.9623 - val_loss: 0.5935 - val_accuracy: 0.8893\n",
            "Epoch 55/100\n",
            "1875/1875 [==============================] - 13s 7ms/step - loss: 0.0973 - accuracy: 0.9629 - val_loss: 0.5689 - val_accuracy: 0.8951\n",
            "Epoch 56/100\n",
            "1875/1875 [==============================] - 13s 7ms/step - loss: 0.1012 - accuracy: 0.9622 - val_loss: 0.5210 - val_accuracy: 0.8905\n",
            "Epoch 57/100\n",
            "1875/1875 [==============================] - 14s 7ms/step - loss: 0.0960 - accuracy: 0.9628 - val_loss: 0.6899 - val_accuracy: 0.8920\n",
            "Epoch 58/100\n",
            "1875/1875 [==============================] - 12s 7ms/step - loss: 0.0954 - accuracy: 0.9643 - val_loss: 0.6337 - val_accuracy: 0.8924\n",
            "Epoch 59/100\n",
            "1875/1875 [==============================] - 13s 7ms/step - loss: 0.0891 - accuracy: 0.9646 - val_loss: 0.6442 - val_accuracy: 0.8946\n",
            "Epoch 60/100\n",
            "1875/1875 [==============================] - 13s 7ms/step - loss: 0.0905 - accuracy: 0.9650 - val_loss: 0.6411 - val_accuracy: 0.8923\n",
            "Epoch 61/100\n",
            "1875/1875 [==============================] - 15s 8ms/step - loss: 0.0899 - accuracy: 0.9662 - val_loss: 0.5949 - val_accuracy: 0.8870\n",
            "Epoch 62/100\n",
            "1875/1875 [==============================] - 12s 7ms/step - loss: 0.0876 - accuracy: 0.9670 - val_loss: 0.6574 - val_accuracy: 0.8897\n",
            "Epoch 63/100\n",
            "1875/1875 [==============================] - 13s 7ms/step - loss: 0.0951 - accuracy: 0.9641 - val_loss: 0.6308 - val_accuracy: 0.8879\n",
            "Epoch 64/100\n",
            "1875/1875 [==============================] - 12s 7ms/step - loss: 0.0870 - accuracy: 0.9678 - val_loss: 0.5685 - val_accuracy: 0.8877\n",
            "Epoch 65/100\n",
            "1875/1875 [==============================] - 13s 7ms/step - loss: 0.0820 - accuracy: 0.9689 - val_loss: 0.6744 - val_accuracy: 0.8919\n",
            "Epoch 66/100\n",
            "1875/1875 [==============================] - 13s 7ms/step - loss: 0.0845 - accuracy: 0.9671 - val_loss: 0.6534 - val_accuracy: 0.8940\n",
            "Epoch 67/100\n",
            "1875/1875 [==============================] - 13s 7ms/step - loss: 0.0850 - accuracy: 0.9686 - val_loss: 0.6389 - val_accuracy: 0.8924\n",
            "Epoch 68/100\n",
            "1875/1875 [==============================] - 13s 7ms/step - loss: 0.0834 - accuracy: 0.9689 - val_loss: 0.7328 - val_accuracy: 0.8842\n",
            "Epoch 69/100\n",
            "1875/1875 [==============================] - 13s 7ms/step - loss: 0.0877 - accuracy: 0.9680 - val_loss: 0.5875 - val_accuracy: 0.8933\n",
            "Epoch 70/100\n",
            "1875/1875 [==============================] - 13s 7ms/step - loss: 0.0804 - accuracy: 0.9699 - val_loss: 0.7525 - val_accuracy: 0.8906\n",
            "Epoch 71/100\n",
            "1875/1875 [==============================] - 13s 7ms/step - loss: 0.0798 - accuracy: 0.9699 - val_loss: 0.6802 - val_accuracy: 0.8927\n",
            "Epoch 72/100\n",
            "1875/1875 [==============================] - 13s 7ms/step - loss: 0.0789 - accuracy: 0.9702 - val_loss: 0.7357 - val_accuracy: 0.8891\n",
            "Epoch 73/100\n",
            "1875/1875 [==============================] - 13s 7ms/step - loss: 0.0818 - accuracy: 0.9696 - val_loss: 0.6769 - val_accuracy: 0.8920\n",
            "Epoch 74/100\n",
            "1875/1875 [==============================] - 12s 6ms/step - loss: 0.0754 - accuracy: 0.9715 - val_loss: 0.7441 - val_accuracy: 0.8927\n",
            "Epoch 75/100\n",
            "1875/1875 [==============================] - 13s 7ms/step - loss: 0.0794 - accuracy: 0.9706 - val_loss: 0.6997 - val_accuracy: 0.8894\n",
            "Epoch 76/100\n",
            "1875/1875 [==============================] - 12s 7ms/step - loss: 0.0728 - accuracy: 0.9731 - val_loss: 0.7579 - val_accuracy: 0.8885\n",
            "Epoch 77/100\n",
            "1875/1875 [==============================] - 12s 7ms/step - loss: 0.0810 - accuracy: 0.9697 - val_loss: 0.6741 - val_accuracy: 0.8902\n",
            "Epoch 78/100\n",
            "1875/1875 [==============================] - 12s 6ms/step - loss: 0.0695 - accuracy: 0.9744 - val_loss: 0.6757 - val_accuracy: 0.8893\n",
            "Epoch 79/100\n",
            "1875/1875 [==============================] - 12s 6ms/step - loss: 0.0766 - accuracy: 0.9722 - val_loss: 0.6806 - val_accuracy: 0.8937\n",
            "Epoch 80/100\n",
            "1875/1875 [==============================] - 12s 7ms/step - loss: 0.0708 - accuracy: 0.9732 - val_loss: 0.7733 - val_accuracy: 0.8906\n",
            "Epoch 81/100\n",
            "1875/1875 [==============================] - 12s 6ms/step - loss: 0.0713 - accuracy: 0.9729 - val_loss: 0.7132 - val_accuracy: 0.8946\n",
            "Epoch 82/100\n",
            "1875/1875 [==============================] - 12s 6ms/step - loss: 0.0705 - accuracy: 0.9733 - val_loss: 0.8257 - val_accuracy: 0.8925\n",
            "Epoch 83/100\n",
            "1875/1875 [==============================] - 13s 7ms/step - loss: 0.0710 - accuracy: 0.9746 - val_loss: 0.8448 - val_accuracy: 0.8876\n",
            "Epoch 84/100\n",
            "1875/1875 [==============================] - 12s 6ms/step - loss: 0.0744 - accuracy: 0.9732 - val_loss: 0.7125 - val_accuracy: 0.8913\n",
            "Epoch 85/100\n",
            "1875/1875 [==============================] - 11s 6ms/step - loss: 0.0659 - accuracy: 0.9754 - val_loss: 0.7978 - val_accuracy: 0.8916\n",
            "Epoch 86/100\n",
            "1875/1875 [==============================] - 12s 6ms/step - loss: 0.0686 - accuracy: 0.9740 - val_loss: 0.7832 - val_accuracy: 0.8885\n",
            "Epoch 87/100\n",
            "1875/1875 [==============================] - 11s 6ms/step - loss: 0.0664 - accuracy: 0.9755 - val_loss: 0.7406 - val_accuracy: 0.8908\n",
            "Epoch 88/100\n",
            "1875/1875 [==============================] - 12s 6ms/step - loss: 0.0700 - accuracy: 0.9748 - val_loss: 0.7905 - val_accuracy: 0.8915\n",
            "Epoch 89/100\n",
            "1875/1875 [==============================] - 12s 7ms/step - loss: 0.0638 - accuracy: 0.9764 - val_loss: 0.9424 - val_accuracy: 0.8836\n",
            "Epoch 90/100\n",
            "1875/1875 [==============================] - 13s 7ms/step - loss: 0.0705 - accuracy: 0.9755 - val_loss: 0.8571 - val_accuracy: 0.8892\n",
            "Epoch 91/100\n",
            "1875/1875 [==============================] - 12s 6ms/step - loss: 0.0659 - accuracy: 0.9765 - val_loss: 0.7952 - val_accuracy: 0.8910\n",
            "Epoch 92/100\n",
            "1875/1875 [==============================] - 12s 6ms/step - loss: 0.0639 - accuracy: 0.9768 - val_loss: 0.8040 - val_accuracy: 0.8880\n",
            "Epoch 93/100\n",
            "1875/1875 [==============================] - 12s 6ms/step - loss: 0.0610 - accuracy: 0.9778 - val_loss: 0.8727 - val_accuracy: 0.8907\n",
            "Epoch 94/100\n",
            "1875/1875 [==============================] - 12s 6ms/step - loss: 0.0606 - accuracy: 0.9778 - val_loss: 0.8618 - val_accuracy: 0.8873\n",
            "Epoch 95/100\n",
            "1875/1875 [==============================] - 12s 6ms/step - loss: 0.0659 - accuracy: 0.9762 - val_loss: 0.8249 - val_accuracy: 0.8921\n",
            "Epoch 96/100\n",
            "1875/1875 [==============================] - 12s 7ms/step - loss: 0.0586 - accuracy: 0.9783 - val_loss: 0.8236 - val_accuracy: 0.8944\n",
            "Epoch 97/100\n",
            "1875/1875 [==============================] - 12s 6ms/step - loss: 0.0617 - accuracy: 0.9777 - val_loss: 0.7629 - val_accuracy: 0.8899\n",
            "Epoch 98/100\n",
            "1875/1875 [==============================] - 12s 6ms/step - loss: 0.0628 - accuracy: 0.9775 - val_loss: 0.7776 - val_accuracy: 0.8941\n",
            "Epoch 99/100\n",
            "1875/1875 [==============================] - 12s 7ms/step - loss: 0.0555 - accuracy: 0.9798 - val_loss: 0.7626 - val_accuracy: 0.8915\n",
            "Epoch 100/100\n",
            "1875/1875 [==============================] - 11s 6ms/step - loss: 0.0644 - accuracy: 0.9772 - val_loss: 0.8175 - val_accuracy: 0.8960\n"
          ]
        }
      ]
    },
    {
      "cell_type": "code",
      "source": [
        "plt.plot(history.history['loss'], label='train')\n",
        "plt.plot(history.history['val_loss'], label='test')\n",
        "plt.title('Model_Loss')\n",
        "plt.ylabel('loss')\n",
        "plt.xlabel('epochs')\n",
        "plt.legend()\n",
        "plt.show()"
      ],
      "metadata": {
        "colab": {
          "base_uri": "https://localhost:8080/",
          "height": 472
        },
        "id": "rJcfi1ijMHk_",
        "outputId": "45b17eac-df75-4008-846a-d27c4999cfca"
      },
      "execution_count": 50,
      "outputs": [
        {
          "output_type": "display_data",
          "data": {
            "text/plain": [
              "<Figure size 640x480 with 1 Axes>"
            ],
            "image/png": "[encoded data removed]"
          },
          "metadata": {}
        }
      ]
    },
    {
      "cell_type": "code",
      "source": [
        "plt.plot(history.history['accuracy'], label='train')\n",
        "plt.plot(history.history['val_accuracy'], label='test')\n",
        "plt.title('Model_Loss')\n",
        "plt.ylabel('accuracy')\n",
        "plt.xlabel('epochs')\n",
        "plt.legend()\n",
        "plt.show()"
      ],
      "metadata": {
        "colab": {
          "base_uri": "https://localhost:8080/",
          "height": 472
        },
        "id": "FbGLMSQGNPGF",
        "outputId": "1d48c15a-53e1-440b-b64a-fe489c9c3bee"
      },
      "execution_count": 51,
      "outputs": [
        {
          "output_type": "display_data",
          "data": {
            "text/plain": [
              "<Figure size 640x480 with 1 Axes>"
            ],
            "image/png": "[encoded data removed]"
          },
          "metadata": {}
        }
      ]
    },
    {
      "cell_type": "markdown",
      "source": [
        "과적합 해소 방법"
      ],
      "metadata": {
        "id": "h0F-wjSkfq5B"
      }
    },
    {
      "cell_type": "code",
      "source": [
        "# 딥러닝 모델 만들기\n",
        "model = tf.keras.Sequential()\n",
        "# 입력층 만들기\n",
        "model.add(tf.keras.layers.Flatten(input_shape=(28,28)))\n",
        "# 은닉층 만들기(Dropout_은 학습한 결과를 날려버리는 것으로 날리는 기준은 랜덤이다)\n",
        "model.add(tf.keras.layers.Dense(200, activation='relu'))\n",
        "model.add(tf.keras.layers.Dropout(0.3))\n",
        "model.add(tf.keras.layers.Dense(100, activation='relu'))\n",
        "model.add(tf.keras.layers.Dropout(0.5))\n",
        "model.add(tf.keras.layers.Dense(50, activation='relu'))\n",
        "model.add(tf.keras.layers.Dropout(0.5))\n",
        "# 출력층 만들기\n",
        "model.add(tf.keras.layers.Dense(10, activation='softmax'))"
      ],
      "metadata": {
        "id": "mtqCYLWFeLAc"
      },
      "execution_count": 4,
      "outputs": []
    },
    {
      "cell_type": "code",
      "source": [
        "model.compile(optimizer='adam',\n",
        "              loss='SparseCategoricalCrossentropy',\n",
        "              metrics=['acc'])"
      ],
      "metadata": {
        "id": "Khyfg90Cge1w"
      },
      "execution_count": 5,
      "outputs": []
    },
    {
      "cell_type": "code",
      "source": [
        "history = model.fit(X_train, y_train, epochs= 50,\n",
        "                    validation_data=(X_test, y_test))"
      ],
      "metadata": {
        "colab": {
          "base_uri": "https://localhost:8080/"
        },
        "id": "kDPCW3KZg8uY",
        "outputId": "bc02341a-2752-4951-d5fa-516b2d1c4b05"
      },
      "execution_count": 6,
      "outputs": [
        {
          "output_type": "stream",
          "name": "stdout",
          "text": [
            "Epoch 1/50\n",
            "1875/1875 [==============================] - 15s 4ms/step - loss: 4.1588 - acc: 0.1372 - val_loss: 2.1529 - val_acc: 0.1661\n",
            "Epoch 2/50\n",
            "1875/1875 [==============================] - 7s 4ms/step - loss: 2.1787 - acc: 0.1599 - val_loss: 2.0537 - val_acc: 0.1994\n",
            "Epoch 3/50\n",
            "1875/1875 [==============================] - 8s 4ms/step - loss: 1.9557 - acc: 0.2251 - val_loss: 1.6382 - val_acc: 0.3458\n",
            "Epoch 4/50\n",
            "1875/1875 [==============================] - 7s 4ms/step - loss: 1.7140 - acc: 0.2964 - val_loss: 1.5496 - val_acc: 0.3461\n",
            "Epoch 5/50\n",
            "1875/1875 [==============================] - 7s 4ms/step - loss: 1.6339 - acc: 0.3216 - val_loss: 1.4934 - val_acc: 0.3707\n",
            "Epoch 6/50\n",
            "1875/1875 [==============================] - 6s 3ms/step - loss: 1.5944 - acc: 0.3333 - val_loss: 1.4968 - val_acc: 0.3725\n",
            "Epoch 7/50\n",
            "1875/1875 [==============================] - 7s 4ms/step - loss: 1.5779 - acc: 0.3345 - val_loss: 1.4887 - val_acc: 0.3686\n",
            "Epoch 8/50\n",
            "1875/1875 [==============================] - 6s 3ms/step - loss: 1.5723 - acc: 0.3374 - val_loss: 1.4693 - val_acc: 0.3698\n",
            "Epoch 9/50\n",
            "1875/1875 [==============================] - 7s 4ms/step - loss: 1.5684 - acc: 0.3404 - val_loss: 1.4930 - val_acc: 0.3653\n",
            "Epoch 10/50\n",
            "1875/1875 [==============================] - 6s 3ms/step - loss: 1.5524 - acc: 0.3434 - val_loss: 1.4686 - val_acc: 0.3764\n",
            "Epoch 11/50\n",
            "1875/1875 [==============================] - 7s 4ms/step - loss: 1.5410 - acc: 0.3609 - val_loss: 1.3411 - val_acc: 0.4447\n",
            "Epoch 12/50\n",
            "1875/1875 [==============================] - 8s 4ms/step - loss: 1.4479 - acc: 0.4010 - val_loss: 1.2677 - val_acc: 0.4615\n",
            "Epoch 13/50\n",
            "1875/1875 [==============================] - 7s 4ms/step - loss: 1.4228 - acc: 0.4038 - val_loss: 1.2829 - val_acc: 0.4621\n",
            "Epoch 14/50\n",
            "1875/1875 [==============================] - 7s 4ms/step - loss: 1.4015 - acc: 0.4139 - val_loss: 1.2744 - val_acc: 0.4550\n",
            "Epoch 15/50\n",
            "1875/1875 [==============================] - 6s 3ms/step - loss: 1.3958 - acc: 0.4168 - val_loss: 1.2664 - val_acc: 0.4635\n",
            "Epoch 16/50\n",
            "1875/1875 [==============================] - 7s 4ms/step - loss: 1.3871 - acc: 0.4180 - val_loss: 1.2321 - val_acc: 0.4708\n",
            "Epoch 17/50\n",
            "1875/1875 [==============================] - 6s 3ms/step - loss: 1.3840 - acc: 0.4180 - val_loss: 1.2260 - val_acc: 0.4708\n",
            "Epoch 18/50\n",
            "1875/1875 [==============================] - 7s 4ms/step - loss: 1.3779 - acc: 0.4215 - val_loss: 1.2315 - val_acc: 0.4654\n",
            "Epoch 19/50\n",
            "1875/1875 [==============================] - 6s 3ms/step - loss: 1.3827 - acc: 0.4208 - val_loss: 1.2465 - val_acc: 0.4627\n",
            "Epoch 20/50\n",
            "1875/1875 [==============================] - 7s 4ms/step - loss: 1.3705 - acc: 0.4229 - val_loss: 1.3060 - val_acc: 0.4536\n",
            "Epoch 21/50\n",
            "1875/1875 [==============================] - 7s 4ms/step - loss: 1.3715 - acc: 0.4240 - val_loss: 1.2401 - val_acc: 0.4646\n",
            "Epoch 22/50\n",
            "1875/1875 [==============================] - 6s 3ms/step - loss: 1.3894 - acc: 0.4187 - val_loss: 1.2532 - val_acc: 0.4700\n",
            "Epoch 23/50\n",
            "1875/1875 [==============================] - 7s 4ms/step - loss: 1.3944 - acc: 0.4227 - val_loss: 1.2457 - val_acc: 0.4719\n",
            "Epoch 24/50\n",
            "1875/1875 [==============================] - 6s 3ms/step - loss: 1.3692 - acc: 0.4250 - val_loss: 1.2474 - val_acc: 0.4690\n",
            "Epoch 25/50\n",
            "1875/1875 [==============================] - 7s 4ms/step - loss: 1.3694 - acc: 0.4237 - val_loss: 1.2584 - val_acc: 0.4762\n",
            "Epoch 26/50\n",
            "1875/1875 [==============================] - 6s 3ms/step - loss: 1.3708 - acc: 0.4220 - val_loss: 1.2372 - val_acc: 0.4690\n",
            "Epoch 27/50\n",
            "1875/1875 [==============================] - 7s 4ms/step - loss: 1.3661 - acc: 0.4212 - val_loss: 1.2502 - val_acc: 0.4595\n",
            "Epoch 28/50\n",
            "1875/1875 [==============================] - 6s 3ms/step - loss: 1.3730 - acc: 0.4237 - val_loss: 1.2413 - val_acc: 0.4741\n",
            "Epoch 29/50\n",
            "1875/1875 [==============================] - 7s 4ms/step - loss: 1.3731 - acc: 0.4264 - val_loss: 1.2499 - val_acc: 0.4637\n",
            "Epoch 30/50\n",
            "1875/1875 [==============================] - 6s 3ms/step - loss: 1.3565 - acc: 0.4281 - val_loss: 1.2344 - val_acc: 0.4734\n",
            "Epoch 31/50\n",
            "1875/1875 [==============================] - 7s 4ms/step - loss: 1.3738 - acc: 0.4250 - val_loss: 1.2999 - val_acc: 0.4725\n",
            "Epoch 32/50\n",
            "1875/1875 [==============================] - 8s 4ms/step - loss: 1.3583 - acc: 0.4262 - val_loss: 1.2355 - val_acc: 0.4714\n",
            "Epoch 33/50\n",
            "1875/1875 [==============================] - 6s 3ms/step - loss: 1.3521 - acc: 0.4263 - val_loss: 1.2588 - val_acc: 0.4723\n",
            "Epoch 34/50\n",
            "1875/1875 [==============================] - 7s 4ms/step - loss: 1.3835 - acc: 0.4214 - val_loss: 1.2389 - val_acc: 0.4660\n",
            "Epoch 35/50\n",
            "1875/1875 [==============================] - 6s 3ms/step - loss: 1.3597 - acc: 0.4252 - val_loss: 1.3034 - val_acc: 0.4547\n",
            "Epoch 36/50\n",
            "1875/1875 [==============================] - 7s 4ms/step - loss: 1.3591 - acc: 0.4272 - val_loss: 1.2489 - val_acc: 0.4757\n",
            "Epoch 37/50\n",
            "1875/1875 [==============================] - 6s 3ms/step - loss: 1.3684 - acc: 0.4265 - val_loss: 1.2672 - val_acc: 0.4708\n",
            "Epoch 38/50\n",
            "1875/1875 [==============================] - 7s 4ms/step - loss: 1.4065 - acc: 0.4225 - val_loss: 1.2682 - val_acc: 0.4748\n",
            "Epoch 39/50\n",
            "1875/1875 [==============================] - 6s 3ms/step - loss: 1.3574 - acc: 0.4264 - val_loss: 1.2372 - val_acc: 0.4739\n",
            "Epoch 40/50\n",
            "1875/1875 [==============================] - 7s 4ms/step - loss: 1.3681 - acc: 0.4261 - val_loss: 1.3512 - val_acc: 0.4404\n",
            "Epoch 41/50\n",
            "1875/1875 [==============================] - 7s 4ms/step - loss: 1.3658 - acc: 0.4268 - val_loss: 1.3190 - val_acc: 0.4610\n",
            "Epoch 42/50\n",
            "1875/1875 [==============================] - 6s 3ms/step - loss: 1.3587 - acc: 0.4241 - val_loss: 1.2800 - val_acc: 0.4644\n",
            "Epoch 43/50\n",
            "1875/1875 [==============================] - 7s 4ms/step - loss: 1.4064 - acc: 0.4206 - val_loss: 1.2910 - val_acc: 0.4735\n",
            "Epoch 44/50\n",
            "1875/1875 [==============================] - 6s 3ms/step - loss: 1.3723 - acc: 0.4275 - val_loss: 1.2564 - val_acc: 0.4689\n",
            "Epoch 45/50\n",
            "1875/1875 [==============================] - 7s 4ms/step - loss: 1.3775 - acc: 0.4248 - val_loss: 1.3124 - val_acc: 0.4629\n",
            "Epoch 46/50\n",
            "1875/1875 [==============================] - 6s 3ms/step - loss: 1.3572 - acc: 0.4264 - val_loss: 1.2514 - val_acc: 0.4692\n",
            "Epoch 47/50\n",
            "1875/1875 [==============================] - 7s 4ms/step - loss: 1.3635 - acc: 0.4240 - val_loss: 1.2749 - val_acc: 0.4692\n",
            "Epoch 48/50\n",
            "1875/1875 [==============================] - 6s 3ms/step - loss: 1.3635 - acc: 0.4255 - val_loss: 1.2761 - val_acc: 0.4684\n",
            "Epoch 49/50\n",
            "1875/1875 [==============================] - 7s 4ms/step - loss: 1.3530 - acc: 0.4278 - val_loss: 1.2646 - val_acc: 0.4676\n",
            "Epoch 50/50\n",
            "1875/1875 [==============================] - 6s 3ms/step - loss: 1.3742 - acc: 0.4262 - val_loss: 1.2922 - val_acc: 0.4745\n"
          ]
        }
      ]
    },
    {
      "cell_type": "code",
      "source": [
        "model.summary()"
      ],
      "metadata": {
        "colab": {
          "base_uri": "https://localhost:8080/"
        },
        "id": "d_kd8JaXkmzx",
        "outputId": "051d607e-6e39-4a14-dffc-ca14a369978c"
      },
      "execution_count": 7,
      "outputs": [
        {
          "output_type": "stream",
          "name": "stdout",
          "text": [
            "Model: \"sequential\"\n",
            "_________________________________________________________________\n",
            " Layer (type)                Output Shape              Param #   \n",
            "=================================================================\n",
            " flatten (Flatten)           (None, 784)               0         \n",
            "                                                                 \n",
            " dense (Dense)               (None, 200)               157000    \n",
            "                                                                 \n",
            " dropout (Dropout)           (None, 200)               0         \n",
            "                                                                 \n",
            " dense_1 (Dense)             (None, 100)               20100     \n",
            "                                                                 \n",
            " dropout_1 (Dropout)         (None, 100)               0         \n",
            "                                                                 \n",
            " dense_2 (Dense)             (None, 50)                5050      \n",
            "                                                                 \n",
            " dropout_2 (Dropout)         (None, 50)                0         \n",
            "                                                                 \n",
            " dense_3 (Dense)             (None, 10)                510       \n",
            "                                                                 \n",
            "=================================================================\n",
            "Total params: 182660 (713.52 KB)\n",
            "Trainable params: 182660 (713.52 KB)\n",
            "Non-trainable params: 0 (0.00 Byte)\n",
            "_________________________________________________________________\n"
          ]
        }
      ]
    },
    {
      "cell_type": "code",
      "source": [
        "plt.plot(history.history['loss'], label='train')\n",
        "plt.plot(history.history['val_loss'], label='test')\n",
        "plt.title('Model_Loss')\n",
        "plt.ylabel('loss')\n",
        "plt.xlabel('epochs')\n",
        "plt.legend()\n",
        "plt.show()"
      ],
      "metadata": {
        "colab": {
          "base_uri": "https://localhost:8080/",
          "height": 472
        },
        "id": "5qA3079JhMRq",
        "outputId": "a3996527-9d4e-4102-fb86-be823fc74371"
      },
      "execution_count": 8,
      "outputs": [
        {
          "output_type": "display_data",
          "data": {
            "text/plain": [
              "<Figure size 640x480 with 1 Axes>"
            ],
            "image/png": "[encoded data removed]"
          },
          "metadata": {}
        }
      ]
    },
    {
      "cell_type": "code",
      "source": [
        "# 딥러닝 모델 만들기\n",
        "model = tf.keras.Sequential()\n",
        "# 입력층 만들기\n",
        "model.add(tf.keras.layers.Flatten(input_shape=(28,28)))\n",
        "# 은닉층 만들기(regularize 중 l1은 절대값을 사용하고, l2는 제곱값을 사용함)\n",
        "model.add(tf.keras.layers.Dense(200, activation='relu',\n",
        "                                kernel_regularizer=tf.keras.regularizers.l2(0.001)))\n",
        "model.add(tf.keras.layers.Dense(100, activation='relu',\n",
        "                                kernel_regularizer=tf.keras.regularizers.l2(0.001)))\n",
        "model.add(tf.keras.layers.Dense(50, activation='relu',\n",
        "                                kernel_regularizer=tf.keras.regularizers.l2(0.001)))\n",
        "# 출력층 만들기\n",
        "model.add(tf.keras.layers.Dense(10, activation='softmax'))"
      ],
      "metadata": {
        "id": "pSl6L5Ejm4ha"
      },
      "execution_count": 10,
      "outputs": []
    },
    {
      "cell_type": "code",
      "source": [
        "model.compile(optimizer='adam',\n",
        "              loss='SparseCategoricalCrossentropy',\n",
        "              metrics=['acc'])"
      ],
      "metadata": {
        "id": "I7_BLOqLo5i4"
      },
      "execution_count": 11,
      "outputs": []
    },
    {
      "cell_type": "code",
      "source": [
        "history = model.fit(X_train, y_train, epochs= 50,\n",
        "                    validation_data=(X_test, y_test))"
      ],
      "metadata": {
        "colab": {
          "base_uri": "https://localhost:8080/"
        },
        "id": "GD5bC89ppgD3",
        "outputId": "169b8501-64ae-4e16-d3b8-b83553c257e2"
      },
      "execution_count": 12,
      "outputs": [
        {
          "output_type": "stream",
          "name": "stdout",
          "text": [
            "Epoch 1/50\n",
            "1875/1875 [==============================] - 9s 4ms/step - loss: 1.8028 - acc: 0.7709 - val_loss: 0.9386 - val_acc: 0.8115\n",
            "Epoch 2/50\n",
            "1875/1875 [==============================] - 6s 3ms/step - loss: 0.8235 - acc: 0.8330 - val_loss: 0.8423 - val_acc: 0.8131\n",
            "Epoch 3/50\n",
            "1875/1875 [==============================] - 7s 4ms/step - loss: 0.6889 - acc: 0.8451 - val_loss: 0.6820 - val_acc: 0.8345\n",
            "Epoch 4/50\n",
            "1875/1875 [==============================] - 6s 3ms/step - loss: 0.5903 - acc: 0.8487 - val_loss: 0.5598 - val_acc: 0.8484\n",
            "Epoch 5/50\n",
            "1875/1875 [==============================] - 7s 4ms/step - loss: 0.5185 - acc: 0.8556 - val_loss: 0.5472 - val_acc: 0.8332\n",
            "Epoch 6/50\n",
            "1875/1875 [==============================] - 6s 3ms/step - loss: 0.4783 - acc: 0.8598 - val_loss: 0.5299 - val_acc: 0.8382\n",
            "Epoch 7/50\n",
            "1875/1875 [==============================] - 7s 4ms/step - loss: 0.4605 - acc: 0.8630 - val_loss: 0.5162 - val_acc: 0.8376\n",
            "Epoch 8/50\n",
            "1875/1875 [==============================] - 6s 3ms/step - loss: 0.4493 - acc: 0.8648 - val_loss: 0.5029 - val_acc: 0.8388\n",
            "Epoch 9/50\n",
            "1875/1875 [==============================] - 7s 4ms/step - loss: 0.4383 - acc: 0.8675 - val_loss: 0.4812 - val_acc: 0.8552\n",
            "Epoch 10/50\n",
            "1875/1875 [==============================] - 6s 3ms/step - loss: 0.4302 - acc: 0.8694 - val_loss: 0.4678 - val_acc: 0.8570\n",
            "Epoch 11/50\n",
            "1875/1875 [==============================] - 7s 4ms/step - loss: 0.4267 - acc: 0.8702 - val_loss: 0.4635 - val_acc: 0.8610\n",
            "Epoch 12/50\n",
            "1875/1875 [==============================] - 7s 4ms/step - loss: 0.4233 - acc: 0.8702 - val_loss: 0.4659 - val_acc: 0.8606\n",
            "Epoch 13/50\n",
            "1875/1875 [==============================] - 6s 3ms/step - loss: 0.4253 - acc: 0.8708 - val_loss: 0.4731 - val_acc: 0.8595\n",
            "Epoch 14/50\n",
            "1875/1875 [==============================] - 7s 3ms/step - loss: 0.4225 - acc: 0.8725 - val_loss: 0.4886 - val_acc: 0.8537\n",
            "Epoch 15/50\n",
            "1875/1875 [==============================] - 6s 3ms/step - loss: 0.4216 - acc: 0.8722 - val_loss: 0.4640 - val_acc: 0.8583\n",
            "Epoch 16/50\n",
            "1875/1875 [==============================] - 7s 4ms/step - loss: 0.4188 - acc: 0.8744 - val_loss: 0.4479 - val_acc: 0.8641\n",
            "Epoch 17/50\n",
            "1875/1875 [==============================] - 6s 3ms/step - loss: 0.4175 - acc: 0.8731 - val_loss: 0.4554 - val_acc: 0.8616\n",
            "Epoch 18/50\n",
            "1875/1875 [==============================] - 7s 4ms/step - loss: 0.4185 - acc: 0.8738 - val_loss: 0.4804 - val_acc: 0.8528\n",
            "Epoch 19/50\n",
            "1875/1875 [==============================] - 6s 3ms/step - loss: 0.4177 - acc: 0.8741 - val_loss: 0.4524 - val_acc: 0.8650\n",
            "Epoch 20/50\n",
            "1875/1875 [==============================] - 7s 3ms/step - loss: 0.4166 - acc: 0.8716 - val_loss: 0.4554 - val_acc: 0.8660\n",
            "Epoch 21/50\n",
            "1875/1875 [==============================] - 6s 3ms/step - loss: 0.4140 - acc: 0.8748 - val_loss: 0.4916 - val_acc: 0.8493\n",
            "Epoch 22/50\n",
            "1875/1875 [==============================] - 7s 4ms/step - loss: 0.4157 - acc: 0.8738 - val_loss: 0.4952 - val_acc: 0.8561\n",
            "Epoch 23/50\n",
            "1875/1875 [==============================] - 6s 3ms/step - loss: 0.4152 - acc: 0.8730 - val_loss: 0.4518 - val_acc: 0.8603\n",
            "Epoch 24/50\n",
            "1875/1875 [==============================] - 6s 3ms/step - loss: 0.4126 - acc: 0.8742 - val_loss: 0.4840 - val_acc: 0.8501\n",
            "Epoch 25/50\n",
            "1875/1875 [==============================] - 6s 3ms/step - loss: 0.4136 - acc: 0.8744 - val_loss: 0.4681 - val_acc: 0.8557\n",
            "Epoch 26/50\n",
            "1875/1875 [==============================] - 6s 3ms/step - loss: 0.4084 - acc: 0.8755 - val_loss: 0.4659 - val_acc: 0.8627\n",
            "Epoch 27/50\n",
            "1875/1875 [==============================] - 7s 4ms/step - loss: 0.4133 - acc: 0.8744 - val_loss: 0.4681 - val_acc: 0.8613\n",
            "Epoch 28/50\n",
            "1875/1875 [==============================] - 6s 3ms/step - loss: 0.4142 - acc: 0.8730 - val_loss: 0.4688 - val_acc: 0.8567\n",
            "Epoch 29/50\n",
            "1875/1875 [==============================] - 7s 4ms/step - loss: 0.4071 - acc: 0.8749 - val_loss: 0.4533 - val_acc: 0.8584\n",
            "Epoch 30/50\n",
            "1875/1875 [==============================] - 6s 3ms/step - loss: 0.4086 - acc: 0.8746 - val_loss: 0.4462 - val_acc: 0.8634\n",
            "Epoch 31/50\n",
            "1875/1875 [==============================] - 7s 4ms/step - loss: 0.4058 - acc: 0.8760 - val_loss: 0.4407 - val_acc: 0.8678\n",
            "Epoch 32/50\n",
            "1875/1875 [==============================] - 6s 3ms/step - loss: 0.4127 - acc: 0.8750 - val_loss: 0.4491 - val_acc: 0.8659\n",
            "Epoch 33/50\n",
            "1875/1875 [==============================] - 7s 4ms/step - loss: 0.4053 - acc: 0.8766 - val_loss: 0.4643 - val_acc: 0.8557\n",
            "Epoch 34/50\n",
            "1875/1875 [==============================] - 6s 3ms/step - loss: 0.4052 - acc: 0.8742 - val_loss: 0.4525 - val_acc: 0.8605\n",
            "Epoch 35/50\n",
            "1875/1875 [==============================] - 7s 4ms/step - loss: 0.4056 - acc: 0.8755 - val_loss: 0.4622 - val_acc: 0.8552\n",
            "Epoch 36/50\n",
            "1875/1875 [==============================] - 6s 3ms/step - loss: 0.4021 - acc: 0.8754 - val_loss: 0.4904 - val_acc: 0.8482\n",
            "Epoch 37/50\n",
            "1875/1875 [==============================] - 7s 4ms/step - loss: 0.4060 - acc: 0.8750 - val_loss: 0.4796 - val_acc: 0.8538\n",
            "Epoch 38/50\n",
            "1875/1875 [==============================] - 6s 3ms/step - loss: 0.4054 - acc: 0.8752 - val_loss: 0.4707 - val_acc: 0.8456\n",
            "Epoch 39/50\n",
            "1875/1875 [==============================] - 6s 3ms/step - loss: 0.4028 - acc: 0.8748 - val_loss: 0.4631 - val_acc: 0.8573\n",
            "Epoch 40/50\n",
            "1875/1875 [==============================] - 6s 3ms/step - loss: 0.4058 - acc: 0.8747 - val_loss: 0.4817 - val_acc: 0.8481\n",
            "Epoch 41/50\n",
            "1875/1875 [==============================] - 6s 3ms/step - loss: 0.4053 - acc: 0.8743 - val_loss: 0.4459 - val_acc: 0.8637\n",
            "Epoch 42/50\n",
            "1875/1875 [==============================] - 7s 4ms/step - loss: 0.4066 - acc: 0.8765 - val_loss: 0.4713 - val_acc: 0.8573\n",
            "Epoch 43/50\n",
            "1875/1875 [==============================] - 7s 4ms/step - loss: 0.4048 - acc: 0.8754 - val_loss: 0.4870 - val_acc: 0.8446\n",
            "Epoch 44/50\n",
            "1875/1875 [==============================] - 7s 4ms/step - loss: 0.4048 - acc: 0.8752 - val_loss: 0.4545 - val_acc: 0.8577\n",
            "Epoch 45/50\n",
            "1875/1875 [==============================] - 6s 3ms/step - loss: 0.4027 - acc: 0.8755 - val_loss: 0.4717 - val_acc: 0.8588\n",
            "Epoch 46/50\n",
            "1875/1875 [==============================] - 7s 3ms/step - loss: 0.4072 - acc: 0.8745 - val_loss: 0.4561 - val_acc: 0.8619\n",
            "Epoch 47/50\n",
            "1875/1875 [==============================] - 6s 3ms/step - loss: 0.4060 - acc: 0.8759 - val_loss: 0.4370 - val_acc: 0.8658\n",
            "Epoch 48/50\n",
            "1875/1875 [==============================] - 7s 4ms/step - loss: 0.4020 - acc: 0.8758 - val_loss: 0.4772 - val_acc: 0.8509\n",
            "Epoch 49/50\n",
            "1875/1875 [==============================] - 6s 3ms/step - loss: 0.4000 - acc: 0.8758 - val_loss: 0.4361 - val_acc: 0.8666\n",
            "Epoch 50/50\n",
            "1875/1875 [==============================] - 7s 4ms/step - loss: 0.4059 - acc: 0.8750 - val_loss: 0.4530 - val_acc: 0.8610\n"
          ]
        }
      ]
    },
    {
      "cell_type": "code",
      "source": [
        "plt.plot(history.history['loss'], label='train')\n",
        "plt.plot(history.history['val_loss'], label='test')\n",
        "plt.title('Model_Loss')\n",
        "plt.ylabel('loss')\n",
        "plt.xlabel('epochs')\n",
        "plt.legend()\n",
        "plt.show()"
      ],
      "metadata": {
        "colab": {
          "base_uri": "https://localhost:8080/",
          "height": 472
        },
        "id": "1iXeKok1phvV",
        "outputId": "d83fa256-6a18-456f-8512-2972f82c1963"
      },
      "execution_count": 13,
      "outputs": [
        {
          "output_type": "display_data",
          "data": {
            "text/plain": [
              "<Figure size 640x480 with 1 Axes>"
            ],
            "image/png": "[encoded data removed]"
          },
          "metadata": {}
        }
      ]
    },
    {
      "cell_type": "code",
      "source": [
        "# 모델 파일로 저장(확장자만 h5로 저장하면 되고 이름은 마음대로 지정해도 됨)\n",
        "model.save('h5-model.h5')"
      ],
      "metadata": {
        "colab": {
          "base_uri": "https://localhost:8080/"
        },
        "id": "E5vmG1T6q0FF",
        "outputId": "f32eed94-c845-4ffc-d77e-b6d660e60a93"
      },
      "execution_count": 14,
      "outputs": [
        {
          "output_type": "stream",
          "name": "stderr",
          "text": [
            "/usr/local/lib/python3.10/dist-packages/keras/src/engine/training.py:3103: UserWarning: You are saving your model as an HDF5 file via `model.save()`. This file format is considered legacy. We recommend using instead the native Keras format, e.g. `model.save('my_model.keras')`.\n",
            "  saving_api.save_model(\n"
          ]
        }
      ]
    },
    {
      "cell_type": "code",
      "source": [
        "# 모델 불러오기\n",
        "load_model = tf.keras.models.load_model('h5-model.h5')"
      ],
      "metadata": {
        "id": "WlVBTShYxLm_"
      },
      "execution_count": 15,
      "outputs": []
    },
    {
      "cell_type": "code",
      "source": [
        "load_model.summary()"
      ],
      "metadata": {
        "colab": {
          "base_uri": "https://localhost:8080/"
        },
        "id": "NxuV39kwyNce",
        "outputId": "8a6f6927-3699-4fdf-f912-d547942d90a0"
      },
      "execution_count": 16,
      "outputs": [
        {
          "output_type": "stream",
          "name": "stdout",
          "text": [
            "Model: \"sequential_2\"\n",
            "_________________________________________________________________\n",
            " Layer (type)                Output Shape              Param #   \n",
            "=================================================================\n",
            " flatten_2 (Flatten)         (None, 784)               0         \n",
            "                                                                 \n",
            " dense_4 (Dense)             (None, 200)               157000    \n",
            "                                                                 \n",
            " dense_5 (Dense)             (None, 100)               20100     \n",
            "                                                                 \n",
            " dense_6 (Dense)             (None, 50)                5050      \n",
            "                                                                 \n",
            " dense_7 (Dense)             (None, 10)                510       \n",
            "                                                                 \n",
            "=================================================================\n",
            "Total params: 182660 (713.52 KB)\n",
            "Trainable params: 182660 (713.52 KB)\n",
            "Non-trainable params: 0 (0.00 Byte)\n",
            "_________________________________________________________________\n"
          ]
        }
      ]
    },
    {
      "cell_type": "code",
      "source": [
        "load_model.evaluate(X_test, y_test)"
      ],
      "metadata": {
        "colab": {
          "base_uri": "https://localhost:8080/"
        },
        "id": "1hUH-qwszNaz",
        "outputId": "0f04ffde-3651-4adb-a309-4307dd983269"
      },
      "execution_count": 17,
      "outputs": [
        {
          "output_type": "stream",
          "name": "stdout",
          "text": [
            "313/313 [==============================] - 1s 4ms/step - loss: 0.4530 - acc: 0.8610\n"
          ]
        },
        {
          "output_type": "execute_result",
          "data": {
            "text/plain": [
              "[0.45301303267478943, 0.8610000014305115]"
            ]
          },
          "metadata": {},
          "execution_count": 17
        }
      ]
    },
    {
      "cell_type": "code",
      "source": [
        "# 모델 체크포인트 설정\n",
        "# 딥러닝 모델 만들기\n",
        "model = tf.keras.Sequential()\n",
        "# 입력층 만들기\n",
        "model.add(tf.keras.layers.Flatten(input_shape=(28,28)))\n",
        "# 은닉층 만들기(regularize 중 l1은 절대값을 사용하고, l2는 제곱값을 사용함)\n",
        "model.add(tf.keras.layers.Dense(200, activation='relu',\n",
        "                                kernel_regularizer=tf.keras.regularizers.l2(0.001)))\n",
        "model.add(tf.keras.layers.Dense(100, activation='relu',\n",
        "                                kernel_regularizer=tf.keras.regularizers.l2(0.001)))\n",
        "model.add(tf.keras.layers.Dense(50, activation='relu',\n",
        "                                kernel_regularizer=tf.keras.regularizers.l2(0.001)))\n",
        "# 출력층 만들기\n",
        "model.add(tf.keras.layers.Dense(10, activation='softmax'))\n",
        "# 모델 컴파일\n",
        "model.compile(optimizer='adam',\n",
        "              loss='SparseCategoricalCrossentropy',\n",
        "              metrics=['acc'])"
      ],
      "metadata": {
        "id": "aTA9dmpJzQXK"
      },
      "execution_count": 18,
      "outputs": []
    },
    {
      "cell_type": "code",
      "source": [
        "# 모델 체크포인트 설정\n",
        "cpt = tf.keras.callbacks.ModelCheckpoint(filepath='tmp_cpt.ckpt', # 체크포인트 저장 위치\n",
        "                                         save_weight_only=True, # 가중치만 저장\n",
        "                                         save_best_only=True, # 가장 좋은 모델만 저장\n",
        "                                         monitor='val_loss',\n",
        "                                         verbose=1)"
      ],
      "metadata": {
        "id": "Ga0hAiTNzwed"
      },
      "execution_count": 19,
      "outputs": []
    },
    {
      "cell_type": "code",
      "source": [
        "model.fit(X_train, y_train, epochs=100,\n",
        "          validation_data=(X_test, y_test),\n",
        "          callbacks=[cpt])"
      ],
      "metadata": {
        "colab": {
          "base_uri": "https://localhost:8080/"
        },
        "id": "iYXuDTax0sB8",
        "outputId": "cbe2b52a-502a-4c32-a2d5-9c63c0d8ef65"
      },
      "execution_count": 20,
      "outputs": [
        {
          "output_type": "stream",
          "name": "stdout",
          "text": [
            "Epoch 1/100\n",
            "1867/1875 [============================>.] - ETA: 0s - loss: 1.7040 - acc: 0.7693\n",
            "Epoch 1: val_loss improved from inf to 0.97068, saving model to tmp_cpt.ckpt\n",
            "1875/1875 [==============================] - 10s 4ms/step - loss: 1.7006 - acc: 0.7695 - val_loss: 0.9707 - val_acc: 0.8023\n",
            "Epoch 2/100\n",
            "1868/1875 [============================>.] - ETA: 0s - loss: 0.8091 - acc: 0.8293\n",
            "Epoch 2: val_loss improved from 0.97068 to 0.78972, saving model to tmp_cpt.ckpt\n",
            "1875/1875 [==============================] - 8s 4ms/step - loss: 0.8090 - acc: 0.8292 - val_loss: 0.7897 - val_acc: 0.8262\n",
            "Epoch 3/100\n",
            "1871/1875 [============================>.] - ETA: 0s - loss: 0.6688 - acc: 0.8442\n",
            "Epoch 3: val_loss improved from 0.78972 to 0.64042, saving model to tmp_cpt.ckpt\n",
            "1875/1875 [==============================] - 7s 4ms/step - loss: 0.6689 - acc: 0.8443 - val_loss: 0.6404 - val_acc: 0.8402\n",
            "Epoch 4/100\n",
            "1862/1875 [============================>.] - ETA: 0s - loss: 0.5720 - acc: 0.8507\n",
            "Epoch 4: val_loss improved from 0.64042 to 0.55984, saving model to tmp_cpt.ckpt\n",
            "1875/1875 [==============================] - 7s 4ms/step - loss: 0.5716 - acc: 0.8507 - val_loss: 0.5598 - val_acc: 0.8476\n",
            "Epoch 5/100\n",
            "1872/1875 [============================>.] - ETA: 0s - loss: 0.5060 - acc: 0.8587\n",
            "Epoch 5: val_loss improved from 0.55984 to 0.54235, saving model to tmp_cpt.ckpt\n",
            "1875/1875 [==============================] - 7s 4ms/step - loss: 0.5059 - acc: 0.8587 - val_loss: 0.5424 - val_acc: 0.8406\n",
            "Epoch 6/100\n",
            "1867/1875 [============================>.] - ETA: 0s - loss: 0.4722 - acc: 0.8617\n",
            "Epoch 6: val_loss improved from 0.54235 to 0.52348, saving model to tmp_cpt.ckpt\n",
            "1875/1875 [==============================] - 7s 4ms/step - loss: 0.4721 - acc: 0.8617 - val_loss: 0.5235 - val_acc: 0.8456\n",
            "Epoch 7/100\n",
            "1858/1875 [============================>.] - ETA: 0s - loss: 0.4572 - acc: 0.8609\n",
            "Epoch 7: val_loss improved from 0.52348 to 0.49302, saving model to tmp_cpt.ckpt\n",
            "1875/1875 [==============================] - 7s 4ms/step - loss: 0.4580 - acc: 0.8606 - val_loss: 0.4930 - val_acc: 0.8547\n",
            "Epoch 8/100\n",
            "1863/1875 [============================>.] - ETA: 0s - loss: 0.4408 - acc: 0.8671\n",
            "Epoch 8: val_loss improved from 0.49302 to 0.48903, saving model to tmp_cpt.ckpt\n",
            "1875/1875 [==============================] - 8s 4ms/step - loss: 0.4408 - acc: 0.8671 - val_loss: 0.4890 - val_acc: 0.8526\n",
            "Epoch 9/100\n",
            "1870/1875 [============================>.] - ETA: 0s - loss: 0.4444 - acc: 0.8657\n",
            "Epoch 9: val_loss improved from 0.48903 to 0.47938, saving model to tmp_cpt.ckpt\n",
            "1875/1875 [==============================] - 7s 4ms/step - loss: 0.4444 - acc: 0.8657 - val_loss: 0.4794 - val_acc: 0.8545\n",
            "Epoch 10/100\n",
            "1866/1875 [============================>.] - ETA: 0s - loss: 0.4362 - acc: 0.8663\n",
            "Epoch 10: val_loss improved from 0.47938 to 0.45907, saving model to tmp_cpt.ckpt\n",
            "1875/1875 [==============================] - 8s 4ms/step - loss: 0.4359 - acc: 0.8662 - val_loss: 0.4591 - val_acc: 0.8632\n",
            "Epoch 11/100\n",
            "1873/1875 [============================>.] - ETA: 0s - loss: 0.4261 - acc: 0.8701\n",
            "Epoch 11: val_loss did not improve from 0.45907\n",
            "1875/1875 [==============================] - 6s 3ms/step - loss: 0.4265 - acc: 0.8700 - val_loss: 0.4835 - val_acc: 0.8497\n",
            "Epoch 12/100\n",
            "1871/1875 [============================>.] - ETA: 0s - loss: 0.4298 - acc: 0.8680\n",
            "Epoch 12: val_loss did not improve from 0.45907\n",
            "1875/1875 [==============================] - 7s 4ms/step - loss: 0.4299 - acc: 0.8680 - val_loss: 0.4800 - val_acc: 0.8500\n",
            "Epoch 13/100\n",
            "1862/1875 [============================>.] - ETA: 0s - loss: 0.4243 - acc: 0.8707\n",
            "Epoch 13: val_loss did not improve from 0.45907\n",
            "1875/1875 [==============================] - 6s 3ms/step - loss: 0.4248 - acc: 0.8705 - val_loss: 0.4704 - val_acc: 0.8509\n",
            "Epoch 14/100\n",
            "1867/1875 [============================>.] - ETA: 0s - loss: 0.4236 - acc: 0.8729\n",
            "Epoch 14: val_loss did not improve from 0.45907\n",
            "1875/1875 [==============================] - 7s 4ms/step - loss: 0.4234 - acc: 0.8730 - val_loss: 0.4626 - val_acc: 0.8546\n",
            "Epoch 15/100\n",
            "1862/1875 [============================>.] - ETA: 0s - loss: 0.4207 - acc: 0.8712\n",
            "Epoch 15: val_loss improved from 0.45907 to 0.45257, saving model to tmp_cpt.ckpt\n",
            "1875/1875 [==============================] - 7s 4ms/step - loss: 0.4202 - acc: 0.8713 - val_loss: 0.4526 - val_acc: 0.8606\n",
            "Epoch 16/100\n",
            "1871/1875 [============================>.] - ETA: 0s - loss: 0.4205 - acc: 0.8718\n",
            "Epoch 16: val_loss did not improve from 0.45257\n",
            "1875/1875 [==============================] - 8s 4ms/step - loss: 0.4207 - acc: 0.8717 - val_loss: 0.5003 - val_acc: 0.8452\n",
            "Epoch 17/100\n",
            "1870/1875 [============================>.] - ETA: 0s - loss: 0.4214 - acc: 0.8703\n",
            "Epoch 17: val_loss did not improve from 0.45257\n",
            "1875/1875 [==============================] - 6s 3ms/step - loss: 0.4214 - acc: 0.8703 - val_loss: 0.5241 - val_acc: 0.8352\n",
            "Epoch 18/100\n",
            "1864/1875 [============================>.] - ETA: 0s - loss: 0.4191 - acc: 0.8704\n",
            "Epoch 18: val_loss did not improve from 0.45257\n",
            "1875/1875 [==============================] - 7s 4ms/step - loss: 0.4192 - acc: 0.8703 - val_loss: 0.4762 - val_acc: 0.8520\n",
            "Epoch 19/100\n",
            "1865/1875 [============================>.] - ETA: 0s - loss: 0.4143 - acc: 0.8737\n",
            "Epoch 19: val_loss did not improve from 0.45257\n",
            "1875/1875 [==============================] - 7s 4ms/step - loss: 0.4145 - acc: 0.8736 - val_loss: 0.4711 - val_acc: 0.8518\n",
            "Epoch 20/100\n",
            "1874/1875 [============================>.] - ETA: 0s - loss: 0.4139 - acc: 0.8725\n",
            "Epoch 20: val_loss improved from 0.45257 to 0.45223, saving model to tmp_cpt.ckpt\n",
            "1875/1875 [==============================] - 7s 4ms/step - loss: 0.4138 - acc: 0.8725 - val_loss: 0.4522 - val_acc: 0.8635\n",
            "Epoch 21/100\n",
            "1865/1875 [============================>.] - ETA: 0s - loss: 0.4137 - acc: 0.8730\n",
            "Epoch 21: val_loss did not improve from 0.45223\n",
            "1875/1875 [==============================] - 8s 4ms/step - loss: 0.4138 - acc: 0.8730 - val_loss: 0.4896 - val_acc: 0.8530\n",
            "Epoch 22/100\n",
            "1865/1875 [============================>.] - ETA: 0s - loss: 0.4097 - acc: 0.8742\n",
            "Epoch 22: val_loss did not improve from 0.45223\n",
            "1875/1875 [==============================] - 6s 3ms/step - loss: 0.4099 - acc: 0.8742 - val_loss: 0.4831 - val_acc: 0.8509\n",
            "Epoch 23/100\n",
            "1870/1875 [============================>.] - ETA: 0s - loss: 0.4098 - acc: 0.8742\n",
            "Epoch 23: val_loss did not improve from 0.45223\n",
            "1875/1875 [==============================] - 7s 4ms/step - loss: 0.4098 - acc: 0.8741 - val_loss: 0.4878 - val_acc: 0.8523\n",
            "Epoch 24/100\n",
            "1865/1875 [============================>.] - ETA: 0s - loss: 0.4095 - acc: 0.8750\n",
            "Epoch 24: val_loss did not improve from 0.45223\n",
            "1875/1875 [==============================] - 6s 3ms/step - loss: 0.4093 - acc: 0.8752 - val_loss: 0.4733 - val_acc: 0.8561\n",
            "Epoch 25/100\n",
            "1860/1875 [============================>.] - ETA: 0s - loss: 0.4110 - acc: 0.8736\n",
            "Epoch 25: val_loss did not improve from 0.45223\n",
            "1875/1875 [==============================] - 7s 4ms/step - loss: 0.4111 - acc: 0.8737 - val_loss: 0.4655 - val_acc: 0.8569\n",
            "Epoch 26/100\n",
            "1871/1875 [============================>.] - ETA: 0s - loss: 0.4098 - acc: 0.8749\n",
            "Epoch 26: val_loss did not improve from 0.45223\n",
            "1875/1875 [==============================] - 7s 4ms/step - loss: 0.4098 - acc: 0.8749 - val_loss: 0.4630 - val_acc: 0.8549\n",
            "Epoch 27/100\n",
            "1869/1875 [============================>.] - ETA: 0s - loss: 0.4139 - acc: 0.8724\n",
            "Epoch 27: val_loss did not improve from 0.45223\n",
            "1875/1875 [==============================] - 6s 3ms/step - loss: 0.4139 - acc: 0.8724 - val_loss: 0.5283 - val_acc: 0.8359\n",
            "Epoch 28/100\n",
            "1873/1875 [============================>.] - ETA: 0s - loss: 0.4137 - acc: 0.8726\n",
            "Epoch 28: val_loss improved from 0.45223 to 0.44561, saving model to tmp_cpt.ckpt\n",
            "1875/1875 [==============================] - 7s 4ms/step - loss: 0.4138 - acc: 0.8726 - val_loss: 0.4456 - val_acc: 0.8654\n",
            "Epoch 29/100\n",
            "1865/1875 [============================>.] - ETA: 0s - loss: 0.4107 - acc: 0.8750\n",
            "Epoch 29: val_loss did not improve from 0.44561\n",
            "1875/1875 [==============================] - 6s 3ms/step - loss: 0.4108 - acc: 0.8749 - val_loss: 0.4713 - val_acc: 0.8535\n",
            "Epoch 30/100\n",
            "1864/1875 [============================>.] - ETA: 0s - loss: 0.4129 - acc: 0.8730\n",
            "Epoch 30: val_loss did not improve from 0.44561\n",
            "1875/1875 [==============================] - 7s 4ms/step - loss: 0.4132 - acc: 0.8729 - val_loss: 0.4603 - val_acc: 0.8608\n",
            "Epoch 31/100\n",
            "1865/1875 [============================>.] - ETA: 0s - loss: 0.4096 - acc: 0.8735\n",
            "Epoch 31: val_loss did not improve from 0.44561\n",
            "1875/1875 [==============================] - 6s 3ms/step - loss: 0.4096 - acc: 0.8734 - val_loss: 0.4778 - val_acc: 0.8483\n",
            "Epoch 32/100\n",
            "1872/1875 [============================>.] - ETA: 0s - loss: 0.4113 - acc: 0.8736\n",
            "Epoch 32: val_loss did not improve from 0.44561\n",
            "1875/1875 [==============================] - 7s 4ms/step - loss: 0.4112 - acc: 0.8737 - val_loss: 0.4564 - val_acc: 0.8599\n",
            "Epoch 33/100\n",
            "1869/1875 [============================>.] - ETA: 0s - loss: 0.4124 - acc: 0.8738\n",
            "Epoch 33: val_loss did not improve from 0.44561\n",
            "1875/1875 [==============================] - 6s 3ms/step - loss: 0.4125 - acc: 0.8737 - val_loss: 0.5311 - val_acc: 0.8218\n",
            "Epoch 34/100\n",
            "1858/1875 [============================>.] - ETA: 0s - loss: 0.4107 - acc: 0.8717\n",
            "Epoch 34: val_loss did not improve from 0.44561\n",
            "1875/1875 [==============================] - 7s 4ms/step - loss: 0.4106 - acc: 0.8718 - val_loss: 0.4819 - val_acc: 0.8475\n",
            "Epoch 35/100\n",
            "1865/1875 [============================>.] - ETA: 0s - loss: 0.4076 - acc: 0.8753\n",
            "Epoch 35: val_loss did not improve from 0.44561\n",
            "1875/1875 [==============================] - 7s 4ms/step - loss: 0.4077 - acc: 0.8753 - val_loss: 0.4896 - val_acc: 0.8463\n",
            "Epoch 36/100\n",
            "1872/1875 [============================>.] - ETA: 0s - loss: 0.4080 - acc: 0.8757\n",
            "Epoch 36: val_loss improved from 0.44561 to 0.44166, saving model to tmp_cpt.ckpt\n",
            "1875/1875 [==============================] - 7s 4ms/step - loss: 0.4080 - acc: 0.8757 - val_loss: 0.4417 - val_acc: 0.8622\n",
            "Epoch 37/100\n",
            "1863/1875 [============================>.] - ETA: 0s - loss: 0.4100 - acc: 0.8735\n",
            "Epoch 37: val_loss improved from 0.44166 to 0.43835, saving model to tmp_cpt.ckpt\n",
            "1875/1875 [==============================] - 7s 4ms/step - loss: 0.4104 - acc: 0.8734 - val_loss: 0.4383 - val_acc: 0.8650\n",
            "Epoch 38/100\n",
            "1871/1875 [============================>.] - ETA: 0s - loss: 0.4062 - acc: 0.8749\n",
            "Epoch 38: val_loss did not improve from 0.43835\n",
            "1875/1875 [==============================] - 6s 3ms/step - loss: 0.4064 - acc: 0.8749 - val_loss: 0.4741 - val_acc: 0.8567\n",
            "Epoch 39/100\n",
            "1860/1875 [============================>.] - ETA: 0s - loss: 0.4075 - acc: 0.8745\n",
            "Epoch 39: val_loss did not improve from 0.43835\n",
            "1875/1875 [==============================] - 7s 4ms/step - loss: 0.4074 - acc: 0.8746 - val_loss: 0.4403 - val_acc: 0.8678\n",
            "Epoch 40/100\n",
            "1875/1875 [==============================] - ETA: 0s - loss: 0.4066 - acc: 0.8756\n",
            "Epoch 40: val_loss did not improve from 0.43835\n",
            "1875/1875 [==============================] - 8s 4ms/step - loss: 0.4066 - acc: 0.8756 - val_loss: 0.4875 - val_acc: 0.8531\n",
            "Epoch 41/100\n",
            "1872/1875 [============================>.] - ETA: 0s - loss: 0.4084 - acc: 0.8735\n",
            "Epoch 41: val_loss did not improve from 0.43835\n",
            "1875/1875 [==============================] - 10s 5ms/step - loss: 0.4086 - acc: 0.8734 - val_loss: 0.4465 - val_acc: 0.8613\n",
            "Epoch 42/100\n",
            "1874/1875 [============================>.] - ETA: 0s - loss: 0.4070 - acc: 0.8752\n",
            "Epoch 42: val_loss did not improve from 0.43835\n",
            "1875/1875 [==============================] - 8s 5ms/step - loss: 0.4070 - acc: 0.8752 - val_loss: 0.5402 - val_acc: 0.8294\n",
            "Epoch 43/100\n",
            "1868/1875 [============================>.] - ETA: 0s - loss: 0.4091 - acc: 0.8747\n",
            "Epoch 43: val_loss did not improve from 0.43835\n",
            "1875/1875 [==============================] - 7s 4ms/step - loss: 0.4090 - acc: 0.8748 - val_loss: 0.4611 - val_acc: 0.8629\n",
            "Epoch 44/100\n",
            "1860/1875 [============================>.] - ETA: 0s - loss: 0.4076 - acc: 0.8760\n",
            "Epoch 44: val_loss did not improve from 0.43835\n",
            "1875/1875 [==============================] - 6s 3ms/step - loss: 0.4077 - acc: 0.8761 - val_loss: 0.4821 - val_acc: 0.8507\n",
            "Epoch 45/100\n",
            "1875/1875 [==============================] - ETA: 0s - loss: 0.4064 - acc: 0.8765\n",
            "Epoch 45: val_loss did not improve from 0.43835\n",
            "1875/1875 [==============================] - 7s 4ms/step - loss: 0.4064 - acc: 0.8765 - val_loss: 0.4834 - val_acc: 0.8473\n",
            "Epoch 46/100\n",
            "1867/1875 [============================>.] - ETA: 0s - loss: 0.4026 - acc: 0.8762\n",
            "Epoch 46: val_loss did not improve from 0.43835\n",
            "1875/1875 [==============================] - 7s 4ms/step - loss: 0.4027 - acc: 0.8761 - val_loss: 0.4657 - val_acc: 0.8631\n",
            "Epoch 47/100\n",
            "1868/1875 [============================>.] - ETA: 0s - loss: 0.4053 - acc: 0.8741\n",
            "Epoch 47: val_loss did not improve from 0.43835\n",
            "1875/1875 [==============================] - 7s 4ms/step - loss: 0.4049 - acc: 0.8742 - val_loss: 0.4542 - val_acc: 0.8588\n",
            "Epoch 48/100\n",
            "1861/1875 [============================>.] - ETA: 0s - loss: 0.4049 - acc: 0.8748\n",
            "Epoch 48: val_loss did not improve from 0.43835\n",
            "1875/1875 [==============================] - 6s 3ms/step - loss: 0.4052 - acc: 0.8747 - val_loss: 0.4623 - val_acc: 0.8604\n",
            "Epoch 49/100\n",
            "1866/1875 [============================>.] - ETA: 0s - loss: 0.4025 - acc: 0.8756\n",
            "Epoch 49: val_loss did not improve from 0.43835\n",
            "1875/1875 [==============================] - 7s 4ms/step - loss: 0.4025 - acc: 0.8756 - val_loss: 0.4482 - val_acc: 0.8612\n",
            "Epoch 50/100\n",
            "1870/1875 [============================>.] - ETA: 0s - loss: 0.4015 - acc: 0.8763\n",
            "Epoch 50: val_loss did not improve from 0.43835\n",
            "1875/1875 [==============================] - 7s 4ms/step - loss: 0.4015 - acc: 0.8763 - val_loss: 0.4551 - val_acc: 0.8584\n",
            "Epoch 51/100\n",
            "1861/1875 [============================>.] - ETA: 0s - loss: 0.4038 - acc: 0.8765\n",
            "Epoch 51: val_loss did not improve from 0.43835\n",
            "1875/1875 [==============================] - 6s 3ms/step - loss: 0.4037 - acc: 0.8765 - val_loss: 0.4572 - val_acc: 0.8547\n",
            "Epoch 52/100\n",
            "1867/1875 [============================>.] - ETA: 0s - loss: 0.4034 - acc: 0.8744\n",
            "Epoch 52: val_loss did not improve from 0.43835\n",
            "1875/1875 [==============================] - 7s 4ms/step - loss: 0.4038 - acc: 0.8743 - val_loss: 0.4676 - val_acc: 0.8557\n",
            "Epoch 53/100\n",
            "1875/1875 [==============================] - ETA: 0s - loss: 0.4025 - acc: 0.8759\n",
            "Epoch 53: val_loss did not improve from 0.43835\n",
            "1875/1875 [==============================] - 7s 4ms/step - loss: 0.4025 - acc: 0.8759 - val_loss: 0.4591 - val_acc: 0.8536\n",
            "Epoch 54/100\n",
            "1870/1875 [============================>.] - ETA: 0s - loss: 0.4025 - acc: 0.8753\n",
            "Epoch 54: val_loss did not improve from 0.43835\n",
            "1875/1875 [==============================] - 12s 6ms/step - loss: 0.4024 - acc: 0.8754 - val_loss: 0.4498 - val_acc: 0.8616\n",
            "Epoch 55/100\n",
            "1865/1875 [============================>.] - ETA: 0s - loss: 0.4062 - acc: 0.8758\n",
            "Epoch 55: val_loss did not improve from 0.43835\n",
            "1875/1875 [==============================] - 10s 5ms/step - loss: 0.4063 - acc: 0.8759 - val_loss: 0.4659 - val_acc: 0.8552\n",
            "Epoch 56/100\n",
            "1865/1875 [============================>.] - ETA: 0s - loss: 0.4066 - acc: 0.8728\n",
            "Epoch 56: val_loss did not improve from 0.43835\n",
            "1875/1875 [==============================] - 8s 4ms/step - loss: 0.4064 - acc: 0.8728 - val_loss: 0.4408 - val_acc: 0.8669\n",
            "Epoch 57/100\n",
            "1865/1875 [============================>.] - ETA: 0s - loss: 0.4043 - acc: 0.8746\n",
            "Epoch 57: val_loss did not improve from 0.43835\n",
            "1875/1875 [==============================] - 7s 3ms/step - loss: 0.4041 - acc: 0.8746 - val_loss: 0.5150 - val_acc: 0.8381\n",
            "Epoch 58/100\n",
            "1867/1875 [============================>.] - ETA: 0s - loss: 0.3993 - acc: 0.8769\n",
            "Epoch 58: val_loss did not improve from 0.43835\n",
            "1875/1875 [==============================] - 7s 4ms/step - loss: 0.3998 - acc: 0.8767 - val_loss: 0.4466 - val_acc: 0.8622\n",
            "Epoch 59/100\n",
            "1867/1875 [============================>.] - ETA: 0s - loss: 0.4022 - acc: 0.8754\n",
            "Epoch 59: val_loss did not improve from 0.43835\n",
            "1875/1875 [==============================] - 6s 3ms/step - loss: 0.4022 - acc: 0.8755 - val_loss: 0.4504 - val_acc: 0.8591\n",
            "Epoch 60/100\n",
            "1874/1875 [============================>.] - ETA: 0s - loss: 0.4024 - acc: 0.8767\n",
            "Epoch 60: val_loss did not improve from 0.43835\n",
            "1875/1875 [==============================] - 7s 4ms/step - loss: 0.4024 - acc: 0.8767 - val_loss: 0.4510 - val_acc: 0.8599\n",
            "Epoch 61/100\n",
            "1860/1875 [============================>.] - ETA: 0s - loss: 0.4001 - acc: 0.8766\n",
            "Epoch 61: val_loss did not improve from 0.43835\n",
            "1875/1875 [==============================] - 6s 3ms/step - loss: 0.4001 - acc: 0.8766 - val_loss: 0.4429 - val_acc: 0.8625\n",
            "Epoch 62/100\n",
            "1868/1875 [============================>.] - ETA: 0s - loss: 0.4027 - acc: 0.8755\n",
            "Epoch 62: val_loss did not improve from 0.43835\n",
            "1875/1875 [==============================] - 7s 4ms/step - loss: 0.4024 - acc: 0.8756 - val_loss: 0.4437 - val_acc: 0.8642\n",
            "Epoch 63/100\n",
            "1867/1875 [============================>.] - ETA: 0s - loss: 0.4026 - acc: 0.8754\n",
            "Epoch 63: val_loss did not improve from 0.43835\n",
            "1875/1875 [==============================] - 7s 4ms/step - loss: 0.4029 - acc: 0.8754 - val_loss: 0.4722 - val_acc: 0.8553\n",
            "Epoch 64/100\n",
            "1865/1875 [============================>.] - ETA: 0s - loss: 0.4015 - acc: 0.8762\n",
            "Epoch 64: val_loss did not improve from 0.43835\n",
            "1875/1875 [==============================] - 6s 3ms/step - loss: 0.4016 - acc: 0.8763 - val_loss: 0.4554 - val_acc: 0.8583\n",
            "Epoch 65/100\n",
            "1863/1875 [============================>.] - ETA: 0s - loss: 0.4006 - acc: 0.8773\n",
            "Epoch 65: val_loss did not improve from 0.43835\n",
            "1875/1875 [==============================] - 7s 4ms/step - loss: 0.4009 - acc: 0.8772 - val_loss: 0.4716 - val_acc: 0.8503\n",
            "Epoch 66/100\n",
            "1873/1875 [============================>.] - ETA: 0s - loss: 0.4031 - acc: 0.8753\n",
            "Epoch 66: val_loss did not improve from 0.43835\n",
            "1875/1875 [==============================] - 6s 3ms/step - loss: 0.4030 - acc: 0.8753 - val_loss: 0.4678 - val_acc: 0.8578\n",
            "Epoch 67/100\n",
            "1868/1875 [============================>.] - ETA: 0s - loss: 0.3988 - acc: 0.8776\n",
            "Epoch 67: val_loss did not improve from 0.43835\n",
            "1875/1875 [==============================] - 7s 4ms/step - loss: 0.3990 - acc: 0.8776 - val_loss: 0.4449 - val_acc: 0.8632\n",
            "Epoch 68/100\n",
            "1873/1875 [============================>.] - ETA: 0s - loss: 0.4004 - acc: 0.8760\n",
            "Epoch 68: val_loss did not improve from 0.43835\n",
            "1875/1875 [==============================] - 7s 3ms/step - loss: 0.4003 - acc: 0.8760 - val_loss: 0.5401 - val_acc: 0.8289\n",
            "Epoch 69/100\n",
            "1874/1875 [============================>.] - ETA: 0s - loss: 0.3993 - acc: 0.8770\n",
            "Epoch 69: val_loss did not improve from 0.43835\n",
            "1875/1875 [==============================] - 7s 4ms/step - loss: 0.3993 - acc: 0.8770 - val_loss: 0.4417 - val_acc: 0.8637\n",
            "Epoch 70/100\n",
            "1868/1875 [============================>.] - ETA: 0s - loss: 0.3988 - acc: 0.8774\n",
            "Epoch 70: val_loss did not improve from 0.43835\n",
            "1875/1875 [==============================] - 11s 6ms/step - loss: 0.3989 - acc: 0.8773 - val_loss: 0.4423 - val_acc: 0.8654\n",
            "Epoch 71/100\n",
            "1875/1875 [==============================] - ETA: 0s - loss: 0.4005 - acc: 0.8757\n",
            "Epoch 71: val_loss did not improve from 0.43835\n",
            "1875/1875 [==============================] - 13s 7ms/step - loss: 0.4005 - acc: 0.8757 - val_loss: 0.4499 - val_acc: 0.8588\n",
            "Epoch 72/100\n",
            "1870/1875 [============================>.] - ETA: 0s - loss: 0.3997 - acc: 0.8758\n",
            "Epoch 72: val_loss did not improve from 0.43835\n",
            "1875/1875 [==============================] - 11s 6ms/step - loss: 0.3998 - acc: 0.8758 - val_loss: 0.4881 - val_acc: 0.8527\n",
            "Epoch 73/100\n",
            "1873/1875 [============================>.] - ETA: 0s - loss: 0.4020 - acc: 0.8749\n",
            "Epoch 73: val_loss did not improve from 0.43835\n",
            "1875/1875 [==============================] - 13s 7ms/step - loss: 0.4020 - acc: 0.8749 - val_loss: 0.4785 - val_acc: 0.8563\n",
            "Epoch 74/100\n",
            "1870/1875 [============================>.] - ETA: 0s - loss: 0.4014 - acc: 0.8757\n",
            "Epoch 74: val_loss did not improve from 0.43835\n",
            "1875/1875 [==============================] - 11s 6ms/step - loss: 0.4014 - acc: 0.8757 - val_loss: 0.4951 - val_acc: 0.8449\n",
            "Epoch 75/100\n",
            "1862/1875 [============================>.] - ETA: 0s - loss: 0.4019 - acc: 0.8752\n",
            "Epoch 75: val_loss improved from 0.43835 to 0.43583, saving model to tmp_cpt.ckpt\n",
            "1875/1875 [==============================] - 11s 6ms/step - loss: 0.4018 - acc: 0.8752 - val_loss: 0.4358 - val_acc: 0.8643\n",
            "Epoch 76/100\n",
            "1867/1875 [============================>.] - ETA: 0s - loss: 0.3999 - acc: 0.8759\n",
            "Epoch 76: val_loss did not improve from 0.43583\n",
            "1875/1875 [==============================] - 7s 4ms/step - loss: 0.4001 - acc: 0.8758 - val_loss: 0.4728 - val_acc: 0.8541\n",
            "Epoch 77/100\n",
            "1874/1875 [============================>.] - ETA: 0s - loss: 0.4021 - acc: 0.8760\n",
            "Epoch 77: val_loss did not improve from 0.43583\n",
            "1875/1875 [==============================] - 7s 4ms/step - loss: 0.4024 - acc: 0.8760 - val_loss: 0.4549 - val_acc: 0.8607\n",
            "Epoch 78/100\n",
            "1869/1875 [============================>.] - ETA: 0s - loss: 0.4015 - acc: 0.8761\n",
            "Epoch 78: val_loss did not improve from 0.43583\n",
            "1875/1875 [==============================] - 6s 3ms/step - loss: 0.4015 - acc: 0.8762 - val_loss: 0.4514 - val_acc: 0.8563\n",
            "Epoch 79/100\n",
            "1867/1875 [============================>.] - ETA: 0s - loss: 0.4023 - acc: 0.8778\n",
            "Epoch 79: val_loss did not improve from 0.43583\n",
            "1875/1875 [==============================] - 7s 4ms/step - loss: 0.4020 - acc: 0.8779 - val_loss: 0.4758 - val_acc: 0.8495\n",
            "Epoch 80/100\n",
            "1873/1875 [============================>.] - ETA: 0s - loss: 0.3998 - acc: 0.8774\n",
            "Epoch 80: val_loss did not improve from 0.43583\n",
            "1875/1875 [==============================] - 6s 3ms/step - loss: 0.3998 - acc: 0.8774 - val_loss: 0.4470 - val_acc: 0.8612\n",
            "Epoch 81/100\n",
            "1859/1875 [============================>.] - ETA: 0s - loss: 0.4023 - acc: 0.8752\n",
            "Epoch 81: val_loss did not improve from 0.43583\n",
            "1875/1875 [==============================] - 7s 4ms/step - loss: 0.4018 - acc: 0.8753 - val_loss: 0.4495 - val_acc: 0.8640\n",
            "Epoch 82/100\n",
            "1871/1875 [============================>.] - ETA: 0s - loss: 0.3986 - acc: 0.8767\n",
            "Epoch 82: val_loss did not improve from 0.43583\n",
            "1875/1875 [==============================] - 6s 3ms/step - loss: 0.3988 - acc: 0.8766 - val_loss: 0.4598 - val_acc: 0.8581\n",
            "Epoch 83/100\n",
            "1868/1875 [============================>.] - ETA: 0s - loss: 0.4026 - acc: 0.8769\n",
            "Epoch 83: val_loss did not improve from 0.43583\n",
            "1875/1875 [==============================] - 10s 5ms/step - loss: 0.4028 - acc: 0.8769 - val_loss: 0.5019 - val_acc: 0.8385\n",
            "Epoch 84/100\n",
            "1872/1875 [============================>.] - ETA: 0s - loss: 0.3987 - acc: 0.8764\n",
            "Epoch 84: val_loss did not improve from 0.43583\n",
            "1875/1875 [==============================] - 8s 4ms/step - loss: 0.3985 - acc: 0.8765 - val_loss: 0.4434 - val_acc: 0.8650\n",
            "Epoch 85/100\n",
            "1863/1875 [============================>.] - ETA: 0s - loss: 0.4028 - acc: 0.8758\n",
            "Epoch 85: val_loss did not improve from 0.43583\n",
            "1875/1875 [==============================] - 6s 3ms/step - loss: 0.4025 - acc: 0.8759 - val_loss: 0.4875 - val_acc: 0.8517\n",
            "Epoch 86/100\n",
            "1859/1875 [============================>.] - ETA: 0s - loss: 0.4016 - acc: 0.8760\n",
            "Epoch 86: val_loss did not improve from 0.43583\n",
            "1875/1875 [==============================] - 7s 4ms/step - loss: 0.4022 - acc: 0.8758 - val_loss: 0.4713 - val_acc: 0.8532\n",
            "Epoch 87/100\n",
            "1865/1875 [============================>.] - ETA: 0s - loss: 0.4028 - acc: 0.8768\n",
            "Epoch 87: val_loss did not improve from 0.43583\n",
            "1875/1875 [==============================] - 10s 5ms/step - loss: 0.4026 - acc: 0.8770 - val_loss: 0.4465 - val_acc: 0.8607\n",
            "Epoch 88/100\n",
            "1869/1875 [============================>.] - ETA: 0s - loss: 0.3977 - acc: 0.8775\n",
            "Epoch 88: val_loss did not improve from 0.43583\n",
            "1875/1875 [==============================] - 9s 5ms/step - loss: 0.3979 - acc: 0.8775 - val_loss: 0.4699 - val_acc: 0.8596\n",
            "Epoch 89/100\n",
            "1859/1875 [============================>.] - ETA: 0s - loss: 0.3981 - acc: 0.8786\n",
            "Epoch 89: val_loss did not improve from 0.43583\n",
            "1875/1875 [==============================] - 8s 4ms/step - loss: 0.3986 - acc: 0.8784 - val_loss: 0.4741 - val_acc: 0.8491\n",
            "Epoch 90/100\n",
            "1869/1875 [============================>.] - ETA: 0s - loss: 0.4000 - acc: 0.8765\n",
            "Epoch 90: val_loss did not improve from 0.43583\n",
            "1875/1875 [==============================] - 6s 3ms/step - loss: 0.3999 - acc: 0.8765 - val_loss: 0.4586 - val_acc: 0.8579\n",
            "Epoch 91/100\n",
            "1868/1875 [============================>.] - ETA: 0s - loss: 0.4000 - acc: 0.8766\n",
            "Epoch 91: val_loss did not improve from 0.43583\n",
            "1875/1875 [==============================] - 6s 3ms/step - loss: 0.4001 - acc: 0.8765 - val_loss: 0.4824 - val_acc: 0.8500\n",
            "Epoch 92/100\n",
            "1866/1875 [============================>.] - ETA: 0s - loss: 0.4012 - acc: 0.8772\n",
            "Epoch 92: val_loss did not improve from 0.43583\n",
            "1875/1875 [==============================] - 7s 4ms/step - loss: 0.4010 - acc: 0.8773 - val_loss: 0.4607 - val_acc: 0.8570\n",
            "Epoch 93/100\n",
            "1871/1875 [============================>.] - ETA: 0s - loss: 0.3995 - acc: 0.8765\n",
            "Epoch 93: val_loss did not improve from 0.43583\n",
            "1875/1875 [==============================] - 6s 3ms/step - loss: 0.3995 - acc: 0.8765 - val_loss: 0.4865 - val_acc: 0.8534\n",
            "Epoch 94/100\n",
            "1868/1875 [============================>.] - ETA: 0s - loss: 0.3995 - acc: 0.8774\n",
            "Epoch 94: val_loss did not improve from 0.43583\n",
            "1875/1875 [==============================] - 7s 4ms/step - loss: 0.3994 - acc: 0.8774 - val_loss: 0.4653 - val_acc: 0.8551\n",
            "Epoch 95/100\n",
            "1867/1875 [============================>.] - ETA: 0s - loss: 0.4018 - acc: 0.8754\n",
            "Epoch 95: val_loss did not improve from 0.43583\n",
            "1875/1875 [==============================] - 6s 3ms/step - loss: 0.4016 - acc: 0.8755 - val_loss: 0.4370 - val_acc: 0.8689\n",
            "Epoch 96/100\n",
            "1867/1875 [============================>.] - ETA: 0s - loss: 0.3998 - acc: 0.8768\n",
            "Epoch 96: val_loss did not improve from 0.43583\n",
            "1875/1875 [==============================] - 7s 4ms/step - loss: 0.4001 - acc: 0.8767 - val_loss: 0.4530 - val_acc: 0.8641\n",
            "Epoch 97/100\n",
            "1864/1875 [============================>.] - ETA: 0s - loss: 0.3998 - acc: 0.8777\n",
            "Epoch 97: val_loss did not improve from 0.43583\n",
            "1875/1875 [==============================] - 6s 3ms/step - loss: 0.3995 - acc: 0.8777 - val_loss: 0.4606 - val_acc: 0.8558\n",
            "Epoch 98/100\n",
            "1866/1875 [============================>.] - ETA: 0s - loss: 0.3992 - acc: 0.8759\n",
            "Epoch 98: val_loss did not improve from 0.43583\n",
            "1875/1875 [==============================] - 7s 4ms/step - loss: 0.3992 - acc: 0.8759 - val_loss: 0.4665 - val_acc: 0.8551\n",
            "Epoch 99/100\n",
            "1865/1875 [============================>.] - ETA: 0s - loss: 0.3994 - acc: 0.8775\n",
            "Epoch 99: val_loss did not improve from 0.43583\n",
            "1875/1875 [==============================] - 6s 3ms/step - loss: 0.3994 - acc: 0.8774 - val_loss: 0.4592 - val_acc: 0.8601\n",
            "Epoch 100/100\n",
            "1869/1875 [============================>.] - ETA: 0s - loss: 0.3971 - acc: 0.8766\n",
            "Epoch 100: val_loss did not improve from 0.43583\n",
            "1875/1875 [==============================] - 7s 4ms/step - loss: 0.3973 - acc: 0.8765 - val_loss: 0.4816 - val_acc: 0.8509\n"
          ]
        },
        {
          "output_type": "execute_result",
          "data": {
            "text/plain": [
              "<keras.src.callbacks.History at 0x7fc11c27c370>"
            ]
          },
          "metadata": {},
          "execution_count": 20
        }
      ]
    },
    {
      "cell_type": "code",
      "source": [
        "earlyStopping = tf.keras.callbacks.EarlyStopping(monitor='val_loss',\n",
        "                                                 patience=5)"
      ],
      "metadata": {
        "id": "iLBZqcT_25BS"
      },
      "execution_count": 21,
      "outputs": []
    },
    {
      "cell_type": "code",
      "source": [
        "model.fit(X_train, y_train,\n",
        "          epochs=100,\n",
        "          validation_split=0.3,\n",
        "          callbacks=[earlyStopping, cpt])"
      ],
      "metadata": {
        "colab": {
          "base_uri": "https://localhost:8080/"
        },
        "id": "aNxFEdTi4xwR",
        "outputId": "44bc61ff-cf68-42f4-d129-13558794e0cd"
      },
      "execution_count": 22,
      "outputs": [
        {
          "output_type": "stream",
          "name": "stdout",
          "text": [
            "Epoch 1/100\n",
            "1313/1313 [==============================] - ETA: 0s - loss: 0.4000 - acc: 0.8760\n",
            "Epoch 1: val_loss improved from 0.43583 to 0.38807, saving model to tmp_cpt.ckpt\n",
            "1313/1313 [==============================] - 10s 7ms/step - loss: 0.4000 - acc: 0.8760 - val_loss: 0.3881 - val_acc: 0.8825\n",
            "Epoch 2/100\n",
            "1302/1313 [============================>.] - ETA: 0s - loss: 0.3951 - acc: 0.8763\n",
            "Epoch 2: val_loss did not improve from 0.38807\n",
            "1313/1313 [==============================] - 5s 4ms/step - loss: 0.3952 - acc: 0.8761 - val_loss: 0.3958 - val_acc: 0.8805\n",
            "Epoch 3/100\n",
            "1305/1313 [============================>.] - ETA: 0s - loss: 0.3965 - acc: 0.8785\n",
            "Epoch 3: val_loss did not improve from 0.38807\n",
            "1313/1313 [==============================] - 6s 4ms/step - loss: 0.3963 - acc: 0.8785 - val_loss: 0.4009 - val_acc: 0.8782\n",
            "Epoch 4/100\n",
            "1308/1313 [============================>.] - ETA: 0s - loss: 0.3961 - acc: 0.8783\n",
            "Epoch 4: val_loss did not improve from 0.38807\n",
            "1313/1313 [==============================] - 5s 4ms/step - loss: 0.3962 - acc: 0.8783 - val_loss: 0.4340 - val_acc: 0.8680\n",
            "Epoch 5/100\n",
            "1309/1313 [============================>.] - ETA: 0s - loss: 0.3939 - acc: 0.8794\n",
            "Epoch 5: val_loss did not improve from 0.38807\n",
            "1313/1313 [==============================] - 6s 5ms/step - loss: 0.3938 - acc: 0.8794 - val_loss: 0.4790 - val_acc: 0.8492\n",
            "Epoch 6/100\n",
            "1301/1313 [============================>.] - ETA: 0s - loss: 0.3948 - acc: 0.8785\n",
            "Epoch 6: val_loss did not improve from 0.38807\n",
            "1313/1313 [==============================] - 6s 4ms/step - loss: 0.3953 - acc: 0.8782 - val_loss: 0.3996 - val_acc: 0.8770\n"
          ]
        },
        {
          "output_type": "execute_result",
          "data": {
            "text/plain": [
              "<keras.src.callbacks.History at 0x7fc08c538880>"
            ]
          },
          "metadata": {},
          "execution_count": 22
        }
      ]
    },
    {
      "cell_type": "markdown",
      "source": [
        "## earlyStopping에 있는 옵션들\n",
        "1. monitor: 조기종료 기준값 (val_loss, loss, val_acc, acc)\n",
        "2. min_delta: 최소 업데이트 기준, 변화량이 얼마가 되어야 더 나은 모델로 인식\n",
        "3. patience: 몇 epocks까지 개선이 없어도 되는가에 대한 기준\n",
        "4. verbose: 얼마나 상세하게 보여줄지(0, 1)\n",
        "5. mode: 기본값이 auto, \"auto: 자동으로 선택/ min: loss / max: accuracy\"\n",
        "6. baseline: 모니터링할 지표의 기준값, 이값보다 나아지지 않으면 학습종료\n",
        "7. restore_best_weights: 이전에 모델중에 가장 좋은 값의 모델의 가중치로 복원할 것인가\n",
        "8. start_from_epoch: 몇번째부터 모니터링을 시작할까"
      ],
      "metadata": {
        "id": "UPLK7_206qAb"
      }
    },
    {
      "cell_type": "code",
      "source": [
        "model = tf.keras.Sequential()\n",
        "model.add(tf.keras.layers.Flatten(input_shape=(28,28)))\n",
        "model.add(tf.keras.layers.Dense(128, activation='relu',\n",
        "                                kernel_regularizer=tf.keras.regularizers.l2(0.001)))\n",
        "model.add(tf.keras.layers.Dropout(0.3))\n",
        "model.add(tf.keras.layers.Dense(64, activation='relu',\n",
        "                                kernel_regularizer=tf.keras.regularizers.l2(0.001)))\n",
        "model.add(tf.keras.layers.Dropout(0.4))\n",
        "model.add(tf.keras.layers.Dense(36, activation='relu',\n",
        "                                kernel_regularizer=tf.keras.regularizers.l2(0.001)))\n",
        "model.add(tf.keras.layers.Dropout(0.5))\n",
        "model.add(tf.keras.layers.Dense(10, activation='softmax'))\n",
        "model.compile(optimizer='adam',\n",
        "              loss='SparseCategoricalCrossentropy',\n",
        "              metrics=['acc'])"
      ],
      "metadata": {
        "id": "qP2h1Rz-6SSj"
      },
      "execution_count": 23,
      "outputs": []
    },
    {
      "cell_type": "code",
      "source": [
        "# 모델 체크포인트 설정\n",
        "cpt = tf.keras.callbacks.ModelCheckpoint(filepath='tmp_cpt.ckpt', # 체크포인트 저장 위치\n",
        "                                         save_weight_only=True, # 가중치만 저장\n",
        "                                         save_best_only=True, # 가장 좋은 모델만 저장\n",
        "                                         monitor='val_loss',\n",
        "                                         verbose=1)"
      ],
      "metadata": {
        "id": "5ue8hqqbBVPh"
      },
      "execution_count": 30,
      "outputs": []
    },
    {
      "cell_type": "code",
      "source": [
        "earlyStopping = tf.keras.callbacks.EarlyStopping(monitor='loss',\n",
        "                                                 min_delta=0.01,\n",
        "                                                 patience=5,\n",
        "                                                 restore_best_weights=True)"
      ],
      "metadata": {
        "id": "ZM-5UT0t_eq3"
      },
      "execution_count": 27,
      "outputs": []
    },
    {
      "cell_type": "code",
      "source": [
        "model.summary()"
      ],
      "metadata": {
        "colab": {
          "base_uri": "https://localhost:8080/"
        },
        "id": "Uggf3mhr__yJ",
        "outputId": "feffd9e5-1ae9-41f9-efec-5e0eb47a1480"
      },
      "execution_count": 28,
      "outputs": [
        {
          "output_type": "stream",
          "name": "stdout",
          "text": [
            "Model: \"sequential_4\"\n",
            "_________________________________________________________________\n",
            " Layer (type)                Output Shape              Param #   \n",
            "=================================================================\n",
            " flatten_4 (Flatten)         (None, 784)               0         \n",
            "                                                                 \n",
            " dense_12 (Dense)            (None, 128)               100480    \n",
            "                                                                 \n",
            " dropout_3 (Dropout)         (None, 128)               0         \n",
            "                                                                 \n",
            " dense_13 (Dense)            (None, 64)                8256      \n",
            "                                                                 \n",
            " dropout_4 (Dropout)         (None, 64)                0         \n",
            "                                                                 \n",
            " dense_14 (Dense)            (None, 36)                2340      \n",
            "                                                                 \n",
            " dropout_5 (Dropout)         (None, 36)                0         \n",
            "                                                                 \n",
            " dense_15 (Dense)            (None, 10)                370       \n",
            "                                                                 \n",
            "=================================================================\n",
            "Total params: 111446 (435.34 KB)\n",
            "Trainable params: 111446 (435.34 KB)\n",
            "Non-trainable params: 0 (0.00 Byte)\n",
            "_________________________________________________________________\n"
          ]
        }
      ]
    },
    {
      "cell_type": "code",
      "source": [
        "history = model.fit(X_train, y_train,\n",
        "          epochs=100,\n",
        "          validation_split=0.3,\n",
        "          callbacks=[earlyStopping, cpt])"
      ],
      "metadata": {
        "colab": {
          "base_uri": "https://localhost:8080/"
        },
        "id": "9fIicE1P_7Yf",
        "outputId": "cb9b925b-51b2-4bd4-d7c2-c40cd67f8fec"
      },
      "execution_count": 31,
      "outputs": [
        {
          "output_type": "stream",
          "name": "stdout",
          "text": [
            "Epoch 1/100\n",
            "1305/1313 [============================>.] - ETA: 0s - loss: 1.1906 - acc: 0.5253\n",
            "Epoch 1: val_loss improved from inf to 0.98873, saving model to tmp_cpt.ckpt\n",
            "1313/1313 [==============================] - 8s 6ms/step - loss: 1.1901 - acc: 0.5253 - val_loss: 0.9887 - val_acc: 0.6036\n",
            "Epoch 2/100\n",
            "1307/1313 [============================>.] - ETA: 0s - loss: 1.1878 - acc: 0.5262\n",
            "Epoch 2: val_loss did not improve from 0.98873\n",
            "1313/1313 [==============================] - 6s 4ms/step - loss: 1.1882 - acc: 0.5262 - val_loss: 0.9969 - val_acc: 0.5882\n",
            "Epoch 3/100\n",
            "1299/1313 [============================>.] - ETA: 0s - loss: 1.1873 - acc: 0.5276\n",
            "Epoch 3: val_loss did not improve from 0.98873\n",
            "1313/1313 [==============================] - 6s 5ms/step - loss: 1.1877 - acc: 0.5277 - val_loss: 0.9995 - val_acc: 0.5728\n",
            "Epoch 4/100\n",
            "1309/1313 [============================>.] - ETA: 0s - loss: 1.1703 - acc: 0.5284\n",
            "Epoch 4: val_loss did not improve from 0.98873\n",
            "1313/1313 [==============================] - 6s 4ms/step - loss: 1.1699 - acc: 0.5287 - val_loss: 1.0219 - val_acc: 0.5850\n",
            "Epoch 5/100\n",
            "1298/1313 [============================>.] - ETA: 0s - loss: 1.1946 - acc: 0.5219\n",
            "Epoch 5: val_loss did not improve from 0.98873\n",
            "1313/1313 [==============================] - 6s 5ms/step - loss: 1.1942 - acc: 0.5220 - val_loss: 0.9984 - val_acc: 0.5647\n",
            "Epoch 6/100\n",
            "1302/1313 [============================>.] - ETA: 0s - loss: 1.1723 - acc: 0.5298\n",
            "Epoch 6: val_loss did not improve from 0.98873\n",
            "1313/1313 [==============================] - 6s 4ms/step - loss: 1.1716 - acc: 0.5300 - val_loss: 0.9942 - val_acc: 0.6009\n",
            "Epoch 7/100\n",
            "1302/1313 [============================>.] - ETA: 0s - loss: 1.1614 - acc: 0.5319\n",
            "Epoch 7: val_loss did not improve from 0.98873\n",
            "1313/1313 [==============================] - 6s 5ms/step - loss: 1.1616 - acc: 0.5315 - val_loss: 0.9966 - val_acc: 0.5654\n",
            "Epoch 8/100\n",
            "1308/1313 [============================>.] - ETA: 0s - loss: 1.1658 - acc: 0.5282\n",
            "Epoch 8: val_loss did not improve from 0.98873\n",
            "1313/1313 [==============================] - 5s 4ms/step - loss: 1.1660 - acc: 0.5279 - val_loss: 1.0207 - val_acc: 0.5908\n",
            "Epoch 9/100\n",
            "1309/1313 [============================>.] - ETA: 0s - loss: 1.1888 - acc: 0.5264\n",
            "Epoch 9: val_loss did not improve from 0.98873\n",
            "1313/1313 [==============================] - 6s 5ms/step - loss: 1.1886 - acc: 0.5264 - val_loss: 1.0120 - val_acc: 0.5699\n"
          ]
        }
      ]
    },
    {
      "cell_type": "code",
      "source": [],
      "metadata": {
        "id": "epWz9E2VADwA"
      },
      "execution_count": null,
      "outputs": []
    }
  ]
}