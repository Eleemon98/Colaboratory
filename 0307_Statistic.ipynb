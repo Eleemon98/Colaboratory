{
  "nbformat": 4,
  "nbformat_minor": 0,
  "metadata": {
    "colab": {
      "provenance": [],
      "authorship_tag": "ABX9TyM3CyyUfbgrsG1EmhL8PnBl",
      "include_colab_link": true
    },
    "kernelspec": {
      "name": "python3",
      "display_name": "Python 3"
    },
    "language_info": {
      "name": "python"
    }
  },
  "cells": [
    {
      "cell_type": "markdown",
      "metadata": {
        "id": "view-in-github",
        "colab_type": "text"
      },
      "source": [
        "<a href=\"https://colab.research.google.com/github/Eleemon98/Colaboratory/blob/main/0307_Statistic.ipynb\" target=\"_parent\"><img src=\"https://colab.research.google.com/assets/colab-badge.svg\" alt=\"Open In Colab\"/></a>"
      ]
    },
    {
      "cell_type": "code",
      "execution_count": 1,
      "metadata": {
        "colab": {
          "base_uri": "https://localhost:8080/"
        },
        "id": "MTFuxvwPqbGf",
        "outputId": "42cee91e-5282-4233-afbe-7500668cf292"
      },
      "outputs": [
        {
          "output_type": "execute_result",
          "data": {
            "text/plain": [
              "(array(['A', 'AB', 'B', 'O'], dtype='<U2'), array([3, 1, 2, 1]))"
            ]
          },
          "metadata": {},
          "execution_count": 1
        }
      ],
      "source": [
        "blood = ['A', 'A', 'A', 'B', 'B', 'AB', 'O'] # 명목척도\n",
        "\n",
        "import numpy as np\n",
        "np.unique(blood, return_counts=True)"
      ]
    },
    {
      "cell_type": "markdown",
      "source": [
        "유니크 함수를 쓰지 않고 고유값만 뽑기"
      ],
      "metadata": {
        "id": "QM7Q8zReq5-U"
      }
    },
    {
      "cell_type": "code",
      "source": [
        "bloods = list(set(blood))\n",
        "bloods"
      ],
      "metadata": {
        "colab": {
          "base_uri": "https://localhost:8080/"
        },
        "id": "-fQyy9aKqxvG",
        "outputId": "c8f6c62e-db5a-4f0c-c3bf-1e4d689d99e5"
      },
      "execution_count": 4,
      "outputs": [
        {
          "output_type": "execute_result",
          "data": {
            "text/plain": [
              "['B', 'A', 'AB', 'O']"
            ]
          },
          "metadata": {},
          "execution_count": 4
        }
      ]
    },
    {
      "cell_type": "markdown",
      "source": [
        "blood 안에 있는 요소 갯수 세기"
      ],
      "metadata": {
        "id": "H1Z4BdEUwBuj"
      }
    },
    {
      "cell_type": "code",
      "source": [
        "for i in bloods:\n",
        "  for j in blood:\n",
        "    if i == j:\n",
        "      print(j)"
      ],
      "metadata": {
        "colab": {
          "base_uri": "https://localhost:8080/"
        },
        "id": "iwxEzRUOumNE",
        "outputId": "1f277177-e5f2-4a70-9e4f-6d8e57831c75"
      },
      "execution_count": 5,
      "outputs": [
        {
          "output_type": "stream",
          "name": "stdout",
          "text": [
            "B\n",
            "B\n",
            "A\n",
            "A\n",
            "A\n",
            "AB\n",
            "O\n"
          ]
        }
      ]
    },
    {
      "cell_type": "code",
      "source": [
        "dic = {}\n",
        "for num in blood:\n",
        "  if num in dic:\n",
        "    dic[num] += 1\n",
        "  else:\n",
        "    dic[num] = 1\n",
        "dic"
      ],
      "metadata": {
        "colab": {
          "base_uri": "https://localhost:8080/"
        },
        "id": "-OrdsJuuwYS_",
        "outputId": "9aa79309-9eac-4bfc-aecb-5ef221854ec6"
      },
      "execution_count": 7,
      "outputs": [
        {
          "output_type": "execute_result",
          "data": {
            "text/plain": [
              "{'A': 3, 'B': 2, 'AB': 1, 'O': 1}"
            ]
          },
          "metadata": {},
          "execution_count": 7
        }
      ]
    },
    {
      "cell_type": "markdown",
      "source": [
        "평균 구하기"
      ],
      "metadata": {
        "id": "tCuDv2Noymfy"
      }
    },
    {
      "cell_type": "code",
      "source": [
        "##  산술평균\n",
        "x1 = [100, 100, 200, 400, 500]\n",
        "x2 = [1, 1, 1, 2, 3, 5, 5, 7, 8, 9]"
      ],
      "metadata": {
        "id": "D94CMF2swoGK"
      },
      "execution_count": 8,
      "outputs": []
    },
    {
      "cell_type": "code",
      "source": [
        "def avg(x):\n",
        "  y = 0\n",
        "  cnt = 0\n",
        "  for i in x:\n",
        "    y += i\n",
        "    cnt+=1\n",
        "  return y/cnt\n",
        "\n",
        "avg(x1)"
      ],
      "metadata": {
        "colab": {
          "base_uri": "https://localhost:8080/"
        },
        "id": "NyMXGJlVyqoC",
        "outputId": "8e3d8e2b-4b9e-4196-9e5e-0eee3d7f9907"
      },
      "execution_count": 22,
      "outputs": [
        {
          "output_type": "execute_result",
          "data": {
            "text/plain": [
              "260.0"
            ]
          },
          "metadata": {},
          "execution_count": 22
        }
      ]
    },
    {
      "cell_type": "code",
      "source": [
        "mean = sum(x2)/len(x2)\n",
        "mean"
      ],
      "metadata": {
        "colab": {
          "base_uri": "https://localhost:8080/"
        },
        "id": "LerfrRB3y8_h",
        "outputId": "496b691c-6062-43b7-fda7-49d82ded68a7"
      },
      "execution_count": 11,
      "outputs": [
        {
          "output_type": "execute_result",
          "data": {
            "text/plain": [
              "4.2"
            ]
          },
          "metadata": {},
          "execution_count": 11
        }
      ]
    },
    {
      "cell_type": "code",
      "source": [
        "x3 = x1 + x2\n",
        "x3\n",
        "\n",
        "avg(x3)"
      ],
      "metadata": {
        "colab": {
          "base_uri": "https://localhost:8080/"
        },
        "id": "cm3jQ_t-0oc-",
        "outputId": "1c78f14a-77da-49c7-ab66-5b28e8313420"
      },
      "execution_count": 23,
      "outputs": [
        {
          "output_type": "execute_result",
          "data": {
            "text/plain": [
              "89.46666666666667"
            ]
          },
          "metadata": {},
          "execution_count": 23
        }
      ]
    },
    {
      "cell_type": "code",
      "source": [
        "x4 = x2 + [x1[-1]]\n",
        "x4\n",
        "\n",
        "avg(x4)"
      ],
      "metadata": {
        "colab": {
          "base_uri": "https://localhost:8080/"
        },
        "id": "XtOw_f_L1HUZ",
        "outputId": "4a0f218e-1e7b-44d7-a6ff-b5e969082c3c"
      },
      "execution_count": 24,
      "outputs": [
        {
          "output_type": "execute_result",
          "data": {
            "text/plain": [
              "49.27272727272727"
            ]
          },
          "metadata": {},
          "execution_count": 24
        }
      ]
    },
    {
      "cell_type": "markdown",
      "source": [
        "중앙값 구하는 함수 만들기"
      ],
      "metadata": {
        "id": "xD-ekFN_zdWp"
      }
    },
    {
      "cell_type": "code",
      "source": [
        "# 리스트 정렬하는 bubble sort 알고리즘\n",
        "x = [1, 9, 1, 3, 5, 1, 2, 7, 8, 5]\n",
        "\n",
        "for num in range(len(x)-1, 0, -1): # 10, 9, 8, 7, 6, ...\n",
        "  for n in range(num): # 0~10, 0~9 ...\n",
        "    if x[n] > x[n + 1]:\n",
        "      x[n], x[n+1] = x[n+1], x[n]\n",
        "    print(x, x[n])\n",
        "\n",
        "x"
      ],
      "metadata": {
        "colab": {
          "base_uri": "https://localhost:8080/"
        },
        "id": "-0bI1ijDzLAZ",
        "outputId": "a3cc6ce3-f56b-4e1d-8d4b-d5a230233709"
      },
      "execution_count": 28,
      "outputs": [
        {
          "output_type": "stream",
          "name": "stdout",
          "text": [
            "[1, 9, 1, 3, 5, 1, 2, 7, 8, 5] 1\n",
            "[1, 1, 9, 3, 5, 1, 2, 7, 8, 5] 1\n",
            "[1, 1, 3, 9, 5, 1, 2, 7, 8, 5] 3\n",
            "[1, 1, 3, 5, 9, 1, 2, 7, 8, 5] 5\n",
            "[1, 1, 3, 5, 1, 9, 2, 7, 8, 5] 1\n",
            "[1, 1, 3, 5, 1, 2, 9, 7, 8, 5] 2\n",
            "[1, 1, 3, 5, 1, 2, 7, 9, 8, 5] 7\n",
            "[1, 1, 3, 5, 1, 2, 7, 8, 9, 5] 8\n",
            "[1, 1, 3, 5, 1, 2, 7, 8, 5, 9] 5\n",
            "[1, 1, 3, 5, 1, 2, 7, 8, 5, 9] 1\n",
            "[1, 1, 3, 5, 1, 2, 7, 8, 5, 9] 1\n",
            "[1, 1, 3, 5, 1, 2, 7, 8, 5, 9] 3\n",
            "[1, 1, 3, 1, 5, 2, 7, 8, 5, 9] 1\n",
            "[1, 1, 3, 1, 2, 5, 7, 8, 5, 9] 2\n",
            "[1, 1, 3, 1, 2, 5, 7, 8, 5, 9] 5\n",
            "[1, 1, 3, 1, 2, 5, 7, 8, 5, 9] 7\n",
            "[1, 1, 3, 1, 2, 5, 7, 5, 8, 9] 5\n",
            "[1, 1, 3, 1, 2, 5, 7, 5, 8, 9] 1\n",
            "[1, 1, 3, 1, 2, 5, 7, 5, 8, 9] 1\n",
            "[1, 1, 1, 3, 2, 5, 7, 5, 8, 9] 1\n",
            "[1, 1, 1, 2, 3, 5, 7, 5, 8, 9] 2\n",
            "[1, 1, 1, 2, 3, 5, 7, 5, 8, 9] 3\n",
            "[1, 1, 1, 2, 3, 5, 7, 5, 8, 9] 5\n",
            "[1, 1, 1, 2, 3, 5, 5, 7, 8, 9] 5\n",
            "[1, 1, 1, 2, 3, 5, 5, 7, 8, 9] 1\n",
            "[1, 1, 1, 2, 3, 5, 5, 7, 8, 9] 1\n",
            "[1, 1, 1, 2, 3, 5, 5, 7, 8, 9] 1\n",
            "[1, 1, 1, 2, 3, 5, 5, 7, 8, 9] 2\n",
            "[1, 1, 1, 2, 3, 5, 5, 7, 8, 9] 3\n",
            "[1, 1, 1, 2, 3, 5, 5, 7, 8, 9] 5\n",
            "[1, 1, 1, 2, 3, 5, 5, 7, 8, 9] 1\n",
            "[1, 1, 1, 2, 3, 5, 5, 7, 8, 9] 1\n",
            "[1, 1, 1, 2, 3, 5, 5, 7, 8, 9] 1\n",
            "[1, 1, 1, 2, 3, 5, 5, 7, 8, 9] 2\n",
            "[1, 1, 1, 2, 3, 5, 5, 7, 8, 9] 3\n",
            "[1, 1, 1, 2, 3, 5, 5, 7, 8, 9] 1\n",
            "[1, 1, 1, 2, 3, 5, 5, 7, 8, 9] 1\n",
            "[1, 1, 1, 2, 3, 5, 5, 7, 8, 9] 1\n",
            "[1, 1, 1, 2, 3, 5, 5, 7, 8, 9] 2\n",
            "[1, 1, 1, 2, 3, 5, 5, 7, 8, 9] 1\n",
            "[1, 1, 1, 2, 3, 5, 5, 7, 8, 9] 1\n",
            "[1, 1, 1, 2, 3, 5, 5, 7, 8, 9] 1\n",
            "[1, 1, 1, 2, 3, 5, 5, 7, 8, 9] 1\n",
            "[1, 1, 1, 2, 3, 5, 5, 7, 8, 9] 1\n",
            "[1, 1, 1, 2, 3, 5, 5, 7, 8, 9] 1\n"
          ]
        },
        {
          "output_type": "execute_result",
          "data": {
            "text/plain": [
              "[1, 1, 1, 2, 3, 5, 5, 7, 8, 9]"
            ]
          },
          "metadata": {},
          "execution_count": 28
        }
      ]
    },
    {
      "cell_type": "code",
      "source": [
        "sorted(x)"
      ],
      "metadata": {
        "colab": {
          "base_uri": "https://localhost:8080/"
        },
        "id": "1rf5Q4a2597A",
        "outputId": "94a6d101-58bf-47bc-a083-95b556088193"
      },
      "execution_count": 30,
      "outputs": [
        {
          "output_type": "execute_result",
          "data": {
            "text/plain": [
              "[1, 1, 1, 2, 3, 5, 5, 7, 8, 9]"
            ]
          },
          "metadata": {},
          "execution_count": 30
        }
      ]
    },
    {
      "cell_type": "code",
      "source": [
        "def center(x):\n",
        "  x = sorted(x)\n",
        "  if len(x) % 2 == 0:\n",
        "    idx = int(len(x)/2)\n",
        "    mda = (x[idx-1] + x[idx])/2\n",
        "    return mda\n",
        "  else:\n",
        "    idx = len(x)/2\n",
        "    mda = x[idx]\n",
        "    return mda\n",
        "\n",
        "center(x)"
      ],
      "metadata": {
        "colab": {
          "base_uri": "https://localhost:8080/"
        },
        "id": "Cm151TJX7g6w",
        "outputId": "d489c180-e47c-465c-8729-d95debe1e818"
      },
      "execution_count": 37,
      "outputs": [
        {
          "output_type": "execute_result",
          "data": {
            "text/plain": [
              "4.0"
            ]
          },
          "metadata": {},
          "execution_count": 37
        }
      ]
    },
    {
      "cell_type": "code",
      "source": [
        "def med(x):\n",
        "  x = sorted(x)\n",
        "  n = len(x)\n",
        "  if n % 2 == 0:\n",
        "    return (x[n//2-1] + x[n//2]) /2\n",
        "  else:\n",
        "    return x[n//2]"
      ],
      "metadata": {
        "id": "ZN0d_Gjk8NlX"
      },
      "execution_count": 33,
      "outputs": []
    },
    {
      "cell_type": "code",
      "source": [
        "med(x)"
      ],
      "metadata": {
        "colab": {
          "base_uri": "https://localhost:8080/"
        },
        "id": "5CgWZuIz9HgX",
        "outputId": "06cf905e-6677-4187-cebb-4fa106530a04"
      },
      "execution_count": 34,
      "outputs": [
        {
          "output_type": "execute_result",
          "data": {
            "text/plain": [
              "4.0"
            ]
          },
          "metadata": {},
          "execution_count": 34
        }
      ]
    },
    {
      "cell_type": "markdown",
      "source": [
        "최빈값 구하는 함수 만들기"
      ],
      "metadata": {
        "id": "quvRvISP9esQ"
      }
    },
    {
      "cell_type": "code",
      "source": [
        "x = [1, 1, 1, 2, 3, 3, 3, 3, 5, 5, 7, 8, 9]"
      ],
      "metadata": {
        "id": "BX4CNkzN-cDm"
      },
      "execution_count": 44,
      "outputs": []
    },
    {
      "cell_type": "code",
      "source": [
        "def mode(data):\n",
        "  x = np.unique(data)\n",
        "  dic = dict()\n",
        "  for i in x:\n",
        "    cnt = 0\n",
        "    for j in data:\n",
        "      if i == j:\n",
        "        cnt += 1\n",
        "      dic[i] = cnt\n",
        "  return dic"
      ],
      "metadata": {
        "id": "ZQ6XoKx79IoP"
      },
      "execution_count": 51,
      "outputs": []
    },
    {
      "cell_type": "code",
      "source": [
        "dic = mode(x)"
      ],
      "metadata": {
        "id": "vF36jro1-C2n"
      },
      "execution_count": 53,
      "outputs": []
    },
    {
      "cell_type": "code",
      "source": [
        "max = ''\n",
        "count = 0\n",
        "for k, v in dic.items():\n",
        "  if v > count:\n",
        "    count = v\n",
        "    max = k\n",
        "print('최빈값 :', max, '최빈횟수 :', count)"
      ],
      "metadata": {
        "colab": {
          "base_uri": "https://localhost:8080/"
        },
        "id": "HOXrn3LtAWIe",
        "outputId": "95466b9a-7f56-4ed9-d966-7aab560b1e68"
      },
      "execution_count": 54,
      "outputs": [
        {
          "output_type": "stream",
          "name": "stdout",
          "text": [
            "최빈값 : 3 최빈횟수 : 4\n"
          ]
        }
      ]
    },
    {
      "cell_type": "code",
      "source": [],
      "metadata": {
        "id": "RQqobu1mBRPm"
      },
      "execution_count": null,
      "outputs": []
    }
  ]
}