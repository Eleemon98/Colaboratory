{
  "nbformat": 4,
  "nbformat_minor": 0,
  "metadata": {
    "colab": {
      "provenance": [],
      "authorship_tag": "ABX9TyMEUYGEVUt1BoGyjD/OfCKo",
      "include_colab_link": true
    },
    "kernelspec": {
      "name": "python3",
      "display_name": "Python 3"
    },
    "language_info": {
      "name": "python"
    }
  },
  "cells": [
    {
      "cell_type": "markdown",
      "metadata": {
        "id": "view-in-github",
        "colab_type": "text"
      },
      "source": [
        "<a href=\"https://colab.research.google.com/github/Eleemon98/Colaboratory/blob/main/0108_%EC%A0%9C%EC%96%B4%EB%AC%B8_%ED%95%A8%EC%88%98.ipynb\" target=\"_parent\"><img src=\"https://colab.research.google.com/assets/colab-badge.svg\" alt=\"Open In Colab\"/></a>"
      ]
    },
    {
      "cell_type": "markdown",
      "source": [
        "###While문\n"
      ],
      "metadata": {
        "id": "pnSVHZ5mZLqZ"
      }
    },
    {
      "cell_type": "code",
      "execution_count": null,
      "metadata": {
        "colab": {
          "base_uri": "https://localhost:8080/"
        },
        "id": "Cfdv-sLWZEBR",
        "outputId": "917d0641-f957-4d20-c8a0-36325d756fac"
      },
      "outputs": [
        {
          "output_type": "stream",
          "name": "stdout",
          "text": [
            "나의 반복 횟수 : 1\n",
            "나의 반복 횟수 : 2\n",
            "나의 반복 횟수 : 3\n",
            "나의 반복 횟수 : 4\n",
            "나의 반복 횟수 : 5\n",
            "나의 반복 횟수 : 6\n",
            "나의 반복 횟수 : 7\n"
          ]
        }
      ],
      "source": [
        "i = 1\n",
        "while True:\n",
        "  print(f\"나의 반복 횟수 : {i}\")\n",
        "  i += 1\n",
        "  if i >7:\n",
        "    break"
      ]
    },
    {
      "cell_type": "code",
      "source": [
        "i = 3\n",
        "while i < 7:  #조건식으로 바꿀 때는 실행할 수 있게 위에와는 반대로 해야 함\n",
        "  print(f'나의 반복 횟수: {i}')\n",
        "  i += 1"
      ],
      "metadata": {
        "colab": {
          "base_uri": "https://localhost:8080/"
        },
        "id": "zjJDBcHW5t_m",
        "outputId": "608fd262-77f1-4de6-9750-d219300f46cc"
      },
      "execution_count": null,
      "outputs": [
        {
          "output_type": "stream",
          "name": "stdout",
          "text": [
            "나의 반복 횟수: 3\n",
            "나의 반복 횟수: 4\n",
            "나의 반복 횟수: 5\n",
            "나의 반복 횟수: 6\n"
          ]
        }
      ]
    },
    {
      "cell_type": "code",
      "source": [
        "i = 0\n",
        "while i < 7:\n",
        "  print(f'나의 반복 횟수: {i}')\n",
        "  i += 1\n",
        "  if i % 2 == 0:\n",
        "    print(\"짝수\")\n",
        "    continue\n",
        "  print(f'i라는 변수는 {i}')"
      ],
      "metadata": {
        "colab": {
          "base_uri": "https://localhost:8080/"
        },
        "id": "6PhCwTr26mcU",
        "outputId": "de090fb2-5282-4c71-a5d5-d89214a4f2ff"
      },
      "execution_count": null,
      "outputs": [
        {
          "output_type": "stream",
          "name": "stdout",
          "text": [
            "나의 반복 횟수: 0\n",
            "i라는 변수는 1\n",
            "나의 반복 횟수: 1\n",
            "짝수\n",
            "나의 반복 횟수: 2\n",
            "i라는 변수는 3\n",
            "나의 반복 횟수: 3\n",
            "짝수\n",
            "나의 반복 횟수: 4\n",
            "i라는 변수는 5\n",
            "나의 반복 횟수: 5\n",
            "짝수\n",
            "나의 반복 횟수: 6\n",
            "i라는 변수는 7\n"
          ]
        }
      ]
    },
    {
      "cell_type": "markdown",
      "source": [
        "###정수 하나를 입력 받아서 해당 정수의 누적합 구하는 while문을 작성하시오."
      ],
      "metadata": {
        "id": "_HmZKVrV8a0a"
      }
    },
    {
      "cell_type": "code",
      "source": [
        "num = 1\n",
        "total = 0\n",
        "\n",
        "while True:\n",
        "  total += num\n",
        "  num += 1\n",
        "  if num > 20:\n",
        "    break\n",
        "print(total)"
      ],
      "metadata": {
        "colab": {
          "base_uri": "https://localhost:8080/"
        },
        "id": "szHLKJC58DcF",
        "outputId": "6ed8ef22-14b2-4cf3-d6d6-59c796d89da5"
      },
      "execution_count": null,
      "outputs": [
        {
          "output_type": "stream",
          "name": "stdout",
          "text": [
            "210\n"
          ]
        }
      ]
    },
    {
      "cell_type": "code",
      "source": [
        "num = 1\n",
        "total = 0\n",
        "\n",
        "while num < 21:\n",
        "  total += num\n",
        "  num += 1\n",
        "print(total)"
      ],
      "metadata": {
        "colab": {
          "base_uri": "https://localhost:8080/"
        },
        "id": "LbYcA6au9LZr",
        "outputId": "b0bbe4d2-71e0-4dc6-8069-5552f951744b"
      },
      "execution_count": null,
      "outputs": [
        {
          "output_type": "stream",
          "name": "stdout",
          "text": [
            "210\n"
          ]
        }
      ]
    },
    {
      "cell_type": "code",
      "source": [
        "a = int(input())\n",
        "\n",
        "total = 0\n",
        "for i in range(a+1):\n",
        "  total += i\n",
        "\n",
        "print(total)"
      ],
      "metadata": {
        "colab": {
          "base_uri": "https://localhost:8080/"
        },
        "id": "jItutC2G9qLa",
        "outputId": "7e9468fb-3a96-452a-87a3-8acb589eca1f"
      },
      "execution_count": null,
      "outputs": [
        {
          "output_type": "stream",
          "name": "stdout",
          "text": [
            "10\n",
            "55\n"
          ]
        }
      ]
    },
    {
      "cell_type": "markdown",
      "source": [
        "사용자 정의 함수"
      ],
      "metadata": {
        "id": "qjo6VNdVJlY3"
      }
    },
    {
      "cell_type": "code",
      "source": [
        "def plus_ten(a):   #아무 숫자나 하나 입력받아서 더하기 10을 해주는 함수\n",
        "  a += 10\n",
        "  return a"
      ],
      "metadata": {
        "id": "hdqVr65kFioE"
      },
      "execution_count": null,
      "outputs": []
    },
    {
      "cell_type": "code",
      "source": [
        "plus_ten(7)"
      ],
      "metadata": {
        "colab": {
          "base_uri": "https://localhost:8080/"
        },
        "id": "iv2OmnOsKAcV",
        "outputId": "869f8215-01a2-4556-fd65-b46dfaa5af98"
      },
      "execution_count": null,
      "outputs": [
        {
          "output_type": "execute_result",
          "data": {
            "text/plain": [
              "17"
            ]
          },
          "metadata": {},
          "execution_count": 18
        }
      ]
    },
    {
      "cell_type": "code",
      "source": [
        "plus_ten(100)"
      ],
      "metadata": {
        "colab": {
          "base_uri": "https://localhost:8080/"
        },
        "id": "XC-unubRKDoM",
        "outputId": "b68859be-bd34-4908-ebb7-029e25406db2"
      },
      "execution_count": null,
      "outputs": [
        {
          "output_type": "execute_result",
          "data": {
            "text/plain": [
              "110"
            ]
          },
          "metadata": {},
          "execution_count": 19
        }
      ]
    },
    {
      "cell_type": "code",
      "source": [
        "def hap(a):\n",
        "  total = 0\n",
        "  cnt = 0\n",
        "  while True:\n",
        "    total += cnt\n",
        "    cnt += 1\n",
        "    if cnt > a:\n",
        "      break\n",
        "  return total\n"
      ],
      "metadata": {
        "id": "OapwCWDjKoDs"
      },
      "execution_count": null,
      "outputs": []
    },
    {
      "cell_type": "code",
      "source": [
        "hap(100)"
      ],
      "metadata": {
        "colab": {
          "base_uri": "https://localhost:8080/"
        },
        "id": "fG_RbqojM3Ce",
        "outputId": "1905516f-f7da-41ac-961b-07876e80f7b5"
      },
      "execution_count": null,
      "outputs": [
        {
          "output_type": "execute_result",
          "data": {
            "text/plain": [
              "5050"
            ]
          },
          "metadata": {},
          "execution_count": 23
        }
      ]
    },
    {
      "cell_type": "code",
      "source": [
        "def phone(model):\n",
        "\tprint(f\"나의 휴대폰은{model}입니다.\")\n",
        "\n",
        "phone('apple')"
      ],
      "metadata": {
        "colab": {
          "base_uri": "https://localhost:8080/"
        },
        "id": "ukf6tuesM5LF",
        "outputId": "93f13176-d15e-4c53-8752-9e0118f2d08a"
      },
      "execution_count": null,
      "outputs": [
        {
          "output_type": "stream",
          "name": "stdout",
          "text": [
            "나의 휴대폰은apple입니다.\n"
          ]
        }
      ]
    },
    {
      "cell_type": "markdown",
      "source": [
        "임의의 숫자 N의 각 자리수를 더하는 함수를 작성하시오.\n",
        "예) 123 을 입력하면 6이 출력\n",
        "예) 572 을 입력하면 5 + 7 + 2 = 14"
      ],
      "metadata": {
        "id": "xVD2ychQhR2E"
      }
    },
    {
      "cell_type": "code",
      "source": [
        "def hp(n):\n",
        "  total=0\n",
        "  while True:\n",
        "    total += n % 10\n",
        "    n = n // 10\n",
        "    if n == 0:\n",
        "      break\n",
        "  return total"
      ],
      "metadata": {
        "id": "PV8FAOxmO1s2"
      },
      "execution_count": null,
      "outputs": []
    },
    {
      "cell_type": "code",
      "source": [
        "hp(486)"
      ],
      "metadata": {
        "colab": {
          "base_uri": "https://localhost:8080/"
        },
        "id": "MljMWmilhFuX",
        "outputId": "af6df471-1300-48e8-f5e5-bcd72d47b329"
      },
      "execution_count": null,
      "outputs": [
        {
          "output_type": "execute_result",
          "data": {
            "text/plain": [
              "18"
            ]
          },
          "metadata": {},
          "execution_count": 28
        }
      ]
    },
    {
      "cell_type": "code",
      "source": [
        "def ten_hap(a):\n",
        "  total=0\n",
        "  while a != 0:\n",
        "    total += a % 10\n",
        "    a = a // 10\n",
        "  return total"
      ],
      "metadata": {
        "id": "XBK9tqWehIbK"
      },
      "execution_count": null,
      "outputs": []
    },
    {
      "cell_type": "code",
      "source": [
        "ten_hap(123)"
      ],
      "metadata": {
        "colab": {
          "base_uri": "https://localhost:8080/"
        },
        "id": "KD70TpY_l8S8",
        "outputId": "c3e122a9-c3bb-4470-89e6-32a39758f26a"
      },
      "execution_count": null,
      "outputs": [
        {
          "output_type": "execute_result",
          "data": {
            "text/plain": [
              "6"
            ]
          },
          "metadata": {},
          "execution_count": 37
        }
      ]
    },
    {
      "cell_type": "markdown",
      "source": [
        "가변 매개변수"
      ],
      "metadata": {
        "id": "ssMGbKoVoloG"
      }
    },
    {
      "cell_type": "code",
      "source": [
        "def all_sum(*args):\n",
        "\tresult = 0\n",
        "\tfor i in args:\n",
        "\t\tresult = result + i\n",
        "\treturn result"
      ],
      "metadata": {
        "id": "6zgXaTEFmcB6"
      },
      "execution_count": null,
      "outputs": []
    },
    {
      "cell_type": "code",
      "source": [
        "all_sum(1,5,6)"
      ],
      "metadata": {
        "colab": {
          "base_uri": "https://localhost:8080/"
        },
        "id": "eHWF8znMpg-R",
        "outputId": "a20c0d4d-11b8-4b36-dbf8-37dbb0027e8c"
      },
      "execution_count": null,
      "outputs": [
        {
          "output_type": "execute_result",
          "data": {
            "text/plain": [
              "12"
            ]
          },
          "metadata": {},
          "execution_count": 39
        }
      ]
    },
    {
      "cell_type": "code",
      "source": [
        "def calculator(choice,*args):\n",
        "  result = 0\n",
        "  if choice == 'add':\n",
        "    for i in args:\n",
        "      result += i\n",
        "  elif choice == 'multi':\n",
        "    result = 1\n",
        "    for i in args:\n",
        "      result *= i\n",
        "  else:\n",
        "    result =\"'add'또는 'multi'를 입력\"\n",
        "\n",
        "  return result"
      ],
      "metadata": {
        "id": "nvzytSaUpkFN"
      },
      "execution_count": null,
      "outputs": []
    },
    {
      "cell_type": "code",
      "source": [
        "calculator('add', 1,2,3,4,5)"
      ],
      "metadata": {
        "colab": {
          "base_uri": "https://localhost:8080/"
        },
        "id": "FEkrji3hqsMv",
        "outputId": "18b05128-8512-4eab-b59e-082af50bdc6f"
      },
      "execution_count": null,
      "outputs": [
        {
          "output_type": "execute_result",
          "data": {
            "text/plain": [
              "15"
            ]
          },
          "metadata": {},
          "execution_count": 41
        }
      ]
    },
    {
      "cell_type": "code",
      "source": [
        "calculator('multi',7,8,9)"
      ],
      "metadata": {
        "colab": {
          "base_uri": "https://localhost:8080/"
        },
        "id": "ifGk3dvuqyFU",
        "outputId": "5da11f4c-b309-4482-8891-482bc09c1e97"
      },
      "execution_count": null,
      "outputs": [
        {
          "output_type": "execute_result",
          "data": {
            "text/plain": [
              "504"
            ]
          },
          "metadata": {},
          "execution_count": 42
        }
      ]
    },
    {
      "cell_type": "markdown",
      "source": [
        "키워드 매개변수"
      ],
      "metadata": {
        "id": "51ubs5JosVIm"
      }
    },
    {
      "cell_type": "code",
      "source": [
        "def pocketmon(atribute, **kwargs):\n",
        "  if atribute == 'electronic':\n",
        "    print('피카츄')\n",
        "    for key, value in kwargs.items():\n",
        "      print(f\"{key}은 {value}이다.\")\n",
        "  elif atribute == 'water':\n",
        "    print('꼬부기')\n",
        "    for key, value in kwargs.items():\n",
        "      print(f\"{key}은 {value}이다.\")\n",
        "  else:\n",
        "    print('그외의 포켓몬')"
      ],
      "metadata": {
        "id": "qT-nhZpZsG8t"
      },
      "execution_count": null,
      "outputs": []
    },
    {
      "cell_type": "code",
      "source": [
        "pocketmon('electronic',공격='100만 볼트')"
      ],
      "metadata": {
        "colab": {
          "base_uri": "https://localhost:8080/"
        },
        "id": "CPDBf1BIsxL2",
        "outputId": "98c0b4a5-519e-4bb6-89ea-ee2b1f662085"
      },
      "execution_count": null,
      "outputs": [
        {
          "output_type": "stream",
          "name": "stdout",
          "text": [
            "피카츄\n",
            "공격은 100만 볼트이다.\n"
          ]
        }
      ]
    },
    {
      "cell_type": "code",
      "source": [
        "pocketmon('water', 공격 = '물대포', 무게 = '1톤')"
      ],
      "metadata": {
        "colab": {
          "base_uri": "https://localhost:8080/"
        },
        "id": "vQlSEptbs1bW",
        "outputId": "2a8f675a-bb09-411c-c3e3-626c4dd5ce85"
      },
      "execution_count": null,
      "outputs": [
        {
          "output_type": "stream",
          "name": "stdout",
          "text": [
            "꼬부기\n",
            "공격은 물대포이다.\n",
            "무게은 1톤이다.\n"
          ]
        }
      ]
    },
    {
      "cell_type": "code",
      "source": [
        "def pocketmon(*args, **kwargs):\n",
        "  if args[0] == 'electronic':\n",
        "    print('피카츄','level:',args[1])\n",
        "    for key, value in kwargs.items():\n",
        "      print(f\"{key}은 {value}이다.\")\n",
        "  elif args[0] == 'water':\n",
        "    print('꼬부기','level:',args[1])\n",
        "    for key, value in kwargs.items():\n",
        "      print(f\"{key}은 {value}이다.\")\n",
        "  else:\n",
        "    print('그외의 포켓몬')"
      ],
      "metadata": {
        "id": "LD7x2v3-tZke"
      },
      "execution_count": null,
      "outputs": []
    },
    {
      "cell_type": "code",
      "source": [
        "pocketmon('electronic',16,공격='100만 볼트')\n",
        "pocketmon('water',20, 공격='물대포', 진화='거북왕')"
      ],
      "metadata": {
        "colab": {
          "base_uri": "https://localhost:8080/"
        },
        "id": "5dK5aQmyuhSB",
        "outputId": "cfd0177e-d9f0-45aa-9a85-4da9e1dd2772"
      },
      "execution_count": null,
      "outputs": [
        {
          "output_type": "stream",
          "name": "stdout",
          "text": [
            "피카츄 level: 16\n",
            "공격은 100만 볼트이다.\n",
            "꼬부기 level: 20\n",
            "공격은 물대포이다.\n",
            "진화은 거북왕이다.\n"
          ]
        }
      ]
    },
    {
      "cell_type": "markdown",
      "source": [
        "내장 함수"
      ],
      "metadata": {
        "id": "CEbr6cGFvJT2"
      }
    },
    {
      "cell_type": "code",
      "source": [
        "dir(__builtins__)"
      ],
      "metadata": {
        "colab": {
          "base_uri": "https://localhost:8080/"
        },
        "id": "4lAifDBSujgl",
        "outputId": "eb151993-dda6-41f3-f76f-1fe2b70efa9e"
      },
      "execution_count": null,
      "outputs": [
        {
          "output_type": "execute_result",
          "data": {
            "text/plain": [
              "['ArithmeticError',\n",
              " 'AssertionError',\n",
              " 'AttributeError',\n",
              " 'BaseException',\n",
              " 'BlockingIOError',\n",
              " 'BrokenPipeError',\n",
              " 'BufferError',\n",
              " 'BytesWarning',\n",
              " 'ChildProcessError',\n",
              " 'ConnectionAbortedError',\n",
              " 'ConnectionError',\n",
              " 'ConnectionRefusedError',\n",
              " 'ConnectionResetError',\n",
              " 'DeprecationWarning',\n",
              " 'EOFError',\n",
              " 'Ellipsis',\n",
              " 'EncodingWarning',\n",
              " 'EnvironmentError',\n",
              " 'Exception',\n",
              " 'False',\n",
              " 'FileExistsError',\n",
              " 'FileNotFoundError',\n",
              " 'FloatingPointError',\n",
              " 'FutureWarning',\n",
              " 'GeneratorExit',\n",
              " 'IOError',\n",
              " 'ImportError',\n",
              " 'ImportWarning',\n",
              " 'IndentationError',\n",
              " 'IndexError',\n",
              " 'InterruptedError',\n",
              " 'IsADirectoryError',\n",
              " 'KeyError',\n",
              " 'KeyboardInterrupt',\n",
              " 'LookupError',\n",
              " 'MemoryError',\n",
              " 'ModuleNotFoundError',\n",
              " 'NameError',\n",
              " 'None',\n",
              " 'NotADirectoryError',\n",
              " 'NotImplemented',\n",
              " 'NotImplementedError',\n",
              " 'OSError',\n",
              " 'OverflowError',\n",
              " 'PendingDeprecationWarning',\n",
              " 'PermissionError',\n",
              " 'ProcessLookupError',\n",
              " 'RecursionError',\n",
              " 'ReferenceError',\n",
              " 'ResourceWarning',\n",
              " 'RuntimeError',\n",
              " 'RuntimeWarning',\n",
              " 'StopAsyncIteration',\n",
              " 'StopIteration',\n",
              " 'SyntaxError',\n",
              " 'SyntaxWarning',\n",
              " 'SystemError',\n",
              " 'SystemExit',\n",
              " 'TabError',\n",
              " 'TimeoutError',\n",
              " 'True',\n",
              " 'TypeError',\n",
              " 'UnboundLocalError',\n",
              " 'UnicodeDecodeError',\n",
              " 'UnicodeEncodeError',\n",
              " 'UnicodeError',\n",
              " 'UnicodeTranslateError',\n",
              " 'UnicodeWarning',\n",
              " 'UserWarning',\n",
              " 'ValueError',\n",
              " 'Warning',\n",
              " 'ZeroDivisionError',\n",
              " '__IPYTHON__',\n",
              " '__build_class__',\n",
              " '__debug__',\n",
              " '__doc__',\n",
              " '__import__',\n",
              " '__loader__',\n",
              " '__name__',\n",
              " '__package__',\n",
              " '__spec__',\n",
              " 'abs',\n",
              " 'aiter',\n",
              " 'all',\n",
              " 'anext',\n",
              " 'any',\n",
              " 'ascii',\n",
              " 'bin',\n",
              " 'bool',\n",
              " 'breakpoint',\n",
              " 'bytearray',\n",
              " 'bytes',\n",
              " 'callable',\n",
              " 'chr',\n",
              " 'classmethod',\n",
              " 'compile',\n",
              " 'complex',\n",
              " 'copyright',\n",
              " 'credits',\n",
              " 'delattr',\n",
              " 'dict',\n",
              " 'dir',\n",
              " 'display',\n",
              " 'divmod',\n",
              " 'enumerate',\n",
              " 'eval',\n",
              " 'exec',\n",
              " 'execfile',\n",
              " 'filter',\n",
              " 'float',\n",
              " 'format',\n",
              " 'frozenset',\n",
              " 'get_ipython',\n",
              " 'getattr',\n",
              " 'globals',\n",
              " 'hasattr',\n",
              " 'hash',\n",
              " 'help',\n",
              " 'hex',\n",
              " 'id',\n",
              " 'input',\n",
              " 'int',\n",
              " 'isinstance',\n",
              " 'issubclass',\n",
              " 'iter',\n",
              " 'len',\n",
              " 'license',\n",
              " 'list',\n",
              " 'locals',\n",
              " 'map',\n",
              " 'max',\n",
              " 'memoryview',\n",
              " 'min',\n",
              " 'next',\n",
              " 'object',\n",
              " 'oct',\n",
              " 'open',\n",
              " 'ord',\n",
              " 'pow',\n",
              " 'print',\n",
              " 'property',\n",
              " 'range',\n",
              " 'repr',\n",
              " 'reversed',\n",
              " 'round',\n",
              " 'runfile',\n",
              " 'set',\n",
              " 'setattr',\n",
              " 'slice',\n",
              " 'sorted',\n",
              " 'staticmethod',\n",
              " 'str',\n",
              " 'sum',\n",
              " 'super',\n",
              " 'tuple',\n",
              " 'type',\n",
              " 'vars',\n",
              " 'zip']"
            ]
          },
          "metadata": {},
          "execution_count": 54
        }
      ]
    },
    {
      "cell_type": "markdown",
      "source": [
        "외장 함수"
      ],
      "metadata": {
        "id": "0aOJZXvw8eqq"
      }
    },
    {
      "cell_type": "code",
      "source": [
        "import time\n",
        "print(time.time())\n",
        "print(time.localtime(time.time()))"
      ],
      "metadata": {
        "colab": {
          "base_uri": "https://localhost:8080/"
        },
        "id": "ssVjf73CvNeO",
        "outputId": "c717ee30-212a-471b-90a5-9af4f6d8d2e2"
      },
      "execution_count": null,
      "outputs": [
        {
          "output_type": "stream",
          "name": "stdout",
          "text": [
            "1704696771.2577298\n",
            "time.struct_time(tm_year=2024, tm_mon=1, tm_mday=8, tm_hour=6, tm_min=52, tm_sec=51, tm_wday=0, tm_yday=8, tm_isdst=0)\n"
          ]
        }
      ]
    },
    {
      "cell_type": "code",
      "source": [
        "import random\n",
        "\n",
        "print(dir(random))\n",
        "print(random.random())"
      ],
      "metadata": {
        "colab": {
          "base_uri": "https://localhost:8080/"
        },
        "id": "i6onwH_M11XY",
        "outputId": "4eacb934-c112-4612-e0f6-b05608691ec1"
      },
      "execution_count": null,
      "outputs": [
        {
          "output_type": "stream",
          "name": "stdout",
          "text": [
            "['BPF', 'LOG4', 'NV_MAGICCONST', 'RECIP_BPF', 'Random', 'SG_MAGICCONST', 'SystemRandom', 'TWOPI', '_ONE', '_Sequence', '_Set', '__all__', '__builtins__', '__cached__', '__doc__', '__file__', '__loader__', '__name__', '__package__', '__spec__', '_accumulate', '_acos', '_bisect', '_ceil', '_cos', '_e', '_exp', '_floor', '_index', '_inst', '_isfinite', '_log', '_os', '_pi', '_random', '_repeat', '_sha512', '_sin', '_sqrt', '_test', '_test_generator', '_urandom', '_warn', 'betavariate', 'choice', 'choices', 'expovariate', 'gammavariate', 'gauss', 'getrandbits', 'getstate', 'lognormvariate', 'normalvariate', 'paretovariate', 'randbytes', 'randint', 'random', 'randrange', 'sample', 'seed', 'setstate', 'shuffle', 'triangular', 'uniform', 'vonmisesvariate', 'weibullvariate']\n",
            "0.2370990238519618\n"
          ]
        }
      ]
    },
    {
      "cell_type": "code",
      "source": [
        "import time\n",
        "\n",
        "time.strftime('%Y-%m-%d-%H-%M-%S')"
      ],
      "metadata": {
        "colab": {
          "base_uri": "https://localhost:8080/",
          "height": 35
        },
        "id": "tp7rZXoW6DLA",
        "outputId": "e8985bdd-6d8e-4d0d-ebae-9a621ccd598a"
      },
      "execution_count": null,
      "outputs": [
        {
          "output_type": "execute_result",
          "data": {
            "text/plain": [
              "'2024-01-08-07-14-47'"
            ],
            "application/vnd.google.colaboratory.intrinsic+json": {
              "type": "string"
            }
          },
          "metadata": {},
          "execution_count": 61
        }
      ]
    },
    {
      "cell_type": "code",
      "source": [
        "for i in range(5):\n",
        "  time.sleep(2)  #웹 개발할 때 한 번에 많은 정보를 보내면 서버가 힘들 수 있어서 딜레이 시간을 주기 위해 사용\n",
        "  print(i)"
      ],
      "metadata": {
        "colab": {
          "base_uri": "https://localhost:8080/"
        },
        "id": "NPmd2zTA7JTs",
        "outputId": "a57e1755-2277-43c8-e17b-189b90e877c5"
      },
      "execution_count": null,
      "outputs": [
        {
          "output_type": "stream",
          "name": "stdout",
          "text": [
            "0\n",
            "1\n",
            "2\n",
            "3\n",
            "4\n"
          ]
        }
      ]
    },
    {
      "cell_type": "code",
      "source": [
        "import datetime\n",
        "\n",
        "dt1 = datetime.datetime(1993, 6, 30)\n",
        "dt2 = datetime.datetime.now()\n",
        "result = dt2 - dt1\n",
        "print(result)"
      ],
      "metadata": {
        "colab": {
          "base_uri": "https://localhost:8080/"
        },
        "id": "64uORsrQ7kWw",
        "outputId": "5c6d620c-c606-47b4-edff-85895f8dfcc2"
      },
      "execution_count": null,
      "outputs": [
        {
          "output_type": "stream",
          "name": "stdout",
          "text": [
            "11149 days, 7:20:14.473040\n"
          ]
        }
      ]
    },
    {
      "cell_type": "markdown",
      "source": [
        "전역변수와 지역변수"
      ],
      "metadata": {
        "id": "vdFs0ipX8lpL"
      }
    },
    {
      "cell_type": "code",
      "source": [
        "s = '송태섭'   #전역변수\n",
        "def slamdunk():\n",
        "  print(s)"
      ],
      "metadata": {
        "id": "47xMBN6D8Uay"
      },
      "execution_count": null,
      "outputs": []
    },
    {
      "cell_type": "code",
      "source": [
        "slamdunk()"
      ],
      "metadata": {
        "colab": {
          "base_uri": "https://localhost:8080/"
        },
        "id": "2y_mTop-DWW1",
        "outputId": "7a7bd8c3-d9fa-4dbd-8e8e-7e8cbe641510"
      },
      "execution_count": null,
      "outputs": [
        {
          "output_type": "stream",
          "name": "stdout",
          "text": [
            "송태섭\n"
          ]
        }
      ]
    },
    {
      "cell_type": "code",
      "source": [
        "def slamdunk():\n",
        "  k = '강백호'  #지역변수\n",
        "  print(k)"
      ],
      "metadata": {
        "id": "1fggoY1JDY6y"
      },
      "execution_count": null,
      "outputs": []
    },
    {
      "cell_type": "code",
      "source": [
        "slamdunk()"
      ],
      "metadata": {
        "colab": {
          "base_uri": "https://localhost:8080/"
        },
        "id": "QWkFCqP_Dinq",
        "outputId": "20971395-155a-427c-87c8-726acb250110"
      },
      "execution_count": null,
      "outputs": [
        {
          "output_type": "stream",
          "name": "stdout",
          "text": [
            "강백호\n"
          ]
        }
      ]
    },
    {
      "cell_type": "code",
      "source": [
        "def slamdunk():\n",
        "  global t     #함수를 실행시켜야지만 전역변수로 사용 가능\n",
        "  t = '서태웅'\n",
        "  print(t)"
      ],
      "metadata": {
        "id": "KANNiPA-DkHa"
      },
      "execution_count": null,
      "outputs": []
    },
    {
      "cell_type": "code",
      "source": [
        "slamdunk()"
      ],
      "metadata": {
        "colab": {
          "base_uri": "https://localhost:8080/"
        },
        "id": "4nvJSUGRDngK",
        "outputId": "b671a0f2-f305-4238-b801-9181abdbfdd7"
      },
      "execution_count": null,
      "outputs": [
        {
          "output_type": "stream",
          "name": "stdout",
          "text": [
            "서태웅\n"
          ]
        }
      ]
    },
    {
      "cell_type": "code",
      "source": [
        "t"
      ],
      "metadata": {
        "colab": {
          "base_uri": "https://localhost:8080/",
          "height": 35
        },
        "id": "rXXw6lhREArj",
        "outputId": "393ce196-e99f-4489-98c7-c6443df7b7f5"
      },
      "execution_count": null,
      "outputs": [
        {
          "output_type": "execute_result",
          "data": {
            "text/plain": [
              "'서태웅'"
            ],
            "application/vnd.google.colaboratory.intrinsic+json": {
              "type": "string"
            }
          },
          "metadata": {},
          "execution_count": 74
        }
      ]
    },
    {
      "cell_type": "code",
      "source": [
        "def slamdunk():\n",
        "  def konan():\n",
        "    p = '남도일'\n",
        "    print(p)\n",
        "  konan()"
      ],
      "metadata": {
        "id": "Hy9mUpEkELxK"
      },
      "execution_count": null,
      "outputs": []
    },
    {
      "cell_type": "code",
      "source": [
        "slamdunk()"
      ],
      "metadata": {
        "colab": {
          "base_uri": "https://localhost:8080/"
        },
        "id": "tVqXh-jGEmu7",
        "outputId": "57e4f4f2-b77a-4955-ce82-23f718d4fe1b"
      },
      "execution_count": null,
      "outputs": [
        {
          "output_type": "stream",
          "name": "stdout",
          "text": [
            "남도일\n"
          ]
        }
      ]
    },
    {
      "cell_type": "code",
      "source": [
        "def slamdunk():\n",
        "  def konan():\n",
        "    p = '남도일'\n",
        "    print(p)\n",
        "  konan()\n",
        "  print(p)  #konan 안에 있는 지역변수를 쓸 수 없음"
      ],
      "metadata": {
        "id": "mFo6TaKCEtZb"
      },
      "execution_count": null,
      "outputs": []
    },
    {
      "cell_type": "code",
      "source": [
        "slamdunk()"
      ],
      "metadata": {
        "colab": {
          "base_uri": "https://localhost:8080/",
          "height": 294
        },
        "id": "YIdiVATrE1Pc",
        "outputId": "db6695e1-df0e-4b15-da1f-23613916cc54"
      },
      "execution_count": null,
      "outputs": [
        {
          "output_type": "stream",
          "name": "stdout",
          "text": [
            "남도일\n"
          ]
        },
        {
          "output_type": "error",
          "ename": "NameError",
          "evalue": "name 'p' is not defined",
          "traceback": [
            "\u001b[0;31m---------------------------------------------------------------------------\u001b[0m",
            "\u001b[0;31mNameError\u001b[0m                                 Traceback (most recent call last)",
            "\u001b[0;32m<ipython-input-78-8747cf1e3e90>\u001b[0m in \u001b[0;36m<cell line: 1>\u001b[0;34m()\u001b[0m\n\u001b[0;32m----> 1\u001b[0;31m \u001b[0mslamdunk\u001b[0m\u001b[0;34m(\u001b[0m\u001b[0;34m)\u001b[0m\u001b[0;34m\u001b[0m\u001b[0;34m\u001b[0m\u001b[0m\n\u001b[0m",
            "\u001b[0;32m<ipython-input-77-ea85aa381e27>\u001b[0m in \u001b[0;36mslamdunk\u001b[0;34m()\u001b[0m\n\u001b[1;32m      4\u001b[0m     \u001b[0mprint\u001b[0m\u001b[0;34m(\u001b[0m\u001b[0mp\u001b[0m\u001b[0;34m)\u001b[0m\u001b[0;34m\u001b[0m\u001b[0;34m\u001b[0m\u001b[0m\n\u001b[1;32m      5\u001b[0m   \u001b[0mkonan\u001b[0m\u001b[0;34m(\u001b[0m\u001b[0;34m)\u001b[0m\u001b[0;34m\u001b[0m\u001b[0;34m\u001b[0m\u001b[0m\n\u001b[0;32m----> 6\u001b[0;31m   \u001b[0mprint\u001b[0m\u001b[0;34m(\u001b[0m\u001b[0mp\u001b[0m\u001b[0;34m)\u001b[0m\u001b[0;34m\u001b[0m\u001b[0;34m\u001b[0m\u001b[0m\n\u001b[0m",
            "\u001b[0;31mNameError\u001b[0m: name 'p' is not defined"
          ]
        }
      ]
    },
    {
      "cell_type": "code",
      "source": [
        "def slamdunk():\n",
        "  p = '강백호'\n",
        "  def konan():\n",
        "    nonlocal p\n",
        "    p = '남도일'\n",
        "    print(p)\n",
        "  konan()\n",
        "  print(p)"
      ],
      "metadata": {
        "id": "rxnsgdeAE7A6"
      },
      "execution_count": null,
      "outputs": []
    },
    {
      "cell_type": "code",
      "source": [
        "slamdunk()"
      ],
      "metadata": {
        "colab": {
          "base_uri": "https://localhost:8080/"
        },
        "id": "aZYhsPD-FRbG",
        "outputId": "8b187d03-f289-40ba-be4c-b52a3e0f768b"
      },
      "execution_count": null,
      "outputs": [
        {
          "output_type": "stream",
          "name": "stdout",
          "text": [
            "남도일\n",
            "남도일\n"
          ]
        }
      ]
    },
    {
      "cell_type": "code",
      "source": [
        "def slamdunk():\n",
        "  p = '강백호'\n",
        "  def konan():\n",
        "    nonlocal p\n",
        "    p = '남도일'\n",
        "    return p\n",
        "  konan()\n",
        "  print(p)"
      ],
      "metadata": {
        "id": "CLJ7gVGUFcKi"
      },
      "execution_count": null,
      "outputs": []
    },
    {
      "cell_type": "code",
      "source": [
        "slamdunk()"
      ],
      "metadata": {
        "colab": {
          "base_uri": "https://localhost:8080/"
        },
        "id": "1TcSiXHyF3sf",
        "outputId": "7e5fbff2-afef-4a82-cf34-4a53f8015a02"
      },
      "execution_count": null,
      "outputs": [
        {
          "output_type": "stream",
          "name": "stdout",
          "text": [
            "남도일\n"
          ]
        }
      ]
    },
    {
      "cell_type": "code",
      "source": [
        "def slamdunk():\n",
        "  p = '강백호'\n",
        "  def konan():\n",
        "    nonlocal p\n",
        "    p = '남도일'\n",
        "    return p\n",
        "  konan_p = konan()\n",
        "  print(p)\n",
        "  print(konan())"
      ],
      "metadata": {
        "id": "py3QwX_uF5Ck"
      },
      "execution_count": null,
      "outputs": []
    },
    {
      "cell_type": "code",
      "source": [
        "slamdunk()"
      ],
      "metadata": {
        "colab": {
          "base_uri": "https://localhost:8080/"
        },
        "id": "yfI0Ndf1GEgs",
        "outputId": "80704a87-2cdc-4754-cc58-9a4a9060d257"
      },
      "execution_count": null,
      "outputs": [
        {
          "output_type": "stream",
          "name": "stdout",
          "text": [
            "남도일\n",
            "남도일\n"
          ]
        }
      ]
    },
    {
      "cell_type": "code",
      "source": [],
      "metadata": {
        "id": "R3p5cVYOGGtj"
      },
      "execution_count": null,
      "outputs": []
    }
  ]
}