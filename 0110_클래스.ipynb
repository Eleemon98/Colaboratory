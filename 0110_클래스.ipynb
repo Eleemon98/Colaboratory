{
  "nbformat": 4,
  "nbformat_minor": 0,
  "metadata": {
    "colab": {
      "provenance": [],
      "authorship_tag": "ABX9TyMvuZOj+wHnB7vQpD3k+Ttq",
      "include_colab_link": true
    },
    "kernelspec": {
      "name": "python3",
      "display_name": "Python 3"
    },
    "language_info": {
      "name": "python"
    }
  },
  "cells": [
    {
      "cell_type": "markdown",
      "metadata": {
        "id": "view-in-github",
        "colab_type": "text"
      },
      "source": [
        "<a href=\"https://colab.research.google.com/github/Eleemon98/Colaboratory/blob/main/0110_%ED%81%B4%EB%9E%98%EC%8A%A4.ipynb\" target=\"_parent\"><img src=\"https://colab.research.google.com/assets/colab-badge.svg\" alt=\"Open In Colab\"/></a>"
      ]
    },
    {
      "cell_type": "markdown",
      "source": [
        "CLASS"
      ],
      "metadata": {
        "id": "JmNlQbaDJUtv"
      }
    },
    {
      "cell_type": "markdown",
      "source": [
        "클래스 없이 통장 잔고에 금액을 입금하여 새로 입금된 금액으로 업데이트하는 코딩"
      ],
      "metadata": {
        "id": "nyHb6afuJddK"
      }
    },
    {
      "cell_type": "code",
      "execution_count": null,
      "metadata": {
        "colab": {
          "base_uri": "https://localhost:8080/"
        },
        "id": "PJLW6FNMsIiN",
        "outputId": "cb653cf9-0a9c-4dec-925c-0314ab32b81f"
      },
      "outputs": [
        {
          "output_type": "stream",
          "name": "stdout",
          "text": [
            "1000\n",
            "1500\n",
            "100\n",
            "50\n"
          ]
        }
      ],
      "source": [
        "balance_1 = 0 # 처음 잔액 고객1의 잔액\n",
        "balance_2 = 0 # 처음 잔액 고객2의 잔액\n",
        "\n",
        "def deposit_1(x):\n",
        "  global balance_1 #잔액_1 전역변수\n",
        "  balance_1 += x # 계좌에 금액을 입금\n",
        "  return balance_1 #계좌 잔액 update\n",
        "\n",
        "\n",
        "def deposit_2(x):\n",
        "  global balance_2\n",
        "  balance_2 += x\n",
        "  return balance_2\n",
        "\n",
        "# 1번 계좌\n",
        "print(deposit_1(1000)) #1000원 입금\n",
        "print(deposit_1(500)) #500원 추가 입금\n",
        "\n",
        "# 2번 계좌\n",
        "print(deposit_2(100)) #100원 입금\n",
        "print(deposit_2(-50)) #50원 출금"
      ]
    },
    {
      "cell_type": "code",
      "source": [
        "def deposit_1(x):\n",
        "  global balance_1 #잔액_1 전역변수\n",
        "  if x > 0:        # 고객의 입금 금액에 무조건 10%를 더 입급해주는 이벤트\n",
        "    balance_1 += x * 1.1\n",
        "  else:\n",
        "    balance_1 += x # 계좌에 금액을 입금\n",
        "  return balance_1 #계좌 잔액 update"
      ],
      "metadata": {
        "id": "zl1ke1nDKuC9"
      },
      "execution_count": null,
      "outputs": []
    },
    {
      "cell_type": "code",
      "source": [
        "balance_1"
      ],
      "metadata": {
        "colab": {
          "base_uri": "https://localhost:8080/"
        },
        "id": "TrcIwhN0LPSh",
        "outputId": "116adf3a-d742-41c6-a738-e10c1ad2d89e"
      },
      "execution_count": null,
      "outputs": [
        {
          "output_type": "execute_result",
          "data": {
            "text/plain": [
              "1500"
            ]
          },
          "metadata": {},
          "execution_count": 4
        }
      ]
    },
    {
      "cell_type": "code",
      "source": [
        "deposit_1(1000)"
      ],
      "metadata": {
        "colab": {
          "base_uri": "https://localhost:8080/"
        },
        "id": "NcJC1JGwLXPQ",
        "outputId": "11beb344-f3ea-467e-e8d9-1c176dbb7dce"
      },
      "execution_count": null,
      "outputs": [
        {
          "output_type": "execute_result",
          "data": {
            "text/plain": [
              "2600.0"
            ]
          },
          "metadata": {},
          "execution_count": 11
        }
      ]
    },
    {
      "cell_type": "markdown",
      "source": [
        "위의 코딩을 클래스를 사용하여 변환한 코딩"
      ],
      "metadata": {
        "id": "lgfcG5E9JtFB"
      }
    },
    {
      "cell_type": "code",
      "source": [
        "class Bank: # 은행 클래스\n",
        "  def __init__(self): # 클래스에서\n",
        "    self.balance = 0  # 사용할 변수\n",
        "\n",
        "  def deposit(self, money):\n",
        "    if money > 0:\n",
        "      self.balance += money * 1.1\n",
        "    else:\n",
        "      self.balance += money # 계좌에 금액 입금\n",
        "    return self.balance # 계좌 금액 update\n",
        "\n",
        "bank_1 = Bank() # 1번 계좌 객체 생성\n",
        "print(bank_1.deposit(1000)) # 1000원 입금\n",
        "print(bank_1.deposit(500)) # 500원 추가 입금\n",
        "\n",
        "bank_2 = Bank() # 2번 계좌 객체 생성\n",
        "print(bank_2.deposit(100)) # 100원 입금\n",
        "print(bank_2.deposit(-50)) # 50원 출금"
      ],
      "metadata": {
        "colab": {
          "base_uri": "https://localhost:8080/"
        },
        "id": "4KCtBNNoJz-0",
        "outputId": "99953282-55ec-4781-e69d-877da1ac528e"
      },
      "execution_count": null,
      "outputs": [
        {
          "output_type": "stream",
          "name": "stdout",
          "text": [
            "1100.0\n",
            "1650.0\n",
            "110.00000000000001\n",
            "60.000000000000014\n"
          ]
        }
      ]
    },
    {
      "cell_type": "code",
      "source": [
        "deposit_3 = Bank()"
      ],
      "metadata": {
        "id": "ZW54HwrVMaaa"
      },
      "execution_count": null,
      "outputs": []
    },
    {
      "cell_type": "code",
      "source": [
        "deposit_3.balance"
      ],
      "metadata": {
        "colab": {
          "base_uri": "https://localhost:8080/"
        },
        "id": "CbKfBMKvMnr_",
        "outputId": "2d90c1af-0421-4ff7-f984-29a5a12b3365"
      },
      "execution_count": null,
      "outputs": [
        {
          "output_type": "execute_result",
          "data": {
            "text/plain": [
              "0"
            ]
          },
          "metadata": {},
          "execution_count": 14
        }
      ]
    },
    {
      "cell_type": "code",
      "source": [
        "deposit_3.deposit(20000)"
      ],
      "metadata": {
        "colab": {
          "base_uri": "https://localhost:8080/"
        },
        "id": "I6KvM-XmMqOP",
        "outputId": "67160b27-6af3-4aab-a07a-a2b9b1a7f56e"
      },
      "execution_count": null,
      "outputs": [
        {
          "output_type": "execute_result",
          "data": {
            "text/plain": [
              "20000"
            ]
          },
          "metadata": {},
          "execution_count": 15
        }
      ]
    },
    {
      "cell_type": "code",
      "source": [
        "deposit_3.balance"
      ],
      "metadata": {
        "colab": {
          "base_uri": "https://localhost:8080/"
        },
        "id": "PTcJYJN5MyY2",
        "outputId": "ba22bfaf-d9d1-4da7-aba6-7cbf4887424d"
      },
      "execution_count": null,
      "outputs": [
        {
          "output_type": "execute_result",
          "data": {
            "text/plain": [
              "20000"
            ]
          },
          "metadata": {},
          "execution_count": 16
        }
      ]
    },
    {
      "cell_type": "code",
      "source": [
        "deposit_3.deposit(-1000)"
      ],
      "metadata": {
        "colab": {
          "base_uri": "https://localhost:8080/"
        },
        "id": "_nIGtwaLM0yv",
        "outputId": "e499446c-37ae-431c-f44e-1a245e48db51"
      },
      "execution_count": null,
      "outputs": [
        {
          "output_type": "execute_result",
          "data": {
            "text/plain": [
              "19000"
            ]
          },
          "metadata": {},
          "execution_count": 17
        }
      ]
    },
    {
      "cell_type": "code",
      "source": [
        "deposit_3.balance"
      ],
      "metadata": {
        "colab": {
          "base_uri": "https://localhost:8080/"
        },
        "id": "Um1IcgeTM6OO",
        "outputId": "0371f79f-8256-4151-e644-32eb9d2c8d10"
      },
      "execution_count": null,
      "outputs": [
        {
          "output_type": "execute_result",
          "data": {
            "text/plain": [
              "19000"
            ]
          },
          "metadata": {},
          "execution_count": 18
        }
      ]
    },
    {
      "cell_type": "code",
      "source": [
        "deposit_4 = Bank()"
      ],
      "metadata": {
        "id": "GaPdd5ssM9rm"
      },
      "execution_count": null,
      "outputs": []
    },
    {
      "cell_type": "code",
      "source": [
        "deposit_4.balance"
      ],
      "metadata": {
        "colab": {
          "base_uri": "https://localhost:8080/"
        },
        "id": "gDFzNKZDNBrJ",
        "outputId": "8478c0df-7d29-4f12-adb9-9aa313a56dd2"
      },
      "execution_count": null,
      "outputs": [
        {
          "output_type": "execute_result",
          "data": {
            "text/plain": [
              "0"
            ]
          },
          "metadata": {},
          "execution_count": 20
        }
      ]
    },
    {
      "cell_type": "code",
      "source": [
        "deposit_3.balance"
      ],
      "metadata": {
        "colab": {
          "base_uri": "https://localhost:8080/"
        },
        "id": "tXSCOOINNFmf",
        "outputId": "97573817-b351-4b3b-911e-05de362cecca"
      },
      "execution_count": null,
      "outputs": [
        {
          "output_type": "execute_result",
          "data": {
            "text/plain": [
              "19000"
            ]
          },
          "metadata": {},
          "execution_count": 21
        }
      ]
    },
    {
      "cell_type": "code",
      "source": [
        "deposit_4.deposit(5000)"
      ],
      "metadata": {
        "colab": {
          "base_uri": "https://localhost:8080/"
        },
        "id": "IJiruvfXNIAv",
        "outputId": "2621b46b-7feb-426e-f24d-3f8b37384b50"
      },
      "execution_count": null,
      "outputs": [
        {
          "output_type": "execute_result",
          "data": {
            "text/plain": [
              "5000"
            ]
          },
          "metadata": {},
          "execution_count": 22
        }
      ]
    },
    {
      "cell_type": "code",
      "source": [
        "deposit_4.balance"
      ],
      "metadata": {
        "colab": {
          "base_uri": "https://localhost:8080/"
        },
        "id": "Aft7425ENNi-",
        "outputId": "545cd075-e1c5-47d9-906f-8627c8527b0f"
      },
      "execution_count": null,
      "outputs": [
        {
          "output_type": "execute_result",
          "data": {
            "text/plain": [
              "5000"
            ]
          },
          "metadata": {},
          "execution_count": 23
        }
      ]
    },
    {
      "cell_type": "code",
      "source": [
        "deposit_3.balance"
      ],
      "metadata": {
        "colab": {
          "base_uri": "https://localhost:8080/"
        },
        "id": "Ac3grlmvNQkO",
        "outputId": "652a52bd-d683-4984-f0e4-72783b2ebaaa"
      },
      "execution_count": null,
      "outputs": [
        {
          "output_type": "execute_result",
          "data": {
            "text/plain": [
              "19000"
            ]
          },
          "metadata": {},
          "execution_count": 25
        }
      ]
    },
    {
      "cell_type": "code",
      "source": [
        "deposit_4.balance"
      ],
      "metadata": {
        "colab": {
          "base_uri": "https://localhost:8080/"
        },
        "id": "B34Dt9PUNnkP",
        "outputId": "4b141f91-39f8-4b81-fdce-b69e6cdeb909"
      },
      "execution_count": null,
      "outputs": [
        {
          "output_type": "execute_result",
          "data": {
            "text/plain": [
              "5000"
            ]
          },
          "metadata": {},
          "execution_count": 26
        }
      ]
    },
    {
      "cell_type": "code",
      "source": [
        "deposit_3.deposit(1000)"
      ],
      "metadata": {
        "colab": {
          "base_uri": "https://localhost:8080/"
        },
        "id": "trzRI8bxNp8e",
        "outputId": "5b2a42bf-f9ad-4102-c5ea-d49e61a333ed"
      },
      "execution_count": null,
      "outputs": [
        {
          "output_type": "execute_result",
          "data": {
            "text/plain": [
              "20000"
            ]
          },
          "metadata": {},
          "execution_count": 27
        }
      ]
    },
    {
      "cell_type": "code",
      "source": [
        "deposit_3.balance"
      ],
      "metadata": {
        "colab": {
          "base_uri": "https://localhost:8080/"
        },
        "id": "aEUeJOrTNt0P",
        "outputId": "1f1d7635-1ca2-42bc-f76f-d6f8ef5fc463"
      },
      "execution_count": null,
      "outputs": [
        {
          "output_type": "execute_result",
          "data": {
            "text/plain": [
              "20000"
            ]
          },
          "metadata": {},
          "execution_count": 28
        }
      ]
    },
    {
      "cell_type": "code",
      "source": [
        "deposit_5 = Bank()"
      ],
      "metadata": {
        "id": "lxgo7tuVNw4X"
      },
      "execution_count": null,
      "outputs": []
    },
    {
      "cell_type": "code",
      "source": [
        "deposit_5.deposit(1000)"
      ],
      "metadata": {
        "colab": {
          "base_uri": "https://localhost:8080/"
        },
        "id": "FJ_yd0QzOr9F",
        "outputId": "510e07e7-f1f2-4c19-9354-b72464585585"
      },
      "execution_count": null,
      "outputs": [
        {
          "output_type": "execute_result",
          "data": {
            "text/plain": [
              "1100.0"
            ]
          },
          "metadata": {},
          "execution_count": 30
        }
      ]
    },
    {
      "cell_type": "markdown",
      "source": [
        "클래스 사용법"
      ],
      "metadata": {
        "id": "UaDajiS9VHAa"
      }
    },
    {
      "cell_type": "code",
      "source": [
        "class GreenCom:\n",
        "  pass"
      ],
      "metadata": {
        "id": "FXZS9MszOwl8"
      },
      "execution_count": null,
      "outputs": []
    },
    {
      "cell_type": "code",
      "source": [
        "class Drink:\n",
        "  def __init__(self, name, price):\n",
        "    self.name = name\n",
        "    self.price = price\n",
        "  def order(self, quantity):\n",
        "    self.price = self.price * quantity\n",
        "    self.result = f'{self.name}은 {self.price}원입니다.'\n",
        "    return print(self.result)"
      ],
      "metadata": {
        "id": "Rcf9wYziVLzT"
      },
      "execution_count": null,
      "outputs": []
    },
    {
      "cell_type": "code",
      "source": [
        "cust1 = Drink('처음처럼', 5000)"
      ],
      "metadata": {
        "id": "hYfmGuHKXK2o"
      },
      "execution_count": null,
      "outputs": []
    },
    {
      "cell_type": "code",
      "source": [
        "cust1.name"
      ],
      "metadata": {
        "colab": {
          "base_uri": "https://localhost:8080/",
          "height": 35
        },
        "id": "b7EVnHrZXYHK",
        "outputId": "83c6e182-4348-4dd7-9878-ad776a397502"
      },
      "execution_count": null,
      "outputs": [
        {
          "output_type": "execute_result",
          "data": {
            "text/plain": [
              "'처음처럼'"
            ],
            "application/vnd.google.colaboratory.intrinsic+json": {
              "type": "string"
            }
          },
          "metadata": {},
          "execution_count": 43
        }
      ]
    },
    {
      "cell_type": "code",
      "source": [
        "cust1.price"
      ],
      "metadata": {
        "colab": {
          "base_uri": "https://localhost:8080/"
        },
        "id": "8UcNGHNIXcdC",
        "outputId": "927ff018-0845-4ef4-c26e-a2e3d49e8098"
      },
      "execution_count": null,
      "outputs": [
        {
          "output_type": "execute_result",
          "data": {
            "text/plain": [
              "5000"
            ]
          },
          "metadata": {},
          "execution_count": 44
        }
      ]
    },
    {
      "cell_type": "code",
      "source": [
        "cust1.order(2)"
      ],
      "metadata": {
        "colab": {
          "base_uri": "https://localhost:8080/"
        },
        "id": "Aw7WOw0bXhAi",
        "outputId": "a8adb91c-1d80-4290-9302-b09f89d03358"
      },
      "execution_count": null,
      "outputs": [
        {
          "output_type": "stream",
          "name": "stdout",
          "text": [
            "처음처럼은 10000원입니다.\n"
          ]
        }
      ]
    },
    {
      "cell_type": "code",
      "source": [
        "cust2 = Drink('찡따오', 6000)"
      ],
      "metadata": {
        "id": "cjkKsJLAXlmv"
      },
      "execution_count": null,
      "outputs": []
    },
    {
      "cell_type": "code",
      "source": [
        "cust2.name"
      ],
      "metadata": {
        "colab": {
          "base_uri": "https://localhost:8080/",
          "height": 35
        },
        "id": "QUfZs9m8X6en",
        "outputId": "7bccb9d7-581c-4499-b806-8c40df5ffcab"
      },
      "execution_count": null,
      "outputs": [
        {
          "output_type": "execute_result",
          "data": {
            "text/plain": [
              "'찡따오'"
            ],
            "application/vnd.google.colaboratory.intrinsic+json": {
              "type": "string"
            }
          },
          "metadata": {},
          "execution_count": 47
        }
      ]
    },
    {
      "cell_type": "code",
      "source": [
        "cust2.price"
      ],
      "metadata": {
        "colab": {
          "base_uri": "https://localhost:8080/"
        },
        "id": "P7zGQpgbX9Vn",
        "outputId": "8534c2ec-acab-4961-84cf-b325f78005e1"
      },
      "execution_count": null,
      "outputs": [
        {
          "output_type": "execute_result",
          "data": {
            "text/plain": [
              "6000"
            ]
          },
          "metadata": {},
          "execution_count": 48
        }
      ]
    },
    {
      "cell_type": "code",
      "source": [
        "cust2.order(4)"
      ],
      "metadata": {
        "colab": {
          "base_uri": "https://localhost:8080/"
        },
        "id": "X99LFJ1bX_Tw",
        "outputId": "0602e0cd-4b7b-421f-e911-238b4e5c97fe"
      },
      "execution_count": null,
      "outputs": [
        {
          "output_type": "stream",
          "name": "stdout",
          "text": [
            "찡따오은 24000원입니다.\n"
          ]
        }
      ]
    },
    {
      "cell_type": "code",
      "source": [
        "class CheckSelf:\n",
        "  def __init__(self):\n",
        "    print('self:',id(self))\n",
        "\n",
        "inst = CheckSelf()\n",
        "print('instance:',id(inst))"
      ],
      "metadata": {
        "colab": {
          "base_uri": "https://localhost:8080/"
        },
        "id": "XNRCSasBYB5Q",
        "outputId": "d8029571-6cfc-4f84-aeeb-f0844d22449e"
      },
      "execution_count": null,
      "outputs": [
        {
          "output_type": "stream",
          "name": "stdout",
          "text": [
            "self: 139483413935200\n",
            "instance: 139483413935200\n"
          ]
        }
      ]
    },
    {
      "cell_type": "code",
      "source": [
        "inst2 = CheckSelf()\n",
        "print('instance:',id(inst2))"
      ],
      "metadata": {
        "colab": {
          "base_uri": "https://localhost:8080/"
        },
        "id": "rEjtrCcBa3wo",
        "outputId": "6817f3f1-3085-4422-e956-5c37551808ba"
      },
      "execution_count": null,
      "outputs": [
        {
          "output_type": "stream",
          "name": "stdout",
          "text": [
            "self: 139483413936160\n",
            "instance: 139483413936160\n"
          ]
        }
      ]
    },
    {
      "cell_type": "markdown",
      "source": [
        "클래스로 계산기 만들기\n",
        "* 역할 : 계산하는 기계\n",
        "* 속성 : 숫자, (연산기호), (문자(지수표현:e))\n",
        "* 메서드 : 더하기, 빼기, 곱하기, 나누기"
      ],
      "metadata": {
        "id": "2efJrQ5db69_"
      }
    },
    {
      "cell_type": "code",
      "source": [
        "class Calculator:\n",
        "  def __init__(self, num, num2):\n",
        "    self.num = num\n",
        "    self.num2 = num2\n",
        "\n",
        "  def plus(self):\n",
        "    return self.num + self.num2\n",
        "\n",
        "  def minus(self):\n",
        "    return self.num - self.num2\n",
        "\n",
        "  def product(self):\n",
        "    return self.num * self.num2\n",
        "\n",
        "  def division(self):\n",
        "    return self.num / self.num2"
      ],
      "metadata": {
        "id": "DPfVFsEfbGHu"
      },
      "execution_count": null,
      "outputs": []
    },
    {
      "cell_type": "code",
      "source": [
        "cal1 = Calculator(3,4)"
      ],
      "metadata": {
        "id": "h2N6SGYledpP"
      },
      "execution_count": null,
      "outputs": []
    },
    {
      "cell_type": "code",
      "source": [
        "cal1.plus()"
      ],
      "metadata": {
        "colab": {
          "base_uri": "https://localhost:8080/"
        },
        "id": "lLnLLrzreveT",
        "outputId": "f8f789c9-8f17-4c44-a77b-3a70398d4807"
      },
      "execution_count": null,
      "outputs": [
        {
          "output_type": "stream",
          "name": "stdout",
          "text": [
            "7\n"
          ]
        }
      ]
    },
    {
      "cell_type": "code",
      "source": [
        "cal1.minus()"
      ],
      "metadata": {
        "colab": {
          "base_uri": "https://localhost:8080/"
        },
        "id": "gVhPRaH9e1wb",
        "outputId": "582722ab-1358-4615-c894-1a33220be53e"
      },
      "execution_count": null,
      "outputs": [
        {
          "output_type": "stream",
          "name": "stdout",
          "text": [
            "-1\n"
          ]
        }
      ]
    },
    {
      "cell_type": "code",
      "source": [
        "cal1.product()"
      ],
      "metadata": {
        "colab": {
          "base_uri": "https://localhost:8080/"
        },
        "id": "GUsJG0DVfF10",
        "outputId": "bbde90e3-9357-417d-c790-faeba8f31d62"
      },
      "execution_count": null,
      "outputs": [
        {
          "output_type": "stream",
          "name": "stdout",
          "text": [
            "12\n"
          ]
        }
      ]
    },
    {
      "cell_type": "code",
      "source": [
        "cal1.division()"
      ],
      "metadata": {
        "colab": {
          "base_uri": "https://localhost:8080/"
        },
        "id": "3kEh0EflfIsk",
        "outputId": "814a4d3f-b585-41ea-a5d1-c4c2b028836e"
      },
      "execution_count": null,
      "outputs": [
        {
          "output_type": "stream",
          "name": "stdout",
          "text": [
            "0.75\n"
          ]
        }
      ]
    },
    {
      "cell_type": "code",
      "source": [
        "class Cal:\n",
        "  def plus(self, num, num2):\n",
        "    self.num = num\n",
        "    self.num2 = num2\n",
        "    return print(self.num + self.num2)\n",
        "\n",
        "  def minus(self, num, num2):\n",
        "    self.num = num\n",
        "    self.num2 = num2\n",
        "    return print(self.num - self.num2)\n",
        "\n",
        "  def multi(self, num, num2):\n",
        "    self.num = num\n",
        "    self.num2 = num2\n",
        "    return print(self.num * self.num2)\n",
        "\n",
        "  def divi(self, num, num2):\n",
        "    self.num = num\n",
        "    self.num2 = num2\n",
        "    return print(self.num / self.num2)"
      ],
      "metadata": {
        "id": "38l6BknffKOE"
      },
      "execution_count": null,
      "outputs": []
    },
    {
      "cell_type": "code",
      "source": [
        "cal1 = Cal()"
      ],
      "metadata": {
        "id": "ag8fdgoUg5GS"
      },
      "execution_count": null,
      "outputs": []
    },
    {
      "cell_type": "code",
      "source": [
        "cal1.plus(4,5)"
      ],
      "metadata": {
        "colab": {
          "base_uri": "https://localhost:8080/"
        },
        "id": "89O3lwqhhHTO",
        "outputId": "e30bd156-78fa-4952-d375-4210558b51c7"
      },
      "execution_count": null,
      "outputs": [
        {
          "output_type": "stream",
          "name": "stdout",
          "text": [
            "9\n"
          ]
        }
      ]
    },
    {
      "cell_type": "code",
      "source": [
        "cal1.multi(7,8)"
      ],
      "metadata": {
        "colab": {
          "base_uri": "https://localhost:8080/"
        },
        "id": "SgOnS5DQhSux",
        "outputId": "e99b39ed-659d-4f77-c137-0ba1c3e5cecf"
      },
      "execution_count": null,
      "outputs": [
        {
          "output_type": "stream",
          "name": "stdout",
          "text": [
            "56\n"
          ]
        }
      ]
    },
    {
      "cell_type": "code",
      "source": [
        "cal1.minus(9,4)"
      ],
      "metadata": {
        "colab": {
          "base_uri": "https://localhost:8080/"
        },
        "id": "rWUD-F9HhpPj",
        "outputId": "0b6a8386-7b50-484d-cbc2-f0c34d12c96b"
      },
      "execution_count": null,
      "outputs": [
        {
          "output_type": "stream",
          "name": "stdout",
          "text": [
            "5\n"
          ]
        }
      ]
    },
    {
      "cell_type": "code",
      "source": [
        "cal1.divi(9,3)"
      ],
      "metadata": {
        "colab": {
          "base_uri": "https://localhost:8080/"
        },
        "id": "oaRUK6RLiepj",
        "outputId": "e84bd72f-48d9-40f7-b079-dd9911524e43"
      },
      "execution_count": null,
      "outputs": [
        {
          "output_type": "stream",
          "name": "stdout",
          "text": [
            "3.0\n"
          ]
        }
      ]
    },
    {
      "cell_type": "code",
      "source": [
        "class Bank: # 은행 클래스\n",
        "  def __init__(self): # 클래스에서\n",
        "    self.balance = 0  # 사용할 변수\n",
        "\n",
        "  def deposit(self, money):\n",
        "    self.balance += money # 계좌에 금액 입금\n",
        "    return self.balance # 계좌 금액 update"
      ],
      "metadata": {
        "id": "l_BOTN0SihHA"
      },
      "execution_count": null,
      "outputs": []
    },
    {
      "cell_type": "code",
      "source": [
        "cust1 = Bank()"
      ],
      "metadata": {
        "id": "Dqqan1XBykQC"
      },
      "execution_count": null,
      "outputs": []
    },
    {
      "cell_type": "code",
      "source": [
        "cust1.deposit(1000)"
      ],
      "metadata": {
        "colab": {
          "base_uri": "https://localhost:8080/"
        },
        "id": "HFxvgazBynSM",
        "outputId": "8bc30877-5283-4c7a-941c-8d3c5c5fe2c3"
      },
      "execution_count": null,
      "outputs": [
        {
          "output_type": "execute_result",
          "data": {
            "text/plain": [
              "1000"
            ]
          },
          "metadata": {},
          "execution_count": 88
        }
      ]
    },
    {
      "cell_type": "code",
      "source": [
        "def deposit(self, money):\n",
        "  if money > 0:\n",
        "    self.balance += money * 1.1\n",
        "  else:\n",
        "    self.balance += money\n",
        "  return self.balance"
      ],
      "metadata": {
        "id": "DOiP27sTyWXN"
      },
      "execution_count": null,
      "outputs": []
    },
    {
      "cell_type": "code",
      "source": [
        "cust1.deposit(10000)"
      ],
      "metadata": {
        "colab": {
          "base_uri": "https://localhost:8080/"
        },
        "id": "We5GfJnyysoh",
        "outputId": "f25f4947-c9ce-4712-b0df-5d60d18d09b7"
      },
      "execution_count": null,
      "outputs": [
        {
          "output_type": "execute_result",
          "data": {
            "text/plain": [
              "10000"
            ]
          },
          "metadata": {},
          "execution_count": 94
        }
      ]
    },
    {
      "cell_type": "code",
      "source": [
        "cust1.balance"
      ],
      "metadata": {
        "colab": {
          "base_uri": "https://localhost:8080/"
        },
        "id": "HfPICSskyv0A",
        "outputId": "5e850da3-17e5-40f3-91f6-20e684fbb5a2"
      },
      "execution_count": null,
      "outputs": [
        {
          "output_type": "execute_result",
          "data": {
            "text/plain": [
              "10000"
            ]
          },
          "metadata": {},
          "execution_count": 95
        }
      ]
    },
    {
      "cell_type": "markdown",
      "source": [
        "새로운 Calculator2는 기존 Calculator의 기능을 모두 사용하고 새로운 속성과 메서드를 사용할 수 있다.\n",
        "* 속성 : 이전 값으로 저장될 변수\n",
        "* 메서드 : 제곱, 나머지, 이전 값 불러오기"
      ],
      "metadata": {
        "id": "sCcONI-R0WhJ"
      }
    },
    {
      "cell_type": "code",
      "source": [
        "class Calculator2(Calculator):\n",
        "  # new_num = []\n",
        "\n",
        "  def square(self):\n",
        "    result = self.num ** self.num2\n",
        "    # new_num.append(result)\n",
        "    return result\n",
        "\n",
        "  def mod(self):\n",
        "    result = self.num % self.num2\n",
        "    # new_num.append(result)\n",
        "    return result\n",
        "\n",
        "  def goback(self):\n",
        "    return"
      ],
      "metadata": {
        "id": "LQ9ixff0yyJ3"
      },
      "execution_count": null,
      "outputs": []
    },
    {
      "cell_type": "code",
      "source": [
        "cal2 = Calculator2(10, 5)"
      ],
      "metadata": {
        "id": "dO5gRWaX2l7V"
      },
      "execution_count": null,
      "outputs": []
    },
    {
      "cell_type": "code",
      "source": [
        "cal2.plus()"
      ],
      "metadata": {
        "colab": {
          "base_uri": "https://localhost:8080/"
        },
        "id": "QIU4IQRE2o0j",
        "outputId": "04efec51-bf3f-4db2-c5a5-9d073442dcde"
      },
      "execution_count": null,
      "outputs": [
        {
          "output_type": "stream",
          "name": "stdout",
          "text": [
            "15\n"
          ]
        }
      ]
    },
    {
      "cell_type": "code",
      "source": [
        "cal2.square()"
      ],
      "metadata": {
        "colab": {
          "base_uri": "https://localhost:8080/"
        },
        "id": "IUdYUgLe2-7O",
        "outputId": "01fa2c8c-0b89-49df-be0b-1d87f5607c93"
      },
      "execution_count": null,
      "outputs": [
        {
          "output_type": "execute_result",
          "data": {
            "text/plain": [
              "100000"
            ]
          },
          "metadata": {},
          "execution_count": 132
        }
      ]
    },
    {
      "cell_type": "code",
      "source": [
        "cal2.mod()"
      ],
      "metadata": {
        "colab": {
          "base_uri": "https://localhost:8080/"
        },
        "id": "GnzIKn8H3HR2",
        "outputId": "d80b871c-7598-4fff-c207-87b3c2259ac9"
      },
      "execution_count": null,
      "outputs": [
        {
          "output_type": "execute_result",
          "data": {
            "text/plain": [
              "0"
            ]
          },
          "metadata": {},
          "execution_count": 133
        }
      ]
    },
    {
      "cell_type": "code",
      "source": [
        "class Calculator3(Calculator):\n",
        "\tdef plus(self):\n",
        "\t\treturn self.num + self.num2 + 1\n",
        "\tdef minus(self):\n",
        "\t\tper = super().minus()\n",
        "\t\treturn (per/self.num) * 100\n",
        "\n",
        "cal_3 = Calculator3(5,2)\n",
        "print(cal_3.plus())\n",
        "print(cal_3.minus())"
      ],
      "metadata": {
        "colab": {
          "base_uri": "https://localhost:8080/"
        },
        "id": "1cUueZmW3MFX",
        "outputId": "5e95df02-73f6-42f5-c2dc-87cc7500e5ba"
      },
      "execution_count": null,
      "outputs": [
        {
          "output_type": "stream",
          "name": "stdout",
          "text": [
            "8\n",
            "60.0\n"
          ]
        }
      ]
    },
    {
      "cell_type": "code",
      "source": [
        "class Dog:\n",
        "  tricks = []   # 클래스 속성\n",
        "\n",
        "  def __init__(self, name):\n",
        "    self.name = name\n",
        "\n",
        "  def skill(self, trick):\n",
        "    self.tricks.append(trick)\n",
        "    return self.tricks"
      ],
      "metadata": {
        "id": "MXCBdtsh3Wtm"
      },
      "execution_count": null,
      "outputs": []
    },
    {
      "cell_type": "code",
      "source": [
        "dog1 = Dog('흰둥이')"
      ],
      "metadata": {
        "id": "jA8xlblxBlZK"
      },
      "execution_count": null,
      "outputs": []
    },
    {
      "cell_type": "code",
      "source": [
        "dog1.name"
      ],
      "metadata": {
        "colab": {
          "base_uri": "https://localhost:8080/",
          "height": 35
        },
        "id": "cZsub2DhBvut",
        "outputId": "6b56df49-5ae8-4d92-8d1f-add839c0d685"
      },
      "execution_count": null,
      "outputs": [
        {
          "output_type": "execute_result",
          "data": {
            "text/plain": [
              "'흰둥이'"
            ],
            "application/vnd.google.colaboratory.intrinsic+json": {
              "type": "string"
            }
          },
          "metadata": {},
          "execution_count": 149
        }
      ]
    },
    {
      "cell_type": "code",
      "source": [
        "dog1.skill('구르기')"
      ],
      "metadata": {
        "colab": {
          "base_uri": "https://localhost:8080/"
        },
        "id": "FaPKjSiTBz1F",
        "outputId": "b468f90a-ddd8-46ae-ef61-ebb26ff5fa33"
      },
      "execution_count": null,
      "outputs": [
        {
          "output_type": "execute_result",
          "data": {
            "text/plain": [
              "['구르기']"
            ]
          },
          "metadata": {},
          "execution_count": 150
        }
      ]
    },
    {
      "cell_type": "code",
      "source": [
        "dog1.skill('엎드려')"
      ],
      "metadata": {
        "colab": {
          "base_uri": "https://localhost:8080/"
        },
        "id": "jpXOMRejB67V",
        "outputId": "0373966f-efa4-4405-f94c-9592025973d7"
      },
      "execution_count": null,
      "outputs": [
        {
          "output_type": "execute_result",
          "data": {
            "text/plain": [
              "['구르기', '엎드려']"
            ]
          },
          "metadata": {},
          "execution_count": 151
        }
      ]
    },
    {
      "cell_type": "code",
      "source": [
        "dog1.tricks"
      ],
      "metadata": {
        "colab": {
          "base_uri": "https://localhost:8080/"
        },
        "id": "1JsAszgACIh2",
        "outputId": "595cc634-e49e-4801-8fd3-cf61d5224182"
      },
      "execution_count": null,
      "outputs": [
        {
          "output_type": "execute_result",
          "data": {
            "text/plain": [
              "['구르기', '엎드려']"
            ]
          },
          "metadata": {},
          "execution_count": 152
        }
      ]
    },
    {
      "cell_type": "code",
      "source": [
        "dog2 = Dog('검둥이')"
      ],
      "metadata": {
        "id": "05XSsvHoCNOU"
      },
      "execution_count": null,
      "outputs": []
    },
    {
      "cell_type": "code",
      "source": [
        "dog2.name"
      ],
      "metadata": {
        "colab": {
          "base_uri": "https://localhost:8080/",
          "height": 35
        },
        "id": "Fi9ayEy0CUxM",
        "outputId": "10ad25c2-eb0e-421d-c62a-b7dfcab04579"
      },
      "execution_count": null,
      "outputs": [
        {
          "output_type": "execute_result",
          "data": {
            "text/plain": [
              "'검둥이'"
            ],
            "application/vnd.google.colaboratory.intrinsic+json": {
              "type": "string"
            }
          },
          "metadata": {},
          "execution_count": 154
        }
      ]
    },
    {
      "cell_type": "code",
      "source": [
        "dog2.skill('점프')"
      ],
      "metadata": {
        "colab": {
          "base_uri": "https://localhost:8080/"
        },
        "id": "7cos1vx_CXGO",
        "outputId": "9364e20c-ca97-4e91-d141-007e2355e471"
      },
      "execution_count": null,
      "outputs": [
        {
          "output_type": "execute_result",
          "data": {
            "text/plain": [
              "['구르기', '엎드려', '점프']"
            ]
          },
          "metadata": {},
          "execution_count": 155
        }
      ]
    },
    {
      "cell_type": "code",
      "source": [
        "dog1.tricks"
      ],
      "metadata": {
        "colab": {
          "base_uri": "https://localhost:8080/"
        },
        "id": "-MOFCOYZCdx-",
        "outputId": "52195315-0006-42e4-8f44-ce710e4ca519"
      },
      "execution_count": null,
      "outputs": [
        {
          "output_type": "execute_result",
          "data": {
            "text/plain": [
              "['구르기', '엎드려', '점프']"
            ]
          },
          "metadata": {},
          "execution_count": 156
        }
      ]
    },
    {
      "cell_type": "code",
      "source": [
        "class Dog:\n",
        "  def __init__(self, name):\n",
        "    self.tricks = []   # 인스턴스 속성\n",
        "    self.name = name\n",
        "\n",
        "  def skill(self, trick):\n",
        "    self.tricks.append(trick)\n",
        "    return self.tricks"
      ],
      "metadata": {
        "id": "AqIBas1qCnt3"
      },
      "execution_count": null,
      "outputs": []
    },
    {
      "cell_type": "code",
      "source": [
        "dog1 = Dog('흰둥이')"
      ],
      "metadata": {
        "id": "0kbRtmIYDT5c"
      },
      "execution_count": null,
      "outputs": []
    },
    {
      "cell_type": "code",
      "source": [
        "dog1.skill('구르기')"
      ],
      "metadata": {
        "colab": {
          "base_uri": "https://localhost:8080/"
        },
        "id": "hCyl_tysDWjN",
        "outputId": "36ec7320-aeef-4df3-a379-28c9d08274c8"
      },
      "execution_count": null,
      "outputs": [
        {
          "output_type": "execute_result",
          "data": {
            "text/plain": [
              "['구르기']"
            ]
          },
          "metadata": {},
          "execution_count": 159
        }
      ]
    },
    {
      "cell_type": "code",
      "source": [
        "dog2 = Dog('검둥이')"
      ],
      "metadata": {
        "id": "-bXmRmuaDafr"
      },
      "execution_count": null,
      "outputs": []
    },
    {
      "cell_type": "code",
      "source": [
        "dog2.skill('점프')"
      ],
      "metadata": {
        "colab": {
          "base_uri": "https://localhost:8080/"
        },
        "id": "22EJs0UODdMM",
        "outputId": "a7e1d736-9e13-4dc9-8c8f-8398aaa5cd1b"
      },
      "execution_count": null,
      "outputs": [
        {
          "output_type": "execute_result",
          "data": {
            "text/plain": [
              "['점프']"
            ]
          },
          "metadata": {},
          "execution_count": 161
        }
      ]
    },
    {
      "cell_type": "code",
      "source": [
        "class Dog:\n",
        "  def __init__(self, name, age):\n",
        "    self.name = name\n",
        "    self.age = age\n",
        "\n",
        "class Cat(Dog):\n",
        "  def __init__(self, name, age,kind):\n",
        "    super().__init__(name, age)\n",
        "    self.kind = kind\n",
        "\n",
        "  def info(self):\n",
        "    print(\"우리고양이 이름은\",\n",
        "           f\"{self.name}이고,\",\n",
        "           f\"{self.age}살이고\",\n",
        "           f\"종류는 {self.kind}이다.\")\n",
        "\n",
        "c = Cat('nabi',12,'bengal')\n",
        "\n",
        "c.info()"
      ],
      "metadata": {
        "colab": {
          "base_uri": "https://localhost:8080/"
        },
        "id": "FHF5M_kEDga3",
        "outputId": "c5a77d7d-5643-4a63-b4f8-61e3ea76c782"
      },
      "execution_count": null,
      "outputs": [
        {
          "output_type": "stream",
          "name": "stdout",
          "text": [
            "우리고양이 이름은 nabi이고, 12살이고 종류는 bengal이다.\n"
          ]
        }
      ]
    },
    {
      "cell_type": "code",
      "source": [
        "class Calculator2(Calculator):\n",
        "  def __init__(self, num, num2):\n",
        "    super().__init__(num, num2)\n",
        "    self.num3 = []\n",
        "\n",
        "  def square(self):\n",
        "    s = self.num ** self.num2\n",
        "    self.num3.append(s)\n",
        "    return self.num3[-1]\n",
        "\n",
        "  def mod(self):\n",
        "    s = self.num % self.num2\n",
        "    self.num3.append(s)\n",
        "    return self.num3[-1]\n",
        "\n",
        "  def goback(self, i):\n",
        "    return self.num3[i]"
      ],
      "metadata": {
        "id": "4oMz6pStFV9E"
      },
      "execution_count": null,
      "outputs": []
    },
    {
      "cell_type": "code",
      "source": [
        "cal_a = Calculator2(3,2)"
      ],
      "metadata": {
        "id": "SJ4L0F5mHCeL"
      },
      "execution_count": null,
      "outputs": []
    },
    {
      "cell_type": "code",
      "source": [
        "cal_a.plus()"
      ],
      "metadata": {
        "colab": {
          "base_uri": "https://localhost:8080/"
        },
        "id": "1IKhwtSiHMW5",
        "outputId": "51048f18-5b49-4def-d826-f003125ce89f"
      },
      "execution_count": null,
      "outputs": [
        {
          "output_type": "execute_result",
          "data": {
            "text/plain": [
              "5"
            ]
          },
          "metadata": {},
          "execution_count": 172
        }
      ]
    },
    {
      "cell_type": "code",
      "source": [
        "cal_a.minus()"
      ],
      "metadata": {
        "colab": {
          "base_uri": "https://localhost:8080/"
        },
        "id": "vDj6GY2YHO7C",
        "outputId": "d888f1a8-2b33-401b-dee9-925943a30490"
      },
      "execution_count": null,
      "outputs": [
        {
          "output_type": "execute_result",
          "data": {
            "text/plain": [
              "1"
            ]
          },
          "metadata": {},
          "execution_count": 173
        }
      ]
    },
    {
      "cell_type": "code",
      "source": [
        "cal_a.square()"
      ],
      "metadata": {
        "colab": {
          "base_uri": "https://localhost:8080/"
        },
        "id": "bSSpobU4HRCK",
        "outputId": "73b66a8e-d68f-41d6-898d-359d42236c00"
      },
      "execution_count": null,
      "outputs": [
        {
          "output_type": "execute_result",
          "data": {
            "text/plain": [
              "9"
            ]
          },
          "metadata": {},
          "execution_count": 174
        }
      ]
    },
    {
      "cell_type": "code",
      "source": [
        "cal_a.mod()"
      ],
      "metadata": {
        "colab": {
          "base_uri": "https://localhost:8080/"
        },
        "id": "MS3oEbgFHT-a",
        "outputId": "9bad5a94-b732-4ca6-d28d-1bfc46858e8e"
      },
      "execution_count": null,
      "outputs": [
        {
          "output_type": "execute_result",
          "data": {
            "text/plain": [
              "1"
            ]
          },
          "metadata": {},
          "execution_count": 175
        }
      ]
    },
    {
      "cell_type": "code",
      "source": [
        "cal_a.goback(-1)"
      ],
      "metadata": {
        "colab": {
          "base_uri": "https://localhost:8080/"
        },
        "id": "57WS_krWHVmc",
        "outputId": "46a0a5b0-f3ac-4c46-f440-74c2b4a73c5f"
      },
      "execution_count": null,
      "outputs": [
        {
          "output_type": "execute_result",
          "data": {
            "text/plain": [
              "1"
            ]
          },
          "metadata": {},
          "execution_count": 176
        }
      ]
    },
    {
      "cell_type": "code",
      "source": [
        "cal_a.goback(-2)"
      ],
      "metadata": {
        "colab": {
          "base_uri": "https://localhost:8080/"
        },
        "id": "GSTS9OgMHdFR",
        "outputId": "8412978e-0b4c-42da-cd93-19e3f469d6e4"
      },
      "execution_count": null,
      "outputs": [
        {
          "output_type": "execute_result",
          "data": {
            "text/plain": [
              "9"
            ]
          },
          "metadata": {},
          "execution_count": 177
        }
      ]
    },
    {
      "cell_type": "markdown",
      "source": [
        "클래스 활용 연습"
      ],
      "metadata": {
        "id": "G10Lqd7kQhc3"
      }
    },
    {
      "cell_type": "markdown",
      "source": [
        "* add_ten : 하나의 숫자를 입력 받아서 10을 더해서 출력\n",
        "* even_or_odd : 하나의 숫자를 입력 받아서 짝수와 홀수를 구분해주는 함수\n",
        "* add_twenty : 하나의 숫자를 입력 받아서 더하기 20을 하고 최대 255까지만 출력\n",
        "* subtract_twenty : 하나의 숫자를 입력 받아서 빼기 20을 하고 최소 0 ~ 최대 255까지 출력\n",
        "* goback : 계산 결과를 저장해서 원하는 결과를 다시 출력해주는 함수"
      ],
      "metadata": {
        "id": "Gna97rkFQlYk"
      }
    },
    {
      "cell_type": "code",
      "source": [
        "class Numbers:\n",
        "  def __init__(self, num):\n",
        "    self.num = num\n",
        "    self.result = []\n",
        "\n",
        "  def add_ten(self):\n",
        "    self.result.append(self.num + 10)\n",
        "    return self.result[-1]\n",
        "\n",
        "  def even_or_odd(self):\n",
        "    if self.num % 2 == 0:\n",
        "        self.result.append('even')\n",
        "        return self.result[-1]\n",
        "    else:\n",
        "        self.result.append('odd')\n",
        "        return self.result[-1]\n",
        "\n",
        "  def add_twenty(self):\n",
        "    self.result.append(min(self.num + 20, 255))\n",
        "    return self.result[-1]\n",
        "\n",
        "  def subtract_twenty(self):\n",
        "    self.result.append(max(0, min(self.num - 20, 255)))\n",
        "    return self.result[-1]\n",
        "\n",
        "  def goback(self, i):\n",
        "    if 0 > i:\n",
        "      if len(self.result) > abs(i):\n",
        "        i = i\n",
        "      else:\n",
        "        i = -(len(self.result))\n",
        "    else:\n",
        "      if len(self.result) > abs(i):\n",
        "        i = i\n",
        "      else:\n",
        "        i = len(self.result) - 1\n",
        "    return self.result[i]"
      ],
      "metadata": {
        "id": "I12QgQ7vHgWp"
      },
      "execution_count": null,
      "outputs": []
    },
    {
      "cell_type": "code",
      "source": [
        "n1 = Numbers(500)"
      ],
      "metadata": {
        "id": "SGjz_4QjUmjt"
      },
      "execution_count": null,
      "outputs": []
    },
    {
      "cell_type": "code",
      "source": [
        "n1.num"
      ],
      "metadata": {
        "colab": {
          "base_uri": "https://localhost:8080/"
        },
        "id": "8TiPHjUQVoB0",
        "outputId": "db957569-601b-45ab-e330-ae77326385f4"
      },
      "execution_count": null,
      "outputs": [
        {
          "output_type": "execute_result",
          "data": {
            "text/plain": [
              "500"
            ]
          },
          "metadata": {},
          "execution_count": 236
        }
      ]
    },
    {
      "cell_type": "code",
      "source": [
        "n1.result"
      ],
      "metadata": {
        "colab": {
          "base_uri": "https://localhost:8080/"
        },
        "id": "MSkWgTc7Vvzb",
        "outputId": "e732c84d-74a8-46a6-bdc1-9797a8222a57"
      },
      "execution_count": null,
      "outputs": [
        {
          "output_type": "execute_result",
          "data": {
            "text/plain": [
              "[]"
            ]
          },
          "metadata": {},
          "execution_count": 237
        }
      ]
    },
    {
      "cell_type": "code",
      "source": [
        "n1.add_ten()"
      ],
      "metadata": {
        "colab": {
          "base_uri": "https://localhost:8080/"
        },
        "id": "ZZzcenFKVxqS",
        "outputId": "3c4e26b2-7d69-4ef7-be79-ee63541f8e2a"
      },
      "execution_count": null,
      "outputs": [
        {
          "output_type": "execute_result",
          "data": {
            "text/plain": [
              "510"
            ]
          },
          "metadata": {},
          "execution_count": 238
        }
      ]
    },
    {
      "cell_type": "code",
      "source": [
        "n1.even_or_odd()"
      ],
      "metadata": {
        "colab": {
          "base_uri": "https://localhost:8080/",
          "height": 35
        },
        "id": "jlI_JuLEV6qZ",
        "outputId": "470195ac-3ac2-445d-e033-1d364d0236b7"
      },
      "execution_count": null,
      "outputs": [
        {
          "output_type": "execute_result",
          "data": {
            "text/plain": [
              "'even'"
            ],
            "application/vnd.google.colaboratory.intrinsic+json": {
              "type": "string"
            }
          },
          "metadata": {},
          "execution_count": 239
        }
      ]
    },
    {
      "cell_type": "code",
      "source": [
        "n1.add_twenty()"
      ],
      "metadata": {
        "colab": {
          "base_uri": "https://localhost:8080/"
        },
        "id": "z4HTBrX6V-Ry",
        "outputId": "79ed74bc-68d1-4da2-d882-9fe608dce9cc"
      },
      "execution_count": null,
      "outputs": [
        {
          "output_type": "execute_result",
          "data": {
            "text/plain": [
              "255"
            ]
          },
          "metadata": {},
          "execution_count": 240
        }
      ]
    },
    {
      "cell_type": "code",
      "source": [
        "n1.subtract_twenty()"
      ],
      "metadata": {
        "colab": {
          "base_uri": "https://localhost:8080/"
        },
        "id": "pNduZm0yWB5i",
        "outputId": "e32b938c-6268-40fe-e842-92cecd436024"
      },
      "execution_count": null,
      "outputs": [
        {
          "output_type": "execute_result",
          "data": {
            "text/plain": [
              "255"
            ]
          },
          "metadata": {},
          "execution_count": 241
        }
      ]
    },
    {
      "cell_type": "code",
      "source": [
        "n1.result"
      ],
      "metadata": {
        "colab": {
          "base_uri": "https://localhost:8080/"
        },
        "id": "uToANAF3WFkv",
        "outputId": "0458673b-47f8-41fe-beca-056c58a2667f"
      },
      "execution_count": null,
      "outputs": [
        {
          "output_type": "execute_result",
          "data": {
            "text/plain": [
              "[510, 'even', 255, 255]"
            ]
          },
          "metadata": {},
          "execution_count": 242
        }
      ]
    },
    {
      "cell_type": "code",
      "source": [
        "n1.goback(-3)"
      ],
      "metadata": {
        "colab": {
          "base_uri": "https://localhost:8080/",
          "height": 35
        },
        "id": "Y8LnsvRZWN5G",
        "outputId": "8cf5fbc5-e1c5-49da-9503-1855901eca22"
      },
      "execution_count": null,
      "outputs": [
        {
          "output_type": "execute_result",
          "data": {
            "text/plain": [
              "'even'"
            ],
            "application/vnd.google.colaboratory.intrinsic+json": {
              "type": "string"
            }
          },
          "metadata": {},
          "execution_count": 243
        }
      ]
    },
    {
      "cell_type": "code",
      "source": [
        "n1.goback(-10)"
      ],
      "metadata": {
        "colab": {
          "base_uri": "https://localhost:8080/"
        },
        "id": "N_hnc7eyWwhY",
        "outputId": "93994780-509c-4117-948d-3da014e984db"
      },
      "execution_count": null,
      "outputs": [
        {
          "output_type": "execute_result",
          "data": {
            "text/plain": [
              "510"
            ]
          },
          "metadata": {},
          "execution_count": 244
        }
      ]
    },
    {
      "cell_type": "code",
      "source": [
        "n1.goback(10)"
      ],
      "metadata": {
        "colab": {
          "base_uri": "https://localhost:8080/"
        },
        "id": "JRqB5Ua8Xskk",
        "outputId": "a52ac5c7-9bf8-4285-dfe9-29023d006762"
      },
      "execution_count": null,
      "outputs": [
        {
          "output_type": "execute_result",
          "data": {
            "text/plain": [
              "255"
            ]
          },
          "metadata": {},
          "execution_count": 245
        }
      ]
    },
    {
      "cell_type": "code",
      "source": [
        "n1.goback(1)"
      ],
      "metadata": {
        "colab": {
          "base_uri": "https://localhost:8080/",
          "height": 35
        },
        "id": "GhwXObayZdS6",
        "outputId": "f8ce0cc4-72b3-4992-a7f8-7f7b471f70c1"
      },
      "execution_count": null,
      "outputs": [
        {
          "output_type": "execute_result",
          "data": {
            "text/plain": [
              "'even'"
            ],
            "application/vnd.google.colaboratory.intrinsic+json": {
              "type": "string"
            }
          },
          "metadata": {},
          "execution_count": 246
        }
      ]
    },
    {
      "cell_type": "code",
      "source": [
        "class Newnumbers(Numbers):\n",
        "\n",
        "  def fibonacci(self):\n",
        "    l1 = [0,1]\n",
        "    for j in range(self.num):\n",
        "      s = l1[0] + l1[1]\n",
        "      l1[0] = l1[1]\n",
        "      l1[1] = s\n",
        "    self.result.append(l1[0])\n",
        "    return self.result[-1]"
      ],
      "metadata": {
        "id": "iTTUUburZh7r"
      },
      "execution_count": null,
      "outputs": []
    },
    {
      "cell_type": "code",
      "source": [
        "n2 = Newnumbers(5)"
      ],
      "metadata": {
        "id": "bCcwOkiyf2dL"
      },
      "execution_count": null,
      "outputs": []
    },
    {
      "cell_type": "code",
      "source": [
        "n2.fibonacci()"
      ],
      "metadata": {
        "colab": {
          "base_uri": "https://localhost:8080/"
        },
        "id": "IxYBh6gtgHU3",
        "outputId": "a035331d-d0df-438d-9be3-9cf76a529dd9"
      },
      "execution_count": null,
      "outputs": [
        {
          "output_type": "execute_result",
          "data": {
            "text/plain": [
              "5"
            ]
          },
          "metadata": {},
          "execution_count": 257
        }
      ]
    },
    {
      "cell_type": "code",
      "source": [
        "n2.even_or_odd()"
      ],
      "metadata": {
        "colab": {
          "base_uri": "https://localhost:8080/",
          "height": 35
        },
        "id": "WmCuwo9KgNsn",
        "outputId": "9386e7be-4b44-4d38-bc51-efb6119d420b"
      },
      "execution_count": null,
      "outputs": [
        {
          "output_type": "execute_result",
          "data": {
            "text/plain": [
              "'odd'"
            ],
            "application/vnd.google.colaboratory.intrinsic+json": {
              "type": "string"
            }
          },
          "metadata": {},
          "execution_count": 258
        }
      ]
    },
    {
      "cell_type": "code",
      "source": [
        "n2.result"
      ],
      "metadata": {
        "colab": {
          "base_uri": "https://localhost:8080/"
        },
        "id": "BW3r_jOuhsnB",
        "outputId": "89389826-2b29-4e12-885d-ee4385ede343"
      },
      "execution_count": null,
      "outputs": [
        {
          "output_type": "execute_result",
          "data": {
            "text/plain": [
              "[5, 'odd']"
            ]
          },
          "metadata": {},
          "execution_count": 259
        }
      ]
    },
    {
      "cell_type": "code",
      "source": [
        "n3 = Newnumbers(3)"
      ],
      "metadata": {
        "id": "EG_UOPAUhuwo"
      },
      "execution_count": null,
      "outputs": []
    },
    {
      "cell_type": "code",
      "source": [
        "n3.fibonacci()"
      ],
      "metadata": {
        "colab": {
          "base_uri": "https://localhost:8080/"
        },
        "id": "6Kg6ZyDFiK5U",
        "outputId": "398f3e28-0cb8-467d-aa84-dffcb23e9936"
      },
      "execution_count": null,
      "outputs": [
        {
          "output_type": "execute_result",
          "data": {
            "text/plain": [
              "2"
            ]
          },
          "metadata": {},
          "execution_count": 261
        }
      ]
    },
    {
      "cell_type": "code",
      "source": [],
      "metadata": {
        "id": "cZNFz_kAiNMb"
      },
      "execution_count": null,
      "outputs": []
    }
  ]
}