{
  "nbformat": 4,
  "nbformat_minor": 0,
  "metadata": {
    "colab": {
      "provenance": [],
      "authorship_tag": "ABX9TyPo0Kpa3uZmRWrFe+GkhVgU",
      "include_colab_link": true
    },
    "kernelspec": {
      "name": "python3",
      "display_name": "Python 3"
    },
    "language_info": {
      "name": "python"
    }
  },
  "cells": [
    {
      "cell_type": "markdown",
      "metadata": {
        "id": "view-in-github",
        "colab_type": "text"
      },
      "source": [
        "<a href=\"https://colab.research.google.com/github/Eleemon98/Colaboratory/blob/main/0322_test%ED%95%B4%EC%84%A4.ipynb\" target=\"_parent\"><img src=\"https://colab.research.google.com/assets/colab-badge.svg\" alt=\"Open In Colab\"/></a>"
      ]
    },
    {
      "cell_type": "code",
      "execution_count": 1,
      "metadata": {
        "id": "MrKCjgQxkmN9"
      },
      "outputs": [],
      "source": [
        "import pandas as pd\n",
        "import numpy as np\n",
        "import matplotlib.pyplot as plt\n",
        "import seaborn as sns"
      ]
    },
    {
      "cell_type": "code",
      "source": [
        "df = pd.read_csv('data.csv')\n",
        "df.head()"
      ],
      "metadata": {
        "colab": {
          "base_uri": "https://localhost:8080/",
          "height": 256
        },
        "id": "JGZg6TVTk1mv",
        "outputId": "53b3ce74-8982-4cd1-8716-68141e23ce57"
      },
      "execution_count": 2,
      "outputs": [
        {
          "output_type": "execute_result",
          "data": {
            "text/plain": [
              "      X20     X86     X87        X88    X113      X115    X116     X117  \\\n",
              "0  1.4026  2.3895  0.9690  1747.6049  0.9460  748.6115  0.9908  58.4306   \n",
              "1  1.3825  2.3754  0.9894  1931.6464  0.9425  731.2517  0.9902  58.6680   \n",
              "2  1.4123  2.4532  0.9880  1685.8514  0.9231  718.5777  0.9899  58.4808   \n",
              "3  1.4011  2.4004  0.9904  1752.0968  0.9564  709.0867  0.9906  58.6635   \n",
              "4  1.3888  2.4530  0.9902  1828.3846  0.9424  796.5950  0.9908  58.3858   \n",
              "\n",
              "     X119    X120  ...    X527      X570    X571   X572    X573    X574  \\\n",
              "0  0.9804  6.3788  ...  6.6926  533.8500  2.1113   8.95  0.3157  3.0624   \n",
              "1  0.9731  6.5061  ...  8.8370  535.0164  2.4335   5.92  0.2653  2.0111   \n",
              "2  0.9772  6.4527  ...  6.4568  535.0245  2.0293  11.21  0.1882  4.0923   \n",
              "3  0.9761  6.4935  ...  6.4865  530.5682  2.0253   9.33  0.1738  2.8971   \n",
              "4  0.9628  6.3551  ...  6.3745  532.0155  2.0275   8.83  0.2224  3.1776   \n",
              "\n",
              "     X575    X576     X577  Pass.Fail  \n",
              "0  0.1026  1.6765  14.9509          0  \n",
              "1  0.0772  1.1065  10.9003          0  \n",
              "2  0.0640  2.0952   9.2721          1  \n",
              "3  0.0525  1.7585   8.5831          0  \n",
              "4  0.0706  1.6597  10.9698          0  \n",
              "\n",
              "[5 rows x 49 columns]"
            ],
            "text/html": [
              "\n",
              "  <div id=\"df-fc3fac10-2adc-4ff3-aa40-e211f2895830\" class=\"colab-df-container\">\n",
              "    <div>\n",
              "<style scoped>\n",
              "    .dataframe tbody tr th:only-of-type {\n",
              "        vertical-align: middle;\n",
              "    }\n",
              "\n",
              "    .dataframe tbody tr th {\n",
              "        vertical-align: top;\n",
              "    }\n",
              "\n",
              "    .dataframe thead th {\n",
              "        text-align: right;\n",
              "    }\n",
              "</style>\n",
              "<table border=\"1\" class=\"dataframe\">\n",
              "  <thead>\n",
              "    <tr style=\"text-align: right;\">\n",
              "      <th></th>\n",
              "      <th>X20</th>\n",
              "      <th>X86</th>\n",
              "      <th>X87</th>\n",
              "      <th>X88</th>\n",
              "      <th>X113</th>\n",
              "      <th>X115</th>\n",
              "      <th>X116</th>\n",
              "      <th>X117</th>\n",
              "      <th>X119</th>\n",
              "      <th>X120</th>\n",
              "      <th>...</th>\n",
              "      <th>X527</th>\n",
              "      <th>X570</th>\n",
              "      <th>X571</th>\n",
              "      <th>X572</th>\n",
              "      <th>X573</th>\n",
              "      <th>X574</th>\n",
              "      <th>X575</th>\n",
              "      <th>X576</th>\n",
              "      <th>X577</th>\n",
              "      <th>Pass.Fail</th>\n",
              "    </tr>\n",
              "  </thead>\n",
              "  <tbody>\n",
              "    <tr>\n",
              "      <th>0</th>\n",
              "      <td>1.4026</td>\n",
              "      <td>2.3895</td>\n",
              "      <td>0.9690</td>\n",
              "      <td>1747.6049</td>\n",
              "      <td>0.9460</td>\n",
              "      <td>748.6115</td>\n",
              "      <td>0.9908</td>\n",
              "      <td>58.4306</td>\n",
              "      <td>0.9804</td>\n",
              "      <td>6.3788</td>\n",
              "      <td>...</td>\n",
              "      <td>6.6926</td>\n",
              "      <td>533.8500</td>\n",
              "      <td>2.1113</td>\n",
              "      <td>8.95</td>\n",
              "      <td>0.3157</td>\n",
              "      <td>3.0624</td>\n",
              "      <td>0.1026</td>\n",
              "      <td>1.6765</td>\n",
              "      <td>14.9509</td>\n",
              "      <td>0</td>\n",
              "    </tr>\n",
              "    <tr>\n",
              "      <th>1</th>\n",
              "      <td>1.3825</td>\n",
              "      <td>2.3754</td>\n",
              "      <td>0.9894</td>\n",
              "      <td>1931.6464</td>\n",
              "      <td>0.9425</td>\n",
              "      <td>731.2517</td>\n",
              "      <td>0.9902</td>\n",
              "      <td>58.6680</td>\n",
              "      <td>0.9731</td>\n",
              "      <td>6.5061</td>\n",
              "      <td>...</td>\n",
              "      <td>8.8370</td>\n",
              "      <td>535.0164</td>\n",
              "      <td>2.4335</td>\n",
              "      <td>5.92</td>\n",
              "      <td>0.2653</td>\n",
              "      <td>2.0111</td>\n",
              "      <td>0.0772</td>\n",
              "      <td>1.1065</td>\n",
              "      <td>10.9003</td>\n",
              "      <td>0</td>\n",
              "    </tr>\n",
              "    <tr>\n",
              "      <th>2</th>\n",
              "      <td>1.4123</td>\n",
              "      <td>2.4532</td>\n",
              "      <td>0.9880</td>\n",
              "      <td>1685.8514</td>\n",
              "      <td>0.9231</td>\n",
              "      <td>718.5777</td>\n",
              "      <td>0.9899</td>\n",
              "      <td>58.4808</td>\n",
              "      <td>0.9772</td>\n",
              "      <td>6.4527</td>\n",
              "      <td>...</td>\n",
              "      <td>6.4568</td>\n",
              "      <td>535.0245</td>\n",
              "      <td>2.0293</td>\n",
              "      <td>11.21</td>\n",
              "      <td>0.1882</td>\n",
              "      <td>4.0923</td>\n",
              "      <td>0.0640</td>\n",
              "      <td>2.0952</td>\n",
              "      <td>9.2721</td>\n",
              "      <td>1</td>\n",
              "    </tr>\n",
              "    <tr>\n",
              "      <th>3</th>\n",
              "      <td>1.4011</td>\n",
              "      <td>2.4004</td>\n",
              "      <td>0.9904</td>\n",
              "      <td>1752.0968</td>\n",
              "      <td>0.9564</td>\n",
              "      <td>709.0867</td>\n",
              "      <td>0.9906</td>\n",
              "      <td>58.6635</td>\n",
              "      <td>0.9761</td>\n",
              "      <td>6.4935</td>\n",
              "      <td>...</td>\n",
              "      <td>6.4865</td>\n",
              "      <td>530.5682</td>\n",
              "      <td>2.0253</td>\n",
              "      <td>9.33</td>\n",
              "      <td>0.1738</td>\n",
              "      <td>2.8971</td>\n",
              "      <td>0.0525</td>\n",
              "      <td>1.7585</td>\n",
              "      <td>8.5831</td>\n",
              "      <td>0</td>\n",
              "    </tr>\n",
              "    <tr>\n",
              "      <th>4</th>\n",
              "      <td>1.3888</td>\n",
              "      <td>2.4530</td>\n",
              "      <td>0.9902</td>\n",
              "      <td>1828.3846</td>\n",
              "      <td>0.9424</td>\n",
              "      <td>796.5950</td>\n",
              "      <td>0.9908</td>\n",
              "      <td>58.3858</td>\n",
              "      <td>0.9628</td>\n",
              "      <td>6.3551</td>\n",
              "      <td>...</td>\n",
              "      <td>6.3745</td>\n",
              "      <td>532.0155</td>\n",
              "      <td>2.0275</td>\n",
              "      <td>8.83</td>\n",
              "      <td>0.2224</td>\n",
              "      <td>3.1776</td>\n",
              "      <td>0.0706</td>\n",
              "      <td>1.6597</td>\n",
              "      <td>10.9698</td>\n",
              "      <td>0</td>\n",
              "    </tr>\n",
              "  </tbody>\n",
              "</table>\n",
              "<p>5 rows × 49 columns</p>\n",
              "</div>\n",
              "    <div class=\"colab-df-buttons\">\n",
              "\n",
              "  <div class=\"colab-df-container\">\n",
              "    <button class=\"colab-df-convert\" onclick=\"convertToInteractive('df-fc3fac10-2adc-4ff3-aa40-e211f2895830')\"\n",
              "            title=\"Convert this dataframe to an interactive table.\"\n",
              "            style=\"display:none;\">\n",
              "\n",
              "  <svg xmlns=\"http://www.w3.org/2000/svg\" height=\"24px\" viewBox=\"0 -960 960 960\">\n",
              "    <path d=\"M120-120v-720h720v720H120Zm60-500h600v-160H180v160Zm220 220h160v-160H400v160Zm0 220h160v-160H400v160ZM180-400h160v-160H180v160Zm440 0h160v-160H620v160ZM180-180h160v-160H180v160Zm440 0h160v-160H620v160Z\"/>\n",
              "  </svg>\n",
              "    </button>\n",
              "\n",
              "  <style>\n",
              "    .colab-df-container {\n",
              "      display:flex;\n",
              "      gap: 12px;\n",
              "    }\n",
              "\n",
              "    .colab-df-convert {\n",
              "      background-color: #E8F0FE;\n",
              "      border: none;\n",
              "      border-radius: 50%;\n",
              "      cursor: pointer;\n",
              "      display: none;\n",
              "      fill: #1967D2;\n",
              "      height: 32px;\n",
              "      padding: 0 0 0 0;\n",
              "      width: 32px;\n",
              "    }\n",
              "\n",
              "    .colab-df-convert:hover {\n",
              "      background-color: #E2EBFA;\n",
              "      box-shadow: 0px 1px 2px rgba(60, 64, 67, 0.3), 0px 1px 3px 1px rgba(60, 64, 67, 0.15);\n",
              "      fill: #174EA6;\n",
              "    }\n",
              "\n",
              "    .colab-df-buttons div {\n",
              "      margin-bottom: 4px;\n",
              "    }\n",
              "\n",
              "    [theme=dark] .colab-df-convert {\n",
              "      background-color: #3B4455;\n",
              "      fill: #D2E3FC;\n",
              "    }\n",
              "\n",
              "    [theme=dark] .colab-df-convert:hover {\n",
              "      background-color: #434B5C;\n",
              "      box-shadow: 0px 1px 3px 1px rgba(0, 0, 0, 0.15);\n",
              "      filter: drop-shadow(0px 1px 2px rgba(0, 0, 0, 0.3));\n",
              "      fill: #FFFFFF;\n",
              "    }\n",
              "  </style>\n",
              "\n",
              "    <script>\n",
              "      const buttonEl =\n",
              "        document.querySelector('#df-fc3fac10-2adc-4ff3-aa40-e211f2895830 button.colab-df-convert');\n",
              "      buttonEl.style.display =\n",
              "        google.colab.kernel.accessAllowed ? 'block' : 'none';\n",
              "\n",
              "      async function convertToInteractive(key) {\n",
              "        const element = document.querySelector('#df-fc3fac10-2adc-4ff3-aa40-e211f2895830');\n",
              "        const dataTable =\n",
              "          await google.colab.kernel.invokeFunction('convertToInteractive',\n",
              "                                                    [key], {});\n",
              "        if (!dataTable) return;\n",
              "\n",
              "        const docLinkHtml = 'Like what you see? Visit the ' +\n",
              "          '<a target=\"_blank\" href=https://colab.research.google.com/notebooks/data_table.ipynb>data table notebook</a>'\n",
              "          + ' to learn more about interactive tables.';\n",
              "        element.innerHTML = '';\n",
              "        dataTable['output_type'] = 'display_data';\n",
              "        await google.colab.output.renderOutput(dataTable, element);\n",
              "        const docLink = document.createElement('div');\n",
              "        docLink.innerHTML = docLinkHtml;\n",
              "        element.appendChild(docLink);\n",
              "      }\n",
              "    </script>\n",
              "  </div>\n",
              "\n",
              "\n",
              "<div id=\"df-6ec28b65-a0de-43e0-a222-065096dc94c5\">\n",
              "  <button class=\"colab-df-quickchart\" onclick=\"quickchart('df-6ec28b65-a0de-43e0-a222-065096dc94c5')\"\n",
              "            title=\"Suggest charts\"\n",
              "            style=\"display:none;\">\n",
              "\n",
              "<svg xmlns=\"http://www.w3.org/2000/svg\" height=\"24px\"viewBox=\"0 0 24 24\"\n",
              "     width=\"24px\">\n",
              "    <g>\n",
              "        <path d=\"M19 3H5c-1.1 0-2 .9-2 2v14c0 1.1.9 2 2 2h14c1.1 0 2-.9 2-2V5c0-1.1-.9-2-2-2zM9 17H7v-7h2v7zm4 0h-2V7h2v10zm4 0h-2v-4h2v4z\"/>\n",
              "    </g>\n",
              "</svg>\n",
              "  </button>\n",
              "\n",
              "<style>\n",
              "  .colab-df-quickchart {\n",
              "      --bg-color: #E8F0FE;\n",
              "      --fill-color: #1967D2;\n",
              "      --hover-bg-color: #E2EBFA;\n",
              "      --hover-fill-color: #174EA6;\n",
              "      --disabled-fill-color: #AAA;\n",
              "      --disabled-bg-color: #DDD;\n",
              "  }\n",
              "\n",
              "  [theme=dark] .colab-df-quickchart {\n",
              "      --bg-color: #3B4455;\n",
              "      --fill-color: #D2E3FC;\n",
              "      --hover-bg-color: #434B5C;\n",
              "      --hover-fill-color: #FFFFFF;\n",
              "      --disabled-bg-color: #3B4455;\n",
              "      --disabled-fill-color: #666;\n",
              "  }\n",
              "\n",
              "  .colab-df-quickchart {\n",
              "    background-color: var(--bg-color);\n",
              "    border: none;\n",
              "    border-radius: 50%;\n",
              "    cursor: pointer;\n",
              "    display: none;\n",
              "    fill: var(--fill-color);\n",
              "    height: 32px;\n",
              "    padding: 0;\n",
              "    width: 32px;\n",
              "  }\n",
              "\n",
              "  .colab-df-quickchart:hover {\n",
              "    background-color: var(--hover-bg-color);\n",
              "    box-shadow: 0 1px 2px rgba(60, 64, 67, 0.3), 0 1px 3px 1px rgba(60, 64, 67, 0.15);\n",
              "    fill: var(--button-hover-fill-color);\n",
              "  }\n",
              "\n",
              "  .colab-df-quickchart-complete:disabled,\n",
              "  .colab-df-quickchart-complete:disabled:hover {\n",
              "    background-color: var(--disabled-bg-color);\n",
              "    fill: var(--disabled-fill-color);\n",
              "    box-shadow: none;\n",
              "  }\n",
              "\n",
              "  .colab-df-spinner {\n",
              "    border: 2px solid var(--fill-color);\n",
              "    border-color: transparent;\n",
              "    border-bottom-color: var(--fill-color);\n",
              "    animation:\n",
              "      spin 1s steps(1) infinite;\n",
              "  }\n",
              "\n",
              "  @keyframes spin {\n",
              "    0% {\n",
              "      border-color: transparent;\n",
              "      border-bottom-color: var(--fill-color);\n",
              "      border-left-color: var(--fill-color);\n",
              "    }\n",
              "    20% {\n",
              "      border-color: transparent;\n",
              "      border-left-color: var(--fill-color);\n",
              "      border-top-color: var(--fill-color);\n",
              "    }\n",
              "    30% {\n",
              "      border-color: transparent;\n",
              "      border-left-color: var(--fill-color);\n",
              "      border-top-color: var(--fill-color);\n",
              "      border-right-color: var(--fill-color);\n",
              "    }\n",
              "    40% {\n",
              "      border-color: transparent;\n",
              "      border-right-color: var(--fill-color);\n",
              "      border-top-color: var(--fill-color);\n",
              "    }\n",
              "    60% {\n",
              "      border-color: transparent;\n",
              "      border-right-color: var(--fill-color);\n",
              "    }\n",
              "    80% {\n",
              "      border-color: transparent;\n",
              "      border-right-color: var(--fill-color);\n",
              "      border-bottom-color: var(--fill-color);\n",
              "    }\n",
              "    90% {\n",
              "      border-color: transparent;\n",
              "      border-bottom-color: var(--fill-color);\n",
              "    }\n",
              "  }\n",
              "</style>\n",
              "\n",
              "  <script>\n",
              "    async function quickchart(key) {\n",
              "      const quickchartButtonEl =\n",
              "        document.querySelector('#' + key + ' button');\n",
              "      quickchartButtonEl.disabled = true;  // To prevent multiple clicks.\n",
              "      quickchartButtonEl.classList.add('colab-df-spinner');\n",
              "      try {\n",
              "        const charts = await google.colab.kernel.invokeFunction(\n",
              "            'suggestCharts', [key], {});\n",
              "      } catch (error) {\n",
              "        console.error('Error during call to suggestCharts:', error);\n",
              "      }\n",
              "      quickchartButtonEl.classList.remove('colab-df-spinner');\n",
              "      quickchartButtonEl.classList.add('colab-df-quickchart-complete');\n",
              "    }\n",
              "    (() => {\n",
              "      let quickchartButtonEl =\n",
              "        document.querySelector('#df-6ec28b65-a0de-43e0-a222-065096dc94c5 button');\n",
              "      quickchartButtonEl.style.display =\n",
              "        google.colab.kernel.accessAllowed ? 'block' : 'none';\n",
              "    })();\n",
              "  </script>\n",
              "</div>\n",
              "\n",
              "    </div>\n",
              "  </div>\n"
            ],
            "application/vnd.google.colaboratory.intrinsic+json": {
              "type": "dataframe",
              "variable_name": "df"
            }
          },
          "metadata": {},
          "execution_count": 2
        }
      ]
    },
    {
      "cell_type": "code",
      "source": [
        "df = df.dropna()"
      ],
      "metadata": {
        "id": "6T1YG6VYk53m"
      },
      "execution_count": 3,
      "outputs": []
    },
    {
      "cell_type": "code",
      "source": [
        "df.isnull().sum()"
      ],
      "metadata": {
        "colab": {
          "base_uri": "https://localhost:8080/"
        },
        "id": "GqoQ0gvhlDnO",
        "outputId": "d6f4744e-ffa0-4c4b-9db0-dfdc73863fd8"
      },
      "execution_count": 4,
      "outputs": [
        {
          "output_type": "execute_result",
          "data": {
            "text/plain": [
              "X20          0\n",
              "X86          0\n",
              "X87          0\n",
              "X88          0\n",
              "X113         0\n",
              "X115         0\n",
              "X116         0\n",
              "X117         0\n",
              "X119         0\n",
              "X120         0\n",
              "X156         0\n",
              "X221         0\n",
              "X222         0\n",
              "X223         0\n",
              "X248         0\n",
              "X250         0\n",
              "X251         0\n",
              "X252         0\n",
              "X254         0\n",
              "X255         0\n",
              "X291         0\n",
              "X359         0\n",
              "X360         0\n",
              "X361         0\n",
              "X386         0\n",
              "X388         0\n",
              "X389         0\n",
              "X390         0\n",
              "X392         0\n",
              "X393         0\n",
              "X429         0\n",
              "X493         0\n",
              "X494         0\n",
              "X495         0\n",
              "X520         0\n",
              "X522         0\n",
              "X523         0\n",
              "X524         0\n",
              "X526         0\n",
              "X527         0\n",
              "X570         0\n",
              "X571         0\n",
              "X572         0\n",
              "X573         0\n",
              "X574         0\n",
              "X575         0\n",
              "X576         0\n",
              "X577         0\n",
              "Pass.Fail    0\n",
              "dtype: int64"
            ]
          },
          "metadata": {},
          "execution_count": 4
        }
      ]
    },
    {
      "cell_type": "code",
      "source": [
        "sns.boxplot(data=df, x='Pass.Fail', y='X577')\n",
        "plt.show()"
      ],
      "metadata": {
        "colab": {
          "base_uri": "https://localhost:8080/",
          "height": 449
        },
        "id": "JpBB8BehlFhG",
        "outputId": "ef175195-238f-469a-ff0a-6c4e02e32d29"
      },
      "execution_count": 7,
      "outputs": [
        {
          "output_type": "display_data",
          "data": {
            "text/plain": [
              "<Figure size 640x480 with 1 Axes>"
            ],
            "image/png": "[encoded data removed]"
          },
          "metadata": {}
        }
      ]
    },
    {
      "cell_type": "code",
      "source": [
        "for c in df.columns:\n",
        "  if len(df[c].value_counts()) < 5:\n",
        "    print(c)"
      ],
      "metadata": {
        "colab": {
          "base_uri": "https://localhost:8080/"
        },
        "id": "FR2WjFQBlZwX",
        "outputId": "1a4e1789-c08b-4a24-8c29-5024b4491657"
      },
      "execution_count": 8,
      "outputs": [
        {
          "output_type": "stream",
          "name": "stdout",
          "text": [
            "Pass.Fail\n"
          ]
        }
      ]
    },
    {
      "cell_type": "code",
      "source": [
        "df_zero = df[df['Pass.Fail'] == 0]\n",
        "df_one = df[df['Pass.Fail'] == 1]"
      ],
      "metadata": {
        "id": "2pqQFl_Wmcif"
      },
      "execution_count": 9,
      "outputs": []
    },
    {
      "cell_type": "code",
      "source": [
        "df['Pass.Fail'].value_counts()"
      ],
      "metadata": {
        "colab": {
          "base_uri": "https://localhost:8080/"
        },
        "id": "vyOZhiVHnPQv",
        "outputId": "175d58b8-932f-4b3a-c861-6eaca0881eca"
      },
      "execution_count": 10,
      "outputs": [
        {
          "output_type": "execute_result",
          "data": {
            "text/plain": [
              "0    1104\n",
              "1      82\n",
              "Name: Pass.Fail, dtype: int64"
            ]
          },
          "metadata": {},
          "execution_count": 10
        }
      ]
    },
    {
      "cell_type": "code",
      "source": [
        "sns.boxplot(data=df_zero, x='Pass.Fail', y='X88')\n",
        "plt.show()"
      ],
      "metadata": {
        "colab": {
          "base_uri": "https://localhost:8080/",
          "height": 449
        },
        "id": "4XKqpISunWmX",
        "outputId": "b0f14a14-d257-4eda-9e57-506f5053f5f3"
      },
      "execution_count": 13,
      "outputs": [
        {
          "output_type": "display_data",
          "data": {
            "text/plain": [
              "<Figure size 640x480 with 1 Axes>"
            ],
            "image/png": "[encoded data removed]"
          },
          "metadata": {}
        }
      ]
    },
    {
      "cell_type": "code",
      "source": [
        "from sklearn.model_selection import train_test_split\n",
        "\n",
        "X = df.iloc[:, :-1]\n",
        "y = df.iloc[:, -1]\n",
        "\n",
        "(X_train, X_test, y_train, y_test) = train_test_split(X, y, random_state=1)"
      ],
      "metadata": {
        "id": "oM1pAp6Jnmp-"
      },
      "execution_count": 14,
      "outputs": []
    },
    {
      "cell_type": "code",
      "source": [
        "from sklearn.linear_model import LogisticRegression\n",
        "from sklearn.metrics import accuracy_score, f1_score\n",
        "\n",
        "model = LogisticRegression()\n",
        "model.fit(X_train, y_train)\n",
        "pred = model.predict(X_test)\n",
        "\n",
        "print('acc : ', accuracy_score(y_test, pred))\n",
        "print('f1 :', f1_score(y_test, pred))"
      ],
      "metadata": {
        "colab": {
          "base_uri": "https://localhost:8080/"
        },
        "id": "0lhgfWnDoCkH",
        "outputId": "e0cb8e8a-3b48-4c1b-aef0-f35d138f8eb1"
      },
      "execution_count": 15,
      "outputs": [
        {
          "output_type": "stream",
          "name": "stdout",
          "text": [
            "acc :  0.9292929292929293\n",
            "f1 : 0.0\n"
          ]
        },
        {
          "output_type": "stream",
          "name": "stderr",
          "text": [
            "/usr/local/lib/python3.10/dist-packages/sklearn/linear_model/_logistic.py:458: ConvergenceWarning: lbfgs failed to converge (status=1):\n",
            "STOP: TOTAL NO. of ITERATIONS REACHED LIMIT.\n",
            "\n",
            "Increase the number of iterations (max_iter) or scale the data as shown in:\n",
            "    https://scikit-learn.org/stable/modules/preprocessing.html\n",
            "Please also refer to the documentation for alternative solver options:\n",
            "    https://scikit-learn.org/stable/modules/linear_model.html#logistic-regression\n",
            "  n_iter_i = _check_optimize_result(\n"
          ]
        }
      ]
    },
    {
      "cell_type": "code",
      "source": [
        "from imblearn.over_sampling import SMOTE\n",
        "\n",
        "X_retrain, Xretest, y_retrain, y_retest = train_test_split(X, y, random_state=1)\n",
        "\n",
        "# KNN 옵션으로 랜덤한 값으로 값을 늘려주는 방법\n",
        "smote = SMOTE(k_neighbors=5, random_state=1)\n",
        "\n",
        "# 2차원 데이터를 1차원으로 만들어주는 코드\n",
        "X_tr_sam, y_tr_sam = smote.fit_resample(X_retrain, y_retrain)"
      ],
      "metadata": {
        "id": "Y6HJhcacorHQ"
      },
      "execution_count": 20,
      "outputs": []
    },
    {
      "cell_type": "code",
      "source": [
        "y_tr_sam.value_counts()"
      ],
      "metadata": {
        "colab": {
          "base_uri": "https://localhost:8080/"
        },
        "id": "A5yBRVdpqlb1",
        "outputId": "c3c0b2a8-8876-40aa-f9b0-e32ce7a80419"
      },
      "execution_count": 21,
      "outputs": [
        {
          "output_type": "execute_result",
          "data": {
            "text/plain": [
              "0    828\n",
              "1    828\n",
              "Name: Pass.Fail, dtype: int64"
            ]
          },
          "metadata": {},
          "execution_count": 21
        }
      ]
    },
    {
      "cell_type": "code",
      "source": [
        "len(X_tr_sam)"
      ],
      "metadata": {
        "colab": {
          "base_uri": "https://localhost:8080/"
        },
        "id": "8GmOC7Pdq-W3",
        "outputId": "61b3fbe1-da6f-425d-eec9-53f5d13feec8"
      },
      "execution_count": 24,
      "outputs": [
        {
          "output_type": "execute_result",
          "data": {
            "text/plain": [
              "1656"
            ]
          },
          "metadata": {},
          "execution_count": 24
        }
      ]
    },
    {
      "cell_type": "code",
      "source": [
        "len(X_retrain)"
      ],
      "metadata": {
        "colab": {
          "base_uri": "https://localhost:8080/"
        },
        "id": "XcBiVZmNrGLP",
        "outputId": "75e3a977-a155-4abe-f99c-2283f2d0f98a"
      },
      "execution_count": 25,
      "outputs": [
        {
          "output_type": "execute_result",
          "data": {
            "text/plain": [
              "889"
            ]
          },
          "metadata": {},
          "execution_count": 25
        }
      ]
    },
    {
      "cell_type": "code",
      "source": [
        "from sklearn.linear_model import LogisticRegression\n",
        "from sklearn.metrics import accuracy_score, f1_score\n",
        "\n",
        "model = LogisticRegression()\n",
        "model.fit(X_tr_sam, y_tr_sam)\n",
        "pred = model.predict(X_test)\n",
        "\n",
        "print('acc : ', accuracy_score(y_test, pred))\n",
        "print('f1 :', f1_score(y_test, pred))\n",
        "\n",
        "# 오버샘플링이나 언더샘플링으로는 분포가 바뀌지는 않기 때문에 좋은 결과가 나오지는 않는다."
      ],
      "metadata": {
        "colab": {
          "base_uri": "https://localhost:8080/"
        },
        "id": "SGTGCqfOrRI4",
        "outputId": "9efca431-7107-4652-cc03-a33327dc3ed7"
      },
      "execution_count": 26,
      "outputs": [
        {
          "output_type": "stream",
          "name": "stdout",
          "text": [
            "acc :  0.6094276094276094\n",
            "f1 : 0.14705882352941177\n"
          ]
        },
        {
          "output_type": "stream",
          "name": "stderr",
          "text": [
            "/usr/local/lib/python3.10/dist-packages/sklearn/linear_model/_logistic.py:458: ConvergenceWarning: lbfgs failed to converge (status=1):\n",
            "STOP: TOTAL NO. of ITERATIONS REACHED LIMIT.\n",
            "\n",
            "Increase the number of iterations (max_iter) or scale the data as shown in:\n",
            "    https://scikit-learn.org/stable/modules/preprocessing.html\n",
            "Please also refer to the documentation for alternative solver options:\n",
            "    https://scikit-learn.org/stable/modules/linear_model.html#logistic-regression\n",
            "  n_iter_i = _check_optimize_result(\n"
          ]
        }
      ]
    },
    {
      "cell_type": "code",
      "source": [],
      "metadata": {
        "id": "bNfxTZUYr_nQ"
      },
      "execution_count": null,
      "outputs": []
    }
  ]
}