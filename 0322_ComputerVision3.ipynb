{
 "cells": [
  {
   "cell_type": "code",
   "execution_count": 11,
   "id": "9567998f-b292-4ca2-9c81-4bbb9bd552fa",
   "metadata": {},
   "outputs": [],
   "source": [
    "import cv2\n",
    "import numpy as np\n",
    "\n",
    "img = cv2.imread('image/fish.jpg')\n",
    "img = cv2.resize(img, (680, 420))\n",
    "rows, cols = img.shape[:-1]"
   ]
  },
  {
   "cell_type": "code",
   "execution_count": 12,
   "id": "6a9e1de4-f40f-454a-a50c-b11028435143",
   "metadata": {},
   "outputs": [],
   "source": [
    "pts1 = np.float32([[0,0], \n",
    "                   [0,rows], \n",
    "                   [cols,0], \n",
    "                   [cols,rows]])\n",
    "\n",
    "pts2 = np.array([[100,50], \n",
    "                [10,rows-50], \n",
    "                [cols-100,50], \n",
    "                [cols-10,rows-50]], dtype='float32')"
   ]
  },
  {
   "cell_type": "code",
   "execution_count": 13,
   "id": "c5868325-db22-464d-90fd-6af5c929fb64",
   "metadata": {},
   "outputs": [],
   "source": [
    "cv2.imshow('IMG', img)\n",
    "cv2.waitKey(0)\n",
    "cv2.destroyAllWindows()"
   ]
  },
  {
   "cell_type": "code",
   "execution_count": 14,
   "id": "9154d89c-78fa-4553-b65d-c11e367a9435",
   "metadata": {
    "collapsed": true,
    "jupyter": {
     "outputs_hidden": true
    }
   },
   "outputs": [
    {
     "data": {
      "text/plain": [
       "array([[[255,   0,   0],\n",
       "        [255,   0,   0],\n",
       "        [255,   0,   0],\n",
       "        ...,\n",
       "        [  0,   0, 255],\n",
       "        [  0,   0, 255],\n",
       "        [  0,   0, 255]],\n",
       "\n",
       "       [[255,   0,   0],\n",
       "        [255,   0,   0],\n",
       "        [255,   0,   0],\n",
       "        ...,\n",
       "        [  0,   0, 255],\n",
       "        [  0,   0, 255],\n",
       "        [  0,   0, 255]],\n",
       "\n",
       "       [[255,   0,   0],\n",
       "        [255,   0,   0],\n",
       "        [255,   0,   0],\n",
       "        ...,\n",
       "        [  0,   0, 255],\n",
       "        [  0,   0, 255],\n",
       "        [  0,   0, 255]],\n",
       "\n",
       "       ...,\n",
       "\n",
       "       [[  0, 255,   0],\n",
       "        [  0, 255,   0],\n",
       "        [  0, 255,   0],\n",
       "        ...,\n",
       "        [  0, 255, 255],\n",
       "        [  0, 255, 255],\n",
       "        [  0, 255, 255]],\n",
       "\n",
       "       [[  0, 255,   0],\n",
       "        [  0, 255,   0],\n",
       "        [  0, 255,   0],\n",
       "        ...,\n",
       "        [  0, 255, 255],\n",
       "        [  0, 255, 255],\n",
       "        [  0, 255, 255]],\n",
       "\n",
       "       [[  0, 255,   0],\n",
       "        [  0, 255,   0],\n",
       "        [  0, 255,   0],\n",
       "        ...,\n",
       "        [  0, 255, 255],\n",
       "        [  0, 255, 255],\n",
       "        [  0, 255, 255]]], dtype=uint8)"
      ]
     },
     "execution_count": 14,
     "metadata": {},
     "output_type": "execute_result"
    }
   ],
   "source": [
    "cv2.circle(img, (0,0), 10, (255,0,0), -1)\n",
    "cv2.circle(img, (0,rows), 10, (0,255,0), -1)\n",
    "cv2.circle(img, (cols,0), 10, (0,0,255), -1)\n",
    "cv2.circle(img, (cols,rows), 10, (0,255,255), -1)"
   ]
  },
  {
   "cell_type": "code",
   "execution_count": 15,
   "id": "969a83ed-9726-46b2-b11c-ef9eee1b2881",
   "metadata": {},
   "outputs": [],
   "source": [
    "M = cv2.getPerspectiveTransform(pts1, pts2)"
   ]
  },
  {
   "cell_type": "code",
   "execution_count": 16,
   "id": "06d54e5f-4caa-428e-a716-9b3410ecfbc4",
   "metadata": {},
   "outputs": [],
   "source": [
    "dst = cv2.warpPerspective(img, M, (cols, rows))\n",
    "cv2.imshow('IMG', dst)\n",
    "cv2.waitKey(0)\n",
    "cv2.destroyAllWindows()"
   ]
  },
  {
   "cell_type": "code",
   "execution_count": 17,
   "id": "478c1951-caca-4417-9aac-60bc22700bd7",
   "metadata": {},
   "outputs": [],
   "source": [
    "import cv2\n",
    "import numpy as np\n",
    "\n",
    "title = \"Scanner\"\n",
    "img = cv2.imread('image/paper.jpg')\n",
    "cv2.imshow(title, img)\n",
    "cv2.waitKey(0)\n",
    "cv2.destroyAllWindows()"
   ]
  },
  {
   "cell_type": "code",
   "execution_count": 36,
   "id": "ab2e6b0e-e498-4e6a-885c-f4a8fad2761c",
   "metadata": {},
   "outputs": [
    {
     "name": "stdout",
     "output_type": "stream",
     "text": [
      "[[101.  53.]\n",
      " [497. 101.]\n",
      " [569. 696.]\n",
      " [ 23. 704.]]\n",
      "546.0 651.0\n"
     ]
    }
   ],
   "source": [
    "import cv2\n",
    "import numpy as np\n",
    "\n",
    "title = \"Scanner\"\n",
    "img = cv2.imread(\"image/paper.jpg\")\n",
    "\n",
    "# 2차원으로 원근적용할 전체 크기\n",
    "rows, cols = img.shape[:-1]\n",
    "img2 = img.copy() # 원근변환이 적용될 이미지\n",
    "pts_cnt = 0 # 필요한 4개의 포인트인지 확인하기 위한 변수\n",
    "pts = np.zeros((4,2), dtype=np.float32) # 마우스로 클릭할 위치에 대한 변환 행렬\n",
    "\n",
    "# 마우스 클릭에 사용할 콜백함수\n",
    "def onMouse(event, x, y, flags, param):\n",
    "    global pts_cnt\n",
    "    if event == cv2.EVENT_LBUTTONDOWN:\n",
    "        cv2.circle(img2, (x, y), 10, (0,255,255), -1) # 클릭시 이미지에 원 그리기\n",
    "        cv2.imshow(title, img2)\n",
    "\n",
    "        pts[pts_cnt] = [x, y] # 마우스 버튼 좌표 저장\n",
    "        pts_cnt += 1 # 마우스 버튼 클릭 횟수 업데이트\n",
    "\n",
    "        if pts_cnt == 4:\n",
    "            # 각 좌표의 위치(상하좌우) 찾는 코드\n",
    "            sm = pts.sum(axis=1) # x+y\n",
    "    # diff는 차분(차이값, 변이값)을 사용하는데 시계열 데이터를 사용해서\n",
    "    # 순차적인 것이 특징이라 앞 데이터가 뒤 데이터에 영향을 줌\n",
    "    # 그래서 diff는 뒤 데이터에서 앞 데이터를 빼는 함수이다\n",
    "            # diff = np.diff(pts, axis=1) \n",
    "            # x-y여야 하는데 y-x가 됨\n",
    "            diff = pts[:, 0] - pts[:, 1]\n",
    "\n",
    "            top_left = pts[np.argmin(sm)]\n",
    "            top_right = pts[np.argmax(diff)]\n",
    "            bottom_left = pts[np.argmin(diff)]\n",
    "            bottom_right = pts[np.argmax(sm)]\n",
    "\n",
    "            pts1 = np.float32([top_left, top_right, bottom_right, bottom_left])\n",
    "            print(pts1)\n",
    "            \n",
    "            # 각 꼭지점들의 거리 계산\n",
    "            w1 = abs(bottom_left[0]-bottom_right[0])\n",
    "            w2 = abs(top_left[0]-top_right[0])\n",
    "            h1 = abs(top_right[1]-bottom_right[1])\n",
    "            h2 = abs(top_left[1]-bottom_left[1])\n",
    "            width = max([w1, w2])\n",
    "            height = max([h1, h2])\n",
    "            print(width, height)\n",
    "\n",
    "            # 변환하는 위치의 값\n",
    "            pts2 = np.float32([[0,0], [width-1,0],\n",
    "                                [width-1, height-1], [0,height-1]])\n",
    "            # 변환 행렬 계산\n",
    "            M = cv2.getPerspectiveTransform(pts1,pts2)\n",
    "            # 변환 행렬 적용\n",
    "            res = cv2.warpPerspective(img, M, (int(width), int(height)))\n",
    "            cv2.imshow(\"Result\", res)\n",
    "\n",
    "cv2.imshow(title, img)\n",
    "cv2.setMouseCallback(title, onMouse)\n",
    "cv2.waitKey(0)\n",
    "cv2.destroyAllWindows()"
   ]
  },
  {
   "cell_type": "code",
   "execution_count": 22,
   "id": "b424bf8d-5d16-47ad-ae65-c1d34de8db50",
   "metadata": {},
   "outputs": [
    {
     "data": {
      "text/plain": [
       "array([30., 10.,  0.,  0.], dtype=float32)"
      ]
     },
     "execution_count": 22,
     "metadata": {},
     "output_type": "execute_result"
    }
   ],
   "source": [
    "pts = np.zeros((4,2), dtype=np.float32)\n",
    "pts[0] = [10,20]\n",
    "pts[1] = [5,5]\n",
    "pts.sum(axis=1)"
   ]
  },
  {
   "cell_type": "code",
   "execution_count": 1,
   "id": "dd05ce54-de7a-42e3-9e42-a87ca3757c9d",
   "metadata": {},
   "outputs": [],
   "source": [
    "import cv2\n",
    "import numpy as np\n",
    "\n",
    "title = \"Scanner\"\n",
    "img = cv2.imread(\"image/cat1.jpg\", cv2.IMREAD_GRAYSCALE)\n",
    "filter = np.full(img.shape, 15, dtype=np.uint8)\n",
    "img2 = img + filter\n",
    "\n",
    "cv2.imshow(title, img)\n",
    "cv2.imshow(\"cat\", img2)\n",
    "cv2.waitKey(0)\n",
    "cv2.destroyAllWindows()"
   ]
  },
  {
   "cell_type": "code",
   "execution_count": 4,
   "id": "32c0c5ee-e3a7-4180-841a-bf2abb5e7fd2",
   "metadata": {},
   "outputs": [
    {
     "name": "stdout",
     "output_type": "stream",
     "text": [
      "255 2.5500000000000003\n"
     ]
    }
   ],
   "source": [
    "img = cv2.imread(\"image/cat1.jpg\", cv2.IMREAD_GRAYSCALE)\n",
    "img2 = img * 0.01\n",
    "\n",
    "print(img.max(), img2.max())\n",
    "cv2.imshow(title, img)\n",
    "cv2.imshow(\"cat\", img2)\n",
    "cv2.waitKey(0)\n",
    "cv2.destroyAllWindows()"
   ]
  },
  {
   "cell_type": "code",
   "execution_count": 4,
   "id": "c2b5814a-bf74-4e84-b765-2f20d2671f91",
   "metadata": {},
   "outputs": [],
   "source": [
    "import cv2\n",
    "import numpy as np\n",
    "\n",
    "img = cv2.imread('image/cat1.jpg')\n",
    "blur_img = cv2.blur(img, (10,10))\n",
    "blur = cv2.boxFilter(img, -1, (20,20))\n",
    "\n",
    "merge_img = np.hstack((img, blur_img, blur))\n",
    "cv2.imshow('BLUR', merge_img)\n",
    "cv2.waitKey(0)\n",
    "cv2.destroyAllWindows()"
   ]
  },
  {
   "cell_type": "code",
   "execution_count": 5,
   "id": "8c748b79-e8e2-4fa9-9a2b-9d2d3ec18f01",
   "metadata": {},
   "outputs": [],
   "source": [
    "import cv2\n",
    "import numpy as np\n",
    "\n",
    "img = cv2.imread('image/man_face.jpg')\n",
    "blur_img = cv2.blur(img, (10, 10))\n",
    "blur = cv2.boxFilter(img, -1, (20,20))\n",
    "\n",
    "merge_img = np.hstack((img, blur_img, blur))\n",
    "cv2.imshow('BLUR', merge_img)\n",
    "cv2.waitKey(0)\n",
    "cv2.destroyAllWindows()"
   ]
  },
  {
   "cell_type": "code",
   "execution_count": 2,
   "id": "413c699c-411a-4b18-b11f-446f6619c439",
   "metadata": {},
   "outputs": [],
   "source": [
    "import cv2\n",
    "import numpy as np\n",
    "\n",
    "kernel_size = (40, 40) # 블러 처리에 사용할 커널 크기\n",
    "title = 'My Self Camera'\n",
    "img = cv2.imread('image/self.jpg')\n",
    "img = cv2.resize(img, (680, 960))\n",
    "\n",
    "while True:\n",
    "    x,y,w,h = cv2.selectROI(title, img, False) # 관심 영역 선택\n",
    "    if w > 0 and h > 0: # 폭과 높이가 음수이면 드래그 방향이 옳음\n",
    "        roi = img[y:y+h, x:x+w] # 관심 영역 지정\n",
    "        roi = cv2.blur(roi, kernel_size) # 블러(모자이크) 처리\n",
    "        img[y:y+h, x:x+w] = roi # 원본 이미지에 적용        \n",
    "        cv2.imshow(title, img)\n",
    "    else:\n",
    "        break\n",
    "\n",
    "cv2.destroyAllWindows()"
   ]
  },
  {
   "cell_type": "code",
   "execution_count": null,
   "id": "352ab2f1-62e5-4db2-861a-f53be82a4644",
   "metadata": {},
   "outputs": [],
   "source": [
    "# 웹캠에서 블러 처리하는 코드\n",
    "cap = cv2.VideoCapture(0)\n",
    "title = \"Web Cam\"\n",
    "\n",
    "mask = cv2.imread('image/mask.jpg')\n",
    "mask = cv2.resize(mask, (150,150))\n",
    "\n",
    "if cap.isOpened():\n",
    "    while True:\n",
    "        ret, img = cap.read()\n",
    "        if ret:\n",
    "            x,y,w,h = ((img.shape[0]//2), (img.shape[1]//2), 100, 100)\n",
    "            roi = img[y:y+h, x:x+w]\n",
    "            roi = cv2.blur(roi, kernel_size) \n",
    "            img[y:y+h, x:x+w] = roi \n",
    "            img[y:y+h, x:x+w] = mask # 마스크를 블러 대신 넣는 것\n",
    "            cv2.imshow(title, img)\n",
    "            if cv2.waitKey(1) != -1:\n",
    "                break\n",
    "        else:\n",
    "            break\n",
    "\n",
    "cap.release()\n",
    "cv2.destroyAllWindows()"
   ]
  },
  {
   "cell_type": "code",
   "execution_count": 10,
   "id": "b3c4970c-cda3-4868-8108-0504bed0b2ef",
   "metadata": {},
   "outputs": [],
   "source": [
    "# 미분 필터\n",
    "import cv2\n",
    "import numpy as np\n",
    "\n",
    "img = cv2.imread('image/sudoku.jpg')\n",
    "img = cv2.resize(img, (600, 600))\n",
    "\n",
    "# 미분 커널 생성(x축, y축)\n",
    "gx_kernel = np.array([[-1,1]])\n",
    "gy_kernel = np.array([[-1],\n",
    "                      [1]])\n",
    "\n",
    "# 필터 적용(-1은 기본사이즈 사용하겠다는 뜻)\n",
    "edge_gx = cv2.filter2D(img, -1, gx_kernel) *4\n",
    "edge_gy = cv2.filter2D(img, -1, gy_kernel) *4\n",
    "\n",
    "# 결과 출력(x축은 세로의 변화만, y축은 가로의 변화만 찾음)\n",
    "merge_img = np.hstack((img, edge_gx, edge_gy))\n",
    "cv2.imshow('edge', merge_img)\n",
    "cv2.waitKey(0)\n",
    "cv2.destroyAllWindows()"
   ]
  },
  {
   "cell_type": "code",
   "execution_count": 11,
   "id": "93a4f2fe-028d-4f9e-95c1-52a896659045",
   "metadata": {},
   "outputs": [],
   "source": [
    "# 라플라시안 필터\n",
    "import cv2\n",
    "import numpy as np\n",
    "\n",
    "img = cv2.imread('image/sudoku.jpg')\n",
    "img = cv2.resize(img, (600, 600))\n",
    "\n",
    "# 라플라시안 필터 적용\n",
    "edge = cv2.Laplacian(img, -1) * 4\n",
    "\n",
    "# 결과 출력(x축과 y축 상관없이 경계 전부를 찾음)\n",
    "merge_img = np.hstack((img, edge))\n",
    "cv2.imshow('edge', merge_img)\n",
    "cv2.waitKey(0)\n",
    "cv2.destroyAllWindows()"
   ]
  },
  {
   "cell_type": "code",
   "execution_count": 14,
   "id": "8541f050-924e-445e-9666-f566daf6e374",
   "metadata": {},
   "outputs": [],
   "source": [
    "# 웹캠에서 필터 적용하는 코드\n",
    "import cv2\n",
    "import numpy as np\n",
    "\n",
    "img = cv2.imread('image/cat2.jpg')\n",
    "# cap = cv2.VideoCapture(0)\n",
    "# while cap.isOpened():\n",
    "    # 프레임 읽기\n",
    "    # ret, frame = cap.read()\n",
    "    # 속도 향상을 위해 영상크기를 절반으로 축소\n",
    "    # frame = cv2.resize(frame, None, fx=0.5, fy=0.5, \\\n",
    "                        # interpolation=cv2.INTER_AREA)\n",
    "    # if cv2.waitKey(1) == 27: # esc 키로 종료\n",
    "        # break\n",
    "\n",
    "# 그레이 스케일로 변경\n",
    "img_gray = cv2.cvtColor(img, cv2.COLOR_BGR2GRAY)\n",
    "# 잡음 제거를 위해 가우시안 블러 필터 적용(정규분포를 따라서 블러 처리)\n",
    "# 이미지를 명확하게 해주기 위해서 사용\n",
    "img_gray = cv2.GaussianBlur(img_gray, (9,9), 0)\n",
    "# 라플라시안 필터로 엣지 거출\n",
    "edge = cv2.Laplacian(img_gray, -1, None, 5)\n",
    "# 스레시홀드로 경계 값만 남기고 제거하면서 화면 반전\n",
    "ret, sketch = cv2.threshold(edge, 70, 255, cv2.THRESH_BINARY_INV)\n",
    "\n",
    "# 경계선을 강조하기 위한 값의 팽창 연산\n",
    "kernel = cv2.getStructuringElement(cv2.MORPH_CROSS, (3, 3))\n",
    "sketch = cv2.erode(sketch, kernel)\n",
    "# 경계선 자연스럽게 하기 위해 미디언 블러 필터 적용\n",
    "sketch = cv2.medianBlur(sketch, 5)\n",
    "# 그레이 스케일에서 BGR 컬러 스케일로 변경\n",
    "img_sketch = cv2.cvtColor(sketch, cv2.COLOR_GRAY2BGR)\n",
    "\n",
    "# 컬러 이미지 선명선을 없애기 위해 평균 블러 필터 적용\n",
    "img_paint = cv2.blur(img, (10,10))\n",
    "# 컬러 영상과 스케치 영상과 합성\n",
    "img_paint = cv2.bitwise_and(img_paint, img_paint, mask=sketch)\n",
    "\n",
    "# 결과 출력\n",
    "merge_img = np.hstack((img_sketch, img_paint))\n",
    "cv2.imshow('Sketch Camera', merge_img)\n",
    "\n",
    "# cap.release()\n",
    "cv2.waitKey(0)\n",
    "cv2.destroyAllWindows()"
   ]
  },
  {
   "cell_type": "code",
   "execution_count": null,
   "id": "00f60b0a-8a45-4470-8751-c89819048f96",
   "metadata": {},
   "outputs": [],
   "source": []
  }
 ],
 "metadata": {
  "kernelspec": {
   "display_name": "Python 3 (ipykernel)",
   "language": "python",
   "name": "python3"
  },
  "language_info": {
   "codemirror_mode": {
    "name": "ipython",
    "version": 3
   },
   "file_extension": ".py",
   "mimetype": "text/x-python",
   "name": "python",
   "nbconvert_exporter": "python",
   "pygments_lexer": "ipython3",
   "version": "3.11.5"
  }
 },
 "nbformat": 4,
 "nbformat_minor": 5
}
