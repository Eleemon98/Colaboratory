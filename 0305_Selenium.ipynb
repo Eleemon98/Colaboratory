{
 "cells": [
  {
   "cell_type": "code",
   "execution_count": 1,
   "id": "8a67c4f5-9274-4184-8642-957b5b8d9c13",
   "metadata": {
    "scrolled": true
   },
   "outputs": [
    {
     "name": "stdout",
     "output_type": "stream",
     "text": [
      "Collecting selenium\n",
      "  Obtaining dependency information for selenium from https://files.pythonhosted.org/packages/3f/fd/c2e7bb547b5b96c7bd536b4a80c4564b7ce5cd38d10095fbba8648996ab9/selenium-4.18.1-py3-none-any.whl.metadata\n",
      "  Downloading selenium-4.18.1-py3-none-any.whl.metadata (6.9 kB)\n",
      "Requirement already satisfied: urllib3[socks]<3,>=1.26 in c:\\programdata\\anaconda3\\lib\\site-packages (from selenium) (1.26.18)\n",
      "Collecting trio~=0.17 (from selenium)\n",
      "  Obtaining dependency information for trio~=0.17 from https://files.pythonhosted.org/packages/14/fb/9299cf74953f473a15accfdbe2c15218e766bae8c796f2567c83bae03e98/trio-0.24.0-py3-none-any.whl.metadata\n",
      "  Downloading trio-0.24.0-py3-none-any.whl.metadata (4.9 kB)\n",
      "Collecting trio-websocket~=0.9 (from selenium)\n",
      "  Obtaining dependency information for trio-websocket~=0.9 from https://files.pythonhosted.org/packages/48/be/a9ae5f50cad5b6f85bd2574c2c923730098530096e170c1ce7452394d7aa/trio_websocket-0.11.1-py3-none-any.whl.metadata\n",
      "  Downloading trio_websocket-0.11.1-py3-none-any.whl.metadata (4.7 kB)\n",
      "Requirement already satisfied: certifi>=2021.10.8 in c:\\programdata\\anaconda3\\lib\\site-packages (from selenium) (2023.11.17)\n",
      "Collecting typing_extensions>=4.9.0 (from selenium)\n",
      "  Obtaining dependency information for typing_extensions>=4.9.0 from https://files.pythonhosted.org/packages/f9/de/dc04a3ea60b22624b51c703a84bbe0184abcd1d0b9bc8074b5d6b7ab90bb/typing_extensions-4.10.0-py3-none-any.whl.metadata\n",
      "  Downloading typing_extensions-4.10.0-py3-none-any.whl.metadata (3.0 kB)\n",
      "Requirement already satisfied: attrs>=20.1.0 in c:\\programdata\\anaconda3\\lib\\site-packages (from trio~=0.17->selenium) (23.1.0)\n",
      "Requirement already satisfied: sortedcontainers in c:\\programdata\\anaconda3\\lib\\site-packages (from trio~=0.17->selenium) (2.4.0)\n",
      "Requirement already satisfied: idna in c:\\programdata\\anaconda3\\lib\\site-packages (from trio~=0.17->selenium) (3.4)\n",
      "Collecting outcome (from trio~=0.17->selenium)\n",
      "  Obtaining dependency information for outcome from https://files.pythonhosted.org/packages/55/8b/5ab7257531a5d830fc8000c476e63c935488d74609b50f9384a643ec0a62/outcome-1.3.0.post0-py2.py3-none-any.whl.metadata\n",
      "  Downloading outcome-1.3.0.post0-py2.py3-none-any.whl.metadata (2.6 kB)\n",
      "Collecting sniffio>=1.3.0 (from trio~=0.17->selenium)\n",
      "  Obtaining dependency information for sniffio>=1.3.0 from https://files.pythonhosted.org/packages/e9/44/75a9c9421471a6c4805dbf2356f7c181a29c1879239abab1ea2cc8f38b40/sniffio-1.3.1-py3-none-any.whl.metadata\n",
      "  Downloading sniffio-1.3.1-py3-none-any.whl.metadata (3.9 kB)\n",
      "Requirement already satisfied: cffi>=1.14 in c:\\programdata\\anaconda3\\lib\\site-packages (from trio~=0.17->selenium) (1.16.0)\n",
      "Collecting wsproto>=0.14 (from trio-websocket~=0.9->selenium)\n",
      "  Obtaining dependency information for wsproto>=0.14 from https://files.pythonhosted.org/packages/78/58/e860788190eba3bcce367f74d29c4675466ce8dddfba85f7827588416f01/wsproto-1.2.0-py3-none-any.whl.metadata\n",
      "  Downloading wsproto-1.2.0-py3-none-any.whl.metadata (5.6 kB)\n",
      "Requirement already satisfied: PySocks!=1.5.7,<2.0,>=1.5.6 in c:\\programdata\\anaconda3\\lib\\site-packages (from urllib3[socks]<3,>=1.26->selenium) (1.7.1)\n",
      "Requirement already satisfied: pycparser in c:\\programdata\\anaconda3\\lib\\site-packages (from cffi>=1.14->trio~=0.17->selenium) (2.21)\n",
      "Collecting h11<1,>=0.9.0 (from wsproto>=0.14->trio-websocket~=0.9->selenium)\n",
      "  Obtaining dependency information for h11<1,>=0.9.0 from https://files.pythonhosted.org/packages/95/04/ff642e65ad6b90db43e668d70ffb6736436c7ce41fcc549f4e9472234127/h11-0.14.0-py3-none-any.whl.metadata\n",
      "  Downloading h11-0.14.0-py3-none-any.whl.metadata (8.2 kB)\n",
      "Downloading selenium-4.18.1-py3-none-any.whl (10.0 MB)\n",
      "   ---------------------------------------- 0.0/10.0 MB ? eta -:--:--\n",
      "   -- ------------------------------------- 0.6/10.0 MB 17.5 MB/s eta 0:00:01\n",
      "   ------ --------------------------------- 1.7/10.0 MB 21.8 MB/s eta 0:00:01\n",
      "   ------------- -------------------------- 3.3/10.0 MB 26.0 MB/s eta 0:00:01\n",
      "   ---------------------- ----------------- 5.5/10.0 MB 29.4 MB/s eta 0:00:01\n",
      "   ------------------------------- -------- 7.9/10.0 MB 33.9 MB/s eta 0:00:01\n",
      "   ---------------------------------------  10.0/10.0 MB 37.6 MB/s eta 0:00:01\n",
      "   ---------------------------------------- 10.0/10.0 MB 32.0 MB/s eta 0:00:00\n",
      "Downloading trio-0.24.0-py3-none-any.whl (460 kB)\n",
      "   ---------------------------------------- 0.0/460.2 kB ? eta -:--:--\n",
      "   --------------------------------------- 460.2/460.2 kB 28.1 MB/s eta 0:00:00\n",
      "Downloading trio_websocket-0.11.1-py3-none-any.whl (17 kB)\n",
      "Downloading typing_extensions-4.10.0-py3-none-any.whl (33 kB)\n",
      "Downloading sniffio-1.3.1-py3-none-any.whl (10 kB)\n",
      "Downloading wsproto-1.2.0-py3-none-any.whl (24 kB)\n",
      "Downloading outcome-1.3.0.post0-py2.py3-none-any.whl (10 kB)\n",
      "Downloading h11-0.14.0-py3-none-any.whl (58 kB)\n",
      "   ---------------------------------------- 0.0/58.3 kB ? eta -:--:--\n",
      "   ---------------------------------------- 58.3/58.3 kB ? eta 0:00:00\n",
      "Installing collected packages: typing_extensions, sniffio, outcome, h11, wsproto, trio, trio-websocket, selenium\n",
      "  Attempting uninstall: typing_extensions\n",
      "    Found existing installation: typing_extensions 4.7.1\n",
      "    Uninstalling typing_extensions-4.7.1:\n",
      "      Successfully uninstalled typing_extensions-4.7.1\n",
      "  Attempting uninstall: sniffio\n",
      "    Found existing installation: sniffio 1.2.0\n",
      "    Uninstalling sniffio-1.2.0:\n",
      "      Successfully uninstalled sniffio-1.2.0\n",
      "Successfully installed h11-0.14.0 outcome-1.3.0.post0 selenium-4.18.1 sniffio-1.3.1 trio-0.24.0 trio-websocket-0.11.1 typing_extensions-4.10.0 wsproto-1.2.0\n",
      "Note: you may need to restart the kernel to use updated packages.\n"
     ]
    }
   ],
   "source": [
    "pip install selenium"
   ]
  },
  {
   "cell_type": "code",
   "execution_count": 1,
   "id": "55d587ef-1d9f-42d7-85c4-a6902b505c87",
   "metadata": {},
   "outputs": [],
   "source": [
    "import selenium"
   ]
  },
  {
   "cell_type": "code",
   "execution_count": 3,
   "id": "0a906531-8297-4acf-bc8a-00a5856c76a5",
   "metadata": {},
   "outputs": [],
   "source": [
    "from selenium import webdriver # 사용할 웹 브라우저(Chrome) 드라이버\n",
    "from selenium.webdriver.common.by import By # elements를 선택하기 위한 선택자 모듈\n",
    "from selenium.webdriver.common.keys import Keys # 키보드의 키를 사용하는 모듈"
   ]
  },
  {
   "cell_type": "code",
   "execution_count": 4,
   "id": "b2edc2cb-d860-4c00-bb4a-dce77fb69623",
   "metadata": {},
   "outputs": [],
   "source": [
    "driver = webdriver.Chrome() # 크롬 드라이버 열기"
   ]
  },
  {
   "cell_type": "code",
   "execution_count": 5,
   "id": "0ae1f473-4751-41c5-8c3c-3f7426c4b200",
   "metadata": {},
   "outputs": [],
   "source": [
    "driver.close() # 크롬 드라이버 닫기"
   ]
  },
  {
   "cell_type": "code",
   "execution_count": 6,
   "id": "f6e5b9c5-d37f-440e-ac5c-cfb91b60f817",
   "metadata": {},
   "outputs": [],
   "source": [
    "driver = webdriver.Chrome()"
   ]
  },
  {
   "cell_type": "code",
   "execution_count": 7,
   "id": "b776598a-b942-4469-8fee-ae02d3dd8241",
   "metadata": {},
   "outputs": [],
   "source": [
    "driver.get('https://www.naver.com') # URL 이동"
   ]
  },
  {
   "cell_type": "code",
   "execution_count": 8,
   "id": "e296f3c4-cac6-4221-8150-0fd74de4d261",
   "metadata": {},
   "outputs": [],
   "source": [
    "elm = driver.find_element(By.ID, 'query') # ID 선택"
   ]
  },
  {
   "cell_type": "code",
   "execution_count": 9,
   "id": "ffba5f62-468e-45bc-afc2-6b6a21366001",
   "metadata": {},
   "outputs": [],
   "source": [
    "elm.send_keys('초전도체') # Text를 입력하는 방법"
   ]
  },
  {
   "cell_type": "code",
   "execution_count": 10,
   "id": "cadad493-4538-4ee2-bac6-bc3d8b5efbf2",
   "metadata": {},
   "outputs": [],
   "source": [
    "elm.send_keys(Keys.RETURN) # 특정 Key를 입력하는 방법 리턴은 엔터키"
   ]
  },
  {
   "cell_type": "code",
   "execution_count": 17,
   "id": "742ed894-fcb6-4234-b562-42c72da229b1",
   "metadata": {},
   "outputs": [],
   "source": [
    "next_elm = driver.find_element(By.XPATH, '//*[@id=\"main_pack\"]/section[1]/div[2]/div[2]/div[2]/div/div/a[2]') #xpath로 하면 웬만해선 다 된다(하지만 렌더링 위치가 바뀌면 안 됨)"
   ]
  },
  {
   "cell_type": "code",
   "execution_count": 22,
   "id": "50296ca5-68c6-46b2-9ffe-620aa709ab6f",
   "metadata": {},
   "outputs": [],
   "source": [
    "next_elm.click()"
   ]
  },
  {
   "cell_type": "code",
   "execution_count": 23,
   "id": "af960712-df46-4205-9039-2024a17c9006",
   "metadata": {},
   "outputs": [],
   "source": [
    "## 원하는 웹사이트로 이동\n",
    "driver.get('https://www.google.com')"
   ]
  },
  {
   "cell_type": "code",
   "execution_count": 32,
   "id": "756fd315-21d5-426b-8515-e4543edb1db7",
   "metadata": {},
   "outputs": [],
   "source": [
    "elm = driver.find_element(By.CLASS_NAME, 'gLFyf')"
   ]
  },
  {
   "cell_type": "code",
   "execution_count": 25,
   "id": "2de2dea9-ae71-415e-a2fe-a2ddde8a01a8",
   "metadata": {},
   "outputs": [],
   "source": [
    "elm.send_keys('롤 랭킹')"
   ]
  },
  {
   "cell_type": "code",
   "execution_count": 26,
   "id": "5360b9dc-088c-4c98-805b-26d7145dca43",
   "metadata": {},
   "outputs": [],
   "source": [
    "elm.send_keys(Keys.RETURN)"
   ]
  },
  {
   "cell_type": "code",
   "execution_count": 35,
   "id": "90a0e75a-a837-43e3-bc06-5dfa16259dc1",
   "metadata": {},
   "outputs": [],
   "source": [
    "s_elm = driver.find_element(By.CLASS_NAME, 'GKS7s')"
   ]
  },
  {
   "cell_type": "code",
   "execution_count": 36,
   "id": "ad22cf3a-157f-4b4c-b28b-78a5952eb2e7",
   "metadata": {},
   "outputs": [],
   "source": [
    "s_elm.click()"
   ]
  },
  {
   "cell_type": "code",
   "execution_count": 40,
   "id": "903963c8-ff76-47ec-bbf1-9972c8532af4",
   "metadata": {},
   "outputs": [],
   "source": [
    "driver.execute_script(\"window.scrollBy(0,5000);\") # 스크롤 내리기(마이너스는 올리기)"
   ]
  },
  {
   "cell_type": "code",
   "execution_count": 47,
   "id": "5872653c-44ca-464f-9835-8ac6f817170e",
   "metadata": {},
   "outputs": [
    {
     "ename": "NoSuchElementException",
     "evalue": "Message: no such element: Unable to locate element: {\"method\":\"css selector\",\"selector\":\"#module-ntk > div > div.ntk-filmstrip.Pb\\(10px\\).Z\\(1\\) > ul > li:nth-child(1) > a > div > img\"}\n  (Session info: chrome=122.0.6261.95); For documentation on this error, please visit: https://www.selenium.dev/documentation/webdriver/troubleshooting/errors#no-such-element-exception\nStacktrace:\n\tGetHandleVerifier [0x00007FF738BBAD22+56930]\n\t(No symbol) [0x00007FF738B2F622]\n\t(No symbol) [0x00007FF7389E42E5]\n\t(No symbol) [0x00007FF738A298ED]\n\t(No symbol) [0x00007FF738A29A2C]\n\t(No symbol) [0x00007FF738A6A967]\n\t(No symbol) [0x00007FF738A4BCDF]\n\t(No symbol) [0x00007FF738A681E2]\n\t(No symbol) [0x00007FF738A4BA43]\n\t(No symbol) [0x00007FF738A1D438]\n\t(No symbol) [0x00007FF738A1E4D1]\n\tGetHandleVerifier [0x00007FF738F36AAD+3709933]\n\tGetHandleVerifier [0x00007FF738F8FFED+4075821]\n\tGetHandleVerifier [0x00007FF738F8817F+4043455]\n\tGetHandleVerifier [0x00007FF738C59756+706710]\n\t(No symbol) [0x00007FF738B3B8FF]\n\t(No symbol) [0x00007FF738B36AE4]\n\t(No symbol) [0x00007FF738B36C3C]\n\t(No symbol) [0x00007FF738B268F4]\n\tBaseThreadInitThunk [0x00007FF93EB57034+20]\n\tRtlUserThreadStart [0x00007FF940762651+33]\n",
     "output_type": "error",
     "traceback": [
      "\u001b[1;31m---------------------------------------------------------------------------\u001b[0m",
      "\u001b[1;31mNoSuchElementException\u001b[0m                    Traceback (most recent call last)",
      "Cell \u001b[1;32mIn[47], line 3\u001b[0m\n\u001b[0;32m      1\u001b[0m driver\u001b[38;5;241m.\u001b[39mget(\u001b[38;5;124m'\u001b[39m\u001b[38;5;124mhttps://www.youtube.com/\u001b[39m\u001b[38;5;124m'\u001b[39m)\n\u001b[0;32m      2\u001b[0m driver\u001b[38;5;241m.\u001b[39mimplicitly_wait(\u001b[38;5;241m0.5\u001b[39m)\n\u001b[1;32m----> 3\u001b[0m elm \u001b[38;5;241m=\u001b[39m driver\u001b[38;5;241m.\u001b[39mfind_element(By\u001b[38;5;241m.\u001b[39mCSS_SELECTOR, \u001b[38;5;124m'\u001b[39m\u001b[38;5;124m#module-ntk > div > div.ntk-filmstrip.Pb\u001b[39m\u001b[38;5;124m\\\u001b[39m\u001b[38;5;124m(10px\u001b[39m\u001b[38;5;124m\\\u001b[39m\u001b[38;5;124m).Z\u001b[39m\u001b[38;5;124m\\\u001b[39m\u001b[38;5;124m(1\u001b[39m\u001b[38;5;124m\\\u001b[39m\u001b[38;5;124m) > ul > li:nth-child(1) > a > div > img\u001b[39m\u001b[38;5;124m'\u001b[39m)\n\u001b[0;32m      4\u001b[0m \u001b[38;5;28mprint\u001b[39m(elm\u001b[38;5;241m.\u001b[39mtext)\n",
      "File \u001b[1;32mC:\\ProgramData\\anaconda3\\Lib\\site-packages\\selenium\\webdriver\\remote\\webdriver.py:741\u001b[0m, in \u001b[0;36mWebDriver.find_element\u001b[1;34m(self, by, value)\u001b[0m\n\u001b[0;32m    738\u001b[0m     by \u001b[38;5;241m=\u001b[39m By\u001b[38;5;241m.\u001b[39mCSS_SELECTOR\n\u001b[0;32m    739\u001b[0m     value \u001b[38;5;241m=\u001b[39m \u001b[38;5;124mf\u001b[39m\u001b[38;5;124m'\u001b[39m\u001b[38;5;124m[name=\u001b[39m\u001b[38;5;124m\"\u001b[39m\u001b[38;5;132;01m{\u001b[39;00mvalue\u001b[38;5;132;01m}\u001b[39;00m\u001b[38;5;124m\"\u001b[39m\u001b[38;5;124m]\u001b[39m\u001b[38;5;124m'\u001b[39m\n\u001b[1;32m--> 741\u001b[0m \u001b[38;5;28;01mreturn\u001b[39;00m \u001b[38;5;28mself\u001b[39m\u001b[38;5;241m.\u001b[39mexecute(Command\u001b[38;5;241m.\u001b[39mFIND_ELEMENT, {\u001b[38;5;124m\"\u001b[39m\u001b[38;5;124musing\u001b[39m\u001b[38;5;124m\"\u001b[39m: by, \u001b[38;5;124m\"\u001b[39m\u001b[38;5;124mvalue\u001b[39m\u001b[38;5;124m\"\u001b[39m: value})[\u001b[38;5;124m\"\u001b[39m\u001b[38;5;124mvalue\u001b[39m\u001b[38;5;124m\"\u001b[39m]\n",
      "File \u001b[1;32mC:\\ProgramData\\anaconda3\\Lib\\site-packages\\selenium\\webdriver\\remote\\webdriver.py:347\u001b[0m, in \u001b[0;36mWebDriver.execute\u001b[1;34m(self, driver_command, params)\u001b[0m\n\u001b[0;32m    345\u001b[0m response \u001b[38;5;241m=\u001b[39m \u001b[38;5;28mself\u001b[39m\u001b[38;5;241m.\u001b[39mcommand_executor\u001b[38;5;241m.\u001b[39mexecute(driver_command, params)\n\u001b[0;32m    346\u001b[0m \u001b[38;5;28;01mif\u001b[39;00m response:\n\u001b[1;32m--> 347\u001b[0m     \u001b[38;5;28mself\u001b[39m\u001b[38;5;241m.\u001b[39merror_handler\u001b[38;5;241m.\u001b[39mcheck_response(response)\n\u001b[0;32m    348\u001b[0m     response[\u001b[38;5;124m\"\u001b[39m\u001b[38;5;124mvalue\u001b[39m\u001b[38;5;124m\"\u001b[39m] \u001b[38;5;241m=\u001b[39m \u001b[38;5;28mself\u001b[39m\u001b[38;5;241m.\u001b[39m_unwrap_value(response\u001b[38;5;241m.\u001b[39mget(\u001b[38;5;124m\"\u001b[39m\u001b[38;5;124mvalue\u001b[39m\u001b[38;5;124m\"\u001b[39m, \u001b[38;5;28;01mNone\u001b[39;00m))\n\u001b[0;32m    349\u001b[0m     \u001b[38;5;28;01mreturn\u001b[39;00m response\n",
      "File \u001b[1;32mC:\\ProgramData\\anaconda3\\Lib\\site-packages\\selenium\\webdriver\\remote\\errorhandler.py:229\u001b[0m, in \u001b[0;36mErrorHandler.check_response\u001b[1;34m(self, response)\u001b[0m\n\u001b[0;32m    227\u001b[0m         alert_text \u001b[38;5;241m=\u001b[39m value[\u001b[38;5;124m\"\u001b[39m\u001b[38;5;124malert\u001b[39m\u001b[38;5;124m\"\u001b[39m]\u001b[38;5;241m.\u001b[39mget(\u001b[38;5;124m\"\u001b[39m\u001b[38;5;124mtext\u001b[39m\u001b[38;5;124m\"\u001b[39m)\n\u001b[0;32m    228\u001b[0m     \u001b[38;5;28;01mraise\u001b[39;00m exception_class(message, screen, stacktrace, alert_text)  \u001b[38;5;66;03m# type: ignore[call-arg]  # mypy is not smart enough here\u001b[39;00m\n\u001b[1;32m--> 229\u001b[0m \u001b[38;5;28;01mraise\u001b[39;00m exception_class(message, screen, stacktrace)\n",
      "\u001b[1;31mNoSuchElementException\u001b[0m: Message: no such element: Unable to locate element: {\"method\":\"css selector\",\"selector\":\"#module-ntk > div > div.ntk-filmstrip.Pb\\(10px\\).Z\\(1\\) > ul > li:nth-child(1) > a > div > img\"}\n  (Session info: chrome=122.0.6261.95); For documentation on this error, please visit: https://www.selenium.dev/documentation/webdriver/troubleshooting/errors#no-such-element-exception\nStacktrace:\n\tGetHandleVerifier [0x00007FF738BBAD22+56930]\n\t(No symbol) [0x00007FF738B2F622]\n\t(No symbol) [0x00007FF7389E42E5]\n\t(No symbol) [0x00007FF738A298ED]\n\t(No symbol) [0x00007FF738A29A2C]\n\t(No symbol) [0x00007FF738A6A967]\n\t(No symbol) [0x00007FF738A4BCDF]\n\t(No symbol) [0x00007FF738A681E2]\n\t(No symbol) [0x00007FF738A4BA43]\n\t(No symbol) [0x00007FF738A1D438]\n\t(No symbol) [0x00007FF738A1E4D1]\n\tGetHandleVerifier [0x00007FF738F36AAD+3709933]\n\tGetHandleVerifier [0x00007FF738F8FFED+4075821]\n\tGetHandleVerifier [0x00007FF738F8817F+4043455]\n\tGetHandleVerifier [0x00007FF738C59756+706710]\n\t(No symbol) [0x00007FF738B3B8FF]\n\t(No symbol) [0x00007FF738B36AE4]\n\t(No symbol) [0x00007FF738B36C3C]\n\t(No symbol) [0x00007FF738B268F4]\n\tBaseThreadInitThunk [0x00007FF93EB57034+20]\n\tRtlUserThreadStart [0x00007FF940762651+33]\n"
     ]
    }
   ],
   "source": [
    "driver.get('https://www.youtube.com/')\n",
    "driver.implicitly_wait(0.5)\n",
    "elm = driver.find_element(By.CSS_SELECTOR, '#module-ntk > div > div.ntk-filmstrip.Pb\\(10px\\).Z\\(1\\) > ul > li:nth-child(1) > a > div > img')\n",
    "print(elm.text)\n",
    "\n",
    "\n",
    "# import time\n",
    "\n",
    "# driver = webdriver.Chrome()\n",
    "# driver.get('http://coderby.com')\n",
    "# time.sleep(5)\n",
    "# elm = driver.find_element(By.CSS_SELECTOR, 'div > h3.title')\n",
    "# print(elm.text)"
   ]
  },
  {
   "cell_type": "code",
   "execution_count": 61,
   "id": "58ba33c4-6d19-4688-9476-405737c75b5c",
   "metadata": {},
   "outputs": [],
   "source": [
    "from selenium.webdriver.support.ui import WebDriverWait\n",
    "from selenium.webdriver.support import expected_conditions as EC\n",
    "\n",
    "driver.get(\"https://tv.naver.com/v/27508877\")\n",
    "\n",
    "elm = WebDriverWait(driver, 10).until(EC.presence_of_element_located((By.CLASS_NAME, \"btn_skip\")))"
   ]
  },
  {
   "cell_type": "code",
   "execution_count": 62,
   "id": "eeeaef15-47f7-489f-931b-b8a3fa975c9f",
   "metadata": {},
   "outputs": [],
   "source": [
    "from selenium import webdriver\n",
    "from selenium.webdriver.common.by import By\n",
    "from selenium.webdriver.common.keys import Keys"
   ]
  },
  {
   "cell_type": "code",
   "execution_count": 65,
   "id": "f7fe810b-3e04-442f-98c5-8bf0a0f583bd",
   "metadata": {},
   "outputs": [],
   "source": [
    "driver = webdriver.Chrome()"
   ]
  },
  {
   "cell_type": "code",
   "execution_count": 67,
   "id": "1a775243-3652-4909-8a43-12f5b7539703",
   "metadata": {},
   "outputs": [],
   "source": [
    "driver.get('https://nid.naver.com/nidlogin.login?mode=form&url=https://www.naver.com/')"
   ]
  },
  {
   "cell_type": "code",
   "execution_count": 68,
   "id": "21455e63-ae2a-4132-9127-bcdf09d37ae6",
   "metadata": {},
   "outputs": [],
   "source": [
    "elm = driver.find_element(By.ID, 'id')"
   ]
  },
  {
   "cell_type": "code",
   "execution_count": 70,
   "id": "586a5ea2-ecc4-4374-baee-7ffeeb519cde",
   "metadata": {},
   "outputs": [],
   "source": [
    "pw_elm = driver.find_element(By.ID, 'pw')"
   ]
  },
  {
   "cell_type": "code",
   "execution_count": 72,
   "id": "1f82f683-e94b-42c7-9b52-026fcffff0e0",
   "metadata": {},
   "outputs": [],
   "source": [
    "btn_elm = driver.find_element(By.CLASS_NAME, 'btn_text')"
   ]
  },
  {
   "cell_type": "code",
   "execution_count": 73,
   "id": "79d39c6d-1459-44d7-a0b6-09e52d1dc7ac",
   "metadata": {},
   "outputs": [],
   "source": [
    "btn_elm.click()"
   ]
  },
  {
   "cell_type": "code",
   "execution_count": 77,
   "id": "c3e622da-0b1a-455f-ba4c-06ecd847f96a",
   "metadata": {},
   "outputs": [],
   "source": [
    "from selenium import webdriver # 제어가 가능한 Webdriver 크롬 브라우저\n",
    "from selenium.webdriver.common.by import By # select를 위한 선택자(CCS,ID,CLASS,NAME, XPATH 등)\n",
    "from selenium.webdriver.common.keys import Keys # 키보드에 있는 키를 사용하기 위한 모듈\n",
    "\n",
    "# 드라이버 실행시간 기다리기(로딩되길 기다림)\n",
    "driver.implicitly_wait(10)\n",
    "\n",
    "# 네이버 로그인 화면 접근\n",
    "driver.get('https://nid.naver.com/nidlogin.login')\n",
    "\n",
    "onetime = '82455438'\n",
    "\n",
    "driver.find_element(By.ID, 'ones').click()\n",
    "\n",
    "elm = driver.find_element(By.ID,'disposable')\n",
    "elm.send_keys(onetime)\n",
    "\n",
    "\n",
    "# time.sleep(2)\n",
    "\n",
    "# 로그인 버튼 클릭: xpath => //*[@id=\"otnlog.login\"]\n",
    "driver.find_element(By.XPATH, '//*[@id=\"otnlog.login\"]').click()"
   ]
  },
  {
   "cell_type": "code",
   "execution_count": 78,
   "id": "3b70eb9c-c2c0-4e2a-89b5-8421894ad459",
   "metadata": {},
   "outputs": [],
   "source": [
    "driver.close()"
   ]
  },
  {
   "cell_type": "code",
   "execution_count": 1,
   "id": "1ed8f985-0ec7-482e-a5c0-2b04394fbc48",
   "metadata": {},
   "outputs": [],
   "source": [
    "from selenium import webdriver # 제어가 가능한 Webdriver 크롬 브라우저\n",
    "from selenium.webdriver.common.by import By # select를 위한 선택자(CCS,ID,CLASS,NAME, XPATH 등)\n",
    "from selenium.webdriver.common.keys import Keys # 키보드에 있는 키를 사용하기 위한 모듈\n",
    "import time\n",
    "from bs4 import BeautifulSoup\n",
    "import requests\n",
    "\n",
    "driver = webdriver.Chrome()"
   ]
  },
  {
   "cell_type": "code",
   "execution_count": 80,
   "id": "b0f2791a-0692-4ef6-a6f0-2b8392c7caab",
   "metadata": {},
   "outputs": [
    {
     "name": "stdin",
     "output_type": "stream",
     "text": [
      "검색어를 입력하시오. 망곰이\n"
     ]
    }
   ],
   "source": [
    "## 이미지 검색할 검색어\n",
    "search = input('검색어를 입력하시오.')\n",
    "\n",
    "# 이미지 url로 이동\n",
    "driver.get('https://search.naver.com/search.naver?ssc=tab.image.all&where=image&sm=tab_jum&query=' + search)\n",
    "\n",
    "# 스크롤 자동으로 내리기\n",
    "for i in range(5):\n",
    "    time.sleep(2)\n",
    "    driver.execute_script('window.scrollTo(0, document.body.scrollHeight);')\n",
    "\n",
    "# Selenium으로 이미지 src 속성값 가져오기\n",
    "img = driver.find_elements(By.CLASS_NAME, '_fe_image_tab_content_thumbnail_image')\n",
    "src = []\n",
    "for i in img:\n",
    "    if 'https' in i.get_attribute('src'):\n",
    "        src.append(i.get_attribute('src'))\n"
   ]
  },
  {
   "cell_type": "code",
   "execution_count": 82,
   "id": "0c4e1730-fb5a-4121-a265-8ba301ff6484",
   "metadata": {
    "scrolled": true
   },
   "outputs": [
    {
     "name": "stdout",
     "output_type": "stream",
     "text": [
      "147\n"
     ]
    }
   ],
   "source": [
    "print(len(src))"
   ]
  },
  {
   "cell_type": "code",
   "execution_count": 85,
   "id": "ba7c919b-c42e-4603-b0e4-7b67ced2c508",
   "metadata": {},
   "outputs": [],
   "source": [
    "## 이미지 저장\n",
    "\n",
    "counter = 0\n",
    "for url in src:\n",
    "    counter += 1\n",
    "    img = open('./manggomi/'+ search + str(counter) + '.png', 'wb') # 파일 생성할 때는 'wb'라고 해야함\n",
    "    img.write(requests.get(url).content)\n",
    "    img.close()"
   ]
  },
  {
   "cell_type": "code",
   "execution_count": 6,
   "id": "12e7d747-865c-4af6-b6a8-c032753e884d",
   "metadata": {},
   "outputs": [],
   "source": [
    "from selenium import webdriver # 제어가 가능한 Webdriver 크롬 브라우저\n",
    "from selenium.webdriver.common.by import By # select를 위한 선택자(CCS,ID,CLASS,NAME, XPATH 등)\n",
    "from selenium.webdriver.common.keys import Keys # 키보드에 있는 키를 사용하기 위한 모듈\n",
    "import time\n",
    "from bs4 import BeautifulSoup\n",
    "import requests\n",
    "driver = webdriver.Chrome()"
   ]
  },
  {
   "cell_type": "code",
   "execution_count": 7,
   "id": "0c85bd16-9397-448f-a7ce-81152b946dc8",
   "metadata": {},
   "outputs": [],
   "source": [
    "## website 연결\n",
    "driver.get(\"https://artvee.com/c/landscape/\")"
   ]
  },
  {
   "cell_type": "code",
   "execution_count": 8,
   "id": "5c789242-046a-47e8-a353-e0f665aad766",
   "metadata": {},
   "outputs": [],
   "source": [
    "## 이미지 elements 선택하기\n",
    "imgs = driver.find_elements(By.CLASS_NAME, 'lazy')"
   ]
  },
  {
   "cell_type": "code",
   "execution_count": 9,
   "id": "f04e9195-43bd-472a-8ae1-0113b7c225a5",
   "metadata": {
    "scrolled": true
   },
   "outputs": [
    {
     "data": {
      "text/plain": [
       "[<selenium.webdriver.remote.webelement.WebElement (session=\"ca919462ac585b8a225d596a414cc15d\", element=\"f.55AB357A822831DC8AECF74D7CB7CA6E.d.EE2B60381DB62A7B3393126D7C76D4BE.e.4\")>,\n",
       " <selenium.webdriver.remote.webelement.WebElement (session=\"ca919462ac585b8a225d596a414cc15d\", element=\"f.55AB357A822831DC8AECF74D7CB7CA6E.d.EE2B60381DB62A7B3393126D7C76D4BE.e.5\")>,\n",
       " <selenium.webdriver.remote.webelement.WebElement (session=\"ca919462ac585b8a225d596a414cc15d\", element=\"f.55AB357A822831DC8AECF74D7CB7CA6E.d.EE2B60381DB62A7B3393126D7C76D4BE.e.6\")>,\n",
       " <selenium.webdriver.remote.webelement.WebElement (session=\"ca919462ac585b8a225d596a414cc15d\", element=\"f.55AB357A822831DC8AECF74D7CB7CA6E.d.EE2B60381DB62A7B3393126D7C76D4BE.e.10\")>,\n",
       " <selenium.webdriver.remote.webelement.WebElement (session=\"ca919462ac585b8a225d596a414cc15d\", element=\"f.55AB357A822831DC8AECF74D7CB7CA6E.d.EE2B60381DB62A7B3393126D7C76D4BE.e.29\")>,\n",
       " <selenium.webdriver.remote.webelement.WebElement (session=\"ca919462ac585b8a225d596a414cc15d\", element=\"f.55AB357A822831DC8AECF74D7CB7CA6E.d.EE2B60381DB62A7B3393126D7C76D4BE.e.30\")>,\n",
       " <selenium.webdriver.remote.webelement.WebElement (session=\"ca919462ac585b8a225d596a414cc15d\", element=\"f.55AB357A822831DC8AECF74D7CB7CA6E.d.EE2B60381DB62A7B3393126D7C76D4BE.e.31\")>,\n",
       " <selenium.webdriver.remote.webelement.WebElement (session=\"ca919462ac585b8a225d596a414cc15d\", element=\"f.55AB357A822831DC8AECF74D7CB7CA6E.d.EE2B60381DB62A7B3393126D7C76D4BE.e.32\")>,\n",
       " <selenium.webdriver.remote.webelement.WebElement (session=\"ca919462ac585b8a225d596a414cc15d\", element=\"f.55AB357A822831DC8AECF74D7CB7CA6E.d.EE2B60381DB62A7B3393126D7C76D4BE.e.33\")>,\n",
       " <selenium.webdriver.remote.webelement.WebElement (session=\"ca919462ac585b8a225d596a414cc15d\", element=\"f.55AB357A822831DC8AECF74D7CB7CA6E.d.EE2B60381DB62A7B3393126D7C76D4BE.e.34\")>,\n",
       " <selenium.webdriver.remote.webelement.WebElement (session=\"ca919462ac585b8a225d596a414cc15d\", element=\"f.55AB357A822831DC8AECF74D7CB7CA6E.d.EE2B60381DB62A7B3393126D7C76D4BE.e.35\")>,\n",
       " <selenium.webdriver.remote.webelement.WebElement (session=\"ca919462ac585b8a225d596a414cc15d\", element=\"f.55AB357A822831DC8AECF74D7CB7CA6E.d.EE2B60381DB62A7B3393126D7C76D4BE.e.36\")>,\n",
       " <selenium.webdriver.remote.webelement.WebElement (session=\"ca919462ac585b8a225d596a414cc15d\", element=\"f.55AB357A822831DC8AECF74D7CB7CA6E.d.EE2B60381DB62A7B3393126D7C76D4BE.e.37\")>,\n",
       " <selenium.webdriver.remote.webelement.WebElement (session=\"ca919462ac585b8a225d596a414cc15d\", element=\"f.55AB357A822831DC8AECF74D7CB7CA6E.d.EE2B60381DB62A7B3393126D7C76D4BE.e.38\")>,\n",
       " <selenium.webdriver.remote.webelement.WebElement (session=\"ca919462ac585b8a225d596a414cc15d\", element=\"f.55AB357A822831DC8AECF74D7CB7CA6E.d.EE2B60381DB62A7B3393126D7C76D4BE.e.39\")>,\n",
       " <selenium.webdriver.remote.webelement.WebElement (session=\"ca919462ac585b8a225d596a414cc15d\", element=\"f.55AB357A822831DC8AECF74D7CB7CA6E.d.EE2B60381DB62A7B3393126D7C76D4BE.e.40\")>,\n",
       " <selenium.webdriver.remote.webelement.WebElement (session=\"ca919462ac585b8a225d596a414cc15d\", element=\"f.55AB357A822831DC8AECF74D7CB7CA6E.d.EE2B60381DB62A7B3393126D7C76D4BE.e.41\")>,\n",
       " <selenium.webdriver.remote.webelement.WebElement (session=\"ca919462ac585b8a225d596a414cc15d\", element=\"f.55AB357A822831DC8AECF74D7CB7CA6E.d.EE2B60381DB62A7B3393126D7C76D4BE.e.42\")>,\n",
       " <selenium.webdriver.remote.webelement.WebElement (session=\"ca919462ac585b8a225d596a414cc15d\", element=\"f.55AB357A822831DC8AECF74D7CB7CA6E.d.EE2B60381DB62A7B3393126D7C76D4BE.e.43\")>,\n",
       " <selenium.webdriver.remote.webelement.WebElement (session=\"ca919462ac585b8a225d596a414cc15d\", element=\"f.55AB357A822831DC8AECF74D7CB7CA6E.d.EE2B60381DB62A7B3393126D7C76D4BE.e.44\")>,\n",
       " <selenium.webdriver.remote.webelement.WebElement (session=\"ca919462ac585b8a225d596a414cc15d\", element=\"f.55AB357A822831DC8AECF74D7CB7CA6E.d.EE2B60381DB62A7B3393126D7C76D4BE.e.45\")>,\n",
       " <selenium.webdriver.remote.webelement.WebElement (session=\"ca919462ac585b8a225d596a414cc15d\", element=\"f.55AB357A822831DC8AECF74D7CB7CA6E.d.EE2B60381DB62A7B3393126D7C76D4BE.e.46\")>,\n",
       " <selenium.webdriver.remote.webelement.WebElement (session=\"ca919462ac585b8a225d596a414cc15d\", element=\"f.55AB357A822831DC8AECF74D7CB7CA6E.d.EE2B60381DB62A7B3393126D7C76D4BE.e.47\")>,\n",
       " <selenium.webdriver.remote.webelement.WebElement (session=\"ca919462ac585b8a225d596a414cc15d\", element=\"f.55AB357A822831DC8AECF74D7CB7CA6E.d.EE2B60381DB62A7B3393126D7C76D4BE.e.48\")>,\n",
       " <selenium.webdriver.remote.webelement.WebElement (session=\"ca919462ac585b8a225d596a414cc15d\", element=\"f.55AB357A822831DC8AECF74D7CB7CA6E.d.EE2B60381DB62A7B3393126D7C76D4BE.e.49\")>,\n",
       " <selenium.webdriver.remote.webelement.WebElement (session=\"ca919462ac585b8a225d596a414cc15d\", element=\"f.55AB357A822831DC8AECF74D7CB7CA6E.d.EE2B60381DB62A7B3393126D7C76D4BE.e.50\")>,\n",
       " <selenium.webdriver.remote.webelement.WebElement (session=\"ca919462ac585b8a225d596a414cc15d\", element=\"f.55AB357A822831DC8AECF74D7CB7CA6E.d.EE2B60381DB62A7B3393126D7C76D4BE.e.51\")>,\n",
       " <selenium.webdriver.remote.webelement.WebElement (session=\"ca919462ac585b8a225d596a414cc15d\", element=\"f.55AB357A822831DC8AECF74D7CB7CA6E.d.EE2B60381DB62A7B3393126D7C76D4BE.e.52\")>,\n",
       " <selenium.webdriver.remote.webelement.WebElement (session=\"ca919462ac585b8a225d596a414cc15d\", element=\"f.55AB357A822831DC8AECF74D7CB7CA6E.d.EE2B60381DB62A7B3393126D7C76D4BE.e.53\")>,\n",
       " <selenium.webdriver.remote.webelement.WebElement (session=\"ca919462ac585b8a225d596a414cc15d\", element=\"f.55AB357A822831DC8AECF74D7CB7CA6E.d.EE2B60381DB62A7B3393126D7C76D4BE.e.54\")>]"
      ]
     },
     "execution_count": 9,
     "metadata": {},
     "output_type": "execute_result"
    }
   ],
   "source": [
    "imgs"
   ]
  },
  {
   "cell_type": "code",
   "execution_count": 10,
   "id": "887af464-05c8-4ac2-9f8d-eab7563424bd",
   "metadata": {},
   "outputs": [],
   "source": [
    "imgs[0].click()"
   ]
  },
  {
   "cell_type": "code",
   "execution_count": 11,
   "id": "0cd1529d-1932-4475-bdbd-1c672692e071",
   "metadata": {},
   "outputs": [],
   "source": [
    "dw_elm = driver.find_element(By.CLASS_NAME, 'prem-link')\n",
    "dw_elm.click()"
   ]
  },
  {
   "cell_type": "code",
   "execution_count": 12,
   "id": "89556e9d-be90-4ee6-a61e-351efb15ad01",
   "metadata": {},
   "outputs": [],
   "source": [
    "close_elm = driver.find_element(By.CLASS_NAME, 'lrm-close-form')\n",
    "close_elm.click()"
   ]
  },
  {
   "cell_type": "code",
   "execution_count": 15,
   "id": "c9a8905c-156d-4cb9-ac5c-f8237c5b20fc",
   "metadata": {},
   "outputs": [],
   "source": [
    "def artvee(page):\n",
    "    url = 'https://artvee.com/page/'\n",
    "    for i in range(int(page)):\n",
    "        driver.get(url+str(i+1))\n",
    "        time.sleep(1)\n",
    "        imgs = driver.find_elements(By.CLASS_NAME, \"lazy\")\n",
    "        cnt = 0\n",
    "        for img in imgs:\n",
    "            time.sleep(2)\n",
    "            cnt += 1\n",
    "            # 각 이미지마다 이미지 접속하기\n",
    "            img.click()\n",
    "            # 이미지 다운로드\n",
    "            time.sleep(2)\n",
    "            dw_elm = driver.find_element(By.CLASS_NAME, 'prem-link')\n",
    "            dw_elm.click()\n",
    "            # 이미지 닫기\n",
    "            time.sleep(2)\n",
    "            close_elm = driver.find_element(By.CLASS_NAME, 'lrm-close-form')\n",
    "            close_elm.click()\n",
    "            time.sleep(1)\n",
    "            print(f'{cnt} / {len(imgs)} 를 다운로드 하였습니다.')"
   ]
  },
  {
   "cell_type": "code",
   "execution_count": 16,
   "id": "373486d1-a1a5-45a0-aa61-2870dd11469e",
   "metadata": {},
   "outputs": [
    {
     "name": "stdout",
     "output_type": "stream",
     "text": [
      "1 / 30 를 다운로드 하였습니다.\n",
      "2 / 30 를 다운로드 하였습니다.\n",
      "3 / 30 를 다운로드 하였습니다.\n",
      "4 / 30 를 다운로드 하였습니다.\n",
      "5 / 30 를 다운로드 하였습니다.\n",
      "6 / 30 를 다운로드 하였습니다.\n",
      "7 / 30 를 다운로드 하였습니다.\n",
      "8 / 30 를 다운로드 하였습니다.\n",
      "9 / 30 를 다운로드 하였습니다.\n",
      "10 / 30 를 다운로드 하였습니다.\n",
      "11 / 30 를 다운로드 하였습니다.\n",
      "12 / 30 를 다운로드 하였습니다.\n",
      "13 / 30 를 다운로드 하였습니다.\n",
      "14 / 30 를 다운로드 하였습니다.\n",
      "15 / 30 를 다운로드 하였습니다.\n",
      "16 / 30 를 다운로드 하였습니다.\n",
      "17 / 30 를 다운로드 하였습니다.\n",
      "18 / 30 를 다운로드 하였습니다.\n",
      "19 / 30 를 다운로드 하였습니다.\n",
      "20 / 30 를 다운로드 하였습니다.\n",
      "21 / 30 를 다운로드 하였습니다.\n",
      "22 / 30 를 다운로드 하였습니다.\n",
      "23 / 30 를 다운로드 하였습니다.\n",
      "24 / 30 를 다운로드 하였습니다.\n",
      "25 / 30 를 다운로드 하였습니다.\n",
      "26 / 30 를 다운로드 하였습니다.\n",
      "27 / 30 를 다운로드 하였습니다.\n",
      "28 / 30 를 다운로드 하였습니다.\n",
      "29 / 30 를 다운로드 하였습니다.\n",
      "30 / 30 를 다운로드 하였습니다.\n",
      "1 / 30 를 다운로드 하였습니다.\n",
      "2 / 30 를 다운로드 하였습니다.\n",
      "3 / 30 를 다운로드 하였습니다.\n",
      "4 / 30 를 다운로드 하였습니다.\n",
      "5 / 30 를 다운로드 하였습니다.\n",
      "6 / 30 를 다운로드 하였습니다.\n",
      "7 / 30 를 다운로드 하였습니다.\n",
      "8 / 30 를 다운로드 하였습니다.\n",
      "9 / 30 를 다운로드 하였습니다.\n",
      "10 / 30 를 다운로드 하였습니다.\n",
      "11 / 30 를 다운로드 하였습니다.\n",
      "12 / 30 를 다운로드 하였습니다.\n",
      "13 / 30 를 다운로드 하였습니다.\n",
      "14 / 30 를 다운로드 하였습니다.\n",
      "15 / 30 를 다운로드 하였습니다.\n",
      "16 / 30 를 다운로드 하였습니다.\n",
      "17 / 30 를 다운로드 하였습니다.\n",
      "18 / 30 를 다운로드 하였습니다.\n",
      "19 / 30 를 다운로드 하였습니다.\n",
      "20 / 30 를 다운로드 하였습니다.\n",
      "21 / 30 를 다운로드 하였습니다.\n",
      "22 / 30 를 다운로드 하였습니다.\n",
      "23 / 30 를 다운로드 하였습니다.\n",
      "24 / 30 를 다운로드 하였습니다.\n",
      "25 / 30 를 다운로드 하였습니다.\n",
      "26 / 30 를 다운로드 하였습니다.\n",
      "27 / 30 를 다운로드 하였습니다.\n",
      "28 / 30 를 다운로드 하였습니다.\n",
      "29 / 30 를 다운로드 하였습니다.\n",
      "30 / 30 를 다운로드 하였습니다.\n"
     ]
    }
   ],
   "source": [
    "artvee(2)"
   ]
  },
  {
   "cell_type": "code",
   "execution_count": null,
   "id": "d51c1247-7975-4335-a64a-3609ee2f69fc",
   "metadata": {},
   "outputs": [],
   "source": []
  }
 ],
 "metadata": {
  "kernelspec": {
   "display_name": "Python 3 (ipykernel)",
   "language": "python",
   "name": "python3"
  },
  "language_info": {
   "codemirror_mode": {
    "name": "ipython",
    "version": 3
   },
   "file_extension": ".py",
   "mimetype": "text/x-python",
   "name": "python",
   "nbconvert_exporter": "python",
   "pygments_lexer": "ipython3",
   "version": "3.11.5"
  }
 },
 "nbformat": 4,
 "nbformat_minor": 5
}
